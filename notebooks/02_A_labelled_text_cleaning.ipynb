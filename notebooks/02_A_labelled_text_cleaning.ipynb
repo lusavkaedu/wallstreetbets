{
 "cells": [
  {
   "cell_type": "markdown",
   "id": "713e2b95",
   "metadata": {},
   "source": [
    "# Identifying Precise Forecasters on r/Wallstreetbets\n",
    "**BrainStation Data Science Bootcamp - Capstone Project**\n",
    "\n",
    "**Author: L Gavrilova**\n",
    "\n",
    "**Date: 6 November 2023**"
   ]
  },
  {
   "cell_type": "markdown",
   "id": "ac8905b9",
   "metadata": {},
   "source": [
    "# Notebook 2A - Labelled dataset - EDA"
   ]
  },
  {
   "cell_type": "markdown",
   "id": "69e991fd",
   "metadata": {},
   "source": [
    "## 2.0. Introduction"
   ]
  },
  {
   "cell_type": "markdown",
   "metadata": {},
   "source": [
    "Notebooks 2A and 2B are designed for text cleaning for the labelled dataset (Notebook 2A) and the reddit dataset (Notebook 2B).  \n",
    "\n",
    "In this notebook 2A I perform the following steps:\n",
    "\n",
    "1. I load the reddit dataset and perform the following text cleaning steps:\n",
    "\n",
    "* removing rows with missing values\n",
    "* removing empty spaces\n",
    "* correcting labels in the target column\n",
    "* removing website inks (urls), hashtags (#) and mentions (@)\n",
    "* the resulting dataset is then saved into a csv file\n",
    "* an additional cleaning step is performed by removing and isolating emojis into a separate column.  This information can be useful during feature engineering steps, so I don’t want to lose this indicator of sentiment. \n",
    "* finally, slang words and emojis used inside the wallstreetbets community and not obvious to outsiders are replaced with normal English words and phrases. For that, I created a csv file names \"WSB dictionary\" where I mapped the WSB slang with corresponding common English words. \n",
    "\n",
    "The result is a csv file that is prepared for further machine learning techniques. \n"
   ]
  },
  {
   "cell_type": "markdown",
   "metadata": {},
   "source": [
    "## 2.1. Cleaning Text"
   ]
  },
  {
   "cell_type": "markdown",
   "id": "65f51324",
   "metadata": {},
   "source": [
    "### 2.1.1. Data Loading and Basic Checks"
   ]
  },
  {
   "cell_type": "code",
   "execution_count": 94,
   "id": "f3e553e3",
   "metadata": {},
   "outputs": [],
   "source": [
    "import pandas as pd\n",
    "import numpy as np\n",
    "\n",
    "import matplotlib.pyplot as plt\n",
    "import seaborn as sns\n",
    "import matplotlib.dates as mdates\n",
    "\n",
    "import re\n",
    "import emoji\n",
    "import os\n",
    "\n",
    "# Setting display options\n",
    "plt.rcParams['figure.figsize'] = (6.0, 4.0)  # setting figure size\n",
    "pd.set_option('display.float_format', '{:.2f}'.format)  # Set the float display option\n",
    "pd.set_option('display.max_colwidth', None)"
   ]
  },
  {
   "cell_type": "code",
   "execution_count": 47,
   "metadata": {},
   "outputs": [],
   "source": [
    "df = pd.read_csv('../data/annotation file 3600 done 1142022.csv')"
   ]
  },
  {
   "cell_type": "code",
   "execution_count": 48,
   "metadata": {},
   "outputs": [
    {
     "name": "stdout",
     "output_type": "stream",
     "text": [
      "<class 'pandas.core.frame.DataFrame'>\n",
      "RangeIndex: 5020 entries, 0 to 5019\n",
      "Data columns (total 6 columns):\n",
      " #   Column     Non-Null Count  Dtype \n",
      "---  ------     --------------  ----- \n",
      " 0   link_id    5001 non-null   object\n",
      " 1   parent_id  5001 non-null   object\n",
      " 2   User       5001 non-null   object\n",
      " 3   Text       5001 non-null   object\n",
      " 4   Intent     5001 non-null   object\n",
      " 5   Support    5001 non-null   object\n",
      "dtypes: object(6)\n",
      "memory usage: 235.4+ KB\n"
     ]
    }
   ],
   "source": [
    "df.info()"
   ]
  },
  {
   "cell_type": "code",
   "execution_count": 54,
   "metadata": {},
   "outputs": [
    {
     "data": {
      "text/html": [
       "<div>\n",
       "<style scoped>\n",
       "    .dataframe tbody tr th:only-of-type {\n",
       "        vertical-align: middle;\n",
       "    }\n",
       "\n",
       "    .dataframe tbody tr th {\n",
       "        vertical-align: top;\n",
       "    }\n",
       "\n",
       "    .dataframe thead th {\n",
       "        text-align: right;\n",
       "    }\n",
       "</style>\n",
       "<table border=\"1\" class=\"dataframe\">\n",
       "  <thead>\n",
       "    <tr style=\"text-align: right;\">\n",
       "      <th></th>\n",
       "      <th>link_id</th>\n",
       "      <th>parent_id</th>\n",
       "      <th>User</th>\n",
       "      <th>Text</th>\n",
       "      <th>Intent</th>\n",
       "      <th>Support</th>\n",
       "    </tr>\n",
       "  </thead>\n",
       "  <tbody>\n",
       "    <tr>\n",
       "      <th>4132</th>\n",
       "      <td>t3_l6jej9</td>\n",
       "      <td>t3_l6jej9</td>\n",
       "      <td>thiccboul</td>\n",
       "      <td>This shit just got personal, dont sell till these hedgefuckers are in the dirt where they belong 💎🤲💎🤲💎🤲 \\nGME TO THE MOON🚀🚀🚀</td>\n",
       "      <td>u</td>\n",
       "      <td>y</td>\n",
       "    </tr>\n",
       "    <tr>\n",
       "      <th>936</th>\n",
       "      <td>t3_ms17e4</td>\n",
       "      <td>t1_gurp71x</td>\n",
       "      <td>Overwatch_preachy</td>\n",
       "      <td>Im talking , interest, game had become something that is being followed worldwide, that's not delusion</td>\n",
       "      <td>u</td>\n",
       "      <td>u</td>\n",
       "    </tr>\n",
       "    <tr>\n",
       "      <th>1774</th>\n",
       "      <td>t3_lbmppv</td>\n",
       "      <td>t1_gluzoed</td>\n",
       "      <td>GoldenKaze</td>\n",
       "      <td>She also has an onlyFans, she never left the game, she just plays by different rules</td>\n",
       "      <td>u</td>\n",
       "      <td>u</td>\n",
       "    </tr>\n",
       "    <tr>\n",
       "      <th>358</th>\n",
       "      <td>t3_knfly4</td>\n",
       "      <td>t3_knfly4</td>\n",
       "      <td>InfiniteAccuracy</td>\n",
       "      <td>I thought he was shorting GME.</td>\n",
       "      <td>u</td>\n",
       "      <td>u</td>\n",
       "    </tr>\n",
       "    <tr>\n",
       "      <th>3394</th>\n",
       "      <td>t3_kadem4</td>\n",
       "      <td>t1_gfav7tm</td>\n",
       "      <td>Chuck_Embargo</td>\n",
       "      <td>I agree...tthere's also paid poster who post anti-GME sentiment sent from the shorts</td>\n",
       "      <td>u</td>\n",
       "      <td>y</td>\n",
       "    </tr>\n",
       "  </tbody>\n",
       "</table>\n",
       "</div>"
      ],
      "text/plain": [
       "        link_id   parent_id               User  \\\n",
       "4132  t3_l6jej9   t3_l6jej9          thiccboul   \n",
       "936   t3_ms17e4  t1_gurp71x  Overwatch_preachy   \n",
       "1774  t3_lbmppv  t1_gluzoed         GoldenKaze   \n",
       "358   t3_knfly4   t3_knfly4   InfiniteAccuracy   \n",
       "3394  t3_kadem4  t1_gfav7tm      Chuck_Embargo   \n",
       "\n",
       "                                                                                                                              Text  \\\n",
       "4132  This shit just got personal, dont sell till these hedgefuckers are in the dirt where they belong 💎🤲💎🤲💎🤲 \\nGME TO THE MOON🚀🚀🚀   \n",
       "936                         Im talking , interest, game had become something that is being followed worldwide, that's not delusion   \n",
       "1774                                          She also has an onlyFans, she never left the game, she just plays by different rules   \n",
       "358                                                                                                 I thought he was shorting GME.   \n",
       "3394                                          I agree...tthere's also paid poster who post anti-GME sentiment sent from the shorts   \n",
       "\n",
       "     Intent Support  \n",
       "4132      u       y  \n",
       "936       u       u  \n",
       "1774      u       u  \n",
       "358       u       u  \n",
       "3394      u       y  "
      ]
     },
     "execution_count": 54,
     "metadata": {},
     "output_type": "execute_result"
    }
   ],
   "source": [
    "df.sample(5)"
   ]
  },
  {
   "cell_type": "code",
   "execution_count": 55,
   "metadata": {},
   "outputs": [
    {
     "data": {
      "text/html": [
       "<div>\n",
       "<style scoped>\n",
       "    .dataframe tbody tr th:only-of-type {\n",
       "        vertical-align: middle;\n",
       "    }\n",
       "\n",
       "    .dataframe tbody tr th {\n",
       "        vertical-align: top;\n",
       "    }\n",
       "\n",
       "    .dataframe thead th {\n",
       "        text-align: right;\n",
       "    }\n",
       "</style>\n",
       "<table border=\"1\" class=\"dataframe\">\n",
       "  <thead>\n",
       "    <tr style=\"text-align: right;\">\n",
       "      <th></th>\n",
       "      <th>link_id</th>\n",
       "      <th>parent_id</th>\n",
       "      <th>User</th>\n",
       "      <th>Text</th>\n",
       "      <th>Intent</th>\n",
       "      <th>Support</th>\n",
       "    </tr>\n",
       "  </thead>\n",
       "  <tbody>\n",
       "    <tr>\n",
       "      <th>count</th>\n",
       "      <td>5001</td>\n",
       "      <td>5001</td>\n",
       "      <td>5001</td>\n",
       "      <td>5001</td>\n",
       "      <td>5001</td>\n",
       "      <td>5001</td>\n",
       "    </tr>\n",
       "    <tr>\n",
       "      <th>unique</th>\n",
       "      <td>1948</td>\n",
       "      <td>3153</td>\n",
       "      <td>4662</td>\n",
       "      <td>4952</td>\n",
       "      <td>6</td>\n",
       "      <td>4</td>\n",
       "    </tr>\n",
       "    <tr>\n",
       "      <th>top</th>\n",
       "      <td>t3_ladzdt</td>\n",
       "      <td>t3_ladzdt</td>\n",
       "      <td>AutoModerator</td>\n",
       "      <td>GME</td>\n",
       "      <td>u</td>\n",
       "      <td>y</td>\n",
       "    </tr>\n",
       "    <tr>\n",
       "      <th>freq</th>\n",
       "      <td>66</td>\n",
       "      <td>46</td>\n",
       "      <td>14</td>\n",
       "      <td>22</td>\n",
       "      <td>3246</td>\n",
       "      <td>2473</td>\n",
       "    </tr>\n",
       "  </tbody>\n",
       "</table>\n",
       "</div>"
      ],
      "text/plain": [
       "          link_id  parent_id           User  Text Intent Support\n",
       "count        5001       5001           5001  5001   5001    5001\n",
       "unique       1948       3153           4662  4952      6       4\n",
       "top     t3_ladzdt  t3_ladzdt  AutoModerator   GME      u       y\n",
       "freq           66         46             14    22   3246    2473"
      ]
     },
     "execution_count": 55,
     "metadata": {},
     "output_type": "execute_result"
    }
   ],
   "source": [
    "df.describe()"
   ]
  },
  {
   "cell_type": "code",
   "execution_count": 56,
   "metadata": {},
   "outputs": [
    {
     "data": {
      "text/plain": [
       "False"
      ]
     },
     "execution_count": 56,
     "metadata": {},
     "output_type": "execute_result"
    }
   ],
   "source": [
    "df['link_id'].nunique() == df.shape[0]"
   ]
  },
  {
   "cell_type": "code",
   "execution_count": 57,
   "metadata": {},
   "outputs": [
    {
     "data": {
      "text/plain": [
       "link_id     0.00\n",
       "parent_id   0.00\n",
       "User        0.00\n",
       "Text        0.00\n",
       "Intent      0.00\n",
       "Support     0.00\n",
       "dtype: float64"
      ]
     },
     "execution_count": 57,
     "metadata": {},
     "output_type": "execute_result"
    }
   ],
   "source": [
    "df.isna().sum()/df.shape[0]"
   ]
  },
  {
   "cell_type": "code",
   "execution_count": 58,
   "metadata": {},
   "outputs": [
    {
     "data": {
      "text/html": [
       "<div>\n",
       "<style scoped>\n",
       "    .dataframe tbody tr th:only-of-type {\n",
       "        vertical-align: middle;\n",
       "    }\n",
       "\n",
       "    .dataframe tbody tr th {\n",
       "        vertical-align: top;\n",
       "    }\n",
       "\n",
       "    .dataframe thead th {\n",
       "        text-align: right;\n",
       "    }\n",
       "</style>\n",
       "<table border=\"1\" class=\"dataframe\">\n",
       "  <thead>\n",
       "    <tr style=\"text-align: right;\">\n",
       "      <th></th>\n",
       "      <th>link_id</th>\n",
       "      <th>parent_id</th>\n",
       "      <th>User</th>\n",
       "      <th>Text</th>\n",
       "      <th>Intent</th>\n",
       "      <th>Support</th>\n",
       "    </tr>\n",
       "  </thead>\n",
       "  <tbody>\n",
       "    <tr>\n",
       "      <th>5001</th>\n",
       "      <td>NaN</td>\n",
       "      <td>NaN</td>\n",
       "      <td>NaN</td>\n",
       "      <td>NaN</td>\n",
       "      <td>NaN</td>\n",
       "      <td>NaN</td>\n",
       "    </tr>\n",
       "    <tr>\n",
       "      <th>5002</th>\n",
       "      <td>NaN</td>\n",
       "      <td>NaN</td>\n",
       "      <td>NaN</td>\n",
       "      <td>NaN</td>\n",
       "      <td>NaN</td>\n",
       "      <td>NaN</td>\n",
       "    </tr>\n",
       "    <tr>\n",
       "      <th>5003</th>\n",
       "      <td>NaN</td>\n",
       "      <td>NaN</td>\n",
       "      <td>NaN</td>\n",
       "      <td>NaN</td>\n",
       "      <td>NaN</td>\n",
       "      <td>NaN</td>\n",
       "    </tr>\n",
       "    <tr>\n",
       "      <th>5004</th>\n",
       "      <td>NaN</td>\n",
       "      <td>NaN</td>\n",
       "      <td>NaN</td>\n",
       "      <td>NaN</td>\n",
       "      <td>NaN</td>\n",
       "      <td>NaN</td>\n",
       "    </tr>\n",
       "    <tr>\n",
       "      <th>5005</th>\n",
       "      <td>NaN</td>\n",
       "      <td>NaN</td>\n",
       "      <td>NaN</td>\n",
       "      <td>NaN</td>\n",
       "      <td>NaN</td>\n",
       "      <td>NaN</td>\n",
       "    </tr>\n",
       "    <tr>\n",
       "      <th>5006</th>\n",
       "      <td>NaN</td>\n",
       "      <td>NaN</td>\n",
       "      <td>NaN</td>\n",
       "      <td>NaN</td>\n",
       "      <td>NaN</td>\n",
       "      <td>NaN</td>\n",
       "    </tr>\n",
       "    <tr>\n",
       "      <th>5007</th>\n",
       "      <td>NaN</td>\n",
       "      <td>NaN</td>\n",
       "      <td>NaN</td>\n",
       "      <td>NaN</td>\n",
       "      <td>NaN</td>\n",
       "      <td>NaN</td>\n",
       "    </tr>\n",
       "    <tr>\n",
       "      <th>5008</th>\n",
       "      <td>NaN</td>\n",
       "      <td>NaN</td>\n",
       "      <td>NaN</td>\n",
       "      <td>NaN</td>\n",
       "      <td>NaN</td>\n",
       "      <td>NaN</td>\n",
       "    </tr>\n",
       "    <tr>\n",
       "      <th>5009</th>\n",
       "      <td>NaN</td>\n",
       "      <td>NaN</td>\n",
       "      <td>NaN</td>\n",
       "      <td>NaN</td>\n",
       "      <td>NaN</td>\n",
       "      <td>NaN</td>\n",
       "    </tr>\n",
       "    <tr>\n",
       "      <th>5010</th>\n",
       "      <td>NaN</td>\n",
       "      <td>NaN</td>\n",
       "      <td>NaN</td>\n",
       "      <td>NaN</td>\n",
       "      <td>NaN</td>\n",
       "      <td>NaN</td>\n",
       "    </tr>\n",
       "    <tr>\n",
       "      <th>5011</th>\n",
       "      <td>NaN</td>\n",
       "      <td>NaN</td>\n",
       "      <td>NaN</td>\n",
       "      <td>NaN</td>\n",
       "      <td>NaN</td>\n",
       "      <td>NaN</td>\n",
       "    </tr>\n",
       "    <tr>\n",
       "      <th>5012</th>\n",
       "      <td>NaN</td>\n",
       "      <td>NaN</td>\n",
       "      <td>NaN</td>\n",
       "      <td>NaN</td>\n",
       "      <td>NaN</td>\n",
       "      <td>NaN</td>\n",
       "    </tr>\n",
       "    <tr>\n",
       "      <th>5013</th>\n",
       "      <td>NaN</td>\n",
       "      <td>NaN</td>\n",
       "      <td>NaN</td>\n",
       "      <td>NaN</td>\n",
       "      <td>NaN</td>\n",
       "      <td>NaN</td>\n",
       "    </tr>\n",
       "    <tr>\n",
       "      <th>5014</th>\n",
       "      <td>NaN</td>\n",
       "      <td>NaN</td>\n",
       "      <td>NaN</td>\n",
       "      <td>NaN</td>\n",
       "      <td>NaN</td>\n",
       "      <td>NaN</td>\n",
       "    </tr>\n",
       "    <tr>\n",
       "      <th>5015</th>\n",
       "      <td>NaN</td>\n",
       "      <td>NaN</td>\n",
       "      <td>NaN</td>\n",
       "      <td>NaN</td>\n",
       "      <td>NaN</td>\n",
       "      <td>NaN</td>\n",
       "    </tr>\n",
       "    <tr>\n",
       "      <th>5016</th>\n",
       "      <td>NaN</td>\n",
       "      <td>NaN</td>\n",
       "      <td>NaN</td>\n",
       "      <td>NaN</td>\n",
       "      <td>NaN</td>\n",
       "      <td>NaN</td>\n",
       "    </tr>\n",
       "    <tr>\n",
       "      <th>5017</th>\n",
       "      <td>NaN</td>\n",
       "      <td>NaN</td>\n",
       "      <td>NaN</td>\n",
       "      <td>NaN</td>\n",
       "      <td>NaN</td>\n",
       "      <td>NaN</td>\n",
       "    </tr>\n",
       "    <tr>\n",
       "      <th>5018</th>\n",
       "      <td>NaN</td>\n",
       "      <td>NaN</td>\n",
       "      <td>NaN</td>\n",
       "      <td>NaN</td>\n",
       "      <td>NaN</td>\n",
       "      <td>NaN</td>\n",
       "    </tr>\n",
       "    <tr>\n",
       "      <th>5019</th>\n",
       "      <td>NaN</td>\n",
       "      <td>NaN</td>\n",
       "      <td>NaN</td>\n",
       "      <td>NaN</td>\n",
       "      <td>NaN</td>\n",
       "      <td>NaN</td>\n",
       "    </tr>\n",
       "  </tbody>\n",
       "</table>\n",
       "</div>"
      ],
      "text/plain": [
       "     link_id parent_id User Text Intent Support\n",
       "5001     NaN       NaN  NaN  NaN    NaN     NaN\n",
       "5002     NaN       NaN  NaN  NaN    NaN     NaN\n",
       "5003     NaN       NaN  NaN  NaN    NaN     NaN\n",
       "5004     NaN       NaN  NaN  NaN    NaN     NaN\n",
       "5005     NaN       NaN  NaN  NaN    NaN     NaN\n",
       "5006     NaN       NaN  NaN  NaN    NaN     NaN\n",
       "5007     NaN       NaN  NaN  NaN    NaN     NaN\n",
       "5008     NaN       NaN  NaN  NaN    NaN     NaN\n",
       "5009     NaN       NaN  NaN  NaN    NaN     NaN\n",
       "5010     NaN       NaN  NaN  NaN    NaN     NaN\n",
       "5011     NaN       NaN  NaN  NaN    NaN     NaN\n",
       "5012     NaN       NaN  NaN  NaN    NaN     NaN\n",
       "5013     NaN       NaN  NaN  NaN    NaN     NaN\n",
       "5014     NaN       NaN  NaN  NaN    NaN     NaN\n",
       "5015     NaN       NaN  NaN  NaN    NaN     NaN\n",
       "5016     NaN       NaN  NaN  NaN    NaN     NaN\n",
       "5017     NaN       NaN  NaN  NaN    NaN     NaN\n",
       "5018     NaN       NaN  NaN  NaN    NaN     NaN\n",
       "5019     NaN       NaN  NaN  NaN    NaN     NaN"
      ]
     },
     "execution_count": 58,
     "metadata": {},
     "output_type": "execute_result"
    }
   ],
   "source": [
    "df[ df['Text'].isna() ]"
   ]
  },
  {
   "cell_type": "code",
   "execution_count": 59,
   "metadata": {},
   "outputs": [],
   "source": [
    "# Dropping rows that have NaN values\n",
    "df = df.dropna()"
   ]
  },
  {
   "cell_type": "code",
   "execution_count": 60,
   "metadata": {},
   "outputs": [
    {
     "data": {
      "text/html": [
       "<div>\n",
       "<style scoped>\n",
       "    .dataframe tbody tr th:only-of-type {\n",
       "        vertical-align: middle;\n",
       "    }\n",
       "\n",
       "    .dataframe tbody tr th {\n",
       "        vertical-align: top;\n",
       "    }\n",
       "\n",
       "    .dataframe thead th {\n",
       "        text-align: right;\n",
       "    }\n",
       "</style>\n",
       "<table border=\"1\" class=\"dataframe\">\n",
       "  <thead>\n",
       "    <tr style=\"text-align: right;\">\n",
       "      <th></th>\n",
       "      <th>link_id</th>\n",
       "      <th>parent_id</th>\n",
       "      <th>User</th>\n",
       "      <th>Text</th>\n",
       "      <th>Intent</th>\n",
       "      <th>Support</th>\n",
       "    </tr>\n",
       "  </thead>\n",
       "  <tbody>\n",
       "  </tbody>\n",
       "</table>\n",
       "</div>"
      ],
      "text/plain": [
       "Empty DataFrame\n",
       "Columns: [link_id, parent_id, User, Text, Intent, Support]\n",
       "Index: []"
      ]
     },
     "execution_count": 60,
     "metadata": {},
     "output_type": "execute_result"
    }
   ],
   "source": [
    "df[ df['Text'].isna() ]"
   ]
  },
  {
   "cell_type": "markdown",
   "metadata": {},
   "source": [
    "### 2.1.2. Correcting values in the 'Intent' collumn"
   ]
  },
  {
   "cell_type": "code",
   "execution_count": 61,
   "metadata": {},
   "outputs": [
    {
     "data": {
      "text/plain": [
       "Intent\n",
       "u     3246\n",
       "y      983\n",
       "m      370\n",
       "i      318\n",
       "n       83\n",
       " u       1\n",
       "Name: count, dtype: int64"
      ]
     },
     "execution_count": 61,
     "metadata": {},
     "output_type": "execute_result"
    }
   ],
   "source": [
    "df['Intent'].value_counts()"
   ]
  },
  {
   "cell_type": "code",
   "execution_count": 62,
   "metadata": {},
   "outputs": [
    {
     "data": {
      "text/plain": [
       "Support\n",
       "y    2473\n",
       "u    1979\n",
       "n     292\n",
       "i     257\n",
       "Name: count, dtype: int64"
      ]
     },
     "execution_count": 62,
     "metadata": {},
     "output_type": "execute_result"
    }
   ],
   "source": [
    "df['Support'].value_counts()"
   ]
  },
  {
   "cell_type": "code",
   "execution_count": 63,
   "metadata": {},
   "outputs": [
    {
     "name": "stdout",
     "output_type": "stream",
     "text": [
      "Intent\n",
      "u    3247\n",
      "y     983\n",
      "m     370\n",
      "i     318\n",
      "n      83\n",
      "Name: count, dtype: int64\n"
     ]
    }
   ],
   "source": [
    "# Replacing ' u' with 'u' in the 'Intent' column\n",
    "df['Intent'] = df['Intent'].str.replace(' u', 'u', regex=False)\n",
    "# checking again:\n",
    "value_counts = df['Intent'].value_counts() \n",
    "print(value_counts)"
   ]
  },
  {
   "cell_type": "markdown",
   "metadata": {},
   "source": [
    "### 2.1.3. EDA of text columns"
   ]
  },
  {
   "cell_type": "code",
   "execution_count": 64,
   "metadata": {},
   "outputs": [
    {
     "name": "stdout",
     "output_type": "stream",
     "text": [
      "User\n",
      "AutoModerator        14\n",
      "[deleted]            11\n",
      "MLBBear               7\n",
      "lucasjhinton          7\n",
      "LavenderAutist        5\n",
      "                     ..\n",
      "kaptainkooleio        1\n",
      "HolderToTheMoon       1\n",
      "No_Balance_3566       1\n",
      "Castranada            1\n",
      "AcceptableSilver2     1\n",
      "Name: count, Length: 4662, dtype: int64\n"
     ]
    }
   ],
   "source": [
    "# Get the counts of each unique value in the 'User' column\n",
    "user_counts = df['User'].value_counts()\n",
    "\n",
    "# Print the value counts\n",
    "print(user_counts)"
   ]
  },
  {
   "cell_type": "code",
   "execution_count": 65,
   "metadata": {},
   "outputs": [
    {
     "name": "stdout",
     "output_type": "stream",
     "text": [
      "User\n",
      "AutoModerator      14\n",
      "[deleted]          11\n",
      "MLBBear             7\n",
      "lucasjhinton        7\n",
      "LavenderAutist      5\n",
      "budispro            5\n",
      "MadmantheDragon     5\n",
      "Qikqok              5\n",
      "singh161798         4\n",
      "Keepitlitt          4\n",
      "Name: count, dtype: int64\n"
     ]
    }
   ],
   "source": [
    "# Display the top 10 most frequent users\n",
    "print(user_counts.head(10))"
   ]
  },
  {
   "cell_type": "code",
   "execution_count": 66,
   "metadata": {},
   "outputs": [
    {
     "name": "stdout",
     "output_type": "stream",
     "text": [
      "parent_id\n",
      "t3_ladzdt     46\n",
      "t3_lat43j     38\n",
      "t3_kx3ja5     33\n",
      "t3_layuxv     32\n",
      "t3_lb6aiq     29\n",
      "              ..\n",
      "t3_l6jj4d      1\n",
      "t3_law9mf      1\n",
      "t3_lqttmb      1\n",
      "t3_mn1hr2      1\n",
      "t1_gltj1f7     1\n",
      "Name: count, Length: 3153, dtype: int64\n"
     ]
    }
   ],
   "source": [
    "# Get the counts of each unique value in the 'User' column\n",
    "parentid_counts = df['parent_id'].value_counts()\n",
    "\n",
    "# Print the value counts\n",
    "print(parentid_counts)"
   ]
  },
  {
   "cell_type": "code",
   "execution_count": 67,
   "metadata": {},
   "outputs": [],
   "source": [
    "# Creating a new column with word count that will calculate the total number of words in the column \"Text\"\n",
    "df['word_count'] = df['Text'].str.split().str.len()"
   ]
  },
  {
   "cell_type": "code",
   "execution_count": 68,
   "metadata": {},
   "outputs": [
    {
     "data": {
      "text/plain": [
       "word_count\n",
       "11     191\n",
       "10     177\n",
       "8      168\n",
       "13     165\n",
       "9      164\n",
       "      ... \n",
       "195      1\n",
       "513      1\n",
       "215      1\n",
       "194      1\n",
       "153      1\n",
       "Name: count, Length: 228, dtype: int64"
      ]
     },
     "execution_count": 68,
     "metadata": {},
     "output_type": "execute_result"
    }
   ],
   "source": [
    "# Having a look at the distribution of word counts in 'Text' column:\n",
    "df['word_count'].value_counts()"
   ]
  },
  {
   "cell_type": "code",
   "execution_count": 69,
   "metadata": {},
   "outputs": [
    {
     "name": "stdout",
     "output_type": "stream",
     "text": [
      "191\n"
     ]
    }
   ],
   "source": [
    "print(df['word_count'].value_counts().max())"
   ]
  },
  {
   "cell_type": "markdown",
   "metadata": {},
   "source": [
    "Observation:\n",
    "\n",
    "* Many postings have a very small word count, 9-13 words per message (one sentence). "
   ]
  },
  {
   "cell_type": "code",
   "execution_count": 70,
   "metadata": {},
   "outputs": [
    {
     "data": {
      "image/png": "[encoded data removed]",
      "text/plain": [
       "<Figure size 300x300 with 1 Axes>"
      ]
     },
     "metadata": {},
     "output_type": "display_data"
    }
   ],
   "source": [
    "# Plot a histogram of selftext word counts\n",
    "plt.figure(figsize=(3,3))\n",
    "df.word_count.hist(bins=100, grid=False, color='lightblue')\n",
    "plt.title('Distribution of selftext word count')\n",
    "plt.xlabel('tempo')\n",
    "plt.ylabel('Count')\n",
    "plt.show()"
   ]
  },
  {
   "cell_type": "markdown",
   "metadata": {},
   "source": [
    "Observation: \n",
    "\n",
    "The distribution of word count is extremely skewed, with majority (>75%) of posts having a very small number of words.  But a very small percentage of authors posted lengthy posts that skewed the right tail a lot. I will plot the distribution of selftext word count between 2 and 1000 words. We can see that majority of non-empty posts have between 2 and 200 words.   "
   ]
  },
  {
   "cell_type": "markdown",
   "metadata": {},
   "source": [
    "### 2.1.4. Cleaning the text before modelling"
   ]
  },
  {
   "cell_type": "code",
   "execution_count": 95,
   "metadata": {},
   "outputs": [],
   "source": [
    "df_clean = df.copy() "
   ]
  },
  {
   "cell_type": "code",
   "execution_count": 96,
   "metadata": {},
   "outputs": [],
   "source": [
    "# Function to clean text\n",
    "def purge_content(text):\n",
    "    text_without_urls = re.sub(r'https?://\\S+|www\\.\\S+', '', text)\n",
    "    text_without_hashtags = re.sub(r'#\\S+', '', text_without_urls)\n",
    "    text_without_mentions = re.sub(r'@\\S+', '', text_without_hashtags)\n",
    "    text_without_linebreaks = re.sub(r'\\n+', '', text_without_mentions)\n",
    "    clean_text = re.sub(r'\\n+', ' ', text_without_linebreaks)\n",
    "\n",
    "    return clean_text"
   ]
  },
  {
   "cell_type": "code",
   "execution_count": 97,
   "metadata": {},
   "outputs": [],
   "source": [
    "# Using apply() method to clean the text\n",
    "df_clean['Text'] = df_clean['Text'].apply(purge_content)"
   ]
  },
  {
   "cell_type": "code",
   "execution_count": 98,
   "metadata": {},
   "outputs": [
    {
     "data": {
      "text/html": [
       "<div>\n",
       "<style scoped>\n",
       "    .dataframe tbody tr th:only-of-type {\n",
       "        vertical-align: middle;\n",
       "    }\n",
       "\n",
       "    .dataframe tbody tr th {\n",
       "        vertical-align: top;\n",
       "    }\n",
       "\n",
       "    .dataframe thead th {\n",
       "        text-align: right;\n",
       "    }\n",
       "</style>\n",
       "<table border=\"1\" class=\"dataframe\">\n",
       "  <thead>\n",
       "    <tr style=\"text-align: right;\">\n",
       "      <th></th>\n",
       "      <th>link_id</th>\n",
       "      <th>parent_id</th>\n",
       "      <th>User</th>\n",
       "      <th>Text</th>\n",
       "      <th>Intent</th>\n",
       "      <th>Support</th>\n",
       "      <th>word_count</th>\n",
       "    </tr>\n",
       "  </thead>\n",
       "  <tbody>\n",
       "    <tr>\n",
       "      <th>402</th>\n",
       "      <td>t3_l66caa</td>\n",
       "      <td>t1_gkyxvml</td>\n",
       "      <td>EllipticalOrbitMan</td>\n",
       "      <td></td>\n",
       "      <td>i</td>\n",
       "      <td>i</td>\n",
       "      <td>1</td>\n",
       "    </tr>\n",
       "    <tr>\n",
       "      <th>1264</th>\n",
       "      <td>t3_l0mc06</td>\n",
       "      <td>t1_gju8jei</td>\n",
       "      <td>wolfiasty</td>\n",
       "      <td></td>\n",
       "      <td>i</td>\n",
       "      <td>i</td>\n",
       "      <td>1</td>\n",
       "    </tr>\n",
       "    <tr>\n",
       "      <th>2187</th>\n",
       "      <td>t3_l6kqyk</td>\n",
       "      <td>t1_gl17oj6</td>\n",
       "      <td>EconomicallyLiterate</td>\n",
       "      <td></td>\n",
       "      <td>i</td>\n",
       "      <td>i</td>\n",
       "      <td>1</td>\n",
       "    </tr>\n",
       "    <tr>\n",
       "      <th>4157</th>\n",
       "      <td>t3_khq3x2</td>\n",
       "      <td>t1_ggo6fi4</td>\n",
       "      <td>JonBoy82</td>\n",
       "      <td></td>\n",
       "      <td>i</td>\n",
       "      <td>i</td>\n",
       "      <td>1</td>\n",
       "    </tr>\n",
       "    <tr>\n",
       "      <th>4265</th>\n",
       "      <td>t3_lat43j</td>\n",
       "      <td>t1_glq69gz</td>\n",
       "      <td>Free_Joty</td>\n",
       "      <td></td>\n",
       "      <td>i</td>\n",
       "      <td>i</td>\n",
       "      <td>1</td>\n",
       "    </tr>\n",
       "  </tbody>\n",
       "</table>\n",
       "</div>"
      ],
      "text/plain": [
       "        link_id   parent_id                  User Text Intent Support  \\\n",
       "402   t3_l66caa  t1_gkyxvml    EllipticalOrbitMan           i       i   \n",
       "1264  t3_l0mc06  t1_gju8jei             wolfiasty           i       i   \n",
       "2187  t3_l6kqyk  t1_gl17oj6  EconomicallyLiterate           i       i   \n",
       "4157  t3_khq3x2  t1_ggo6fi4              JonBoy82           i       i   \n",
       "4265  t3_lat43j  t1_glq69gz             Free_Joty           i       i   \n",
       "\n",
       "      word_count  \n",
       "402            1  \n",
       "1264           1  \n",
       "2187           1  \n",
       "4157           1  \n",
       "4265           1  "
      ]
     },
     "execution_count": 98,
     "metadata": {},
     "output_type": "execute_result"
    }
   ],
   "source": [
    "# sanity check\n",
    "df_clean[df_clean['Text'] == '']"
   ]
  },
  {
   "cell_type": "code",
   "execution_count": 102,
   "metadata": {},
   "outputs": [],
   "source": [
    "# Drop rows where the 'Text' column is an empty string\n",
    "df_clean = df_clean[df_clean['Text'] != '']"
   ]
  },
  {
   "cell_type": "code",
   "execution_count": 106,
   "metadata": {},
   "outputs": [
    {
     "data": {
      "text/plain": [
       "0"
      ]
     },
     "execution_count": 106,
     "metadata": {},
     "output_type": "execute_result"
    }
   ],
   "source": [
    "df_clean.duplicated().sum()"
   ]
  },
  {
   "cell_type": "code",
   "execution_count": 107,
   "metadata": {},
   "outputs": [],
   "source": [
    "# Remove duplicate rows\n",
    "df_clean = df_clean.drop_duplicates()"
   ]
  },
  {
   "cell_type": "code",
   "execution_count": 108,
   "metadata": {},
   "outputs": [],
   "source": [
    "# Recording the cleaned dataset as a new csv file to be used in other notebooks:\n",
    "# Save the DataFrame to a CSV file\n",
    "df_clean.to_csv('../data/02_labelled_dataset_cleaned.csv', index=False)"
   ]
  },
  {
   "cell_type": "markdown",
   "id": "f57b4226",
   "metadata": {},
   "source": [
    "### 2.1.2. Filtering out emojis by creating a new column"
   ]
  },
  {
   "cell_type": "code",
   "execution_count": 80,
   "id": "5e983b50",
   "metadata": {},
   "outputs": [],
   "source": [
    "# Function to map emojis to their descriptions\n",
    "def emoji_description(emoji):\n",
    "    emoji_map = {\n",
    "        \"🚀\": \" super optimistic, \",\n",
    "        \"🦍\": \" brotherhood, \",\n",
    "        \"🤞\": \" hope, \",\n",
    "        \"🌙\": \" very optimistic, \",\n",
    "        \"🌕\": \" very optimistic, \",\n",
    "        \"💎🤚🏼\": \" patient investors, \",\n",
    "        \"💎🖐\": \" patient investors, \",\n",
    "        \"💎🙌\": \" patient investors, \",\n",
    "        \"🙌\": \" patient investors, \",\n",
    "        \"💎\": \" patient investors, \",\n",
    "        \"🧻🤚🏼\": \" impatient investors, \",\n",
    "        \"🧻🖐\": \" impatient investors, \",\n",
    "        # Add more mappings as needed\n",
    "    }\n",
    "    # If the full emoji is in the map, return the description\n",
    "    if emoji in emoji_map:\n",
    "        return emoji_map[emoji]\n",
    "    # If not, split any combined emojis and look up their individual descriptions\n",
    "    else:\n",
    "        return ''.join([emoji_map.get(char, '') for char in emoji])  # Default to empty string if not in mapping\n",
    "\n",
    "def extract_and_replace_emojis(df, text_column_name='Text', emoji_column_name='emoji_text'):\n",
    "    # Initialize an empty column for extracted emojis if a column name is provided\n",
    "    if emoji_column_name:\n",
    "        df[emoji_column_name] = ''\n",
    "\n",
    "    # Function to extract and replace emojis in a text\n",
    "    def process_text(text):\n",
    "        emoji_pattern = re.compile(r'[\\U0001F600-\\U0001F64F\\U0001F300-\\U0001F5FF\\U0001F680-\\U0001F6FF\\U0001F700-\\U0001F77F\\U0001F780-\\U0001F7FF\\U0001F800-\\U0001F8FF\\U0001F900-\\U0001F9FF\\U0001FA00-\\U0001FA6F\\U0001FA70-\\U0001FAFF\\U0001FB00-\\U0001FBFF\\U0001F004]+')\n",
    "\n",
    "        # Find all emojis in the text using the regex pattern\n",
    "        emoji_matches = emoji_pattern.findall(text)\n",
    "        emojis_extracted = ''\n",
    "        text_with_replaced_emojis = text\n",
    "\n",
    "        # Iterate over the found emojis\n",
    "        for emoji_str in emoji_matches:\n",
    "            # For each emoji in the emoji string\n",
    "            for emoji_char in emoji_str:\n",
    "                emoji_desc = emoji_description(emoji_char)  # Get description for individual emoji\n",
    "                text_with_replaced_emojis = text_with_replaced_emojis.replace(emoji_char, emoji_desc, 1)\n",
    "                emojis_extracted += emoji_char + ' '  # Add space to separate emojis\n",
    "\n",
    "        # Return the modified text and the extracted emojis\n",
    "        return text_with_replaced_emojis, emojis_extracted.strip()\n",
    "\n",
    "    # Apply the processing function to the specified column and create new columns for text and emojis\n",
    "    result = df[text_column_name].apply(process_text)\n",
    "    df[text_column_name] = result.apply(lambda x: x[0])\n",
    "    \n",
    "    if emoji_column_name:\n",
    "        df[emoji_column_name] = result.apply(lambda x: x[1])\n",
    "\n",
    "    return df"
   ]
  },
  {
   "cell_type": "code",
   "execution_count": 81,
   "id": "a7c98bc5",
   "metadata": {},
   "outputs": [],
   "source": [
    "# Applying the function to extract and replace emojis from 'Text' column\n",
    "df_clean = extract_and_replace_emojis(df_clean, text_column_name='Text', emoji_column_name='emoji_text')"
   ]
  },
  {
   "cell_type": "code",
   "execution_count": 82,
   "id": "4be45fbf",
   "metadata": {},
   "outputs": [
    {
     "data": {
      "text/plain": [
       "emoji_text\n",
       "                                                                     4254\n",
       "🚀 🚀 🚀                                                                  66\n",
       "🚀                                                                      50\n",
       "🚀 🚀                                                                    28\n",
       "🚀 🚀 🚀 🚀                                                                26\n",
       "                                                                     ... \n",
       "🧻 🤚 🏼 🧻 🤚 🏼 🧻 🤚 🏼 🧻 🤚 🏼 💎 🤚 🏼 💎 🤚 🏼 💎 🤚 🏼 💎 🤚 🏼 💎 🚀 🚀 🚀 🚀 🚀 🚀 🚀 🚀       1\n",
       "💎 🚀 🚀 🌙                                                                 1\n",
       "🚀 💪 🏋 💎                                                                 1\n",
       "📝 👋 💎 👏 🚀 🚀 🚀 🌈 🐻 📉 🚀 🚀 🚀 🌕 🔥 🔥                                         1\n",
       "🚀 🚀 🚀 🖐 💎 🖐 💵 🖐 🍿 🍗 🚀 🦍 🌚 🚀 🚀                                           1\n",
       "Name: count, Length: 383, dtype: int64"
      ]
     },
     "execution_count": 82,
     "metadata": {},
     "output_type": "execute_result"
    }
   ],
   "source": [
    "# Checking the new column with emojis extracted from the text\n",
    "df_clean.sample().T\n",
    "df_clean['emoji_text'].value_counts()"
   ]
  },
  {
   "cell_type": "code",
   "execution_count": 83,
   "metadata": {},
   "outputs": [
    {
     "data": {
      "text/html": [
       "<div>\n",
       "<style scoped>\n",
       "    .dataframe tbody tr th:only-of-type {\n",
       "        vertical-align: middle;\n",
       "    }\n",
       "\n",
       "    .dataframe tbody tr th {\n",
       "        vertical-align: top;\n",
       "    }\n",
       "\n",
       "    .dataframe thead th {\n",
       "        text-align: right;\n",
       "    }\n",
       "</style>\n",
       "<table border=\"1\" class=\"dataframe\">\n",
       "  <thead>\n",
       "    <tr style=\"text-align: right;\">\n",
       "      <th></th>\n",
       "      <th>link_id</th>\n",
       "      <th>parent_id</th>\n",
       "      <th>User</th>\n",
       "      <th>Text</th>\n",
       "      <th>Intent</th>\n",
       "      <th>Support</th>\n",
       "      <th>word_count</th>\n",
       "      <th>emoji_text</th>\n",
       "    </tr>\n",
       "  </thead>\n",
       "  <tbody>\n",
       "    <tr>\n",
       "      <th>4275</th>\n",
       "      <td>t3_lh3qli</td>\n",
       "      <td>t1_gmvr3tw</td>\n",
       "      <td>En_CHILL_ada</td>\n",
       "      <td>But GME is overvalued 4 billion lol</td>\n",
       "      <td>u</td>\n",
       "      <td>u</td>\n",
       "      <td>7</td>\n",
       "      <td></td>\n",
       "    </tr>\n",
       "    <tr>\n",
       "      <th>840</th>\n",
       "      <td>t3_lwtgh5</td>\n",
       "      <td>t3_lwtgh5</td>\n",
       "      <td>mmeeoorryyoouu</td>\n",
       "      <td>Odds RKT &amp;amp; GME close at the same price?</td>\n",
       "      <td>u</td>\n",
       "      <td>u</td>\n",
       "      <td>9</td>\n",
       "      <td></td>\n",
       "    </tr>\n",
       "    <tr>\n",
       "      <th>299</th>\n",
       "      <td>t3_l2t974</td>\n",
       "      <td>t1_gk7q3bs</td>\n",
       "      <td>smking7</td>\n",
       "      <td>I might be the only retard that loses money on GME but I did it for the greater good to defeat evil</td>\n",
       "      <td>y</td>\n",
       "      <td>y</td>\n",
       "      <td>22</td>\n",
       "      <td></td>\n",
       "    </tr>\n",
       "  </tbody>\n",
       "</table>\n",
       "</div>"
      ],
      "text/plain": [
       "        link_id   parent_id            User  \\\n",
       "4275  t3_lh3qli  t1_gmvr3tw    En_CHILL_ada   \n",
       "840   t3_lwtgh5   t3_lwtgh5  mmeeoorryyoouu   \n",
       "299   t3_l2t974  t1_gk7q3bs         smking7   \n",
       "\n",
       "                                                                                                     Text  \\\n",
       "4275                                                                  But GME is overvalued 4 billion lol   \n",
       "840                                                           Odds RKT &amp; GME close at the same price?   \n",
       "299   I might be the only retard that loses money on GME but I did it for the greater good to defeat evil   \n",
       "\n",
       "     Intent Support  word_count emoji_text  \n",
       "4275      u       u           7             \n",
       "840       u       u           9             \n",
       "299       y       y          22             "
      ]
     },
     "execution_count": 83,
     "metadata": {},
     "output_type": "execute_result"
    }
   ],
   "source": [
    "df_clean.sample(3)"
   ]
  },
  {
   "cell_type": "markdown",
   "metadata": {},
   "source": [
    "### 2.1.3. Replacing WSB slang with custom made \"WSB Dictionary\""
   ]
  },
  {
   "cell_type": "code",
   "execution_count": 84,
   "metadata": {},
   "outputs": [],
   "source": [
    "# Load the WSB lingo dictionary\n",
    "wsb_dict_df = pd.read_csv('../data/WSB_dictionary.csv')\n",
    "\n",
    "# Convert the DataFrame to a dictionary\n",
    "wsb_dict = dict(zip(wsb_dict_df['WSB lingo'], wsb_dict_df['English']))\n",
    "\n",
    "# Function to replace WSB lingo with English\n",
    "def replace_wsb_lingo(text):\n",
    "    # Use a regex pattern to match only whole words\n",
    "    pattern = r'\\b(' + '|'.join(re.escape(key) for key in wsb_dict.keys()) + r')\\b'\n",
    "    # Replace occurrences of each lingo with the English equivalent\n",
    "    return re.sub(pattern, lambda x: wsb_dict[x.group()], text)\n",
    "\n",
    "# Apply the function to the 'Text' column\n",
    "df_clean['Text'] = df_clean['Text'].apply(replace_wsb_lingo)"
   ]
  },
  {
   "cell_type": "markdown",
   "metadata": {},
   "source": [
    "### 2.1.4 Examples of texts before and after the cleaning steps"
   ]
  },
  {
   "cell_type": "code",
   "execution_count": 85,
   "metadata": {},
   "outputs": [
    {
     "name": "stdout",
     "output_type": "stream",
     "text": [
      "link_id                                                                                                                                                                                                                                                                                                                                              t3_l6cb1x\n",
      "parent_id                                                                                                                                                                                                                                                                                                                                            t3_l6cb1x\n",
      "User                                                                                                                                                                                                                                                                                                                                      nights_that_say_knee\n",
      "Text          👐💎👐💎👐💎👐💎👐💎👐💎👐💎👐💎👐💎👐💎👐💎👐💎👐💎👐💎👐💎👐💎👐💎👐💎👐💎👐💎👐💎👐💎👐💎👐💎👐💎👐💎👐💎👐💎👐💎👐💎👐💎👐💎👐💎👐💎👐💎👐💎👐💎👐💎👐💎👐💎👐💎👐💎👐💎👐💎👐💎👐💎👐💎👐💎👐💎👐💎👐💎👐💎👐💎👐💎👐💎👐💎👐💎👐💎👐💎👐💎👐💎👐💎👐💎👐💎👐💎👐💎👐💎👐💎👐💎👐💎👐💎👐💎👐💎👐💎👐💎👐💎👐💎👐💎👐💎👐💎👐💎👐💎👐💎👐💎👐💎👐💎👐💎👐💎👐💎👐💎👐💎👐💎👐💎👐💎👐💎👐💎👐💎👐💎👐💎👐💎👐💎👐💎👐💎👐💎👐💎👐💎👐💎👐💎👐💎👐💎👐💎👐💎👐💎👐💎👐💎👐💎👐💎👐💎👐💎👐💎👐💎👐💎👐💎👐💎👐💎👐💎👐💎👐\\n\\nBUY 🚀🚀 GME 🚀🚀 to get your 🎟️🎟️🌕l🌝\\n\\nAIN'T NO LIE BABY 👶, 💰BUY, 🤑 BUY, 💵 BUY!\n",
      "Intent                                                                                                                                                                                                                                                                                                                                                       u\n",
      "Support                                                                                                                                                                                                                                                                                                                                                      y\n",
      "word_count                                                                                                                                                                                                                                                                                                                                                  19\n",
      "Name: 2026, dtype: object\n",
      "link_id                                                                                                                                                                                                                                                                                                                                                                                                                                                                                                                                                                                                                                                                                                                                                                                                                                                                                                                                                                                                                                                                                                                                                                                                                                                                                                                                                                                                                                                                                                                                                                                                                                                                                                                                                                                                                                                                                                                                                                                                                                                                                                                                                                                                                                                                                                                                                                                                                                                                                                                                                                                                                                                                                                                                                                                                     t3_l6cb1x\n",
      "parent_id                                                                                                                                                                                                                                                                                                                                                                                                                                                                                                                                                                                                                                                                                                                                                                                                                                                                                                                                                                                                                                                                                                                                                                                                                                                                                                                                                                                                                                                                                                                                                                                                                                                                                                                                                                                                                                                                                                                                                                                                                                                                                                                                                                                                                                                                                                                                                                                                                                                                                                                                                                                                                                                                                                                                                                                                   t3_l6cb1x\n",
      "User                                                                                                                                                                                                                                                                                                                                                                                                                                                                                                                                                                                                                                                                                                                                                                                                                                                                                                                                                                                                                                                                                                                                                                                                                                                                                                                                                                                                                                                                                                                                                                                                                                                                                                                                                                                                                                                                                                                                                                                                                                                                                                                                                                                                                                                                                                                                                                                                                                                                                                                                                                                                                                                                                                                                                                                             nights_that_say_knee\n",
      "Text           patient investors,  patient investors,  patient investors,  patient investors,  patient investors,  patient investors,  patient investors,  patient investors,  patient investors,  patient investors,  patient investors,  patient investors,  patient investors,  patient investors,  patient investors,  patient investors,  patient investors,  patient investors,  patient investors,  patient investors,  patient investors,  patient investors,  patient investors,  patient investors,  patient investors,  patient investors,  patient investors,  patient investors,  patient investors,  patient investors,  patient investors,  patient investors,  patient investors,  patient investors,  patient investors,  patient investors,  patient investors,  patient investors,  patient investors,  patient investors,  patient investors,  patient investors,  patient investors,  patient investors,  patient investors,  patient investors,  patient investors,  patient investors,  patient investors,  patient investors,  patient investors,  patient investors,  patient investors,  patient investors,  patient investors,  patient investors,  patient investors,  patient investors,  patient investors,  patient investors,  patient investors,  patient investors,  patient investors,  patient investors,  patient investors,  patient investors,  patient investors,  patient investors,  patient investors,  patient investors,  patient investors,  patient investors,  patient investors,  patient investors,  patient investors,  patient investors,  patient investors,  patient investors,  patient investors,  patient investors,  patient investors,  patient investors,  patient investors,  patient investors,  patient investors,  patient investors,  patient investors,  patient investors,  patient investors,  patient investors,  patient investors,  patient investors,  patient investors,  patient investors,  patient investors,  patient investors,  patient investors,  patient investors,  patient investors,  patient investors,  patient investors,  patient investors,  patient investors,  patient investors,  patient investors,  patient investors,  patient investors,  patient investors,  patient investors,  patient investors,  patient investors,  patient investors,  patient investors,  patient investors,  patient investors,  patient investors,  patient investors,  patient investors,  patient investors,  patient investors,  patient investors,  patient investors,  patient investors,  patient investors,  patient investors,  patient investors,  patient investors, BUY  super optimistic,  super optimistic,  GME  super optimistic,  super optimistic,  to get your ️️ very optimistic, lAIN'T NO LIE BABY , BUY,  BUY,  BUY!\n",
      "Intent                                                                                                                                                                                                                                                                                                                                                                                                                                                                                                                                                                                                                                                                                                                                                                                                                                                                                                                                                                                                                                                                                                                                                                                                                                                                                                                                                                                                                                                                                                                                                                                                                                                                                                                                                                                                                                                                                                                                                                                                                                                                                                                                                                                                                                                                                                                                                                                                                                                                                                                                                                                                                                                                                                                                                                                                              u\n",
      "Support                                                                                                                                                                                                                                                                                                                                                                                                                                                                                                                                                                                                                                                                                                                                                                                                                                                                                                                                                                                                                                                                                                                                                                                                                                                                                                                                                                                                                                                                                                                                                                                                                                                                                                                                                                                                                                                                                                                                                                                                                                                                                                                                                                                                                                                                                                                                                                                                                                                                                                                                                                                                                                                                                                                                                                                                             y\n",
      "word_count                                                                                                                                                                                                                                                                                                                                                                                                                                                                                                                                                                                                                                                                                                                                                                                                                                                                                                                                                                                                                                                                                                                                                                                                                                                                                                                                                                                                                                                                                                                                                                                                                                                                                                                                                                                                                                                                                                                                                                                                                                                                                                                                                                                                                                                                                                                                                                                                                                                                                                                                                                                                                                                                                                                                                                                                         19\n",
      "emoji_text                                                                                                                                                                                                                                                                                                                                                                                                                                                                                                                                                                                                                                                                                                                                                                                                                                                                                                                                                                                                                                                                                                                                                                                                                                                                                                                                                                                                                                                                                                                                                                                                                                                                                                                                                                                                                                                                                                                                                                                                                                                                                                                                                                                                                                                      👐 💎 👐 💎 👐 💎 👐 💎 👐 💎 👐 💎 👐 💎 👐 💎 👐 💎 👐 💎 👐 💎 👐 💎 👐 💎 👐 💎 👐 💎 👐 💎 👐 💎 👐 💎 👐 💎 👐 💎 👐 💎 👐 💎 👐 💎 👐 💎 👐 💎 👐 💎 👐 💎 👐 💎 👐 💎 👐 💎 👐 💎 👐 💎 👐 💎 👐 💎 👐 💎 👐 💎 👐 💎 👐 💎 👐 💎 👐 💎 👐 💎 👐 💎 👐 💎 👐 💎 👐 💎 👐 💎 👐 💎 👐 💎 👐 💎 👐 💎 👐 💎 👐 💎 👐 💎 👐 💎 👐 💎 👐 💎 👐 💎 👐 💎 👐 💎 👐 💎 👐 💎 👐 💎 👐 💎 👐 💎 👐 💎 👐 💎 👐 💎 👐 💎 👐 💎 👐 💎 👐 💎 👐 💎 👐 💎 👐 💎 👐 💎 👐 💎 👐 💎 👐 💎 👐 💎 👐 💎 👐 💎 👐 💎 👐 💎 👐 💎 👐 💎 👐 💎 👐 💎 👐 💎 👐 💎 👐 💎 👐 💎 👐 💎 👐 💎 👐 💎 👐 💎 👐 💎 👐 💎 👐 💎 👐 💎 👐 💎 👐 💎 👐 💎 👐 💎 👐 💎 👐 💎 👐 💎 👐 💎 👐 💎 👐 💎 👐 💎 👐 💎 👐 💎 👐 💎 👐 💎 👐 💎 👐 💎 👐 💎 👐 💎 👐 💎 👐 💎 👐 💎 👐 💎 👐 💎 👐 💎 👐 💎 👐 💎 👐 💎 👐 🚀 🚀 🚀 🚀 🎟 🎟 🌕 🌝 👶 💰 🤑 💵\n",
      "Name: 2026, dtype: object\n"
     ]
    }
   ],
   "source": [
    "original_with_index = df.loc[2026]\n",
    "print(original_with_index)\n",
    "\n",
    "clean_with_index = df_clean.loc[2026]\n",
    "print(clean_with_index)"
   ]
  },
  {
   "cell_type": "code",
   "execution_count": 86,
   "metadata": {},
   "outputs": [
    {
     "name": "stdout",
     "output_type": "stream",
     "text": [
      "link_id                                             t3_l8ynt4\n",
      "parent_id                                           t3_l8ynt4\n",
      "User                                        wowexcellentstuff\n",
      "Text          did NOT read. $GME to mf Andromeda 🚀🚀🚀🌌🌌\\n\\n💎🤲💎\n",
      "Intent                                                      u\n",
      "Support                                                     y\n",
      "word_count                                                  9\n",
      "Name: 3986, dtype: object\n",
      "link_id                                                                                                                                  t3_l8ynt4\n",
      "parent_id                                                                                                                                t3_l8ynt4\n",
      "User                                                                                                                             wowexcellentstuff\n",
      "Text          did NOT read. $GME to mf Andromeda  super optimistic,  super optimistic,  super optimistic,  patient investors,  patient investors, \n",
      "Intent                                                                                                                                           u\n",
      "Support                                                                                                                                          y\n",
      "word_count                                                                                                                                       9\n",
      "emoji_text                                                                                                                         🚀 🚀 🚀 🌌 🌌 💎 🤲 💎\n",
      "Name: 3986, dtype: object\n"
     ]
    }
   ],
   "source": [
    "original_with_index = df.loc[3986]\n",
    "print(original_with_index)\n",
    "\n",
    "clean_with_index = df_clean.loc[3986]\n",
    "print(clean_with_index)"
   ]
  },
  {
   "cell_type": "code",
   "execution_count": 87,
   "metadata": {},
   "outputs": [
    {
     "name": "stdout",
     "output_type": "stream",
     "text": [
      "link_id                                     t3_kkwy50\n",
      "parent_id                                   t3_kkwy50\n",
      "User                                 SnooMacarons1548\n",
      "Text          GME🚀🚀🚀\\n\\nIt's a money printing company\n",
      "Intent                                              u\n",
      "Support                                             y\n",
      "word_count                                          6\n",
      "Name: 3386, dtype: object\n",
      "link_id                                                                                       t3_kkwy50\n",
      "parent_id                                                                                     t3_kkwy50\n",
      "User                                                                                   SnooMacarons1548\n",
      "Text          GME super optimistic,  super optimistic,  super optimistic, It's a money printing company\n",
      "Intent                                                                                                u\n",
      "Support                                                                                               y\n",
      "word_count                                                                                            6\n",
      "emoji_text                                                                                        🚀 🚀 🚀\n",
      "Name: 3386, dtype: object\n"
     ]
    }
   ],
   "source": [
    "original_with_index = df.loc[3386]\n",
    "print(original_with_index)\n",
    "\n",
    "clean_with_index = df_clean.loc[3386]\n",
    "print(clean_with_index)"
   ]
  },
  {
   "cell_type": "markdown",
   "id": "a82d8ec9",
   "metadata": {},
   "source": [
    "## 2.2. Conclusion"
   ]
  },
  {
   "cell_type": "code",
   "execution_count": 88,
   "metadata": {},
   "outputs": [],
   "source": [
    "# Recording the cleaned dataset as a new csv file to be used in further steps:\n",
    "# Save the DataFrame to a CSV file\n",
    "df_clean.to_csv('../data/02_labelled_dataset_wo_emoji.csv', index=False)"
   ]
  }
 ],
 "metadata": {
  "kernelspec": {
   "display_name": "Python 3 (ipykernel)",
   "language": "python",
   "name": "python3"
  },
  "language_info": {
   "codemirror_mode": {
    "name": "ipython",
    "version": 3
   },
   "file_extension": ".py",
   "mimetype": "text/x-python",
   "name": "python",
   "nbconvert_exporter": "python",
   "pygments_lexer": "ipython3",
   "version": "3.8.16"
  }
 },
 "nbformat": 4,
 "nbformat_minor": 5
}
