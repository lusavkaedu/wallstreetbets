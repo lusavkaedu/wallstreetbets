{
 "cells": [
  {
   "cell_type": "markdown",
   "metadata": {},
   "source": [
    "# Capstone Project \n",
    "\n",
    "**BrainStation Data Science Bootcamp - Machine Learning Project**\n",
    "\n",
    "**Author: L Gavrilova**\n",
    "\n",
    "**Date: 20 November 2023**"
   ]
  },
  {
   "cell_type": "markdown",
   "metadata": {},
   "source": [
    "# Notebook 2. Negative Labels Upsampling using OpenAI API  "
   ]
  },
  {
   "cell_type": "markdown",
   "metadata": {},
   "source": [
    "### 2.0. Introduction"
   ]
  },
  {
   "cell_type": "markdown",
   "metadata": {},
   "source": [
    "My EDA of the labelled dataset described in the Notebook 1 highlighted a serious shortage of the negatively labelled comments/messages (only 1.6% of the data).  When I tried to run my modelling using such deeply imbalanced dataset I wasn’t getting good results on recall and precision for a minority class. Therefore, **I decided to use open Ai’s GPT models as a substitute for human labelling**.  I used GPT 3.5 as a first labeller, and then I used GPT-4 model as a second \"pair of eyes\", so to say, to label my dataset. The process is detailed in this notebook in the code below, and it can be summarised as follows: \n",
    "\n",
    "1. I used a large dataset of Reddit WallStreetBets posts from 2021 as my source of text/posts.  The dataset is described in detail in my project Notebook 4. In short, it is a large dataset of finance related subreddits posts collected in 2021.  The source of the dataset is here: https://www.kaggle.com/datasets/leukipp/reddit-finance-data.  See my Notebook 4 for a full description.  I will refer to this dataset as \"the Reddit dataset\" throughout my notebooks (to distinguish it from the small “labelled dataset” described in the Notebook 1). \n",
    "\n",
    "2. I loaded the Reddit dataset and filtered out those rows that has empty text fields, too long and too short messages, and concentrated on the period after March 2021, when the bullishness that prevailed in 1Q 2021 has somewhat subsided. I thought that probability of finding negative/bearish messages was higher once we exclude an extremely bullish period of Q1 2021. \n",
    "\n",
    "3. I selected a portion of the large Reddit dataset to send to OpenAI API accompanied with a prompt to rate it as expressing bullish or bearish views on securities. \n",
    "\n",
    "4. I collected GPT 3.5 responses and filtered out all but negatively rated messages.  \n",
    "\n",
    "5. I then fed the negative only messages to GPT 4 model, using the same prompt, and collected its ratings. \n",
    "\n",
    "6. I kept only those messages where both models \"agreed\" that the message was bearish/negative with respect to the securities mentioned in its text. \n",
    "\n",
    "The final result of this process was saved as a CSV file. \n",
    "\n",
    "The table below describes the process in detail:\n",
    "\n",
    "| Description | Rows after this step | % of starting rows kept | % of starting rows deleted at this step |\n",
    "|-------------|----------------------:|-----------------------:|---------------------------------------:|\n",
    "| Data load | 1,260,374 | 100.00% | |\n",
    "| rows where 'link_flair_text' is irrelevant | 1,246,161 | 98.87% | -1.1% |\n",
    "| rows where 'title' starts with 'Daily ' | 1,245,087 | 98.79% | -0.1% |\n",
    "| rows where 'selftext' is '[removed]' | 618,703 | 49.09% | -49.7% |\n",
    "| rows where 'date' is before April 1, 2021 | 256,656 | 20.36% | -28.7% |\n",
    "| rows where token_count is greater than 400 | 241,354 | 19.15% | -1.2% |\n",
    "| rows where token_count is smaller than 20 | 111,183 | 8.82% | -10.3% |\n",
    "| some rows processed with Chat GPT 3.5 API | 3,648 | 0.29% | -8.5% |\n",
    "| only \"Negative\" ratings fed back to GPT 4 | 725 | 0.06% | -0.2% |\n",
    "| rows where both GPT model ratings are 'negative' | 450 | 0.04% | 0.0% |\n",
    "\n",
    "I hoped to process more data using GPT models, however, GPT 3.5 model was very slow when I tried to do it, so I was limited to 450 negative messages after 2 full days of trying to label more data. I think this was a sufficient number of rows to start training my models.  This process can be continued, once the initial results are formulated, in order to improve overall model quality.\n",
    "\n"
   ]
  },
  {
   "cell_type": "markdown",
   "metadata": {},
   "source": [
    "### 2.1. Generating more negative class labels using Chat GPT "
   ]
  },
  {
   "cell_type": "code",
   "execution_count": 3,
   "metadata": {},
   "outputs": [],
   "source": [
    "import os\n",
    "import time\n",
    "\n",
    "import pandas as pd\n",
    "import numpy as np\n",
    "from sklearn.metrics import confusion_matrix\n",
    "\n",
    "import openai\n",
    "\n",
    "import seaborn as sns\n",
    "import matplotlib.pyplot as plt"
   ]
  },
  {
   "cell_type": "code",
   "execution_count": 2,
   "metadata": {},
   "outputs": [],
   "source": [
    "openai.api_key = os.getenv('OPENAI_API_KEY')"
   ]
  },
  {
   "cell_type": "code",
   "execution_count": 3,
   "metadata": {},
   "outputs": [
    {
     "name": "stdout",
     "output_type": "stream",
     "text": [
      "(1260374, 18)\n"
     ]
    }
   ],
   "source": [
    "# Read in data\n",
    "df_all = pd.read_csv('../data/reddit_cleaned_slim.csv')\n",
    "print(df_all.shape)\n",
    "# df = df.head(9)\n",
    "#print(df.shape)"
   ]
  },
  {
   "cell_type": "markdown",
   "metadata": {},
   "source": [
    "### 2.2. Eliminating rows and columns that are not relevant to investing and stock trading"
   ]
  },
  {
   "cell_type": "code",
   "execution_count": 4,
   "metadata": {},
   "outputs": [
    {
     "name": "stdout",
     "output_type": "stream",
     "text": [
      "FolderName\n",
      "wallstreetbets          719899\n",
      "gme                     268376\n",
      "stocks                   68524\n",
      "pennystocks              50712\n",
      "stockmarket              41388\n",
      "investing                38162\n",
      "options                  27965\n",
      "robinhoodpennystocks     21235\n",
      "robinhood                17564\n",
      "finance                   6549\n",
      "Name: count, dtype: int64\n"
     ]
    }
   ],
   "source": [
    "# Getting frequency counts for 'FolderName'\n",
    "folder_name_counts = df_all['FolderName'].value_counts()\n",
    "\n",
    "# Displaying the frequency counts\n",
    "print(folder_name_counts)"
   ]
  },
  {
   "cell_type": "code",
   "execution_count": 5,
   "metadata": {},
   "outputs": [
    {
     "name": "stdout",
     "output_type": "stream",
     "text": [
      "(1246161, 18)\n"
     ]
    }
   ],
   "source": [
    "# Filter out rows where 'link_flair_text' is irrelevant\n",
    "\n",
    "# List of irrelevant flair texts\n",
    "irrelevant_flairs = ['Credit', 'Taxes', 'Other', 'Housing', 'Retirement', 'Planning', 'Saving', 'Debt', 'Auto', 'Employment', 'Insurance', \"Budgeting\", \"Advice\", 'Advice Request']\n",
    "\n",
    "# Filter out rows where 'link_flair_text' is in the list of irrelevant flairs\n",
    "df_all = df_all[~df_all['link_flair_text'].isin(irrelevant_flairs)].copy()\n",
    "print(df_all.shape)"
   ]
  },
  {
   "cell_type": "code",
   "execution_count": 6,
   "metadata": {},
   "outputs": [
    {
     "name": "stdout",
     "output_type": "stream",
     "text": [
      "(1245087, 18)\n"
     ]
    }
   ],
   "source": [
    "# Convert 'title' column to string\n",
    "df_all['title'] = df_all['title'].astype(str)\n",
    "\n",
    "# Filter out rows where 'title' starts with 'Daily '\n",
    "df_all = df_all[~df_all['title'].str.startswith('Daily ')].copy()\n",
    "print(df_all.shape)"
   ]
  },
  {
   "cell_type": "markdown",
   "metadata": {},
   "source": [
    "#### 2.2.1. Optional filters (untoggle as needed)"
   ]
  },
  {
   "cell_type": "code",
   "execution_count": 7,
   "metadata": {},
   "outputs": [
    {
     "name": "stdout",
     "output_type": "stream",
     "text": [
      "(618703, 18)\n"
     ]
    }
   ],
   "source": [
    "# Filter out rows where 'selftext' is '[removed]'\n",
    "#df_all = df_all[df_all['selftext'] != '[removed]'].copy()\n",
    "#df_all = df_all[df_all['selftext'] != '[deleted]'].copy()\n",
    "print(df_all.shape)"
   ]
  },
  {
   "cell_type": "code",
   "execution_count": 8,
   "metadata": {},
   "outputs": [],
   "source": [
    "# Convert 'date' column to datetime\n",
    "df_all['date'] = pd.to_datetime(df_all['date'])"
   ]
  },
  {
   "cell_type": "code",
   "execution_count": 9,
   "metadata": {},
   "outputs": [
    {
     "name": "stdout",
     "output_type": "stream",
     "text": [
      "(256656, 18)\n"
     ]
    }
   ],
   "source": [
    "# Filter rows where 'date' is before April 1, 2021\n",
    "df_all = df_all[df_all['date'] > '2021-04-01'].copy()\n",
    "print(df_all.shape)"
   ]
  },
  {
   "cell_type": "code",
   "execution_count": 16,
   "metadata": {},
   "outputs": [],
   "source": [
    "# Select rows containing \"GME\", \"Gamestop\", or \"$GME\" in the 'Text' column\n",
    "df = df[df['Text'].str.contains(r'GME|Gamestop|\\$GME', case=False, regex=True)].copy()"
   ]
  },
  {
   "cell_type": "markdown",
   "metadata": {},
   "source": [
    "### 2.3. Only keeping the text fields in a smaller dataframe df"
   ]
  },
  {
   "cell_type": "code",
   "execution_count": 10,
   "metadata": {},
   "outputs": [],
   "source": [
    "# Selecting only the 'id', 'title', and 'selftext' columns\n",
    "df = df_all[['id', 'title', 'selftext']].copy()"
   ]
  },
  {
   "cell_type": "code",
   "execution_count": 17,
   "metadata": {},
   "outputs": [
    {
     "name": "stdout",
     "output_type": "stream",
     "text": [
      "<class 'pandas.core.frame.DataFrame'>\n",
      "Index: 28730 entries, 46 to 1048971\n",
      "Data columns (total 5 columns):\n",
      " #   Column       Non-Null Count  Dtype \n",
      "---  ------       --------------  ----- \n",
      " 0   id           28730 non-null  object\n",
      " 1   title        28730 non-null  object\n",
      " 2   selftext     13489 non-null  object\n",
      " 3   Text         28730 non-null  object\n",
      " 4   token_count  28730 non-null  int64 \n",
      "dtypes: int64(1), object(4)\n",
      "memory usage: 1.3+ MB\n"
     ]
    }
   ],
   "source": [
    "df.info()"
   ]
  },
  {
   "cell_type": "code",
   "execution_count": 30,
   "metadata": {},
   "outputs": [
    {
     "data": {
      "text/html": [
       "<div>\n",
       "<style scoped>\n",
       "    .dataframe tbody tr th:only-of-type {\n",
       "        vertical-align: middle;\n",
       "    }\n",
       "\n",
       "    .dataframe tbody tr th {\n",
       "        vertical-align: top;\n",
       "    }\n",
       "\n",
       "    .dataframe thead th {\n",
       "        text-align: right;\n",
       "    }\n",
       "</style>\n",
       "<table border=\"1\" class=\"dataframe\">\n",
       "  <thead>\n",
       "    <tr style=\"text-align: right;\">\n",
       "      <th></th>\n",
       "      <th>id</th>\n",
       "      <th>title</th>\n",
       "      <th>selftext</th>\n",
       "    </tr>\n",
       "  </thead>\n",
       "  <tbody>\n",
       "    <tr>\n",
       "      <th>473088</th>\n",
       "      <td>rcykn5</td>\n",
       "      <td>Why invest in Liberty Oilfield Services?</td>\n",
       "      <td>[removed]</td>\n",
       "    </tr>\n",
       "    <tr>\n",
       "      <th>401438</th>\n",
       "      <td>qfmagt</td>\n",
       "      <td>Blackberry shares thoughts?</td>\n",
       "      <td>[removed]</td>\n",
       "    </tr>\n",
       "    <tr>\n",
       "      <th>792572</th>\n",
       "      <td>nuhd4n</td>\n",
       "      <td>To the moon!!</td>\n",
       "      <td>NaN</td>\n",
       "    </tr>\n",
       "    <tr>\n",
       "      <th>197229</th>\n",
       "      <td>mx0jcm</td>\n",
       "      <td>It’s going to happen</td>\n",
       "      <td>NaN</td>\n",
       "    </tr>\n",
       "    <tr>\n",
       "      <th>990785</th>\n",
       "      <td>mkbmic</td>\n",
       "      <td>Easter &amp; Egg Hunting with the Fam was fun.. Ok...</td>\n",
       "      <td>NaN</td>\n",
       "    </tr>\n",
       "  </tbody>\n",
       "</table>\n",
       "</div>"
      ],
      "text/plain": [
       "            id                                              title   selftext\n",
       "473088  rcykn5           Why invest in Liberty Oilfield Services?  [removed]\n",
       "401438  qfmagt                        Blackberry shares thoughts?  [removed]\n",
       "792572  nuhd4n                                      To the moon!!        NaN\n",
       "197229  mx0jcm                               It’s going to happen        NaN\n",
       "990785  mkbmic  Easter & Egg Hunting with the Fam was fun.. Ok...        NaN"
      ]
     },
     "execution_count": 30,
     "metadata": {},
     "output_type": "execute_result"
    }
   ],
   "source": [
    "df.sample(5)"
   ]
  },
  {
   "cell_type": "code",
   "execution_count": 13,
   "metadata": {},
   "outputs": [
    {
     "name": "stdout",
     "output_type": "stream",
     "text": [
      "         id                                               Text\n",
      "46   msblc3  GME YOLO update — Apr 16 2021 — final update, nan\n",
      "69   pu7l07  What Are Your Moves Tomorrow, September 24, 20...\n",
      "87   mqp6lv  COIN IPO Megathread 4/14/2021, This is a megat...\n",
      "155  pk8tne  For anyone who doesn’t understand why Hedgefon...\n",
      "158  nuxr2t  r/GME Megathread for Tuesday - June 08, 2021, ...\n"
     ]
    }
   ],
   "source": [
    "# Concatenating 'title' and 'selftext' with a comma separator\n",
    "df['Text'] = df.apply(lambda row: f\"{row['title']}, {row['selftext']}\", axis=1)\n",
    "\n",
    "# Displaying the first few rows of the new concatenated column\n",
    "print(df[['id', 'Text']].head())"
   ]
  },
  {
   "cell_type": "markdown",
   "metadata": {},
   "source": [
    "### 2.4. Eliminating lengthy messages (too expensive for chat GPT processing)"
   ]
  },
  {
   "cell_type": "code",
   "execution_count": 22,
   "metadata": {},
   "outputs": [
    {
     "ename": "NameError",
     "evalue": "name 'df' is not defined",
     "output_type": "error",
     "traceback": [
      "\u001b[0;31m---------------------------------------------------------------------------\u001b[0m",
      "\u001b[0;31mNameError\u001b[0m                                 Traceback (most recent call last)",
      "\u001b[1;32m/Users/lgfolder/github/capstone-project-lusavkaedu/notebooks/02_Labelled_openAI_negative_upsampling.ipynb Cell 24\u001b[0m line \u001b[0;36m1\n\u001b[1;32m      <a href='vscode-notebook-cell:/Users/lgfolder/github/capstone-project-lusavkaedu/notebooks/02_Labelled_openAI_negative_upsampling.ipynb#X30sZmlsZQ%3D%3D?line=7'>8</a>\u001b[0m     \u001b[39mreturn\u001b[39;00m \u001b[39mlen\u001b[39m(tokenizer\u001b[39m.\u001b[39mencode(text))\n\u001b[1;32m     <a href='vscode-notebook-cell:/Users/lgfolder/github/capstone-project-lusavkaedu/notebooks/02_Labelled_openAI_negative_upsampling.ipynb#X30sZmlsZQ%3D%3D?line=9'>10</a>\u001b[0m \u001b[39m# Applying the function to your dataframe\u001b[39;00m\n\u001b[0;32m---> <a href='vscode-notebook-cell:/Users/lgfolder/github/capstone-project-lusavkaedu/notebooks/02_Labelled_openAI_negative_upsampling.ipynb#X30sZmlsZQ%3D%3D?line=10'>11</a>\u001b[0m df[\u001b[39m'\u001b[39m\u001b[39mtoken_count\u001b[39m\u001b[39m'\u001b[39m] \u001b[39m=\u001b[39m df[\u001b[39m'\u001b[39m\u001b[39mText\u001b[39m\u001b[39m'\u001b[39m]\u001b[39m.\u001b[39mapply(estimate_tokens)\n",
      "\u001b[0;31mNameError\u001b[0m: name 'df' is not defined"
     ]
    }
   ],
   "source": [
    "from transformers import GPT2Tokenizer\n",
    "\n",
    "# Initialize the tokenizer\n",
    "tokenizer = GPT2Tokenizer.from_pretrained('gpt2')\n",
    "\n",
    "# Function to estimate tokens\n",
    "def estimate_tokens(text):\n",
    "    return len(tokenizer.encode(text))\n",
    "\n",
    "# Applying the function to your dataframe\n",
    "df['token_count'] = df['Text'].apply(estimate_tokens)"
   ]
  },
  {
   "cell_type": "code",
   "execution_count": 15,
   "metadata": {},
   "outputs": [
    {
     "data": {
      "text/html": [
       "<div>\n",
       "<style scoped>\n",
       "    .dataframe tbody tr th:only-of-type {\n",
       "        vertical-align: middle;\n",
       "    }\n",
       "\n",
       "    .dataframe tbody tr th {\n",
       "        vertical-align: top;\n",
       "    }\n",
       "\n",
       "    .dataframe thead th {\n",
       "        text-align: right;\n",
       "    }\n",
       "</style>\n",
       "<table border=\"1\" class=\"dataframe\">\n",
       "  <thead>\n",
       "    <tr style=\"text-align: right;\">\n",
       "      <th></th>\n",
       "      <th>id</th>\n",
       "      <th>title</th>\n",
       "      <th>selftext</th>\n",
       "      <th>Text</th>\n",
       "      <th>token_count</th>\n",
       "    </tr>\n",
       "  </thead>\n",
       "  <tbody>\n",
       "    <tr>\n",
       "      <th>968630</th>\n",
       "      <td>qipv5n</td>\n",
       "      <td>Posts about posts fud</td>\n",
       "      <td>You've seen it many times if you've been here ...</td>\n",
       "      <td>Posts about posts fud, You've seen it many tim...</td>\n",
       "      <td>1257</td>\n",
       "    </tr>\n",
       "    <tr>\n",
       "      <th>29775</th>\n",
       "      <td>nzsghf</td>\n",
       "      <td>AMD - constantly outperforming, constantly und...</td>\n",
       "      <td>\\n**Basics**\\n\\nAs long as you haven't been li...</td>\n",
       "      <td>AMD - constantly outperforming, constantly und...</td>\n",
       "      <td>869</td>\n",
       "    </tr>\n",
       "    <tr>\n",
       "      <th>19587</th>\n",
       "      <td>oeas8a</td>\n",
       "      <td>Intel (INTC) stock prospects: are you bullish ...</td>\n",
       "      <td>I bought INTC when I first started investing a...</td>\n",
       "      <td>Intel (INTC) stock prospects: are you bullish ...</td>\n",
       "      <td>260</td>\n",
       "    </tr>\n",
       "    <tr>\n",
       "      <th>9015</th>\n",
       "      <td>o6j2an</td>\n",
       "      <td>Ken Griffin has become the scapegoat for the f...</td>\n",
       "      <td>Wrinkle brains and reddit detectives, I need y...</td>\n",
       "      <td>Ken Griffin has become the scapegoat for the f...</td>\n",
       "      <td>712</td>\n",
       "    </tr>\n",
       "    <tr>\n",
       "      <th>12474</th>\n",
       "      <td>pres5t</td>\n",
       "      <td>Evergrande FUD, What the China property market...</td>\n",
       "      <td>From [r/baba](www.reddit.com/r/baba):\\n\\nThere...</td>\n",
       "      <td>Evergrande FUD, What the China property market...</td>\n",
       "      <td>657</td>\n",
       "    </tr>\n",
       "  </tbody>\n",
       "</table>\n",
       "</div>"
      ],
      "text/plain": [
       "            id                                              title  \\\n",
       "968630  qipv5n                              Posts about posts fud   \n",
       "29775   nzsghf  AMD - constantly outperforming, constantly und...   \n",
       "19587   oeas8a  Intel (INTC) stock prospects: are you bullish ...   \n",
       "9015    o6j2an  Ken Griffin has become the scapegoat for the f...   \n",
       "12474   pres5t  Evergrande FUD, What the China property market...   \n",
       "\n",
       "                                                 selftext  \\\n",
       "968630  You've seen it many times if you've been here ...   \n",
       "29775   \\n**Basics**\\n\\nAs long as you haven't been li...   \n",
       "19587   I bought INTC when I first started investing a...   \n",
       "9015    Wrinkle brains and reddit detectives, I need y...   \n",
       "12474   From [r/baba](www.reddit.com/r/baba):\\n\\nThere...   \n",
       "\n",
       "                                                     Text  token_count  \n",
       "968630  Posts about posts fud, You've seen it many tim...         1257  \n",
       "29775   AMD - constantly outperforming, constantly und...          869  \n",
       "19587   Intel (INTC) stock prospects: are you bullish ...          260  \n",
       "9015    Ken Griffin has become the scapegoat for the f...          712  \n",
       "12474   Evergrande FUD, What the China property market...          657  "
      ]
     },
     "execution_count": 15,
     "metadata": {},
     "output_type": "execute_result"
    }
   ],
   "source": [
    "long_rows = df[df['token_count'] > 400]\n",
    "long_rows.sample(5)"
   ]
  },
  {
   "cell_type": "code",
   "execution_count": 28,
   "metadata": {},
   "outputs": [
    {
     "data": {
      "text/html": [
       "<div>\n",
       "<style scoped>\n",
       "    .dataframe tbody tr th:only-of-type {\n",
       "        vertical-align: middle;\n",
       "    }\n",
       "\n",
       "    .dataframe tbody tr th {\n",
       "        vertical-align: top;\n",
       "    }\n",
       "\n",
       "    .dataframe thead th {\n",
       "        text-align: right;\n",
       "    }\n",
       "</style>\n",
       "<table border=\"1\" class=\"dataframe\">\n",
       "  <thead>\n",
       "    <tr style=\"text-align: right;\">\n",
       "      <th></th>\n",
       "      <th>id</th>\n",
       "      <th>title</th>\n",
       "      <th>selftext</th>\n",
       "      <th>Text</th>\n",
       "      <th>token_count</th>\n",
       "    </tr>\n",
       "  </thead>\n",
       "  <tbody>\n",
       "    <tr>\n",
       "      <th>18918</th>\n",
       "      <td>o5xlff</td>\n",
       "      <td>HODL GME my new plates waiting for the Lambo now.</td>\n",
       "      <td>NaN</td>\n",
       "      <td>HODL GME my new plates waiting for the Lambo n...</td>\n",
       "      <td>16</td>\n",
       "    </tr>\n",
       "    <tr>\n",
       "      <th>18204</th>\n",
       "      <td>ner6w3</td>\n",
       "      <td>GME 101 w/ Marantz Rantz</td>\n",
       "      <td>NaN</td>\n",
       "      <td>GME 101 w/ Marantz Rantz, nan</td>\n",
       "      <td>11</td>\n",
       "    </tr>\n",
       "    <tr>\n",
       "      <th>20760</th>\n",
       "      <td>qsedhb</td>\n",
       "      <td>Told parents to buy GME multiple times before…</td>\n",
       "      <td>NaN</td>\n",
       "      <td>Told parents to buy GME multiple times before…...</td>\n",
       "      <td>13</td>\n",
       "    </tr>\n",
       "    <tr>\n",
       "      <th>20645</th>\n",
       "      <td>qiuoj9</td>\n",
       "      <td>Perhaps Dr. Burry works for GameStop’s Twitter...</td>\n",
       "      <td>NaN</td>\n",
       "      <td>Perhaps Dr. Burry works for GameStop’s Twitter...</td>\n",
       "      <td>17</td>\n",
       "    </tr>\n",
       "    <tr>\n",
       "      <th>12550</th>\n",
       "      <td>r06rwd</td>\n",
       "      <td>GameStop will print, test 260 get ready!</td>\n",
       "      <td>NaN</td>\n",
       "      <td>GameStop will print, test 260 get ready!, nan</td>\n",
       "      <td>11</td>\n",
       "    </tr>\n",
       "  </tbody>\n",
       "</table>\n",
       "</div>"
      ],
      "text/plain": [
       "           id                                              title selftext  \\\n",
       "18918  o5xlff  HODL GME my new plates waiting for the Lambo now.      NaN   \n",
       "18204  ner6w3                           GME 101 w/ Marantz Rantz      NaN   \n",
       "20760  qsedhb     Told parents to buy GME multiple times before…      NaN   \n",
       "20645  qiuoj9  Perhaps Dr. Burry works for GameStop’s Twitter...      NaN   \n",
       "12550  r06rwd           GameStop will print, test 260 get ready!      NaN   \n",
       "\n",
       "                                                    Text  token_count  \n",
       "18918  HODL GME my new plates waiting for the Lambo n...           16  \n",
       "18204                      GME 101 w/ Marantz Rantz, nan           11  \n",
       "20760  Told parents to buy GME multiple times before…...           13  \n",
       "20645  Perhaps Dr. Burry works for GameStop’s Twitter...           17  \n",
       "12550      GameStop will print, test 260 get ready!, nan           11  "
      ]
     },
     "execution_count": 28,
     "metadata": {},
     "output_type": "execute_result"
    }
   ],
   "source": [
    "short_rows = df[df['token_count'] < 20]\n",
    "short_rows.sample(5)"
   ]
  },
  {
   "cell_type": "code",
   "execution_count": 18,
   "metadata": {},
   "outputs": [
    {
     "name": "stdout",
     "output_type": "stream",
     "text": [
      "(21410, 5)\n"
     ]
    }
   ],
   "source": [
    "# Dropping rows where token_count is greater than 400\n",
    "df = df[df['token_count'] <= 400].reset_index(drop=True)\n",
    "print(df.shape)"
   ]
  },
  {
   "cell_type": "code",
   "execution_count": 22,
   "metadata": {},
   "outputs": [
    {
     "name": "stdout",
     "output_type": "stream",
     "text": [
      "(21271, 5)\n"
     ]
    }
   ],
   "source": [
    "# Dropping rows where token_count is smaller than 20\n",
    "df = df[df['token_count'] > 20].reset_index(drop=True)\n",
    "print(df.shape)"
   ]
  },
  {
   "cell_type": "code",
   "execution_count": 23,
   "metadata": {},
   "outputs": [
    {
     "name": "stdout",
     "output_type": "stream",
     "text": [
      "1047792\n"
     ]
    }
   ],
   "source": [
    "token_total = df['token_count'].agg(\"sum\")\n",
    "print(token_total)"
   ]
  },
  {
   "cell_type": "code",
   "execution_count": 24,
   "metadata": {},
   "outputs": [
    {
     "name": "stdout",
     "output_type": "stream",
     "text": [
      "30.0\n"
     ]
    }
   ],
   "source": [
    "token_average = df['token_count'].agg(\"median\")\n",
    "print(token_average)"
   ]
  },
  {
   "cell_type": "code",
   "execution_count": 25,
   "metadata": {},
   "outputs": [
    {
     "name": "stdout",
     "output_type": "stream",
     "text": [
      "<class 'pandas.core.frame.DataFrame'>\n",
      "RangeIndex: 21271 entries, 0 to 21270\n",
      "Data columns (total 5 columns):\n",
      " #   Column       Non-Null Count  Dtype \n",
      "---  ------       --------------  ----- \n",
      " 0   id           21271 non-null  object\n",
      " 1   title        21271 non-null  object\n",
      " 2   selftext     6173 non-null   object\n",
      " 3   Text         21271 non-null  object\n",
      " 4   token_count  21271 non-null  int64 \n",
      "dtypes: int64(1), object(4)\n",
      "memory usage: 831.0+ KB\n"
     ]
    }
   ],
   "source": [
    "df.info()"
   ]
  },
  {
   "cell_type": "code",
   "execution_count": 57,
   "metadata": {},
   "outputs": [],
   "source": [
    "# df.drop(df.index[0:180], inplace=True)"
   ]
  },
  {
   "cell_type": "code",
   "execution_count": 55,
   "metadata": {},
   "outputs": [
    {
     "data": {
      "text/plain": [
       "(15762, 5)"
      ]
     },
     "execution_count": 55,
     "metadata": {},
     "output_type": "execute_result"
    }
   ],
   "source": [
    "df.shape"
   ]
  },
  {
   "cell_type": "markdown",
   "metadata": {},
   "source": [
    "### 2.5. Messages fed to GPT 3.5 model"
   ]
  },
  {
   "cell_type": "markdown",
   "metadata": {},
   "source": [
    "The code below was written with the help of Chat GPT, as I wasn’t able to navigate all the complexities of the OpenAi API on my own.  In particular, I struggled with the throttling of API requests, and I could not figure out how to slow down the requests (number of API requests per minute), so Chat GPT was used to add the throttling function and the batch processing function.  \n",
    "\n",
    "The code was designed to analyse sentiment in Reddit messages selected above. \n",
    "\n",
    "1) The ask_gpt function sends text to the GPT-3.5 model and returns its response, handling exceptions if they occur. \n",
    "2) The throttled_request function includes a delay between requests. \n",
    "3) The main function, process_batch, processes data in small batches (only several rows at a time, in case the system becomes non-responsive). The function sends a prompt to GPT model and the response is a sentiment tag 'Positive', 'Negative', or 'Unclear'.  \n",
    "4) The results are then saved to a CSV file in batches, with the ability to append results. \n",
    "\n"
   ]
  },
  {
   "cell_type": "code",
   "execution_count": 56,
   "metadata": {},
   "outputs": [
    {
     "name": "stdout",
     "output_type": "stream",
     "text": [
      "Processed batch 1 of 5254\n",
      "Processed batch 2 of 5254\n",
      "An error occurred: Request timed out: HTTPSConnectionPool(host='api.openai.com', port=443): Read timed out. (read timeout=600)\n",
      "Processed batch 3 of 5254\n",
      "Processed batch 4 of 5254\n",
      "Processed batch 5 of 5254\n",
      "Processed batch 6 of 5254\n",
      "Processed batch 7 of 5254\n",
      "Processed batch 8 of 5254\n",
      "Processed batch 9 of 5254\n",
      "Processed batch 10 of 5254\n",
      "Processed batch 11 of 5254\n",
      "Processed batch 12 of 5254\n",
      "An error occurred: Request timed out: HTTPSConnectionPool(host='api.openai.com', port=443): Read timed out. (read timeout=600)\n",
      "Processed batch 13 of 5254\n",
      "Processed batch 14 of 5254\n",
      "An error occurred: Request timed out: HTTPSConnectionPool(host='api.openai.com', port=443): Read timed out. (read timeout=600)\n",
      "Processed batch 15 of 5254\n",
      "Processed batch 16 of 5254\n",
      "Processed batch 17 of 5254\n",
      "Processed batch 18 of 5254\n",
      "Processed batch 19 of 5254\n",
      "An error occurred: Bad gateway. {\"error\":{\"code\":502,\"message\":\"Bad gateway.\",\"param\":null,\"type\":\"cf_bad_gateway\"}} 502 {'error': {'code': 502, 'message': 'Bad gateway.', 'param': None, 'type': 'cf_bad_gateway'}} {'Date': 'Mon, 20 Nov 2023 11:08:18 GMT', 'Content-Type': 'application/json', 'Content-Length': '84', 'Connection': 'keep-alive', 'X-Frame-Options': 'SAMEORIGIN', 'Referrer-Policy': 'same-origin', 'Cache-Control': 'private, max-age=0, no-store, no-cache, must-revalidate, post-check=0, pre-check=0', 'Expires': 'Thu, 01 Jan 1970 00:00:01 GMT', 'Server': 'cloudflare', 'CF-RAY': '82902d511e606551-LHR', 'alt-svc': 'h3=\":443\"; ma=86400'}\n",
      "Processed batch 20 of 5254\n",
      "Processed batch 21 of 5254\n",
      "Processed batch 22 of 5254\n",
      "Processed batch 23 of 5254\n",
      "An error occurred: Request timed out: HTTPSConnectionPool(host='api.openai.com', port=443): Read timed out. (read timeout=600)\n",
      "Processed batch 24 of 5254\n",
      "Processed batch 25 of 5254\n",
      "Processed batch 26 of 5254\n",
      "Processed batch 27 of 5254\n",
      "Processed batch 28 of 5254\n",
      "Processed batch 29 of 5254\n",
      "Processed batch 30 of 5254\n",
      "Processed batch 31 of 5254\n",
      "Processed batch 32 of 5254\n",
      "Processed batch 33 of 5254\n",
      "An error occurred: The server is overloaded or not ready yet.\n",
      "Processed batch 34 of 5254\n",
      "Processed batch 35 of 5254\n",
      "Processed batch 36 of 5254\n",
      "Processed batch 37 of 5254\n",
      "Processed batch 38 of 5254\n",
      "Processed batch 39 of 5254\n",
      "Processed batch 40 of 5254\n",
      "Processed batch 41 of 5254\n",
      "An error occurred: Request timed out: HTTPSConnectionPool(host='api.openai.com', port=443): Read timed out. (read timeout=600)\n",
      "Processed batch 42 of 5254\n",
      "Processed batch 43 of 5254\n",
      "Processed batch 44 of 5254\n",
      "Processed batch 45 of 5254\n",
      "Processed batch 46 of 5254\n",
      "Processed batch 47 of 5254\n",
      "Processed batch 48 of 5254\n",
      "An error occurred: Request timed out: HTTPSConnectionPool(host='api.openai.com', port=443): Read timed out. (read timeout=600)\n",
      "Processed batch 49 of 5254\n",
      "Processed batch 50 of 5254\n",
      "An error occurred: Request timed out: HTTPSConnectionPool(host='api.openai.com', port=443): Read timed out. (read timeout=600)\n",
      "Processed batch 51 of 5254\n",
      "Processed batch 52 of 5254\n",
      "An error occurred: Request timed out: HTTPSConnectionPool(host='api.openai.com', port=443): Read timed out. (read timeout=600)\n",
      "Processed batch 53 of 5254\n",
      "Processed batch 54 of 5254\n",
      "Processed batch 55 of 5254\n",
      "Processed batch 56 of 5254\n",
      "An error occurred: Request timed out: HTTPSConnectionPool(host='api.openai.com', port=443): Read timed out. (read timeout=600)\n",
      "Processed batch 57 of 5254\n",
      "An error occurred: Request timed out: HTTPSConnectionPool(host='api.openai.com', port=443): Read timed out. (read timeout=600)\n",
      "An error occurred: Bad gateway. {\"error\":{\"code\":502,\"message\":\"Bad gateway.\",\"param\":null,\"type\":\"cf_bad_gateway\"}} 502 {'error': {'code': 502, 'message': 'Bad gateway.', 'param': None, 'type': 'cf_bad_gateway'}} {'Date': 'Mon, 20 Nov 2023 14:05:14 GMT', 'Content-Type': 'application/json', 'Content-Length': '84', 'Connection': 'keep-alive', 'X-Frame-Options': 'SAMEORIGIN', 'Referrer-Policy': 'same-origin', 'Cache-Control': 'private, max-age=0, no-store, no-cache, must-revalidate, post-check=0, pre-check=0', 'Expires': 'Thu, 01 Jan 1970 00:00:01 GMT', 'Server': 'cloudflare', 'CF-RAY': '8291307d998523d4-LHR', 'alt-svc': 'h3=\":443\"; ma=86400'}\n",
      "Processed batch 58 of 5254\n",
      "An error occurred: The server is overloaded or not ready yet.\n",
      "An error occurred: Bad gateway. {\"error\":{\"code\":502,\"message\":\"Bad gateway.\",\"param\":null,\"type\":\"cf_bad_gateway\"}} 502 {'error': {'code': 502, 'message': 'Bad gateway.', 'param': None, 'type': 'cf_bad_gateway'}} {'Date': 'Mon, 20 Nov 2023 14:22:25 GMT', 'Content-Type': 'application/json', 'Content-Length': '84', 'Connection': 'keep-alive', 'X-Frame-Options': 'SAMEORIGIN', 'Referrer-Policy': 'same-origin', 'Cache-Control': 'private, max-age=0, no-store, no-cache, must-revalidate, post-check=0, pre-check=0', 'Expires': 'Thu, 01 Jan 1970 00:00:01 GMT', 'Server': 'cloudflare', 'CF-RAY': '829149a78f32dd2f-LHR', 'alt-svc': 'h3=\":443\"; ma=86400'}\n",
      "Processed batch 59 of 5254\n",
      "Processed batch 60 of 5254\n"
     ]
    },
    {
     "ename": "KeyboardInterrupt",
     "evalue": "",
     "output_type": "error",
     "traceback": [
      "\u001b[0;31m---------------------------------------------------------------------------\u001b[0m",
      "\u001b[0;31mKeyboardInterrupt\u001b[0m                         Traceback (most recent call last)",
      "\u001b[1;32m/Users/lgfolder/github/capstone-project-lusavkaedu/notebooks/02_ChatGPT_negative_upsampling.ipynb Cell 31\u001b[0m line \u001b[0;36m5\n\u001b[1;32m     <a href='vscode-notebook-cell:/Users/lgfolder/github/capstone-project-lusavkaedu/notebooks/02_ChatGPT_negative_upsampling.ipynb#X42sZmlsZQ%3D%3D?line=48'>49</a>\u001b[0m csv_file \u001b[39m=\u001b[39m \u001b[39m'\u001b[39m\u001b[39m../data/wsb_sentiment_results_new2.csv\u001b[39m\u001b[39m'\u001b[39m\n\u001b[1;32m     <a href='vscode-notebook-cell:/Users/lgfolder/github/capstone-project-lusavkaedu/notebooks/02_ChatGPT_negative_upsampling.ipynb#X42sZmlsZQ%3D%3D?line=50'>51</a>\u001b[0m \u001b[39m# Process the DataFrame in batches\u001b[39;00m\n\u001b[0;32m---> <a href='vscode-notebook-cell:/Users/lgfolder/github/capstone-project-lusavkaedu/notebooks/02_ChatGPT_negative_upsampling.ipynb#X42sZmlsZQ%3D%3D?line=51'>52</a>\u001b[0m process_batch(df, batch_size, csv_file)\n\u001b[1;32m     <a href='vscode-notebook-cell:/Users/lgfolder/github/capstone-project-lusavkaedu/notebooks/02_ChatGPT_negative_upsampling.ipynb#X42sZmlsZQ%3D%3D?line=53'>54</a>\u001b[0m \u001b[39mprint\u001b[39m(\u001b[39m\"\u001b[39m\u001b[39mProcessing complete.\u001b[39m\u001b[39m\"\u001b[39m)\n",
      "\u001b[1;32m/Users/lgfolder/github/capstone-project-lusavkaedu/notebooks/02_ChatGPT_negative_upsampling.ipynb Cell 31\u001b[0m line \u001b[0;36m2\n\u001b[1;32m     <a href='vscode-notebook-cell:/Users/lgfolder/github/capstone-project-lusavkaedu/notebooks/02_ChatGPT_negative_upsampling.ipynb#X42sZmlsZQ%3D%3D?line=26'>27</a>\u001b[0m         end \u001b[39m=\u001b[39m \u001b[39mmin\u001b[39m(start \u001b[39m+\u001b[39m batch_size, \u001b[39mlen\u001b[39m(df))\n\u001b[1;32m     <a href='vscode-notebook-cell:/Users/lgfolder/github/capstone-project-lusavkaedu/notebooks/02_ChatGPT_negative_upsampling.ipynb#X42sZmlsZQ%3D%3D?line=27'>28</a>\u001b[0m         batch \u001b[39m=\u001b[39m df\u001b[39m.\u001b[39miloc[start:end]\u001b[39m.\u001b[39mcopy()  \u001b[39m# Use .copy() to avoid SettingWithCopyWarning\u001b[39;00m\n\u001b[0;32m---> <a href='vscode-notebook-cell:/Users/lgfolder/github/capstone-project-lusavkaedu/notebooks/02_ChatGPT_negative_upsampling.ipynb#X42sZmlsZQ%3D%3D?line=28'>29</a>\u001b[0m         batch[\u001b[39m'\u001b[39m\u001b[39mSentiment_Tag\u001b[39m\u001b[39m'\u001b[39m] \u001b[39m=\u001b[39m batch[\u001b[39m'\u001b[39;49m\u001b[39mText\u001b[39;49m\u001b[39m'\u001b[39;49m]\u001b[39m.\u001b[39;49mapply(\u001b[39mlambda\u001b[39;49;00m text: throttled_request(\u001b[39mf\u001b[39;49m\u001b[39m\"\"\"\u001b[39;49m\u001b[39mYou will be presented with a Reddit message and your job is to provide in return a sentiment tag: choose either the “Positive” OR “Negative” OR “Unclear” tag but NOT several). \u001b[39;49m\n\u001b[1;32m     <a href='vscode-notebook-cell:/Users/lgfolder/github/capstone-project-lusavkaedu/notebooks/02_ChatGPT_negative_upsampling.ipynb#X42sZmlsZQ%3D%3D?line=29'>30</a>\u001b[0m \u001b[39mAssess the sentiment of a Reddit message concerning shares, identified by company names or stock tickers. \u001b[39;49m\n\u001b[1;32m     <a href='vscode-notebook-cell:/Users/lgfolder/github/capstone-project-lusavkaedu/notebooks/02_ChatGPT_negative_upsampling.ipynb#X42sZmlsZQ%3D%3D?line=30'>31</a>\u001b[0m \u001b[39mFocus exclusively on sentiments about the shares\u001b[39;49m\u001b[39m'\u001b[39;49m\u001b[39m performance, not the overall business performance. Evaluate the entire post. \u001b[39;49m\n\u001b[1;32m     <a href='vscode-notebook-cell:/Users/lgfolder/github/capstone-project-lusavkaedu/notebooks/02_ChatGPT_negative_upsampling.ipynb#X42sZmlsZQ%3D%3D?line=31'>32</a>\u001b[0m \u001b[39mClassify the sentiment as \u001b[39;49m\u001b[39m'\u001b[39;49m\u001b[39mPositive\u001b[39;49m\u001b[39m'\u001b[39;49m\u001b[39m for actions like buying calls, holding call options, or selling put options; \u001b[39;49m\n\u001b[1;32m     <a href='vscode-notebook-cell:/Users/lgfolder/github/capstone-project-lusavkaedu/notebooks/02_ChatGPT_negative_upsampling.ipynb#X42sZmlsZQ%3D%3D?line=32'>33</a>\u001b[0m \u001b[39m'\u001b[39;49m\u001b[39mNegative\u001b[39;49m\u001b[39m'\u001b[39;49m\u001b[39m for buying puts, holding put options, or selling call options; \u001b[39;49m\n\u001b[1;32m     <a href='vscode-notebook-cell:/Users/lgfolder/github/capstone-project-lusavkaedu/notebooks/02_ChatGPT_negative_upsampling.ipynb#X42sZmlsZQ%3D%3D?line=33'>34</a>\u001b[0m \u001b[39mand \u001b[39;49m\u001b[39m'\u001b[39;49m\u001b[39mUnclear\u001b[39;49m\u001b[39m'\u001b[39;49m\u001b[39m for neutral, mixed, conflicting sentiments, or unclear mentions. \u001b[39;49m\n\u001b[1;32m     <a href='vscode-notebook-cell:/Users/lgfolder/github/capstone-project-lusavkaedu/notebooks/02_ChatGPT_negative_upsampling.ipynb#X42sZmlsZQ%3D%3D?line=34'>35</a>\u001b[0m \u001b[39mReturn back a tag with a sentiment concerning the shares. Choose tags ONLY from the list of tags provided above. \u001b[39;49m\n\u001b[1;32m     <a href='vscode-notebook-cell:/Users/lgfolder/github/capstone-project-lusavkaedu/notebooks/02_ChatGPT_negative_upsampling.ipynb#X42sZmlsZQ%3D%3D?line=35'>36</a>\u001b[0m \u001b[39mProvide in response just a tag without an explanation.\u001b[39;49m\n\u001b[1;32m     <a href='vscode-notebook-cell:/Users/lgfolder/github/capstone-project-lusavkaedu/notebooks/02_ChatGPT_negative_upsampling.ipynb#X42sZmlsZQ%3D%3D?line=36'>37</a>\u001b[0m \u001b[39mMessage: \u001b[39;49m\u001b[39m{\u001b[39;49;00mtext\u001b[39m}\u001b[39;49;00m\u001b[39m\"\"\"\u001b[39;49m))\n\u001b[1;32m     <a href='vscode-notebook-cell:/Users/lgfolder/github/capstone-project-lusavkaedu/notebooks/02_ChatGPT_negative_upsampling.ipynb#X42sZmlsZQ%3D%3D?line=37'>38</a>\u001b[0m         \u001b[39m# Append batch results to CSV file\u001b[39;00m\n\u001b[1;32m     <a href='vscode-notebook-cell:/Users/lgfolder/github/capstone-project-lusavkaedu/notebooks/02_ChatGPT_negative_upsampling.ipynb#X42sZmlsZQ%3D%3D?line=38'>39</a>\u001b[0m         \u001b[39mif\u001b[39;00m start \u001b[39m==\u001b[39m \u001b[39m0\u001b[39m:\n",
      "File \u001b[0;32m~/anaconda3/envs/myenv2/lib/python3.8/site-packages/pandas/core/series.py:4630\u001b[0m, in \u001b[0;36mSeries.apply\u001b[0;34m(self, func, convert_dtype, args, **kwargs)\u001b[0m\n\u001b[1;32m   4520\u001b[0m \u001b[39mdef\u001b[39;00m \u001b[39mapply\u001b[39m(\n\u001b[1;32m   4521\u001b[0m     \u001b[39mself\u001b[39m,\n\u001b[1;32m   4522\u001b[0m     func: AggFuncType,\n\u001b[0;32m   (...)\u001b[0m\n\u001b[1;32m   4525\u001b[0m     \u001b[39m*\u001b[39m\u001b[39m*\u001b[39mkwargs,\n\u001b[1;32m   4526\u001b[0m ) \u001b[39m-\u001b[39m\u001b[39m>\u001b[39m DataFrame \u001b[39m|\u001b[39m Series:\n\u001b[1;32m   4527\u001b[0m \u001b[39m    \u001b[39m\u001b[39m\"\"\"\u001b[39;00m\n\u001b[1;32m   4528\u001b[0m \u001b[39m    Invoke function on values of Series.\u001b[39;00m\n\u001b[1;32m   4529\u001b[0m \n\u001b[0;32m   (...)\u001b[0m\n\u001b[1;32m   4628\u001b[0m \u001b[39m    dtype: float64\u001b[39;00m\n\u001b[1;32m   4629\u001b[0m \u001b[39m    \"\"\"\u001b[39;00m\n\u001b[0;32m-> 4630\u001b[0m     \u001b[39mreturn\u001b[39;00m SeriesApply(\u001b[39mself\u001b[39;49m, func, convert_dtype, args, kwargs)\u001b[39m.\u001b[39;49mapply()\n",
      "File \u001b[0;32m~/anaconda3/envs/myenv2/lib/python3.8/site-packages/pandas/core/apply.py:1025\u001b[0m, in \u001b[0;36mSeriesApply.apply\u001b[0;34m(self)\u001b[0m\n\u001b[1;32m   1022\u001b[0m     \u001b[39mreturn\u001b[39;00m \u001b[39mself\u001b[39m\u001b[39m.\u001b[39mapply_str()\n\u001b[1;32m   1024\u001b[0m \u001b[39m# self.f is Callable\u001b[39;00m\n\u001b[0;32m-> 1025\u001b[0m \u001b[39mreturn\u001b[39;00m \u001b[39mself\u001b[39;49m\u001b[39m.\u001b[39;49mapply_standard()\n",
      "File \u001b[0;32m~/anaconda3/envs/myenv2/lib/python3.8/site-packages/pandas/core/apply.py:1076\u001b[0m, in \u001b[0;36mSeriesApply.apply_standard\u001b[0;34m(self)\u001b[0m\n\u001b[1;32m   1074\u001b[0m     \u001b[39melse\u001b[39;00m:\n\u001b[1;32m   1075\u001b[0m         values \u001b[39m=\u001b[39m obj\u001b[39m.\u001b[39mastype(\u001b[39mobject\u001b[39m)\u001b[39m.\u001b[39m_values\n\u001b[0;32m-> 1076\u001b[0m         mapped \u001b[39m=\u001b[39m lib\u001b[39m.\u001b[39;49mmap_infer(\n\u001b[1;32m   1077\u001b[0m             values,\n\u001b[1;32m   1078\u001b[0m             f,\n\u001b[1;32m   1079\u001b[0m             convert\u001b[39m=\u001b[39;49m\u001b[39mself\u001b[39;49m\u001b[39m.\u001b[39;49mconvert_dtype,\n\u001b[1;32m   1080\u001b[0m         )\n\u001b[1;32m   1082\u001b[0m \u001b[39mif\u001b[39;00m \u001b[39mlen\u001b[39m(mapped) \u001b[39mand\u001b[39;00m \u001b[39misinstance\u001b[39m(mapped[\u001b[39m0\u001b[39m], ABCSeries):\n\u001b[1;32m   1083\u001b[0m     \u001b[39m# GH#43986 Need to do list(mapped) in order to get treated as nested\u001b[39;00m\n\u001b[1;32m   1084\u001b[0m     \u001b[39m#  See also GH#25959 regarding EA support\u001b[39;00m\n\u001b[1;32m   1085\u001b[0m     \u001b[39mreturn\u001b[39;00m obj\u001b[39m.\u001b[39m_constructor_expanddim(\u001b[39mlist\u001b[39m(mapped), index\u001b[39m=\u001b[39mobj\u001b[39m.\u001b[39mindex)\n",
      "File \u001b[0;32m~/anaconda3/envs/myenv2/lib/python3.8/site-packages/pandas/_libs/lib.pyx:2834\u001b[0m, in \u001b[0;36mpandas._libs.lib.map_infer\u001b[0;34m()\u001b[0m\n",
      "\u001b[1;32m/Users/lgfolder/github/capstone-project-lusavkaedu/notebooks/02_ChatGPT_negative_upsampling.ipynb Cell 31\u001b[0m line \u001b[0;36m2\n\u001b[1;32m     <a href='vscode-notebook-cell:/Users/lgfolder/github/capstone-project-lusavkaedu/notebooks/02_ChatGPT_negative_upsampling.ipynb#X42sZmlsZQ%3D%3D?line=26'>27</a>\u001b[0m         end \u001b[39m=\u001b[39m \u001b[39mmin\u001b[39m(start \u001b[39m+\u001b[39m batch_size, \u001b[39mlen\u001b[39m(df))\n\u001b[1;32m     <a href='vscode-notebook-cell:/Users/lgfolder/github/capstone-project-lusavkaedu/notebooks/02_ChatGPT_negative_upsampling.ipynb#X42sZmlsZQ%3D%3D?line=27'>28</a>\u001b[0m         batch \u001b[39m=\u001b[39m df\u001b[39m.\u001b[39miloc[start:end]\u001b[39m.\u001b[39mcopy()  \u001b[39m# Use .copy() to avoid SettingWithCopyWarning\u001b[39;00m\n\u001b[0;32m---> <a href='vscode-notebook-cell:/Users/lgfolder/github/capstone-project-lusavkaedu/notebooks/02_ChatGPT_negative_upsampling.ipynb#X42sZmlsZQ%3D%3D?line=28'>29</a>\u001b[0m         batch[\u001b[39m'\u001b[39m\u001b[39mSentiment_Tag\u001b[39m\u001b[39m'\u001b[39m] \u001b[39m=\u001b[39m batch[\u001b[39m'\u001b[39m\u001b[39mText\u001b[39m\u001b[39m'\u001b[39m]\u001b[39m.\u001b[39mapply(\u001b[39mlambda\u001b[39;00m text: throttled_request(\u001b[39mf\u001b[39;49m\u001b[39m\"\"\"\u001b[39;49m\u001b[39mYou will be presented with a Reddit message and your job is to provide in return a sentiment tag: choose either the “Positive” OR “Negative” OR “Unclear” tag but NOT several). \u001b[39;49m\n\u001b[1;32m     <a href='vscode-notebook-cell:/Users/lgfolder/github/capstone-project-lusavkaedu/notebooks/02_ChatGPT_negative_upsampling.ipynb#X42sZmlsZQ%3D%3D?line=29'>30</a>\u001b[0m \u001b[39mAssess the sentiment of a Reddit message concerning shares, identified by company names or stock tickers. \u001b[39;49m\n\u001b[1;32m     <a href='vscode-notebook-cell:/Users/lgfolder/github/capstone-project-lusavkaedu/notebooks/02_ChatGPT_negative_upsampling.ipynb#X42sZmlsZQ%3D%3D?line=30'>31</a>\u001b[0m \u001b[39mFocus exclusively on sentiments about the shares\u001b[39;49m\u001b[39m'\u001b[39;49m\u001b[39m performance, not the overall business performance. Evaluate the entire post. \u001b[39;49m\n\u001b[1;32m     <a href='vscode-notebook-cell:/Users/lgfolder/github/capstone-project-lusavkaedu/notebooks/02_ChatGPT_negative_upsampling.ipynb#X42sZmlsZQ%3D%3D?line=31'>32</a>\u001b[0m \u001b[39mClassify the sentiment as \u001b[39;49m\u001b[39m'\u001b[39;49m\u001b[39mPositive\u001b[39;49m\u001b[39m'\u001b[39;49m\u001b[39m for actions like buying calls, holding call options, or selling put options; \u001b[39;49m\n\u001b[1;32m     <a href='vscode-notebook-cell:/Users/lgfolder/github/capstone-project-lusavkaedu/notebooks/02_ChatGPT_negative_upsampling.ipynb#X42sZmlsZQ%3D%3D?line=32'>33</a>\u001b[0m \u001b[39m'\u001b[39;49m\u001b[39mNegative\u001b[39;49m\u001b[39m'\u001b[39;49m\u001b[39m for buying puts, holding put options, or selling call options; \u001b[39;49m\n\u001b[1;32m     <a href='vscode-notebook-cell:/Users/lgfolder/github/capstone-project-lusavkaedu/notebooks/02_ChatGPT_negative_upsampling.ipynb#X42sZmlsZQ%3D%3D?line=33'>34</a>\u001b[0m \u001b[39mand \u001b[39;49m\u001b[39m'\u001b[39;49m\u001b[39mUnclear\u001b[39;49m\u001b[39m'\u001b[39;49m\u001b[39m for neutral, mixed, conflicting sentiments, or unclear mentions. \u001b[39;49m\n\u001b[1;32m     <a href='vscode-notebook-cell:/Users/lgfolder/github/capstone-project-lusavkaedu/notebooks/02_ChatGPT_negative_upsampling.ipynb#X42sZmlsZQ%3D%3D?line=34'>35</a>\u001b[0m \u001b[39mReturn back a tag with a sentiment concerning the shares. Choose tags ONLY from the list of tags provided above. \u001b[39;49m\n\u001b[1;32m     <a href='vscode-notebook-cell:/Users/lgfolder/github/capstone-project-lusavkaedu/notebooks/02_ChatGPT_negative_upsampling.ipynb#X42sZmlsZQ%3D%3D?line=35'>36</a>\u001b[0m \u001b[39mProvide in response just a tag without an explanation.\u001b[39;49m\n\u001b[1;32m     <a href='vscode-notebook-cell:/Users/lgfolder/github/capstone-project-lusavkaedu/notebooks/02_ChatGPT_negative_upsampling.ipynb#X42sZmlsZQ%3D%3D?line=36'>37</a>\u001b[0m \u001b[39mMessage: \u001b[39;49m\u001b[39m{\u001b[39;49;00mtext\u001b[39m}\u001b[39;49;00m\u001b[39m\"\"\"\u001b[39;49m))\n\u001b[1;32m     <a href='vscode-notebook-cell:/Users/lgfolder/github/capstone-project-lusavkaedu/notebooks/02_ChatGPT_negative_upsampling.ipynb#X42sZmlsZQ%3D%3D?line=37'>38</a>\u001b[0m         \u001b[39m# Append batch results to CSV file\u001b[39;00m\n\u001b[1;32m     <a href='vscode-notebook-cell:/Users/lgfolder/github/capstone-project-lusavkaedu/notebooks/02_ChatGPT_negative_upsampling.ipynb#X42sZmlsZQ%3D%3D?line=38'>39</a>\u001b[0m         \u001b[39mif\u001b[39;00m start \u001b[39m==\u001b[39m \u001b[39m0\u001b[39m:\n",
      "\u001b[1;32m/Users/lgfolder/github/capstone-project-lusavkaedu/notebooks/02_ChatGPT_negative_upsampling.ipynb Cell 31\u001b[0m line \u001b[0;36m1\n\u001b[1;32m     <a href='vscode-notebook-cell:/Users/lgfolder/github/capstone-project-lusavkaedu/notebooks/02_ChatGPT_negative_upsampling.ipynb#X42sZmlsZQ%3D%3D?line=17'>18</a>\u001b[0m \u001b[39mdef\u001b[39;00m \u001b[39mthrottled_request\u001b[39m(text, delay\u001b[39m=\u001b[39m\u001b[39m1.0\u001b[39m):\n\u001b[0;32m---> <a href='vscode-notebook-cell:/Users/lgfolder/github/capstone-project-lusavkaedu/notebooks/02_ChatGPT_negative_upsampling.ipynb#X42sZmlsZQ%3D%3D?line=18'>19</a>\u001b[0m     response \u001b[39m=\u001b[39m ask_gpt(text)\n\u001b[1;32m     <a href='vscode-notebook-cell:/Users/lgfolder/github/capstone-project-lusavkaedu/notebooks/02_ChatGPT_negative_upsampling.ipynb#X42sZmlsZQ%3D%3D?line=19'>20</a>\u001b[0m     time\u001b[39m.\u001b[39msleep(delay)\n\u001b[1;32m     <a href='vscode-notebook-cell:/Users/lgfolder/github/capstone-project-lusavkaedu/notebooks/02_ChatGPT_negative_upsampling.ipynb#X42sZmlsZQ%3D%3D?line=20'>21</a>\u001b[0m     \u001b[39mreturn\u001b[39;00m response\n",
      "\u001b[1;32m/Users/lgfolder/github/capstone-project-lusavkaedu/notebooks/02_ChatGPT_negative_upsampling.ipynb Cell 31\u001b[0m line \u001b[0;36m7\n\u001b[1;32m      <a href='vscode-notebook-cell:/Users/lgfolder/github/capstone-project-lusavkaedu/notebooks/02_ChatGPT_negative_upsampling.ipynb#X42sZmlsZQ%3D%3D?line=3'>4</a>\u001b[0m \u001b[39mdef\u001b[39;00m \u001b[39mask_gpt\u001b[39m(text):\n\u001b[1;32m      <a href='vscode-notebook-cell:/Users/lgfolder/github/capstone-project-lusavkaedu/notebooks/02_ChatGPT_negative_upsampling.ipynb#X42sZmlsZQ%3D%3D?line=4'>5</a>\u001b[0m     \u001b[39mtry\u001b[39;00m:\n\u001b[1;32m      <a href='vscode-notebook-cell:/Users/lgfolder/github/capstone-project-lusavkaedu/notebooks/02_ChatGPT_negative_upsampling.ipynb#X42sZmlsZQ%3D%3D?line=5'>6</a>\u001b[0m         \u001b[39m# Sending the prompt to the ChatGPT model and getting the response\u001b[39;00m\n\u001b[0;32m----> <a href='vscode-notebook-cell:/Users/lgfolder/github/capstone-project-lusavkaedu/notebooks/02_ChatGPT_negative_upsampling.ipynb#X42sZmlsZQ%3D%3D?line=6'>7</a>\u001b[0m         response \u001b[39m=\u001b[39m openai\u001b[39m.\u001b[39;49mChatCompletion\u001b[39m.\u001b[39;49mcreate(\n\u001b[1;32m      <a href='vscode-notebook-cell:/Users/lgfolder/github/capstone-project-lusavkaedu/notebooks/02_ChatGPT_negative_upsampling.ipynb#X42sZmlsZQ%3D%3D?line=7'>8</a>\u001b[0m             model\u001b[39m=\u001b[39;49m\u001b[39m\"\u001b[39;49m\u001b[39mgpt-3.5-turbo\u001b[39;49m\u001b[39m\"\u001b[39;49m,  \u001b[39m# Adjust the model name as needed\u001b[39;49;00m\n\u001b[1;32m      <a href='vscode-notebook-cell:/Users/lgfolder/github/capstone-project-lusavkaedu/notebooks/02_ChatGPT_negative_upsampling.ipynb#X42sZmlsZQ%3D%3D?line=8'>9</a>\u001b[0m             messages\u001b[39m=\u001b[39;49m[{\u001b[39m\"\u001b[39;49m\u001b[39mrole\u001b[39;49m\u001b[39m\"\u001b[39;49m: \u001b[39m\"\u001b[39;49m\u001b[39msystem\u001b[39;49m\u001b[39m\"\u001b[39;49m, \u001b[39m\"\u001b[39;49m\u001b[39mcontent\u001b[39;49m\u001b[39m\"\u001b[39;49m: \u001b[39m\"\u001b[39;49m\u001b[39mYou are a helpful assistant.\u001b[39;49m\u001b[39m\"\u001b[39;49m}, \n\u001b[1;32m     <a href='vscode-notebook-cell:/Users/lgfolder/github/capstone-project-lusavkaedu/notebooks/02_ChatGPT_negative_upsampling.ipynb#X42sZmlsZQ%3D%3D?line=9'>10</a>\u001b[0m                       {\u001b[39m\"\u001b[39;49m\u001b[39mrole\u001b[39;49m\u001b[39m\"\u001b[39;49m: \u001b[39m\"\u001b[39;49m\u001b[39muser\u001b[39;49m\u001b[39m\"\u001b[39;49m, \u001b[39m\"\u001b[39;49m\u001b[39mcontent\u001b[39;49m\u001b[39m\"\u001b[39;49m: text}]\n\u001b[1;32m     <a href='vscode-notebook-cell:/Users/lgfolder/github/capstone-project-lusavkaedu/notebooks/02_ChatGPT_negative_upsampling.ipynb#X42sZmlsZQ%3D%3D?line=10'>11</a>\u001b[0m         )\n\u001b[1;32m     <a href='vscode-notebook-cell:/Users/lgfolder/github/capstone-project-lusavkaedu/notebooks/02_ChatGPT_negative_upsampling.ipynb#X42sZmlsZQ%3D%3D?line=11'>12</a>\u001b[0m         \u001b[39m# Returning the text of the response\u001b[39;00m\n\u001b[1;32m     <a href='vscode-notebook-cell:/Users/lgfolder/github/capstone-project-lusavkaedu/notebooks/02_ChatGPT_negative_upsampling.ipynb#X42sZmlsZQ%3D%3D?line=12'>13</a>\u001b[0m         \u001b[39mreturn\u001b[39;00m response\u001b[39m.\u001b[39mchoices[\u001b[39m0\u001b[39m]\u001b[39m.\u001b[39mmessage[\u001b[39m'\u001b[39m\u001b[39mcontent\u001b[39m\u001b[39m'\u001b[39m]\u001b[39m.\u001b[39mstrip()\n",
      "File \u001b[0;32m~/anaconda3/envs/myenv2/lib/python3.8/site-packages/openai/api_resources/chat_completion.py:25\u001b[0m, in \u001b[0;36mChatCompletion.create\u001b[0;34m(cls, *args, **kwargs)\u001b[0m\n\u001b[1;32m     23\u001b[0m \u001b[39mwhile\u001b[39;00m \u001b[39mTrue\u001b[39;00m:\n\u001b[1;32m     24\u001b[0m     \u001b[39mtry\u001b[39;00m:\n\u001b[0;32m---> 25\u001b[0m         \u001b[39mreturn\u001b[39;00m \u001b[39msuper\u001b[39;49m()\u001b[39m.\u001b[39;49mcreate(\u001b[39m*\u001b[39;49margs, \u001b[39m*\u001b[39;49m\u001b[39m*\u001b[39;49mkwargs)\n\u001b[1;32m     26\u001b[0m     \u001b[39mexcept\u001b[39;00m TryAgain \u001b[39mas\u001b[39;00m e:\n\u001b[1;32m     27\u001b[0m         \u001b[39mif\u001b[39;00m timeout \u001b[39mis\u001b[39;00m \u001b[39mnot\u001b[39;00m \u001b[39mNone\u001b[39;00m \u001b[39mand\u001b[39;00m time\u001b[39m.\u001b[39mtime() \u001b[39m>\u001b[39m start \u001b[39m+\u001b[39m timeout:\n",
      "File \u001b[0;32m~/anaconda3/envs/myenv2/lib/python3.8/site-packages/openai/api_resources/abstract/engine_api_resource.py:155\u001b[0m, in \u001b[0;36mEngineAPIResource.create\u001b[0;34m(cls, api_key, api_base, api_type, request_id, api_version, organization, **params)\u001b[0m\n\u001b[1;32m    129\u001b[0m \u001b[39m@classmethod\u001b[39m\n\u001b[1;32m    130\u001b[0m \u001b[39mdef\u001b[39;00m \u001b[39mcreate\u001b[39m(\n\u001b[1;32m    131\u001b[0m     \u001b[39mcls\u001b[39m,\n\u001b[0;32m   (...)\u001b[0m\n\u001b[1;32m    138\u001b[0m     \u001b[39m*\u001b[39m\u001b[39m*\u001b[39mparams,\n\u001b[1;32m    139\u001b[0m ):\n\u001b[1;32m    140\u001b[0m     (\n\u001b[1;32m    141\u001b[0m         deployment_id,\n\u001b[1;32m    142\u001b[0m         engine,\n\u001b[0;32m   (...)\u001b[0m\n\u001b[1;32m    152\u001b[0m         api_key, api_base, api_type, api_version, organization, \u001b[39m*\u001b[39m\u001b[39m*\u001b[39mparams\n\u001b[1;32m    153\u001b[0m     )\n\u001b[0;32m--> 155\u001b[0m     response, _, api_key \u001b[39m=\u001b[39m requestor\u001b[39m.\u001b[39;49mrequest(\n\u001b[1;32m    156\u001b[0m         \u001b[39m\"\u001b[39;49m\u001b[39mpost\u001b[39;49m\u001b[39m\"\u001b[39;49m,\n\u001b[1;32m    157\u001b[0m         url,\n\u001b[1;32m    158\u001b[0m         params\u001b[39m=\u001b[39;49mparams,\n\u001b[1;32m    159\u001b[0m         headers\u001b[39m=\u001b[39;49mheaders,\n\u001b[1;32m    160\u001b[0m         stream\u001b[39m=\u001b[39;49mstream,\n\u001b[1;32m    161\u001b[0m         request_id\u001b[39m=\u001b[39;49mrequest_id,\n\u001b[1;32m    162\u001b[0m         request_timeout\u001b[39m=\u001b[39;49mrequest_timeout,\n\u001b[1;32m    163\u001b[0m     )\n\u001b[1;32m    165\u001b[0m     \u001b[39mif\u001b[39;00m stream:\n\u001b[1;32m    166\u001b[0m         \u001b[39m# must be an iterator\u001b[39;00m\n\u001b[1;32m    167\u001b[0m         \u001b[39massert\u001b[39;00m \u001b[39mnot\u001b[39;00m \u001b[39misinstance\u001b[39m(response, OpenAIResponse)\n",
      "File \u001b[0;32m~/anaconda3/envs/myenv2/lib/python3.8/site-packages/openai/api_requestor.py:289\u001b[0m, in \u001b[0;36mAPIRequestor.request\u001b[0;34m(self, method, url, params, headers, files, stream, request_id, request_timeout)\u001b[0m\n\u001b[1;32m    278\u001b[0m \u001b[39mdef\u001b[39;00m \u001b[39mrequest\u001b[39m(\n\u001b[1;32m    279\u001b[0m     \u001b[39mself\u001b[39m,\n\u001b[1;32m    280\u001b[0m     method,\n\u001b[0;32m   (...)\u001b[0m\n\u001b[1;32m    287\u001b[0m     request_timeout: Optional[Union[\u001b[39mfloat\u001b[39m, Tuple[\u001b[39mfloat\u001b[39m, \u001b[39mfloat\u001b[39m]]] \u001b[39m=\u001b[39m \u001b[39mNone\u001b[39;00m,\n\u001b[1;32m    288\u001b[0m ) \u001b[39m-\u001b[39m\u001b[39m>\u001b[39m Tuple[Union[OpenAIResponse, Iterator[OpenAIResponse]], \u001b[39mbool\u001b[39m, \u001b[39mstr\u001b[39m]:\n\u001b[0;32m--> 289\u001b[0m     result \u001b[39m=\u001b[39m \u001b[39mself\u001b[39;49m\u001b[39m.\u001b[39;49mrequest_raw(\n\u001b[1;32m    290\u001b[0m         method\u001b[39m.\u001b[39;49mlower(),\n\u001b[1;32m    291\u001b[0m         url,\n\u001b[1;32m    292\u001b[0m         params\u001b[39m=\u001b[39;49mparams,\n\u001b[1;32m    293\u001b[0m         supplied_headers\u001b[39m=\u001b[39;49mheaders,\n\u001b[1;32m    294\u001b[0m         files\u001b[39m=\u001b[39;49mfiles,\n\u001b[1;32m    295\u001b[0m         stream\u001b[39m=\u001b[39;49mstream,\n\u001b[1;32m    296\u001b[0m         request_id\u001b[39m=\u001b[39;49mrequest_id,\n\u001b[1;32m    297\u001b[0m         request_timeout\u001b[39m=\u001b[39;49mrequest_timeout,\n\u001b[1;32m    298\u001b[0m     )\n\u001b[1;32m    299\u001b[0m     resp, got_stream \u001b[39m=\u001b[39m \u001b[39mself\u001b[39m\u001b[39m.\u001b[39m_interpret_response(result, stream)\n\u001b[1;32m    300\u001b[0m     \u001b[39mreturn\u001b[39;00m resp, got_stream, \u001b[39mself\u001b[39m\u001b[39m.\u001b[39mapi_key\n",
      "File \u001b[0;32m~/anaconda3/envs/myenv2/lib/python3.8/site-packages/openai/api_requestor.py:606\u001b[0m, in \u001b[0;36mAPIRequestor.request_raw\u001b[0;34m(self, method, url, params, supplied_headers, files, stream, request_id, request_timeout)\u001b[0m\n\u001b[1;32m    604\u001b[0m     _thread_context\u001b[39m.\u001b[39msession_create_time \u001b[39m=\u001b[39m time\u001b[39m.\u001b[39mtime()\n\u001b[1;32m    605\u001b[0m \u001b[39mtry\u001b[39;00m:\n\u001b[0;32m--> 606\u001b[0m     result \u001b[39m=\u001b[39m _thread_context\u001b[39m.\u001b[39;49msession\u001b[39m.\u001b[39;49mrequest(\n\u001b[1;32m    607\u001b[0m         method,\n\u001b[1;32m    608\u001b[0m         abs_url,\n\u001b[1;32m    609\u001b[0m         headers\u001b[39m=\u001b[39;49mheaders,\n\u001b[1;32m    610\u001b[0m         data\u001b[39m=\u001b[39;49mdata,\n\u001b[1;32m    611\u001b[0m         files\u001b[39m=\u001b[39;49mfiles,\n\u001b[1;32m    612\u001b[0m         stream\u001b[39m=\u001b[39;49mstream,\n\u001b[1;32m    613\u001b[0m         timeout\u001b[39m=\u001b[39;49mrequest_timeout \u001b[39mif\u001b[39;49;00m request_timeout \u001b[39melse\u001b[39;49;00m TIMEOUT_SECS,\n\u001b[1;32m    614\u001b[0m         proxies\u001b[39m=\u001b[39;49m_thread_context\u001b[39m.\u001b[39;49msession\u001b[39m.\u001b[39;49mproxies,\n\u001b[1;32m    615\u001b[0m     )\n\u001b[1;32m    616\u001b[0m \u001b[39mexcept\u001b[39;00m requests\u001b[39m.\u001b[39mexceptions\u001b[39m.\u001b[39mTimeout \u001b[39mas\u001b[39;00m e:\n\u001b[1;32m    617\u001b[0m     \u001b[39mraise\u001b[39;00m error\u001b[39m.\u001b[39mTimeout(\u001b[39m\"\u001b[39m\u001b[39mRequest timed out: \u001b[39m\u001b[39m{}\u001b[39;00m\u001b[39m\"\u001b[39m\u001b[39m.\u001b[39mformat(e)) \u001b[39mfrom\u001b[39;00m \u001b[39me\u001b[39;00m\n",
      "File \u001b[0;32m~/anaconda3/envs/myenv2/lib/python3.8/site-packages/requests/sessions.py:589\u001b[0m, in \u001b[0;36mSession.request\u001b[0;34m(self, method, url, params, data, headers, cookies, files, auth, timeout, allow_redirects, proxies, hooks, stream, verify, cert, json)\u001b[0m\n\u001b[1;32m    584\u001b[0m send_kwargs \u001b[39m=\u001b[39m {\n\u001b[1;32m    585\u001b[0m     \u001b[39m\"\u001b[39m\u001b[39mtimeout\u001b[39m\u001b[39m\"\u001b[39m: timeout,\n\u001b[1;32m    586\u001b[0m     \u001b[39m\"\u001b[39m\u001b[39mallow_redirects\u001b[39m\u001b[39m\"\u001b[39m: allow_redirects,\n\u001b[1;32m    587\u001b[0m }\n\u001b[1;32m    588\u001b[0m send_kwargs\u001b[39m.\u001b[39mupdate(settings)\n\u001b[0;32m--> 589\u001b[0m resp \u001b[39m=\u001b[39m \u001b[39mself\u001b[39;49m\u001b[39m.\u001b[39;49msend(prep, \u001b[39m*\u001b[39;49m\u001b[39m*\u001b[39;49msend_kwargs)\n\u001b[1;32m    591\u001b[0m \u001b[39mreturn\u001b[39;00m resp\n",
      "File \u001b[0;32m~/anaconda3/envs/myenv2/lib/python3.8/site-packages/requests/sessions.py:703\u001b[0m, in \u001b[0;36mSession.send\u001b[0;34m(self, request, **kwargs)\u001b[0m\n\u001b[1;32m    700\u001b[0m start \u001b[39m=\u001b[39m preferred_clock()\n\u001b[1;32m    702\u001b[0m \u001b[39m# Send the request\u001b[39;00m\n\u001b[0;32m--> 703\u001b[0m r \u001b[39m=\u001b[39m adapter\u001b[39m.\u001b[39;49msend(request, \u001b[39m*\u001b[39;49m\u001b[39m*\u001b[39;49mkwargs)\n\u001b[1;32m    705\u001b[0m \u001b[39m# Total elapsed time of the request (approximately)\u001b[39;00m\n\u001b[1;32m    706\u001b[0m elapsed \u001b[39m=\u001b[39m preferred_clock() \u001b[39m-\u001b[39m start\n",
      "File \u001b[0;32m~/anaconda3/envs/myenv2/lib/python3.8/site-packages/requests/adapters.py:486\u001b[0m, in \u001b[0;36mHTTPAdapter.send\u001b[0;34m(self, request, stream, timeout, verify, cert, proxies)\u001b[0m\n\u001b[1;32m    483\u001b[0m     timeout \u001b[39m=\u001b[39m TimeoutSauce(connect\u001b[39m=\u001b[39mtimeout, read\u001b[39m=\u001b[39mtimeout)\n\u001b[1;32m    485\u001b[0m \u001b[39mtry\u001b[39;00m:\n\u001b[0;32m--> 486\u001b[0m     resp \u001b[39m=\u001b[39m conn\u001b[39m.\u001b[39;49murlopen(\n\u001b[1;32m    487\u001b[0m         method\u001b[39m=\u001b[39;49mrequest\u001b[39m.\u001b[39;49mmethod,\n\u001b[1;32m    488\u001b[0m         url\u001b[39m=\u001b[39;49murl,\n\u001b[1;32m    489\u001b[0m         body\u001b[39m=\u001b[39;49mrequest\u001b[39m.\u001b[39;49mbody,\n\u001b[1;32m    490\u001b[0m         headers\u001b[39m=\u001b[39;49mrequest\u001b[39m.\u001b[39;49mheaders,\n\u001b[1;32m    491\u001b[0m         redirect\u001b[39m=\u001b[39;49m\u001b[39mFalse\u001b[39;49;00m,\n\u001b[1;32m    492\u001b[0m         assert_same_host\u001b[39m=\u001b[39;49m\u001b[39mFalse\u001b[39;49;00m,\n\u001b[1;32m    493\u001b[0m         preload_content\u001b[39m=\u001b[39;49m\u001b[39mFalse\u001b[39;49;00m,\n\u001b[1;32m    494\u001b[0m         decode_content\u001b[39m=\u001b[39;49m\u001b[39mFalse\u001b[39;49;00m,\n\u001b[1;32m    495\u001b[0m         retries\u001b[39m=\u001b[39;49m\u001b[39mself\u001b[39;49m\u001b[39m.\u001b[39;49mmax_retries,\n\u001b[1;32m    496\u001b[0m         timeout\u001b[39m=\u001b[39;49mtimeout,\n\u001b[1;32m    497\u001b[0m         chunked\u001b[39m=\u001b[39;49mchunked,\n\u001b[1;32m    498\u001b[0m     )\n\u001b[1;32m    500\u001b[0m \u001b[39mexcept\u001b[39;00m (ProtocolError, \u001b[39mOSError\u001b[39;00m) \u001b[39mas\u001b[39;00m err:\n\u001b[1;32m    501\u001b[0m     \u001b[39mraise\u001b[39;00m \u001b[39mConnectionError\u001b[39;00m(err, request\u001b[39m=\u001b[39mrequest)\n",
      "File \u001b[0;32m~/anaconda3/envs/myenv2/lib/python3.8/site-packages/urllib3/connectionpool.py:714\u001b[0m, in \u001b[0;36mHTTPConnectionPool.urlopen\u001b[0;34m(self, method, url, body, headers, retries, redirect, assert_same_host, timeout, pool_timeout, release_conn, chunked, body_pos, **response_kw)\u001b[0m\n\u001b[1;32m    711\u001b[0m     \u001b[39mself\u001b[39m\u001b[39m.\u001b[39m_prepare_proxy(conn)\n\u001b[1;32m    713\u001b[0m \u001b[39m# Make the request on the httplib connection object.\u001b[39;00m\n\u001b[0;32m--> 714\u001b[0m httplib_response \u001b[39m=\u001b[39m \u001b[39mself\u001b[39;49m\u001b[39m.\u001b[39;49m_make_request(\n\u001b[1;32m    715\u001b[0m     conn,\n\u001b[1;32m    716\u001b[0m     method,\n\u001b[1;32m    717\u001b[0m     url,\n\u001b[1;32m    718\u001b[0m     timeout\u001b[39m=\u001b[39;49mtimeout_obj,\n\u001b[1;32m    719\u001b[0m     body\u001b[39m=\u001b[39;49mbody,\n\u001b[1;32m    720\u001b[0m     headers\u001b[39m=\u001b[39;49mheaders,\n\u001b[1;32m    721\u001b[0m     chunked\u001b[39m=\u001b[39;49mchunked,\n\u001b[1;32m    722\u001b[0m )\n\u001b[1;32m    724\u001b[0m \u001b[39m# If we're going to release the connection in ``finally:``, then\u001b[39;00m\n\u001b[1;32m    725\u001b[0m \u001b[39m# the response doesn't need to know about the connection. Otherwise\u001b[39;00m\n\u001b[1;32m    726\u001b[0m \u001b[39m# it will also try to release it and we'll have a double-release\u001b[39;00m\n\u001b[1;32m    727\u001b[0m \u001b[39m# mess.\u001b[39;00m\n\u001b[1;32m    728\u001b[0m response_conn \u001b[39m=\u001b[39m conn \u001b[39mif\u001b[39;00m \u001b[39mnot\u001b[39;00m release_conn \u001b[39melse\u001b[39;00m \u001b[39mNone\u001b[39;00m\n",
      "File \u001b[0;32m~/anaconda3/envs/myenv2/lib/python3.8/site-packages/urllib3/connectionpool.py:466\u001b[0m, in \u001b[0;36mHTTPConnectionPool._make_request\u001b[0;34m(self, conn, method, url, timeout, chunked, **httplib_request_kw)\u001b[0m\n\u001b[1;32m    461\u001b[0m             httplib_response \u001b[39m=\u001b[39m conn\u001b[39m.\u001b[39mgetresponse()\n\u001b[1;32m    462\u001b[0m         \u001b[39mexcept\u001b[39;00m \u001b[39mBaseException\u001b[39;00m \u001b[39mas\u001b[39;00m e:\n\u001b[1;32m    463\u001b[0m             \u001b[39m# Remove the TypeError from the exception chain in\u001b[39;00m\n\u001b[1;32m    464\u001b[0m             \u001b[39m# Python 3 (including for exceptions like SystemExit).\u001b[39;00m\n\u001b[1;32m    465\u001b[0m             \u001b[39m# Otherwise it looks like a bug in the code.\u001b[39;00m\n\u001b[0;32m--> 466\u001b[0m             six\u001b[39m.\u001b[39;49mraise_from(e, \u001b[39mNone\u001b[39;49;00m)\n\u001b[1;32m    467\u001b[0m \u001b[39mexcept\u001b[39;00m (SocketTimeout, BaseSSLError, SocketError) \u001b[39mas\u001b[39;00m e:\n\u001b[1;32m    468\u001b[0m     \u001b[39mself\u001b[39m\u001b[39m.\u001b[39m_raise_timeout(err\u001b[39m=\u001b[39me, url\u001b[39m=\u001b[39murl, timeout_value\u001b[39m=\u001b[39mread_timeout)\n",
      "File \u001b[0;32m<string>:3\u001b[0m, in \u001b[0;36mraise_from\u001b[0;34m(value, from_value)\u001b[0m\n",
      "File \u001b[0;32m~/anaconda3/envs/myenv2/lib/python3.8/site-packages/urllib3/connectionpool.py:461\u001b[0m, in \u001b[0;36mHTTPConnectionPool._make_request\u001b[0;34m(self, conn, method, url, timeout, chunked, **httplib_request_kw)\u001b[0m\n\u001b[1;32m    458\u001b[0m \u001b[39mexcept\u001b[39;00m \u001b[39mTypeError\u001b[39;00m:\n\u001b[1;32m    459\u001b[0m     \u001b[39m# Python 3\u001b[39;00m\n\u001b[1;32m    460\u001b[0m     \u001b[39mtry\u001b[39;00m:\n\u001b[0;32m--> 461\u001b[0m         httplib_response \u001b[39m=\u001b[39m conn\u001b[39m.\u001b[39;49mgetresponse()\n\u001b[1;32m    462\u001b[0m     \u001b[39mexcept\u001b[39;00m \u001b[39mBaseException\u001b[39;00m \u001b[39mas\u001b[39;00m e:\n\u001b[1;32m    463\u001b[0m         \u001b[39m# Remove the TypeError from the exception chain in\u001b[39;00m\n\u001b[1;32m    464\u001b[0m         \u001b[39m# Python 3 (including for exceptions like SystemExit).\u001b[39;00m\n\u001b[1;32m    465\u001b[0m         \u001b[39m# Otherwise it looks like a bug in the code.\u001b[39;00m\n\u001b[1;32m    466\u001b[0m         six\u001b[39m.\u001b[39mraise_from(e, \u001b[39mNone\u001b[39;00m)\n",
      "File \u001b[0;32m~/anaconda3/envs/myenv2/lib/python3.8/http/client.py:1348\u001b[0m, in \u001b[0;36mHTTPConnection.getresponse\u001b[0;34m(self)\u001b[0m\n\u001b[1;32m   1346\u001b[0m \u001b[39mtry\u001b[39;00m:\n\u001b[1;32m   1347\u001b[0m     \u001b[39mtry\u001b[39;00m:\n\u001b[0;32m-> 1348\u001b[0m         response\u001b[39m.\u001b[39;49mbegin()\n\u001b[1;32m   1349\u001b[0m     \u001b[39mexcept\u001b[39;00m \u001b[39mConnectionError\u001b[39;00m:\n\u001b[1;32m   1350\u001b[0m         \u001b[39mself\u001b[39m\u001b[39m.\u001b[39mclose()\n",
      "File \u001b[0;32m~/anaconda3/envs/myenv2/lib/python3.8/http/client.py:316\u001b[0m, in \u001b[0;36mHTTPResponse.begin\u001b[0;34m(self)\u001b[0m\n\u001b[1;32m    314\u001b[0m \u001b[39m# read until we get a non-100 response\u001b[39;00m\n\u001b[1;32m    315\u001b[0m \u001b[39mwhile\u001b[39;00m \u001b[39mTrue\u001b[39;00m:\n\u001b[0;32m--> 316\u001b[0m     version, status, reason \u001b[39m=\u001b[39m \u001b[39mself\u001b[39;49m\u001b[39m.\u001b[39;49m_read_status()\n\u001b[1;32m    317\u001b[0m     \u001b[39mif\u001b[39;00m status \u001b[39m!=\u001b[39m CONTINUE:\n\u001b[1;32m    318\u001b[0m         \u001b[39mbreak\u001b[39;00m\n",
      "File \u001b[0;32m~/anaconda3/envs/myenv2/lib/python3.8/http/client.py:277\u001b[0m, in \u001b[0;36mHTTPResponse._read_status\u001b[0;34m(self)\u001b[0m\n\u001b[1;32m    276\u001b[0m \u001b[39mdef\u001b[39;00m \u001b[39m_read_status\u001b[39m(\u001b[39mself\u001b[39m):\n\u001b[0;32m--> 277\u001b[0m     line \u001b[39m=\u001b[39m \u001b[39mstr\u001b[39m(\u001b[39mself\u001b[39;49m\u001b[39m.\u001b[39;49mfp\u001b[39m.\u001b[39;49mreadline(_MAXLINE \u001b[39m+\u001b[39;49m \u001b[39m1\u001b[39;49m), \u001b[39m\"\u001b[39m\u001b[39miso-8859-1\u001b[39m\u001b[39m\"\u001b[39m)\n\u001b[1;32m    278\u001b[0m     \u001b[39mif\u001b[39;00m \u001b[39mlen\u001b[39m(line) \u001b[39m>\u001b[39m _MAXLINE:\n\u001b[1;32m    279\u001b[0m         \u001b[39mraise\u001b[39;00m LineTooLong(\u001b[39m\"\u001b[39m\u001b[39mstatus line\u001b[39m\u001b[39m\"\u001b[39m)\n",
      "File \u001b[0;32m~/anaconda3/envs/myenv2/lib/python3.8/socket.py:669\u001b[0m, in \u001b[0;36mSocketIO.readinto\u001b[0;34m(self, b)\u001b[0m\n\u001b[1;32m    667\u001b[0m \u001b[39mwhile\u001b[39;00m \u001b[39mTrue\u001b[39;00m:\n\u001b[1;32m    668\u001b[0m     \u001b[39mtry\u001b[39;00m:\n\u001b[0;32m--> 669\u001b[0m         \u001b[39mreturn\u001b[39;00m \u001b[39mself\u001b[39;49m\u001b[39m.\u001b[39;49m_sock\u001b[39m.\u001b[39;49mrecv_into(b)\n\u001b[1;32m    670\u001b[0m     \u001b[39mexcept\u001b[39;00m timeout:\n\u001b[1;32m    671\u001b[0m         \u001b[39mself\u001b[39m\u001b[39m.\u001b[39m_timeout_occurred \u001b[39m=\u001b[39m \u001b[39mTrue\u001b[39;00m\n",
      "File \u001b[0;32m~/anaconda3/envs/myenv2/lib/python3.8/ssl.py:1241\u001b[0m, in \u001b[0;36mSSLSocket.recv_into\u001b[0;34m(self, buffer, nbytes, flags)\u001b[0m\n\u001b[1;32m   1237\u001b[0m     \u001b[39mif\u001b[39;00m flags \u001b[39m!=\u001b[39m \u001b[39m0\u001b[39m:\n\u001b[1;32m   1238\u001b[0m         \u001b[39mraise\u001b[39;00m \u001b[39mValueError\u001b[39;00m(\n\u001b[1;32m   1239\u001b[0m           \u001b[39m\"\u001b[39m\u001b[39mnon-zero flags not allowed in calls to recv_into() on \u001b[39m\u001b[39m%s\u001b[39;00m\u001b[39m\"\u001b[39m \u001b[39m%\u001b[39m\n\u001b[1;32m   1240\u001b[0m           \u001b[39mself\u001b[39m\u001b[39m.\u001b[39m\u001b[39m__class__\u001b[39m)\n\u001b[0;32m-> 1241\u001b[0m     \u001b[39mreturn\u001b[39;00m \u001b[39mself\u001b[39;49m\u001b[39m.\u001b[39;49mread(nbytes, buffer)\n\u001b[1;32m   1242\u001b[0m \u001b[39melse\u001b[39;00m:\n\u001b[1;32m   1243\u001b[0m     \u001b[39mreturn\u001b[39;00m \u001b[39msuper\u001b[39m()\u001b[39m.\u001b[39mrecv_into(buffer, nbytes, flags)\n",
      "File \u001b[0;32m~/anaconda3/envs/myenv2/lib/python3.8/ssl.py:1099\u001b[0m, in \u001b[0;36mSSLSocket.read\u001b[0;34m(self, len, buffer)\u001b[0m\n\u001b[1;32m   1097\u001b[0m \u001b[39mtry\u001b[39;00m:\n\u001b[1;32m   1098\u001b[0m     \u001b[39mif\u001b[39;00m buffer \u001b[39mis\u001b[39;00m \u001b[39mnot\u001b[39;00m \u001b[39mNone\u001b[39;00m:\n\u001b[0;32m-> 1099\u001b[0m         \u001b[39mreturn\u001b[39;00m \u001b[39mself\u001b[39;49m\u001b[39m.\u001b[39;49m_sslobj\u001b[39m.\u001b[39;49mread(\u001b[39mlen\u001b[39;49m, buffer)\n\u001b[1;32m   1100\u001b[0m     \u001b[39melse\u001b[39;00m:\n\u001b[1;32m   1101\u001b[0m         \u001b[39mreturn\u001b[39;00m \u001b[39mself\u001b[39m\u001b[39m.\u001b[39m_sslobj\u001b[39m.\u001b[39mread(\u001b[39mlen\u001b[39m)\n",
      "\u001b[0;31mKeyboardInterrupt\u001b[0m: "
     ]
    }
   ],
   "source": [
    "# Function to send text to GPT-4 and receive sentiment tag\n",
    "openai.api_key = \"MY_OPENAI_KEY\"\n",
    "\n",
    "def ask_gpt(text):\n",
    "    try:\n",
    "        # Sending the prompt to the ChatGPT model and getting the response\n",
    "        response = openai.ChatCompletion.create(\n",
    "            model=\"gpt-3.5-turbo\", \n",
    "            messages=[{\"role\": \"system\", \"content\": \"You are a helpful assistant.\"}, \n",
    "                      {\"role\": \"user\", \"content\": text}]\n",
    "        )\n",
    "        # Returning the text of the response\n",
    "        return response.choices[0].message['content'].strip()\n",
    "    except Exception as e:\n",
    "        print(f\"An error occurred: {e}\")\n",
    "        return \"Error\"\n",
    "\n",
    "def throttled_request(text, delay=1.0):\n",
    "    response = ask_gpt(text)\n",
    "    time.sleep(delay)\n",
    "    return response\n",
    "\n",
    "# Function to process a batch and append results to a CSV file\n",
    "def process_batch(df, batch_size, csv_file):\n",
    "    start = 0\n",
    "    while start < len(df):\n",
    "        end = min(start + batch_size, len(df))\n",
    "        batch = df.iloc[start:end].copy()\n",
    "        batch['Sentiment_Tag'] = batch['Text'].apply(lambda text: throttled_request(f\"\"\"\n",
    "You will be presented with a Reddit message and your job is to provide in return a sentiment tag: \n",
    "choose either the “Positive” OR “Negative” OR “Unclear” tag but NOT several. \n",
    "Assess the sentiment of a Reddit message concerning shares, identified by company names or stock tickers. \n",
    "Focus exclusively on sentiments about the shares' performance, not the overall business performance. \n",
    "Evaluate the entire post. \n",
    "Classify the sentiment as 'Positive' for actions like buying calls, holding call options, or selling put options; \n",
    "'Negative' for buying puts, holding put options, or selling call options; \n",
    "and 'Unclear' for neutral, mixed, conflicting sentiments, or unclear mentions. \n",
    "Return back a tag with a sentiment concerning the shares. Choose tags ONLY from the list of tags provided above. \n",
    "Provide in response just a tag without an explanation.\n",
    "Message: {text}\"\"\"))\n",
    "        # Append batch results to CSV file\n",
    "        if start == 0:\n",
    "            batch.to_csv(csv_file, mode='w', header=True, index=False)  \n",
    "        else:\n",
    "            batch.to_csv(csv_file, mode='a', header=False, index=False)  \n",
    "        \n",
    "        start += batch_size\n",
    "        print(f\"Processed batch {start // batch_size} of {len(df) // batch_size}\")\n",
    "\n",
    "# Parameters\n",
    "batch_size = 3  \n",
    "csv_file = '../data/wsb_sentiment_results.csv'\n",
    "\n",
    "# Process the DataFrame in batches\n",
    "process_batch(df, batch_size, csv_file)\n",
    "\n",
    "print(\"Processing complete.\")"
   ]
  },
  {
   "cell_type": "markdown",
   "metadata": {},
   "source": [
    "### 2.6. GPT-4 repeat labelling "
   ]
  },
  {
   "cell_type": "code",
   "execution_count": 4,
   "metadata": {},
   "outputs": [
    {
     "name": "stdout",
     "output_type": "stream",
     "text": [
      "(3648, 8)\n"
     ]
    }
   ],
   "source": [
    "# Read in data saved in a csv file in the previoius step\n",
    "file_path = '../data/wsb_sentiment_results.csv'\n",
    "df_check = pd.read_csv(file_path)\n",
    "\n",
    "print(df_check.shape)"
   ]
  },
  {
   "cell_type": "markdown",
   "metadata": {},
   "source": [
    "As a resut of partial processing of the Reddit unlabelled messages with Chat GPT 3.5 API I have accumulated 3648 rows."
   ]
  },
  {
   "cell_type": "code",
   "execution_count": 89,
   "metadata": {},
   "outputs": [
    {
     "data": {
      "text/html": [
       "<div>\n",
       "<style scoped>\n",
       "    .dataframe tbody tr th:only-of-type {\n",
       "        vertical-align: middle;\n",
       "    }\n",
       "\n",
       "    .dataframe tbody tr th {\n",
       "        vertical-align: top;\n",
       "    }\n",
       "\n",
       "    .dataframe thead th {\n",
       "        text-align: right;\n",
       "    }\n",
       "</style>\n",
       "<table border=\"1\" class=\"dataframe\">\n",
       "  <thead>\n",
       "    <tr style=\"text-align: right;\">\n",
       "      <th></th>\n",
       "      <th>id</th>\n",
       "      <th>title</th>\n",
       "      <th>selftext</th>\n",
       "      <th>Text</th>\n",
       "      <th>token_count</th>\n",
       "      <th>Sentiment_Tag</th>\n",
       "      <th>Unnamed: 6</th>\n",
       "      <th>Unnamed: 7</th>\n",
       "    </tr>\n",
       "  </thead>\n",
       "  <tbody>\n",
       "    <tr>\n",
       "      <th>0</th>\n",
       "      <td>mqp6lv</td>\n",
       "      <td>COIN IPO Megathread 4/14/2021</td>\n",
       "      <td>This is a megathread for the $COIN IPO.  We will allow discussion of the COIN stock, but do note that the no crypto rule still applies.  If you use COIN as a proxy to discuss crypto, instead of discussing the stock, you will be banned.  Itâs a bit of a gray line, so ensure that you keep discussion focused on the stock.\\n\\n\\nEdit: Direct Listing*</td>\n",
       "      <td>COIN IPO Megathread 4/14/2021, This is a megathread for the $COIN IPO.  We will allow discussion of the COIN stock, but do note that the no crypto rule still applies.  If you use COIN as a proxy to discuss crypto, instead of discussing the stock, you will be banned.  Itâs a bit of a gray line, so ensure that you keep discussion focused on the stock.\\n\\n\\nEdit: Direct Listing*</td>\n",
       "      <td>103</td>\n",
       "      <td>Unclear</td>\n",
       "      <td>NaN</td>\n",
       "      <td>NaN</td>\n",
       "    </tr>\n",
       "    <tr>\n",
       "      <th>1</th>\n",
       "      <td>pk8tne</td>\n",
       "      <td>For anyone who doesnât understand why Hedgefonds lost, this ape explained it well.</td>\n",
       "      <td>NaN</td>\n",
       "      <td>For anyone who doesnât understand why Hedgefonds lost, this ape explained it well., nan</td>\n",
       "      <td>21</td>\n",
       "      <td>Unclear</td>\n",
       "      <td>NaN</td>\n",
       "      <td>NaN</td>\n",
       "    </tr>\n",
       "  </tbody>\n",
       "</table>\n",
       "</div>"
      ],
      "text/plain": [
       "       id  \\\n",
       "0  mqp6lv   \n",
       "1  pk8tne   \n",
       "\n",
       "                                                                                  title  \\\n",
       "0                                                         COIN IPO Megathread 4/14/2021   \n",
       "1  For anyone who doesnât understand why Hedgefonds lost, this ape explained it well.   \n",
       "\n",
       "                                                                                                                                                                                                                                                                                                                                                        selftext  \\\n",
       "0  This is a megathread for the $COIN IPO.  We will allow discussion of the COIN stock, but do note that the no crypto rule still applies.  If you use COIN as a proxy to discuss crypto, instead of discussing the stock, you will be banned.  Itâs a bit of a gray line, so ensure that you keep discussion focused on the stock.\\n\\n\\nEdit: Direct Listing*   \n",
       "1                                                                                                                                                                                                                                                                                                                                                            NaN   \n",
       "\n",
       "                                                                                                                                                                                                                                                                                                                                                                                           Text  \\\n",
       "0  COIN IPO Megathread 4/14/2021, This is a megathread for the $COIN IPO.  We will allow discussion of the COIN stock, but do note that the no crypto rule still applies.  If you use COIN as a proxy to discuss crypto, instead of discussing the stock, you will be banned.  Itâs a bit of a gray line, so ensure that you keep discussion focused on the stock.\\n\\n\\nEdit: Direct Listing*   \n",
       "1                                                                                                                                                                                                                                                                                                     For anyone who doesnât understand why Hedgefonds lost, this ape explained it well., nan   \n",
       "\n",
       "   token_count Sentiment_Tag  Unnamed: 6 Unnamed: 7  \n",
       "0          103       Unclear         NaN        NaN  \n",
       "1           21       Unclear         NaN        NaN  "
      ]
     },
     "execution_count": 89,
     "metadata": {},
     "output_type": "execute_result"
    }
   ],
   "source": [
    "# Set maximum column width to None to display full text content\n",
    "pd.set_option('display.max_colwidth', None)\n",
    "df_check.head(2)"
   ]
  },
  {
   "cell_type": "code",
   "execution_count": 90,
   "metadata": {},
   "outputs": [
    {
     "name": "stdout",
     "output_type": "stream",
     "text": [
      "Sentiment_Tag\n",
      "Unclear     1545\n",
      "Positive    1171\n",
      "Negative     725\n",
      "Error        203\n",
      "Neutral        4\n",
      "Name: count, dtype: int64\n"
     ]
    }
   ],
   "source": [
    "# Getting frequency counts for 'Sentiment_Tag'\n",
    "tag_counts = df_check['Sentiment_Tag'].value_counts()\n",
    "\n",
    "# Displaying the frequency counts\n",
    "print(tag_counts)"
   ]
  },
  {
   "cell_type": "code",
   "execution_count": 91,
   "metadata": {},
   "outputs": [
    {
     "data": {
      "text/plain": [
       "(725, 8)"
      ]
     },
     "execution_count": 91,
     "metadata": {},
     "output_type": "execute_result"
    }
   ],
   "source": [
    "df_check = df_check[df_check['Sentiment_Tag'] != 'Error'].copy()\n",
    "df_check = df_check[df_check['Sentiment_Tag'] != 'Unclear'].copy()\n",
    "df_check = df_check[df_check['Sentiment_Tag'] != 'Positive'].copy()\n",
    "df_check = df_check[df_check['Sentiment_Tag'] != 'Neutral'].copy()\n",
    "df_check.shape"
   ]
  },
  {
   "cell_type": "markdown",
   "metadata": {},
   "source": [
    "In total, I have 725 negative ratings, or 20% of the data given to GPT 3.5 (first \"set of eyes\"). This percentage seems to be reasonable and consistent with my expectations. \n",
    "\n",
    "When I review the quality of the GPT 3.5 ratings, I notice that while many of them are correct, not all of them are perfectly on point.  Some ratings I disagree with. In order to increase my confidence in having good quality ratings, I decided to screen them again, using a different GPT model (GPT 4). \n",
    "\n",
    "In the code below I am re-checking the negative ratings from the previous step with GPT-4, a more advanced model (also more expensive to process tokens). I essentially treat GPT-4 model as a second set of eyes (as another human) to confirm the ratings given to me by Chat GPT 3.5 model.  I record the results of GPT-4 model processing in a new column Sentiment_Tag_2, in batches, in a new csv file. \n",
    "\n",
    "For my negative ratings up sampling I will select only those that were rated as \"negative\" by both models. \n",
    "\n",
    "The code below is a replica of the code used in teh previous section, but with GPT-4 model, not GPT 3.5 as before: \n"
   ]
  },
  {
   "cell_type": "code",
   "execution_count": 62,
   "metadata": {},
   "outputs": [
    {
     "name": "stdout",
     "output_type": "stream",
     "text": [
      "Processed batch 1 of 4\n",
      "Processed batch 2 of 4\n",
      "Processed batch 3 of 4\n",
      "Processed batch 4 of 4\n",
      "Processed batch 5 of 4\n",
      "Processing complete.\n"
     ]
    }
   ],
   "source": [
    "# Function to send text to GPT-4 and receive sentiment tag (you need to implement this)\n",
    "openai.api_key = \"MY_OPENAI_KEY\"\n",
    "\n",
    "def ask_gpt(text):\n",
    "    try:\n",
    "        # Sending the prompt to the ChatGPT model and getting the response\n",
    "        response = openai.ChatCompletion.create(\n",
    "            model=\"gpt-4\",  \n",
    "            messages=[{\"role\": \"system\", \"content\": \"You are a helpful assistant.\"}, \n",
    "                      {\"role\": \"user\", \"content\": text}]\n",
    "        )\n",
    "        # Returning the text of the response\n",
    "        return response.choices[0].message['content'].strip()\n",
    "    except Exception as e:\n",
    "        print(f\"An error occurred: {e}\")\n",
    "        return \"Error\"\n",
    "\n",
    "def throttled_request(text, delay=5.0):\n",
    "    response = ask_gpt(text)\n",
    "    time.sleep(delay)\n",
    "    return response\n",
    "\n",
    "# Function to process a batch and append results to a CSV file\n",
    "def process_batch(df, batch_size, csv_file):\n",
    "    start = 0\n",
    "    while start < len(df):\n",
    "        end = min(start + batch_size, len(df))\n",
    "        batch = df.iloc[start:end].copy()  \n",
    "        batch['Sentiment_Tag_2'] = batch['Text'].apply(lambda text: throttled_request(f\"\"\"You will be presented with a Reddit message and your job is to provide in return a sentiment tag: choose either the “Positive” OR “Negative” OR “Unclear” tag but NOT several). \n",
    "Assess the sentiment of a Reddit message concerning shares, identified by company names or stock tickers. \n",
    "Focus exclusively on sentiments about the shares' performance, not the overall business performance. Evaluate the entire post. \n",
    "Classify the sentiment as 'Positive' for actions like buying calls, holding call options, or selling put options; \n",
    "'Negative' for buying puts, holding put options, or selling call options; \n",
    "and 'Unclear' for neutral, mixed, conflicting sentiments, or unclear mentions. \n",
    "Return back a tag with a sentiment concerning the shares. Choose tags ONLY from the list of tags provided above. \n",
    "Provide in response just a tag without an explanation.\n",
    "Message: {text}\"\"\"))\n",
    "        # Append batch results to CSV file\n",
    "        if start == 0:\n",
    "            batch.to_csv(csv_file, mode='w', header=True, index=False)  \n",
    "        else:\n",
    "            batch.to_csv(csv_file, mode='a', header=False, index=False)  \n",
    "        \n",
    "        start += batch_size\n",
    "        print(f\"Processed batch {start // batch_size} of {len(df) // batch_size}\")\n",
    "\n",
    "# Parameters\n",
    "batch_size = 150  \n",
    "csv_file = '../data/wsb_sentiment_results_check.csv'\n",
    "\n",
    "# Process the DataFrame in batches\n",
    "process_batch(df_check, batch_size, csv_file)\n",
    "\n",
    "print(\"Processing complete.\")"
   ]
  },
  {
   "cell_type": "markdown",
   "metadata": {},
   "source": [
    "### 2.7. Re-checking the chat GPT-4 ratings and comparing two GPT model outputs"
   ]
  },
  {
   "cell_type": "code",
   "execution_count": 6,
   "metadata": {},
   "outputs": [
    {
     "name": "stdout",
     "output_type": "stream",
     "text": [
      "(725, 7)\n"
     ]
    }
   ],
   "source": [
    "# Read in data\n",
    "df_check_gpt4 = pd.read_csv('../data/wsb_sentiment_results_check.csv')\n",
    "print(df_check_gpt4.shape)\n",
    "# df = df.head(9)\n",
    "#print(df.shape)"
   ]
  },
  {
   "cell_type": "code",
   "execution_count": 7,
   "metadata": {},
   "outputs": [
    {
     "name": "stdout",
     "output_type": "stream",
     "text": [
      "<class 'pandas.core.frame.DataFrame'>\n",
      "RangeIndex: 725 entries, 0 to 724\n",
      "Data columns (total 7 columns):\n",
      " #   Column           Non-Null Count  Dtype \n",
      "---  ------           --------------  ----- \n",
      " 0   id               725 non-null    object\n",
      " 1   title            725 non-null    object\n",
      " 2   selftext         464 non-null    object\n",
      " 3   Text             725 non-null    object\n",
      " 4   token_count      725 non-null    int64 \n",
      " 5   Sentiment_Tag    725 non-null    object\n",
      " 6   Sentiment_Tag_2  725 non-null    object\n",
      "dtypes: int64(1), object(6)\n",
      "memory usage: 39.8+ KB\n"
     ]
    }
   ],
   "source": [
    "df_check_gpt4.info()"
   ]
  },
  {
   "cell_type": "markdown",
   "metadata": {},
   "source": [
    "Having a look at the new ratings (see new column Sentriment_Tag_2),  anc comparing the output of two GPT models:"
   ]
  },
  {
   "cell_type": "code",
   "execution_count": 10,
   "metadata": {},
   "outputs": [
    {
     "data": {
      "text/html": [
       "<div>\n",
       "<style scoped>\n",
       "    .dataframe tbody tr th:only-of-type {\n",
       "        vertical-align: middle;\n",
       "    }\n",
       "\n",
       "    .dataframe tbody tr th {\n",
       "        vertical-align: top;\n",
       "    }\n",
       "\n",
       "    .dataframe thead th {\n",
       "        text-align: right;\n",
       "    }\n",
       "</style>\n",
       "<table border=\"1\" class=\"dataframe\">\n",
       "  <thead>\n",
       "    <tr style=\"text-align: right;\">\n",
       "      <th></th>\n",
       "      <th>id</th>\n",
       "      <th>title</th>\n",
       "      <th>selftext</th>\n",
       "      <th>Text</th>\n",
       "      <th>token_count</th>\n",
       "      <th>Sentiment_Tag</th>\n",
       "      <th>Sentiment_Tag_2</th>\n",
       "    </tr>\n",
       "  </thead>\n",
       "  <tbody>\n",
       "    <tr>\n",
       "      <th>402</th>\n",
       "      <td>m0iyjz</td>\n",
       "      <td>$RKT Puts</td>\n",
       "      <td>Today my puts randomly changed prices. Is this...</td>\n",
       "      <td>$RKT Puts, Today my puts randomly changed pric...</td>\n",
       "      <td>28</td>\n",
       "      <td>Negative</td>\n",
       "      <td>Negative</td>\n",
       "    </tr>\n",
       "    <tr>\n",
       "      <th>370</th>\n",
       "      <td>mq7yi5</td>\n",
       "      <td>SPY puts</td>\n",
       "      <td>[spy](https://i.postimg.cc/j20LdVxJ/FEF3-A80-B...</td>\n",
       "      <td>SPY puts, [spy](https://i.postimg.cc/j20LdVxJ/...</td>\n",
       "      <td>150</td>\n",
       "      <td>Negative</td>\n",
       "      <td>Negative</td>\n",
       "    </tr>\n",
       "    <tr>\n",
       "      <th>377</th>\n",
       "      <td>mqe8ox</td>\n",
       "      <td>XL Puts 4/16</td>\n",
       "      <td>I know its very risky but i feel like its a sa...</td>\n",
       "      <td>XL Puts 4/16, I know its very risky but i feel...</td>\n",
       "      <td>29</td>\n",
       "      <td>Negative</td>\n",
       "      <td>Negative</td>\n",
       "    </tr>\n",
       "    <tr>\n",
       "      <th>560</th>\n",
       "      <td>nk6jum</td>\n",
       "      <td>They refuse to let GME close above $180. WTH</td>\n",
       "      <td>Where are they getting all these shares to sho...</td>\n",
       "      <td>They refuse to let GME close above $180. WTH, ...</td>\n",
       "      <td>152</td>\n",
       "      <td>Negative</td>\n",
       "      <td>Positive</td>\n",
       "    </tr>\n",
       "    <tr>\n",
       "      <th>701</th>\n",
       "      <td>mlp05i</td>\n",
       "      <td>She looks hungry for some shorts tomorrow 🍌🚀🤨 ...</td>\n",
       "      <td>NaN</td>\n",
       "      <td>She looks hungry for some shorts tomorrow 🍌🚀🤨 ...</td>\n",
       "      <td>21</td>\n",
       "      <td>Negative</td>\n",
       "      <td>Positive</td>\n",
       "    </tr>\n",
       "  </tbody>\n",
       "</table>\n",
       "</div>"
      ],
      "text/plain": [
       "         id                                              title  \\\n",
       "402  m0iyjz                                          $RKT Puts   \n",
       "370  mq7yi5                                           SPY puts   \n",
       "377  mqe8ox                                       XL Puts 4/16   \n",
       "560  nk6jum       They refuse to let GME close above $180. WTH   \n",
       "701  mlp05i  She looks hungry for some shorts tomorrow 🍌🚀🤨 ...   \n",
       "\n",
       "                                              selftext  \\\n",
       "402  Today my puts randomly changed prices. Is this...   \n",
       "370  [spy](https://i.postimg.cc/j20LdVxJ/FEF3-A80-B...   \n",
       "377  I know its very risky but i feel like its a sa...   \n",
       "560  Where are they getting all these shares to sho...   \n",
       "701                                                NaN   \n",
       "\n",
       "                                                  Text  token_count  \\\n",
       "402  $RKT Puts, Today my puts randomly changed pric...           28   \n",
       "370  SPY puts, [spy](https://i.postimg.cc/j20LdVxJ/...          150   \n",
       "377  XL Puts 4/16, I know its very risky but i feel...           29   \n",
       "560  They refuse to let GME close above $180. WTH, ...          152   \n",
       "701  She looks hungry for some shorts tomorrow 🍌🚀🤨 ...           21   \n",
       "\n",
       "    Sentiment_Tag Sentiment_Tag_2  \n",
       "402      Negative        Negative  \n",
       "370      Negative        Negative  \n",
       "377      Negative        Negative  \n",
       "560      Negative        Positive  \n",
       "701      Negative        Positive  "
      ]
     },
     "execution_count": 10,
     "metadata": {},
     "output_type": "execute_result"
    }
   ],
   "source": [
    "df_check_gpt4.sample(5)"
   ]
  },
  {
   "cell_type": "code",
   "execution_count": 115,
   "metadata": {},
   "outputs": [
    {
     "name": "stdout",
     "output_type": "stream",
     "text": [
      "Sentiment_Tag_2\n",
      "Negative    450\n",
      "Unclear     208\n",
      "Positive     67\n",
      "Name: count, dtype: int64\n"
     ]
    },
    {
     "data": {
      "text/plain": [
       "(725, 7)"
      ]
     },
     "execution_count": 115,
     "metadata": {},
     "output_type": "execute_result"
    }
   ],
   "source": [
    "# Getting frequency counts for 'Sentiment_Tag'\n",
    "tag_counts = df_check_gpt4['Sentiment_Tag_2'].value_counts()\n",
    "\n",
    "# Displaying the frequency counts\n",
    "print(tag_counts)\n",
    "df_check_gpt4.shape"
   ]
  },
  {
   "cell_type": "markdown",
   "metadata": {},
   "source": [
    "There is a considerable degree of disagreement between the two GPT models. "
   ]
  },
  {
   "cell_type": "code",
   "execution_count": 24,
   "metadata": {},
   "outputs": [
    {
     "data": {
      "image/png": "[encoded data removed]",
      "text/plain": [
       "<Figure size 400x200 with 2 Axes>"
      ]
     },
     "metadata": {},
     "output_type": "display_data"
    }
   ],
   "source": [
    "# Create a crosstab of the two columns\n",
    "crosstab_result = pd.crosstab(df_check_gpt4['Sentiment_Tag'], df_check_gpt4['Sentiment_Tag_2'])\n",
    "\n",
    "# Plotting the crosstab\n",
    "plt.figure(figsize=(4, 2))  \n",
    "sns.heatmap(crosstab_result, annot=True, fmt=\"d\", cmap=\"coolwarm\")  # 'fmt' is format of the annotation (integer in this case)\n",
    "\n",
    "# Adding titles and labels\n",
    "plt.title('Crosstab of GPT 4 vs GPT 3.5')\n",
    "plt.xlabel('Sentiment GPT 4')\n",
    "plt.ylabel('Sentiment GPT 3.5')\n",
    "\n",
    "# Display the plot\n",
    "plt.show()"
   ]
  },
  {
   "cell_type": "markdown",
   "metadata": {},
   "source": [
    "450 rows weer rated as \"negative\" by both GPT models.  This is 62% of the starting number of rows rated as negative by Chat GPT 3.5 (725 rows).  In 9% of cases Chat GPT 4 completely disagreed with the negative rating given by Chat GPT 3.5 and assigned \"positive\" rating to the text. \n",
    "\n",
    "**Conclusion**:  I will treat those instances where both Chat GPT models agreed that the rating was \"negative\" as the additional \"ground truth\" for my model training.  This will help to address the deficit of negative ratings in the labelled dataset and will help in training my models."
   ]
  },
  {
   "cell_type": "code",
   "execution_count": 116,
   "metadata": {},
   "outputs": [
    {
     "name": "stdout",
     "output_type": "stream",
     "text": [
      "(450, 7)\n"
     ]
    }
   ],
   "source": [
    "# Deleting rows where two GPT models disagree with each other. Keeping only those rows where both ratings are \"negative\"\n",
    "df_check_gpt4 = df_check_gpt4[df_check_gpt4['Sentiment_Tag_2'] != 'Unclear'].copy()\n",
    "df_check_gpt4.reset_index(drop=True, inplace=True)\n",
    "\n",
    "df_check_gpt4 = df_check_gpt4[df_check_gpt4['Sentiment_Tag_2'] != 'Positive'].copy()\n",
    "df_check_gpt4.reset_index(drop=True, inplace=True)\n",
    "\n",
    "print(df_check_gpt4.shape)\n"
   ]
  },
  {
   "cell_type": "markdown",
   "metadata": {},
   "source": [
    "### 2.8. Cleaning the newly generated negative reviews"
   ]
  },
  {
   "cell_type": "markdown",
   "metadata": {},
   "source": [
    "In the code below I repeat the same cleaning steps as in the notbook 01 Labelled EDA and Cleaning, to ensure pre-processing consistency: \n",
    "\n",
    "* checking for missing values and duplicates\n",
    "* removing website inks (urls), hashtags (#) and mentions (@)\n",
    "* the resulting dataset is then saved into a csv file"
   ]
  },
  {
   "cell_type": "code",
   "execution_count": 117,
   "metadata": {},
   "outputs": [
    {
     "data": {
      "text/html": [
       "<div>\n",
       "<style scoped>\n",
       "    .dataframe tbody tr th:only-of-type {\n",
       "        vertical-align: middle;\n",
       "    }\n",
       "\n",
       "    .dataframe tbody tr th {\n",
       "        vertical-align: top;\n",
       "    }\n",
       "\n",
       "    .dataframe thead th {\n",
       "        text-align: right;\n",
       "    }\n",
       "</style>\n",
       "<table border=\"1\" class=\"dataframe\">\n",
       "  <thead>\n",
       "    <tr style=\"text-align: right;\">\n",
       "      <th></th>\n",
       "      <th>id</th>\n",
       "      <th>title</th>\n",
       "      <th>selftext</th>\n",
       "      <th>Text</th>\n",
       "      <th>token_count</th>\n",
       "      <th>Sentiment_Tag</th>\n",
       "      <th>Sentiment_Tag_2</th>\n",
       "    </tr>\n",
       "  </thead>\n",
       "  <tbody>\n",
       "  </tbody>\n",
       "</table>\n",
       "</div>"
      ],
      "text/plain": [
       "Empty DataFrame\n",
       "Columns: [id, title, selftext, Text, token_count, Sentiment_Tag, Sentiment_Tag_2]\n",
       "Index: []"
      ]
     },
     "execution_count": 117,
     "metadata": {},
     "output_type": "execute_result"
    }
   ],
   "source": [
    "df_check_gpt4[ df_check_gpt4['Text'].isna() ]"
   ]
  },
  {
   "cell_type": "code",
   "execution_count": 118,
   "metadata": {},
   "outputs": [
    {
     "data": {
      "text/html": [
       "<div>\n",
       "<style scoped>\n",
       "    .dataframe tbody tr th:only-of-type {\n",
       "        vertical-align: middle;\n",
       "    }\n",
       "\n",
       "    .dataframe tbody tr th {\n",
       "        vertical-align: top;\n",
       "    }\n",
       "\n",
       "    .dataframe thead th {\n",
       "        text-align: right;\n",
       "    }\n",
       "</style>\n",
       "<table border=\"1\" class=\"dataframe\">\n",
       "  <thead>\n",
       "    <tr style=\"text-align: right;\">\n",
       "      <th></th>\n",
       "      <th>id</th>\n",
       "      <th>title</th>\n",
       "      <th>selftext</th>\n",
       "      <th>Text</th>\n",
       "      <th>token_count</th>\n",
       "      <th>Sentiment_Tag</th>\n",
       "      <th>Sentiment_Tag_2</th>\n",
       "    </tr>\n",
       "  </thead>\n",
       "  <tbody>\n",
       "  </tbody>\n",
       "</table>\n",
       "</div>"
      ],
      "text/plain": [
       "Empty DataFrame\n",
       "Columns: [id, title, selftext, Text, token_count, Sentiment_Tag, Sentiment_Tag_2]\n",
       "Index: []"
      ]
     },
     "execution_count": 118,
     "metadata": {},
     "output_type": "execute_result"
    }
   ],
   "source": [
    "df_check_gpt4[df_check_gpt4['Text'].isna() ]"
   ]
  },
  {
   "cell_type": "code",
   "execution_count": 119,
   "metadata": {},
   "outputs": [],
   "source": [
    "df_clean = df_check_gpt4.copy()\n",
    "df_clean.reset_index(drop=True, inplace=True)"
   ]
  },
  {
   "cell_type": "code",
   "execution_count": 120,
   "metadata": {},
   "outputs": [],
   "source": [
    "# Function to clean text\n",
    "def purge_content(text):\n",
    "    text_without_urls = re.sub(r'https?://\\S+|www\\.\\S+', '', text)\n",
    "    text_without_hashtags = re.sub(r'#\\S+', '', text_without_urls)\n",
    "    text_without_mentions = re.sub(r'@\\S+', '', text_without_hashtags)\n",
    "    text_without_linebreaks = re.sub(r'\\n+', '', text_without_mentions)\n",
    "    clean_text = re.sub(r'\\n+', ' ', text_without_linebreaks)\n",
    "\n",
    "    return clean_text"
   ]
  },
  {
   "cell_type": "code",
   "execution_count": 121,
   "metadata": {},
   "outputs": [],
   "source": [
    "# Using apply() method to clean the text\n",
    "df_clean['Text'] = df_clean['Text'].apply(purge_content)"
   ]
  },
  {
   "cell_type": "code",
   "execution_count": 122,
   "metadata": {},
   "outputs": [
    {
     "data": {
      "text/html": [
       "<div>\n",
       "<style scoped>\n",
       "    .dataframe tbody tr th:only-of-type {\n",
       "        vertical-align: middle;\n",
       "    }\n",
       "\n",
       "    .dataframe tbody tr th {\n",
       "        vertical-align: top;\n",
       "    }\n",
       "\n",
       "    .dataframe thead th {\n",
       "        text-align: right;\n",
       "    }\n",
       "</style>\n",
       "<table border=\"1\" class=\"dataframe\">\n",
       "  <thead>\n",
       "    <tr style=\"text-align: right;\">\n",
       "      <th></th>\n",
       "      <th>id</th>\n",
       "      <th>title</th>\n",
       "      <th>selftext</th>\n",
       "      <th>Text</th>\n",
       "      <th>token_count</th>\n",
       "      <th>Sentiment_Tag</th>\n",
       "      <th>Sentiment_Tag_2</th>\n",
       "    </tr>\n",
       "  </thead>\n",
       "  <tbody>\n",
       "    <tr>\n",
       "      <th>221</th>\n",
       "      <td>m2jt64</td>\n",
       "      <td>To my best friend who experienced his first loss</td>\n",
       "      <td>(Disclaimer: This is my humble opinion about t...</td>\n",
       "      <td>To my best friend who experienced his first lo...</td>\n",
       "      <td>1061</td>\n",
       "      <td>Negative</td>\n",
       "      <td>Negative</td>\n",
       "    </tr>\n",
       "    <tr>\n",
       "      <th>128</th>\n",
       "      <td>nchd2q</td>\n",
       "      <td>I promised you an update after earnings... And...</td>\n",
       "      <td>NaN</td>\n",
       "      <td>I promised you an update after earnings... And...</td>\n",
       "      <td>64</td>\n",
       "      <td>Negative</td>\n",
       "      <td>Negative</td>\n",
       "    </tr>\n",
       "    <tr>\n",
       "      <th>141</th>\n",
       "      <td>r0sqxy</td>\n",
       "      <td>PLTR CEO on CNBC convinced me that I need to b...</td>\n",
       "      <td>I have been using PLTR for the wheel strategy ...</td>\n",
       "      <td>PLTR CEO on CNBC convinced me that I need to b...</td>\n",
       "      <td>233</td>\n",
       "      <td>Negative</td>\n",
       "      <td>Negative</td>\n",
       "    </tr>\n",
       "  </tbody>\n",
       "</table>\n",
       "</div>"
      ],
      "text/plain": [
       "         id                                              title  \\\n",
       "221  m2jt64   To my best friend who experienced his first loss   \n",
       "128  nchd2q  I promised you an update after earnings... And...   \n",
       "141  r0sqxy  PLTR CEO on CNBC convinced me that I need to b...   \n",
       "\n",
       "                                              selftext  \\\n",
       "221  (Disclaimer: This is my humble opinion about t...   \n",
       "128                                                NaN   \n",
       "141  I have been using PLTR for the wheel strategy ...   \n",
       "\n",
       "                                                  Text  token_count  \\\n",
       "221  To my best friend who experienced his first lo...         1061   \n",
       "128  I promised you an update after earnings... And...           64   \n",
       "141  PLTR CEO on CNBC convinced me that I need to b...          233   \n",
       "\n",
       "    Sentiment_Tag Sentiment_Tag_2  \n",
       "221      Negative        Negative  \n",
       "128      Negative        Negative  \n",
       "141      Negative        Negative  "
      ]
     },
     "execution_count": 122,
     "metadata": {},
     "output_type": "execute_result"
    }
   ],
   "source": [
    "df_clean.sample(3)"
   ]
  },
  {
   "cell_type": "markdown",
   "metadata": {},
   "source": [
    "### 2.9. Saving the cleaned dataframe into a CSV file for further steps in modelling"
   ]
  },
  {
   "cell_type": "code",
   "execution_count": 125,
   "metadata": {},
   "outputs": [],
   "source": [
    "# Save the DataFrame to a CSV file\n",
    "df_clean.to_csv('../data/reddit_gpt4_negative_only_cleaned.csv', index=False)"
   ]
  },
  {
   "cell_type": "markdown",
   "metadata": {},
   "source": [
    "### 2.10. Conclusions"
   ]
  },
  {
   "cell_type": "markdown",
   "metadata": {},
   "source": [
    "* I have identified 450 additional negative intentions messages.  \n",
    "* 3.6 thousands messages fed to two GPT models yielded 450 double labelled negative messages. \n",
    "* Total cost - around $12.  \n",
    "* The main limiting factor was time, as GPT 3.5 API is very slow and prone to freezing up and crashing.  \n",
    "\n",
    "I will use the newly labelled messages to upsample my imbalaned labelled dataset."
   ]
  }
 ],
 "metadata": {
  "kernelspec": {
   "display_name": "myenv2",
   "language": "python",
   "name": "python3"
  },
  "language_info": {
   "codemirror_mode": {
    "name": "ipython",
    "version": 3
   },
   "file_extension": ".py",
   "mimetype": "text/x-python",
   "name": "python",
   "nbconvert_exporter": "python",
   "pygments_lexer": "ipython3",
   "version": "3.8.16"
  }
 },
 "nbformat": 4,
 "nbformat_minor": 2
}
