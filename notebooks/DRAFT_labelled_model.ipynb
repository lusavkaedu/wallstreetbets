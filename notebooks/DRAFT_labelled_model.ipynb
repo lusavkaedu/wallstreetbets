{
 "cells": [
  {
   "cell_type": "markdown",
   "metadata": {},
   "source": [
    "# Capstone Project \n",
    "\n",
    "**BrainStation Data Science Bootcamp - Machine Learning Project**\n",
    "\n",
    "**Author: L Gavrilova**\n",
    "\n",
    "**Date:  2023**"
   ]
  },
  {
   "cell_type": "markdown",
   "metadata": {
    "Collapsed": "false"
   },
   "source": [
    "# Notebook 2b. Labelled Model Training"
   ]
  },
  {
   "cell_type": "markdown",
   "metadata": {
    "Collapsed": "false"
   },
   "source": [
    "## 2.0 Imports"
   ]
  },
  {
   "cell_type": "code",
   "execution_count": 153,
   "metadata": {
    "Collapsed": "false"
   },
   "outputs": [],
   "source": [
    "# Standard Libraries for data manipulation\n",
    "import pandas as pd\n",
    "import numpy as np\n",
    "\n",
    "# Visualization Libraries\n",
    "import matplotlib.pyplot as plt\n",
    "import seaborn as sns\n",
    "\n",
    "# NLP Libraries\n",
    "import nltk\n",
    "from nltk.corpus import stopwords\n",
    "from nltk.tokenize import RegexpTokenizer, word_tokenize\n",
    "from nltk.stem import PorterStemmer, WordNetLemmatizer\n",
    "import re\n",
    "import string\n",
    "\n",
    "# Machine Learning Libraries\n",
    "from sklearn.model_selection import train_test_split, GridSearchCV, cross_val_score\n",
    "from sklearn.feature_extraction.text import CountVectorizer, TfidfVectorizer\n",
    "from sklearn.pipeline import Pipeline\n",
    "from sklearn.decomposition import PCA, TruncatedSVD\n",
    "from sklearn.tree import DecisionTreeClassifier\n",
    "from sklearn.linear_model import LogisticRegression\n",
    "from sklearn.metrics import accuracy_score, classification_report, confusion_matrix, f1_score"
   ]
  },
  {
   "cell_type": "code",
   "execution_count": 154,
   "metadata": {
    "Collapsed": "false"
   },
   "outputs": [],
   "source": [
    "df = pd.read_csv('../data/annotation file 3600 done 1142022.csv')"
   ]
  },
  {
   "cell_type": "code",
   "execution_count": 155,
   "metadata": {},
   "outputs": [
    {
     "name": "stdout",
     "output_type": "stream",
     "text": [
      "<class 'pandas.core.frame.DataFrame'>\n",
      "RangeIndex: 5020 entries, 0 to 5019\n",
      "Data columns (total 6 columns):\n",
      " #   Column     Non-Null Count  Dtype \n",
      "---  ------     --------------  ----- \n",
      " 0   link_id    5001 non-null   object\n",
      " 1   parent_id  5001 non-null   object\n",
      " 2   User       5001 non-null   object\n",
      " 3   Text       5001 non-null   object\n",
      " 4   Intent     5001 non-null   object\n",
      " 5   Support    5001 non-null   object\n",
      "dtypes: object(6)\n",
      "memory usage: 235.4+ KB\n"
     ]
    }
   ],
   "source": [
    "df.info()"
   ]
  },
  {
   "cell_type": "code",
   "execution_count": 156,
   "metadata": {},
   "outputs": [
    {
     "data": {
      "text/html": [
       "<div>\n",
       "<style scoped>\n",
       "    .dataframe tbody tr th:only-of-type {\n",
       "        vertical-align: middle;\n",
       "    }\n",
       "\n",
       "    .dataframe tbody tr th {\n",
       "        vertical-align: top;\n",
       "    }\n",
       "\n",
       "    .dataframe thead th {\n",
       "        text-align: right;\n",
       "    }\n",
       "</style>\n",
       "<table border=\"1\" class=\"dataframe\">\n",
       "  <thead>\n",
       "    <tr style=\"text-align: right;\">\n",
       "      <th></th>\n",
       "      <th>link_id</th>\n",
       "      <th>parent_id</th>\n",
       "      <th>User</th>\n",
       "      <th>Text</th>\n",
       "      <th>Intent</th>\n",
       "      <th>Support</th>\n",
       "    </tr>\n",
       "  </thead>\n",
       "  <tbody>\n",
       "    <tr>\n",
       "      <th>count</th>\n",
       "      <td>5001</td>\n",
       "      <td>5001</td>\n",
       "      <td>5001</td>\n",
       "      <td>5001</td>\n",
       "      <td>5001</td>\n",
       "      <td>5001</td>\n",
       "    </tr>\n",
       "    <tr>\n",
       "      <th>unique</th>\n",
       "      <td>1948</td>\n",
       "      <td>3153</td>\n",
       "      <td>4662</td>\n",
       "      <td>4952</td>\n",
       "      <td>6</td>\n",
       "      <td>4</td>\n",
       "    </tr>\n",
       "    <tr>\n",
       "      <th>top</th>\n",
       "      <td>t3_ladzdt</td>\n",
       "      <td>t3_ladzdt</td>\n",
       "      <td>AutoModerator</td>\n",
       "      <td>GME</td>\n",
       "      <td>u</td>\n",
       "      <td>y</td>\n",
       "    </tr>\n",
       "    <tr>\n",
       "      <th>freq</th>\n",
       "      <td>66</td>\n",
       "      <td>46</td>\n",
       "      <td>14</td>\n",
       "      <td>22</td>\n",
       "      <td>3246</td>\n",
       "      <td>2473</td>\n",
       "    </tr>\n",
       "  </tbody>\n",
       "</table>\n",
       "</div>"
      ],
      "text/plain": [
       "          link_id  parent_id           User  Text Intent Support\n",
       "count        5001       5001           5001  5001   5001    5001\n",
       "unique       1948       3153           4662  4952      6       4\n",
       "top     t3_ladzdt  t3_ladzdt  AutoModerator   GME      u       y\n",
       "freq           66         46             14    22   3246    2473"
      ]
     },
     "execution_count": 156,
     "metadata": {},
     "output_type": "execute_result"
    }
   ],
   "source": [
    "df.describe()"
   ]
  },
  {
   "cell_type": "code",
   "execution_count": 157,
   "metadata": {},
   "outputs": [
    {
     "data": {
      "text/plain": [
       "False"
      ]
     },
     "execution_count": 157,
     "metadata": {},
     "output_type": "execute_result"
    }
   ],
   "source": [
    "df['link_id'].nunique() == df.shape[0]"
   ]
  },
  {
   "cell_type": "code",
   "execution_count": 158,
   "metadata": {},
   "outputs": [
    {
     "data": {
      "text/plain": [
       "link_id      0.003785\n",
       "parent_id    0.003785\n",
       "User         0.003785\n",
       "Text         0.003785\n",
       "Intent       0.003785\n",
       "Support      0.003785\n",
       "dtype: float64"
      ]
     },
     "execution_count": 158,
     "metadata": {},
     "output_type": "execute_result"
    }
   ],
   "source": [
    "df.isna().sum()/df.shape[0]"
   ]
  },
  {
   "cell_type": "code",
   "execution_count": 159,
   "metadata": {},
   "outputs": [
    {
     "data": {
      "text/html": [
       "<div>\n",
       "<style scoped>\n",
       "    .dataframe tbody tr th:only-of-type {\n",
       "        vertical-align: middle;\n",
       "    }\n",
       "\n",
       "    .dataframe tbody tr th {\n",
       "        vertical-align: top;\n",
       "    }\n",
       "\n",
       "    .dataframe thead th {\n",
       "        text-align: right;\n",
       "    }\n",
       "</style>\n",
       "<table border=\"1\" class=\"dataframe\">\n",
       "  <thead>\n",
       "    <tr style=\"text-align: right;\">\n",
       "      <th></th>\n",
       "      <th>link_id</th>\n",
       "      <th>parent_id</th>\n",
       "      <th>User</th>\n",
       "      <th>Text</th>\n",
       "      <th>Intent</th>\n",
       "      <th>Support</th>\n",
       "    </tr>\n",
       "  </thead>\n",
       "  <tbody>\n",
       "    <tr>\n",
       "      <th>5001</th>\n",
       "      <td>NaN</td>\n",
       "      <td>NaN</td>\n",
       "      <td>NaN</td>\n",
       "      <td>NaN</td>\n",
       "      <td>NaN</td>\n",
       "      <td>NaN</td>\n",
       "    </tr>\n",
       "    <tr>\n",
       "      <th>5002</th>\n",
       "      <td>NaN</td>\n",
       "      <td>NaN</td>\n",
       "      <td>NaN</td>\n",
       "      <td>NaN</td>\n",
       "      <td>NaN</td>\n",
       "      <td>NaN</td>\n",
       "    </tr>\n",
       "    <tr>\n",
       "      <th>5003</th>\n",
       "      <td>NaN</td>\n",
       "      <td>NaN</td>\n",
       "      <td>NaN</td>\n",
       "      <td>NaN</td>\n",
       "      <td>NaN</td>\n",
       "      <td>NaN</td>\n",
       "    </tr>\n",
       "    <tr>\n",
       "      <th>5004</th>\n",
       "      <td>NaN</td>\n",
       "      <td>NaN</td>\n",
       "      <td>NaN</td>\n",
       "      <td>NaN</td>\n",
       "      <td>NaN</td>\n",
       "      <td>NaN</td>\n",
       "    </tr>\n",
       "    <tr>\n",
       "      <th>5005</th>\n",
       "      <td>NaN</td>\n",
       "      <td>NaN</td>\n",
       "      <td>NaN</td>\n",
       "      <td>NaN</td>\n",
       "      <td>NaN</td>\n",
       "      <td>NaN</td>\n",
       "    </tr>\n",
       "    <tr>\n",
       "      <th>5006</th>\n",
       "      <td>NaN</td>\n",
       "      <td>NaN</td>\n",
       "      <td>NaN</td>\n",
       "      <td>NaN</td>\n",
       "      <td>NaN</td>\n",
       "      <td>NaN</td>\n",
       "    </tr>\n",
       "    <tr>\n",
       "      <th>5007</th>\n",
       "      <td>NaN</td>\n",
       "      <td>NaN</td>\n",
       "      <td>NaN</td>\n",
       "      <td>NaN</td>\n",
       "      <td>NaN</td>\n",
       "      <td>NaN</td>\n",
       "    </tr>\n",
       "    <tr>\n",
       "      <th>5008</th>\n",
       "      <td>NaN</td>\n",
       "      <td>NaN</td>\n",
       "      <td>NaN</td>\n",
       "      <td>NaN</td>\n",
       "      <td>NaN</td>\n",
       "      <td>NaN</td>\n",
       "    </tr>\n",
       "    <tr>\n",
       "      <th>5009</th>\n",
       "      <td>NaN</td>\n",
       "      <td>NaN</td>\n",
       "      <td>NaN</td>\n",
       "      <td>NaN</td>\n",
       "      <td>NaN</td>\n",
       "      <td>NaN</td>\n",
       "    </tr>\n",
       "    <tr>\n",
       "      <th>5010</th>\n",
       "      <td>NaN</td>\n",
       "      <td>NaN</td>\n",
       "      <td>NaN</td>\n",
       "      <td>NaN</td>\n",
       "      <td>NaN</td>\n",
       "      <td>NaN</td>\n",
       "    </tr>\n",
       "    <tr>\n",
       "      <th>5011</th>\n",
       "      <td>NaN</td>\n",
       "      <td>NaN</td>\n",
       "      <td>NaN</td>\n",
       "      <td>NaN</td>\n",
       "      <td>NaN</td>\n",
       "      <td>NaN</td>\n",
       "    </tr>\n",
       "    <tr>\n",
       "      <th>5012</th>\n",
       "      <td>NaN</td>\n",
       "      <td>NaN</td>\n",
       "      <td>NaN</td>\n",
       "      <td>NaN</td>\n",
       "      <td>NaN</td>\n",
       "      <td>NaN</td>\n",
       "    </tr>\n",
       "    <tr>\n",
       "      <th>5013</th>\n",
       "      <td>NaN</td>\n",
       "      <td>NaN</td>\n",
       "      <td>NaN</td>\n",
       "      <td>NaN</td>\n",
       "      <td>NaN</td>\n",
       "      <td>NaN</td>\n",
       "    </tr>\n",
       "    <tr>\n",
       "      <th>5014</th>\n",
       "      <td>NaN</td>\n",
       "      <td>NaN</td>\n",
       "      <td>NaN</td>\n",
       "      <td>NaN</td>\n",
       "      <td>NaN</td>\n",
       "      <td>NaN</td>\n",
       "    </tr>\n",
       "    <tr>\n",
       "      <th>5015</th>\n",
       "      <td>NaN</td>\n",
       "      <td>NaN</td>\n",
       "      <td>NaN</td>\n",
       "      <td>NaN</td>\n",
       "      <td>NaN</td>\n",
       "      <td>NaN</td>\n",
       "    </tr>\n",
       "    <tr>\n",
       "      <th>5016</th>\n",
       "      <td>NaN</td>\n",
       "      <td>NaN</td>\n",
       "      <td>NaN</td>\n",
       "      <td>NaN</td>\n",
       "      <td>NaN</td>\n",
       "      <td>NaN</td>\n",
       "    </tr>\n",
       "    <tr>\n",
       "      <th>5017</th>\n",
       "      <td>NaN</td>\n",
       "      <td>NaN</td>\n",
       "      <td>NaN</td>\n",
       "      <td>NaN</td>\n",
       "      <td>NaN</td>\n",
       "      <td>NaN</td>\n",
       "    </tr>\n",
       "    <tr>\n",
       "      <th>5018</th>\n",
       "      <td>NaN</td>\n",
       "      <td>NaN</td>\n",
       "      <td>NaN</td>\n",
       "      <td>NaN</td>\n",
       "      <td>NaN</td>\n",
       "      <td>NaN</td>\n",
       "    </tr>\n",
       "    <tr>\n",
       "      <th>5019</th>\n",
       "      <td>NaN</td>\n",
       "      <td>NaN</td>\n",
       "      <td>NaN</td>\n",
       "      <td>NaN</td>\n",
       "      <td>NaN</td>\n",
       "      <td>NaN</td>\n",
       "    </tr>\n",
       "  </tbody>\n",
       "</table>\n",
       "</div>"
      ],
      "text/plain": [
       "     link_id parent_id User Text Intent Support\n",
       "5001     NaN       NaN  NaN  NaN    NaN     NaN\n",
       "5002     NaN       NaN  NaN  NaN    NaN     NaN\n",
       "5003     NaN       NaN  NaN  NaN    NaN     NaN\n",
       "5004     NaN       NaN  NaN  NaN    NaN     NaN\n",
       "5005     NaN       NaN  NaN  NaN    NaN     NaN\n",
       "5006     NaN       NaN  NaN  NaN    NaN     NaN\n",
       "5007     NaN       NaN  NaN  NaN    NaN     NaN\n",
       "5008     NaN       NaN  NaN  NaN    NaN     NaN\n",
       "5009     NaN       NaN  NaN  NaN    NaN     NaN\n",
       "5010     NaN       NaN  NaN  NaN    NaN     NaN\n",
       "5011     NaN       NaN  NaN  NaN    NaN     NaN\n",
       "5012     NaN       NaN  NaN  NaN    NaN     NaN\n",
       "5013     NaN       NaN  NaN  NaN    NaN     NaN\n",
       "5014     NaN       NaN  NaN  NaN    NaN     NaN\n",
       "5015     NaN       NaN  NaN  NaN    NaN     NaN\n",
       "5016     NaN       NaN  NaN  NaN    NaN     NaN\n",
       "5017     NaN       NaN  NaN  NaN    NaN     NaN\n",
       "5018     NaN       NaN  NaN  NaN    NaN     NaN\n",
       "5019     NaN       NaN  NaN  NaN    NaN     NaN"
      ]
     },
     "execution_count": 159,
     "metadata": {},
     "output_type": "execute_result"
    }
   ],
   "source": [
    "df[ df['Text'].isna() ]"
   ]
  },
  {
   "cell_type": "code",
   "execution_count": 160,
   "metadata": {},
   "outputs": [],
   "source": [
    "# Dropping rows that have NaN values\n",
    "df = df.dropna()"
   ]
  },
  {
   "cell_type": "code",
   "execution_count": 161,
   "metadata": {},
   "outputs": [
    {
     "data": {
      "text/html": [
       "<div>\n",
       "<style scoped>\n",
       "    .dataframe tbody tr th:only-of-type {\n",
       "        vertical-align: middle;\n",
       "    }\n",
       "\n",
       "    .dataframe tbody tr th {\n",
       "        vertical-align: top;\n",
       "    }\n",
       "\n",
       "    .dataframe thead th {\n",
       "        text-align: right;\n",
       "    }\n",
       "</style>\n",
       "<table border=\"1\" class=\"dataframe\">\n",
       "  <thead>\n",
       "    <tr style=\"text-align: right;\">\n",
       "      <th></th>\n",
       "      <th>link_id</th>\n",
       "      <th>parent_id</th>\n",
       "      <th>User</th>\n",
       "      <th>Text</th>\n",
       "      <th>Intent</th>\n",
       "      <th>Support</th>\n",
       "    </tr>\n",
       "  </thead>\n",
       "  <tbody>\n",
       "  </tbody>\n",
       "</table>\n",
       "</div>"
      ],
      "text/plain": [
       "Empty DataFrame\n",
       "Columns: [link_id, parent_id, User, Text, Intent, Support]\n",
       "Index: []"
      ]
     },
     "execution_count": 161,
     "metadata": {},
     "output_type": "execute_result"
    }
   ],
   "source": [
    "df[ df['Text'].isna() ]"
   ]
  },
  {
   "cell_type": "markdown",
   "metadata": {},
   "source": [
    "## 2.1. Cleaning the text (pre-processing)"
   ]
  },
  {
   "cell_type": "code",
   "execution_count": 162,
   "metadata": {},
   "outputs": [],
   "source": [
    "# punctuation and anything except for letters is stripped away, also empty spaces go away. \n",
    "\n",
    "# Emojis are stripped off!!!! NB! \n",
    "\n",
    "if False:\n",
    "    \n",
    "    cleaned_df = df.copy()\n",
    "    # to replace any character that is not a lowercase or uppercase letter with a single space\n",
    "    # then to replace one or more whitespace characters (\\s+) with a single space\n",
    "    # then to replace '/n' with empty spaces\n",
    "    # then to remove all types of whitespace characters at the ends of the string\n",
    "    # cleaned_df[\"Text\"] = cleaned_df[\"Text\"].replace(\"\\n\", \"\").str.replace(r\"[^a-zA-Z]\", \" \").str.replace(r\"\\s+\", \" \")\n",
    "\n",
    "\n",
    "    # First, replace newline characters with an empty string for each element\n",
    "    cleaned_df[\"Text\"] = cleaned_df[\"Text\"].str.replace(\"\\n\", \"\", regex=False)\n",
    "\n",
    "    # Then, replace non-alphabetic characters with a space for each element\n",
    "    cleaned_df[\"Text\"] = cleaned_df[\"Text\"].str.replace(r\"[^a-zA-Z]\", \" \", regex=True)\n",
    "\n",
    "    # Then, replace multiple spaces with a single space for each element\n",
    "    cleaned_df[\"Text\"] = cleaned_df[\"Text\"].str.replace(r\"\\s+\", \" \", regex=True)\n",
    "\n",
    "    # Finally, strip leading and trailing spaces from each element\n",
    "    cleaned_df[\"Text\"] = cleaned_df[\"Text\"].str.strip()\n",
    "\n",
    "    df=cleaned_df.copy()"
   ]
  },
  {
   "cell_type": "code",
   "execution_count": 163,
   "metadata": {},
   "outputs": [
    {
     "data": {
      "text/html": [
       "<div>\n",
       "<style scoped>\n",
       "    .dataframe tbody tr th:only-of-type {\n",
       "        vertical-align: middle;\n",
       "    }\n",
       "\n",
       "    .dataframe tbody tr th {\n",
       "        vertical-align: top;\n",
       "    }\n",
       "\n",
       "    .dataframe thead th {\n",
       "        text-align: right;\n",
       "    }\n",
       "</style>\n",
       "<table border=\"1\" class=\"dataframe\">\n",
       "  <thead>\n",
       "    <tr style=\"text-align: right;\">\n",
       "      <th></th>\n",
       "      <th>link_id</th>\n",
       "      <th>parent_id</th>\n",
       "      <th>User</th>\n",
       "      <th>Text</th>\n",
       "      <th>Intent</th>\n",
       "      <th>Support</th>\n",
       "    </tr>\n",
       "  </thead>\n",
       "  <tbody>\n",
       "    <tr>\n",
       "      <th>4315</th>\n",
       "      <td>t3_lbm3vr</td>\n",
       "      <td>t3_lbm3vr</td>\n",
       "      <td>DramaticMorony</td>\n",
       "      <td>Anyone else see the $800 strike price has the ...</td>\n",
       "      <td>i</td>\n",
       "      <td>y</td>\n",
       "    </tr>\n",
       "    <tr>\n",
       "      <th>680</th>\n",
       "      <td>t3_la5s8i</td>\n",
       "      <td>t1_glmawz9</td>\n",
       "      <td>ryanryans425</td>\n",
       "      <td>Don’t be mad because your gme shares are bleeding</td>\n",
       "      <td>n</td>\n",
       "      <td>n</td>\n",
       "    </tr>\n",
       "    <tr>\n",
       "      <th>4822</th>\n",
       "      <td>t3_mzl0cz</td>\n",
       "      <td>t3_mzl0cz</td>\n",
       "      <td>bbbooneville</td>\n",
       "      <td>That GME MACD is crossing positive today for t...</td>\n",
       "      <td>u</td>\n",
       "      <td>u</td>\n",
       "    </tr>\n",
       "    <tr>\n",
       "      <th>3902</th>\n",
       "      <td>t3_m5hbpf</td>\n",
       "      <td>t3_m5hbpf</td>\n",
       "      <td>TheLeMonkey</td>\n",
       "      <td>Guys, that GME thread is in panic mode. I wrot...</td>\n",
       "      <td>y</td>\n",
       "      <td>n</td>\n",
       "    </tr>\n",
       "    <tr>\n",
       "      <th>1033</th>\n",
       "      <td>t3_l5jtj4</td>\n",
       "      <td>t3_l5jtj4</td>\n",
       "      <td>TwerkMasterFlex</td>\n",
       "      <td>THIS IS OUR REVOLUTION, Buy GME to the moon an...</td>\n",
       "      <td>m</td>\n",
       "      <td>y</td>\n",
       "    </tr>\n",
       "  </tbody>\n",
       "</table>\n",
       "</div>"
      ],
      "text/plain": [
       "        link_id   parent_id             User  \\\n",
       "4315  t3_lbm3vr   t3_lbm3vr   DramaticMorony   \n",
       "680   t3_la5s8i  t1_glmawz9     ryanryans425   \n",
       "4822  t3_mzl0cz   t3_mzl0cz     bbbooneville   \n",
       "3902  t3_m5hbpf   t3_m5hbpf      TheLeMonkey   \n",
       "1033  t3_l5jtj4   t3_l5jtj4  TwerkMasterFlex   \n",
       "\n",
       "                                                   Text Intent Support  \n",
       "4315  Anyone else see the $800 strike price has the ...      i       y  \n",
       "680   Don’t be mad because your gme shares are bleeding      n       n  \n",
       "4822  That GME MACD is crossing positive today for t...      u       u  \n",
       "3902  Guys, that GME thread is in panic mode. I wrot...      y       n  \n",
       "1033  THIS IS OUR REVOLUTION, Buy GME to the moon an...      m       y  "
      ]
     },
     "execution_count": 163,
     "metadata": {},
     "output_type": "execute_result"
    }
   ],
   "source": [
    "df.sample(5)"
   ]
  },
  {
   "cell_type": "markdown",
   "metadata": {},
   "source": [
    "I am going to exclude information and unclear from the dataset. negative will be assugned rating 0, and positive will be assigned trating 1.  "
   ]
  },
  {
   "cell_type": "code",
   "execution_count": 164,
   "metadata": {},
   "outputs": [
    {
     "data": {
      "text/html": [
       "<div>\n",
       "<style scoped>\n",
       "    .dataframe tbody tr th:only-of-type {\n",
       "        vertical-align: middle;\n",
       "    }\n",
       "\n",
       "    .dataframe tbody tr th {\n",
       "        vertical-align: top;\n",
       "    }\n",
       "\n",
       "    .dataframe thead th {\n",
       "        text-align: right;\n",
       "    }\n",
       "</style>\n",
       "<table border=\"1\" class=\"dataframe\">\n",
       "  <thead>\n",
       "    <tr style=\"text-align: right;\">\n",
       "      <th></th>\n",
       "      <th>link_id</th>\n",
       "      <th>parent_id</th>\n",
       "      <th>User</th>\n",
       "      <th>Text</th>\n",
       "      <th>Intent</th>\n",
       "      <th>Support</th>\n",
       "    </tr>\n",
       "  </thead>\n",
       "  <tbody>\n",
       "    <tr>\n",
       "      <th>0</th>\n",
       "      <td>t3_l71j1l</td>\n",
       "      <td>t1_gl43z92</td>\n",
       "      <td>chasetate27</td>\n",
       "      <td>GME &amp;amp; BB are not on cashapp but AMC &amp;amp; ...</td>\n",
       "      <td>0</td>\n",
       "      <td>0</td>\n",
       "    </tr>\n",
       "    <tr>\n",
       "      <th>1</th>\n",
       "      <td>t3_ki3745</td>\n",
       "      <td>t3_ki3745</td>\n",
       "      <td>pmd5700</td>\n",
       "      <td>Oh GME, you tease!</td>\n",
       "      <td>0</td>\n",
       "      <td>0</td>\n",
       "    </tr>\n",
       "    <tr>\n",
       "      <th>2</th>\n",
       "      <td>t3_la75n9</td>\n",
       "      <td>t3_la75n9</td>\n",
       "      <td>PigLizzard</td>\n",
       "      <td>Dump gme, amc, nok, and bb so we can all buy s...</td>\n",
       "      <td>0</td>\n",
       "      <td>0</td>\n",
       "    </tr>\n",
       "    <tr>\n",
       "      <th>3</th>\n",
       "      <td>t3_lw6hoh</td>\n",
       "      <td>t1_gpfpvtf</td>\n",
       "      <td>anono87</td>\n",
       "      <td>Not a single decent DD posted? 9 billion in re...</td>\n",
       "      <td>0</td>\n",
       "      <td>0</td>\n",
       "    </tr>\n",
       "    <tr>\n",
       "      <th>4</th>\n",
       "      <td>t3_l9xqem</td>\n",
       "      <td>t3_l9xqem</td>\n",
       "      <td>gluino</td>\n",
       "      <td>Just got into $GME @ 220.</td>\n",
       "      <td>1</td>\n",
       "      <td>0</td>\n",
       "    </tr>\n",
       "  </tbody>\n",
       "</table>\n",
       "</div>"
      ],
      "text/plain": [
       "     link_id   parent_id         User  \\\n",
       "0  t3_l71j1l  t1_gl43z92  chasetate27   \n",
       "1  t3_ki3745   t3_ki3745      pmd5700   \n",
       "2  t3_la75n9   t3_la75n9   PigLizzard   \n",
       "3  t3_lw6hoh  t1_gpfpvtf      anono87   \n",
       "4  t3_l9xqem   t3_l9xqem       gluino   \n",
       "\n",
       "                                                Text  Intent  Support  \n",
       "0  GME &amp; BB are not on cashapp but AMC &amp; ...       0        0  \n",
       "1                                 Oh GME, you tease!       0        0  \n",
       "2  Dump gme, amc, nok, and bb so we can all buy s...       0        0  \n",
       "3  Not a single decent DD posted? 9 billion in re...       0        0  \n",
       "4                          Just got into $GME @ 220.       1        0  "
      ]
     },
     "execution_count": 164,
     "metadata": {},
     "output_type": "execute_result"
    }
   ],
   "source": [
    "# Two options together\n",
    "#df['Intent'] = np.where((df['Intent'] == 'y')  | (df['Intent'] == 'm'), 1, 0)\n",
    "#df['Support'] = np.where((df['Support'] == 'y') | (df['Intent'] == 'm'), 1, 0)\n",
    "\n",
    "# Only one option\n",
    "df['Intent'] = np.where((df['Intent'] == 'y'), 1, 0)\n",
    "df['Support'] = np.where((df['Support'] == 'y'),1, 0)\n",
    "\n",
    "df.head()"
   ]
  },
  {
   "cell_type": "code",
   "execution_count": 165,
   "metadata": {},
   "outputs": [
    {
     "data": {
      "text/plain": [
       "Support\n",
       "0    2528\n",
       "1    2473\n",
       "Name: count, dtype: int64"
      ]
     },
     "execution_count": 165,
     "metadata": {},
     "output_type": "execute_result"
    }
   ],
   "source": [
    "df['Support'].value_counts()"
   ]
  },
  {
   "cell_type": "code",
   "execution_count": 166,
   "metadata": {},
   "outputs": [
    {
     "data": {
      "image/png": "[encoded data removed]",
      "text/plain": [
       "<Figure size 300x300 with 1 Axes>"
      ]
     },
     "metadata": {},
     "output_type": "display_data"
    },
    {
     "name": "stdout",
     "output_type": "stream",
     "text": [
      "Class imbalance: [0.8 0.2]\n"
     ]
    }
   ],
   "source": [
    "values, counts = np.unique(df['Intent'], return_counts=True)\n",
    "normalized_counts = counts / counts.sum()\n",
    "\n",
    "plt.figure(figsize=(3, 3))\n",
    "plt.bar(values, normalized_counts * 100)\n",
    "plt.xlabel('Intent Rating')\n",
    "plt.ylabel('% of posts')\n",
    "plt.title(\"Rating distribution\")\n",
    "plt.show()\n",
    "\n",
    "\n",
    "print(f\"Class imbalance: {np.round(normalized_counts, 2)}\")"
   ]
  },
  {
   "cell_type": "code",
   "execution_count": 167,
   "metadata": {},
   "outputs": [
    {
     "data": {
      "image/png": "[encoded data removed]",
      "text/plain": [
       "<Figure size 300x300 with 1 Axes>"
      ]
     },
     "metadata": {},
     "output_type": "display_data"
    },
    {
     "name": "stdout",
     "output_type": "stream",
     "text": [
      "Class imbalance: [0.51 0.49]\n"
     ]
    }
   ],
   "source": [
    "values, counts = np.unique(df['Support'], return_counts=True)\n",
    "normalized_counts = counts / counts.sum()\n",
    "\n",
    "plt.figure(figsize=(3, 3))\n",
    "plt.bar(values, normalized_counts * 100)\n",
    "plt.xlabel('Support Rating')\n",
    "plt.ylabel('% of posts')\n",
    "plt.title(\"Rating distribution\")\n",
    "plt.show()\n",
    "print(f\"Class imbalance: {np.round(normalized_counts, 2)}\")"
   ]
  },
  {
   "cell_type": "markdown",
   "metadata": {},
   "source": [
    "### 2.1.1. Custom Tokenization function"
   ]
  },
  {
   "cell_type": "code",
   "execution_count": 168,
   "metadata": {},
   "outputs": [],
   "source": [
    "#Load up our stop words from NLTK\n",
    "stop_words = stopwords.words('english')\n",
    "\n",
    "# Additional custom stopwords to add\n",
    "custom_stopwords = [] #\"you're\", 'billion',\"that's\", \"let's\", 'gamestop', 'gme' ]\n",
    "\n",
    "# Extend the NLTK stopwords list with custom stopwords\n",
    "stop_words.extend(custom_stopwords)"
   ]
  },
  {
   "cell_type": "code",
   "execution_count": 169,
   "metadata": {},
   "outputs": [],
   "source": [
    "# Defining my tokenisation function\n",
    "def my_tokenizer(document, lemmatization=True, stemming=False):\n",
    "    '''\n",
    "    Function for use in Vectorizer that tokenizes the document.\n",
    "    \n",
    "    Parameters:\n",
    "    - document: The text to be tokenized.\n",
    "    - lemmatization: If True, perform lemmatization.\n",
    "    - stemming: If True, perform stemming.\n",
    "    \n",
    "    Returns:\n",
    "    - A list of tokens.\n",
    "    '''\n",
    "    \n",
    "    # Replace newline characters with an empty string\n",
    "    document = document.replace(\"\\n\", \"\")\n",
    "\n",
    "    # Replace non-alphabetic characters with a space\n",
    "    document = re.sub(r\"[^a-zA-Z]\", \" \", document)\n",
    "\n",
    "    # Replace multiple spaces with a single space\n",
    "    document = re.sub(r\"\\s+\", \" \", document)\n",
    "\n",
    "    # Strip leading and trailing spaces\n",
    "    document = document.strip()\n",
    "\n",
    "    # tokenize - split on whitespace\n",
    "    tokenized_document = document.split(' ')\n",
    "\n",
    "    # remove stopwords before stemming or lemmatization\n",
    "    tokenized_document = [word for word in tokenized_document if word.lower() not in stop_words]\n",
    "\n",
    "    # Perform stemming if set to True\n",
    "    if stemming:\n",
    "        stemmer = PorterStemmer()\n",
    "        tokenized_document = [stemmer.stem(word) for word in tokenized_document]\n",
    "\n",
    "    # Perform lemmatization if set to True\n",
    "    if lemmatization:\n",
    "        lemmatizer = WordNetLemmatizer()\n",
    "        tokenized_document = [lemmatizer.lemmatize(word) for word in tokenized_document]\n",
    "\n",
    "    return tokenized_document\n",
    "\n",
    "\n",
    "#EXTRA\n",
    "#to modify the default parameters of my_tokenizer_pattern we can use a lambda function in-place:\n",
    "#count_vectorizer = CountVectorizer(tokenizer=lambda document: my_tokenizer(document, lemmatization=True, stemming=False))\n",
    "\n",
    "#what if we only wanted to extract letters, without numeric characters\n",
    "#consider changing the pattern to pattern=r\"(?u)\\b[a-zA-Z][a-zA-Z]+\\b\""
   ]
  },
  {
   "cell_type": "code",
   "execution_count": 170,
   "metadata": {},
   "outputs": [
    {
     "data": {
      "text/plain": [
       "(4000,)"
      ]
     },
     "execution_count": 170,
     "metadata": {},
     "output_type": "execute_result"
    }
   ],
   "source": [
    "# store simplified data in X and y\n",
    "X = df['Text']\n",
    "y = df['Intent']\n",
    "\n",
    "# splitting our data into train and test sets\n",
    "from sklearn.model_selection import train_test_split\n",
    "\n",
    "X_train, X_test, y_train, y_test = train_test_split(X, y, test_size=0.2, random_state=99, stratify=y)\n",
    "\n",
    "# size of training data\n",
    "X_train.shape"
   ]
  },
  {
   "cell_type": "markdown",
   "metadata": {},
   "source": [
    "## 2.2. Vectorisation "
   ]
  },
  {
   "cell_type": "code",
   "execution_count": 171,
   "metadata": {},
   "outputs": [
    {
     "name": "stderr",
     "output_type": "stream",
     "text": [
      "/Users/lgfolder/anaconda3/envs/myenv2/lib/python3.8/site-packages/sklearn/feature_extraction/text.py:525: UserWarning: The parameter 'token_pattern' will not be used since 'tokenizer' is not None'\n",
      "  warnings.warn(\n"
     ]
    },
    {
     "name": "stdout",
     "output_type": "stream",
     "text": [
      "(4000, 626)\n"
     ]
    }
   ],
   "source": [
    "# Initialise a CountVectorizer object\n",
    "count_vectorizer = CountVectorizer(tokenizer=my_tokenizer,\n",
    "                                   stop_words=stop_words, # using stop words list that has been customised\n",
    "                                   min_df=0.005, \n",
    "                                   ngram_range=(1,4), \n",
    "                                   max_features=1000)\n",
    "\n",
    "# Preprocess the stop words with the custom tokenizer logic (if applicable)\n",
    "processed_stop_words = set(my_tokenizer(' '.join(stop_words)))\n",
    "\n",
    "# Fit the CountVectorizer object on X_train\n",
    "count_vectorizer.fit(X_train)\n",
    "\n",
    "# Fit the CountVectorizer object on X_train\n",
    "X_matrix_train = count_vectorizer.transform(X_train)\n",
    "\n",
    "print(X_matrix_train.shape);"
   ]
  },
  {
   "cell_type": "code",
   "execution_count": 172,
   "metadata": {},
   "outputs": [
    {
     "name": "stdout",
     "output_type": "stream",
     "text": [
      "The most common words and their counts are:\n"
     ]
    },
    {
     "data": {
      "text/html": [
       "<div>\n",
       "<style scoped>\n",
       "    .dataframe tbody tr th:only-of-type {\n",
       "        vertical-align: middle;\n",
       "    }\n",
       "\n",
       "    .dataframe tbody tr th {\n",
       "        vertical-align: top;\n",
       "    }\n",
       "\n",
       "    .dataframe thead th {\n",
       "        text-align: right;\n",
       "    }\n",
       "</style>\n",
       "<table border=\"1\" class=\"dataframe\">\n",
       "  <thead>\n",
       "    <tr style=\"text-align: right;\">\n",
       "      <th></th>\n",
       "      <th>counts</th>\n",
       "    </tr>\n",
       "  </thead>\n",
       "  <tbody>\n",
       "    <tr>\n",
       "      <th>gme</th>\n",
       "      <td>4142</td>\n",
       "    </tr>\n",
       "    <tr>\n",
       "      <th>buy</th>\n",
       "      <td>794</td>\n",
       "    </tr>\n",
       "    <tr>\n",
       "      <th>stock</th>\n",
       "      <td>740</td>\n",
       "    </tr>\n",
       "    <tr>\n",
       "      <th>share</th>\n",
       "      <td>719</td>\n",
       "    </tr>\n",
       "    <tr>\n",
       "      <th>like</th>\n",
       "      <td>554</td>\n",
       "    </tr>\n",
       "    <tr>\n",
       "      <th>amc</th>\n",
       "      <td>531</td>\n",
       "    </tr>\n",
       "    <tr>\n",
       "      <th>short</th>\n",
       "      <td>518</td>\n",
       "    </tr>\n",
       "    <tr>\n",
       "      <th>get</th>\n",
       "      <td>414</td>\n",
       "    </tr>\n",
       "    <tr>\n",
       "      <th>gamestop</th>\n",
       "      <td>412</td>\n",
       "    </tr>\n",
       "    <tr>\n",
       "      <th>people</th>\n",
       "      <td>400</td>\n",
       "    </tr>\n",
       "    <tr>\n",
       "      <th>hold</th>\n",
       "      <td>389</td>\n",
       "    </tr>\n",
       "    <tr>\n",
       "      <th>go</th>\n",
       "      <td>387</td>\n",
       "    </tr>\n",
       "    <tr>\n",
       "      <th>money</th>\n",
       "      <td>372</td>\n",
       "    </tr>\n",
       "    <tr>\n",
       "      <th>sell</th>\n",
       "      <td>369</td>\n",
       "    </tr>\n",
       "    <tr>\n",
       "      <th>game</th>\n",
       "      <td>347</td>\n",
       "    </tr>\n",
       "    <tr>\n",
       "      <th>going</th>\n",
       "      <td>325</td>\n",
       "    </tr>\n",
       "    <tr>\n",
       "      <th>price</th>\n",
       "      <td>322</td>\n",
       "    </tr>\n",
       "    <tr>\n",
       "      <th>day</th>\n",
       "      <td>300</td>\n",
       "    </tr>\n",
       "    <tr>\n",
       "      <th>squeeze</th>\n",
       "      <td>289</td>\n",
       "    </tr>\n",
       "    <tr>\n",
       "      <th>market</th>\n",
       "      <td>288</td>\n",
       "    </tr>\n",
       "  </tbody>\n",
       "</table>\n",
       "</div>"
      ],
      "text/plain": [
       "          counts\n",
       "gme         4142\n",
       "buy          794\n",
       "stock        740\n",
       "share        719\n",
       "like         554\n",
       "amc          531\n",
       "short        518\n",
       "get          414\n",
       "gamestop     412\n",
       "people       400\n",
       "hold         389\n",
       "go           387\n",
       "money        372\n",
       "sell         369\n",
       "game         347\n",
       "going        325\n",
       "price        322\n",
       "day          300\n",
       "squeeze      289\n",
       "market       288"
      ]
     },
     "execution_count": 172,
     "metadata": {},
     "output_type": "execute_result"
    }
   ],
   "source": [
    "# sum all the rows for each feature\n",
    "word_counts = pd.DataFrame(\n",
    "        {\"counts\": np.array(X_matrix_train.sum(axis=0)).flatten()},\n",
    "        index=count_vectorizer.get_feature_names_out()).sort_values(\"counts\", ascending=False)\n",
    "\n",
    "print('The most common words and their counts are:')\n",
    "word_counts[:20]"
   ]
  },
  {
   "cell_type": "code",
   "execution_count": 173,
   "metadata": {},
   "outputs": [
    {
     "data": {
      "text/html": [
       "<div>\n",
       "<style scoped>\n",
       "    .dataframe tbody tr th:only-of-type {\n",
       "        vertical-align: middle;\n",
       "    }\n",
       "\n",
       "    .dataframe tbody tr th {\n",
       "        vertical-align: top;\n",
       "    }\n",
       "\n",
       "    .dataframe thead th {\n",
       "        text-align: right;\n",
       "    }\n",
       "</style>\n",
       "<table border=\"1\" class=\"dataframe\">\n",
       "  <thead>\n",
       "    <tr style=\"text-align: right;\">\n",
       "      <th></th>\n",
       "      <th>able</th>\n",
       "      <th>account</th>\n",
       "      <th>action</th>\n",
       "      <th>actual</th>\n",
       "      <th>actually</th>\n",
       "      <th>advice</th>\n",
       "      <th>afford</th>\n",
       "      <th>ago</th>\n",
       "      <th>agree</th>\n",
       "      <th>allow</th>\n",
       "      <th>...</th>\n",
       "      <th>www reddit com</th>\n",
       "      <th>www reddit com r</th>\n",
       "      <th>x</th>\n",
       "      <th>x b</th>\n",
       "      <th>yeah</th>\n",
       "      <th>year</th>\n",
       "      <th>yes</th>\n",
       "      <th>yesterday</th>\n",
       "      <th>yet</th>\n",
       "      <th>yolo</th>\n",
       "    </tr>\n",
       "  </thead>\n",
       "  <tbody>\n",
       "    <tr>\n",
       "      <th>0</th>\n",
       "      <td>0</td>\n",
       "      <td>0</td>\n",
       "      <td>0</td>\n",
       "      <td>0</td>\n",
       "      <td>0</td>\n",
       "      <td>0</td>\n",
       "      <td>0</td>\n",
       "      <td>0</td>\n",
       "      <td>0</td>\n",
       "      <td>0</td>\n",
       "      <td>...</td>\n",
       "      <td>0</td>\n",
       "      <td>0</td>\n",
       "      <td>0</td>\n",
       "      <td>0</td>\n",
       "      <td>0</td>\n",
       "      <td>0</td>\n",
       "      <td>0</td>\n",
       "      <td>0</td>\n",
       "      <td>0</td>\n",
       "      <td>0</td>\n",
       "    </tr>\n",
       "    <tr>\n",
       "      <th>1</th>\n",
       "      <td>0</td>\n",
       "      <td>0</td>\n",
       "      <td>0</td>\n",
       "      <td>0</td>\n",
       "      <td>0</td>\n",
       "      <td>0</td>\n",
       "      <td>0</td>\n",
       "      <td>0</td>\n",
       "      <td>0</td>\n",
       "      <td>0</td>\n",
       "      <td>...</td>\n",
       "      <td>0</td>\n",
       "      <td>0</td>\n",
       "      <td>0</td>\n",
       "      <td>0</td>\n",
       "      <td>0</td>\n",
       "      <td>0</td>\n",
       "      <td>0</td>\n",
       "      <td>0</td>\n",
       "      <td>0</td>\n",
       "      <td>0</td>\n",
       "    </tr>\n",
       "    <tr>\n",
       "      <th>2</th>\n",
       "      <td>0</td>\n",
       "      <td>0</td>\n",
       "      <td>0</td>\n",
       "      <td>0</td>\n",
       "      <td>0</td>\n",
       "      <td>0</td>\n",
       "      <td>0</td>\n",
       "      <td>0</td>\n",
       "      <td>0</td>\n",
       "      <td>0</td>\n",
       "      <td>...</td>\n",
       "      <td>0</td>\n",
       "      <td>0</td>\n",
       "      <td>0</td>\n",
       "      <td>0</td>\n",
       "      <td>0</td>\n",
       "      <td>0</td>\n",
       "      <td>0</td>\n",
       "      <td>0</td>\n",
       "      <td>0</td>\n",
       "      <td>0</td>\n",
       "    </tr>\n",
       "    <tr>\n",
       "      <th>3</th>\n",
       "      <td>0</td>\n",
       "      <td>0</td>\n",
       "      <td>0</td>\n",
       "      <td>0</td>\n",
       "      <td>0</td>\n",
       "      <td>0</td>\n",
       "      <td>0</td>\n",
       "      <td>0</td>\n",
       "      <td>0</td>\n",
       "      <td>0</td>\n",
       "      <td>...</td>\n",
       "      <td>0</td>\n",
       "      <td>0</td>\n",
       "      <td>0</td>\n",
       "      <td>0</td>\n",
       "      <td>0</td>\n",
       "      <td>0</td>\n",
       "      <td>0</td>\n",
       "      <td>0</td>\n",
       "      <td>0</td>\n",
       "      <td>0</td>\n",
       "    </tr>\n",
       "    <tr>\n",
       "      <th>4</th>\n",
       "      <td>0</td>\n",
       "      <td>0</td>\n",
       "      <td>0</td>\n",
       "      <td>0</td>\n",
       "      <td>0</td>\n",
       "      <td>0</td>\n",
       "      <td>0</td>\n",
       "      <td>0</td>\n",
       "      <td>0</td>\n",
       "      <td>0</td>\n",
       "      <td>...</td>\n",
       "      <td>0</td>\n",
       "      <td>0</td>\n",
       "      <td>0</td>\n",
       "      <td>0</td>\n",
       "      <td>0</td>\n",
       "      <td>0</td>\n",
       "      <td>0</td>\n",
       "      <td>0</td>\n",
       "      <td>0</td>\n",
       "      <td>0</td>\n",
       "    </tr>\n",
       "  </tbody>\n",
       "</table>\n",
       "<p>5 rows × 626 columns</p>\n",
       "</div>"
      ],
      "text/plain": [
       "   able  account  action  actual  actually  advice  afford  ago  agree  allow  \\\n",
       "0     0        0       0       0         0       0       0    0      0      0   \n",
       "1     0        0       0       0         0       0       0    0      0      0   \n",
       "2     0        0       0       0         0       0       0    0      0      0   \n",
       "3     0        0       0       0         0       0       0    0      0      0   \n",
       "4     0        0       0       0         0       0       0    0      0      0   \n",
       "\n",
       "   ...  www reddit com  www reddit com r  x  x b  yeah  year  yes  yesterday  \\\n",
       "0  ...               0                 0  0    0     0     0    0          0   \n",
       "1  ...               0                 0  0    0     0     0    0          0   \n",
       "2  ...               0                 0  0    0     0     0    0          0   \n",
       "3  ...               0                 0  0    0     0     0    0          0   \n",
       "4  ...               0                 0  0    0     0     0    0          0   \n",
       "\n",
       "   yet  yolo  \n",
       "0    0     0  \n",
       "1    0     0  \n",
       "2    0     0  \n",
       "3    0     0  \n",
       "4    0     0  \n",
       "\n",
       "[5 rows x 626 columns]"
      ]
     },
     "execution_count": 173,
     "metadata": {},
     "output_type": "execute_result"
    }
   ],
   "source": [
    "#toarray() method converts sparse matrix to a DataFrame\n",
    "pd.DataFrame(X_matrix_train.toarray(),columns=count_vectorizer.get_feature_names_out()).head()"
   ]
  },
  {
   "cell_type": "code",
   "execution_count": 174,
   "metadata": {},
   "outputs": [
    {
     "data": {
      "image/png": "[encoded data removed]",
      "text/plain": [
       "<Figure size 640x480 with 1 Axes>"
      ]
     },
     "metadata": {},
     "output_type": "display_data"
    }
   ],
   "source": [
    "word_counts[:20].plot(kind='barh',title='Counts of the most common words')\n",
    "plt.show()"
   ]
  },
  {
   "cell_type": "markdown",
   "metadata": {},
   "source": [
    "Observations:  \n",
    "\n",
    "* The list of words assocaited with neagtive reviews is quite revealing. \n",
    "* Customers clearly dislike unclean small rooms, tired decor, rude staff, poor breakfast selection, expensive hotels where quality does not match the price, broken amenities, noise and poor service."
   ]
  },
  {
   "cell_type": "markdown",
   "metadata": {},
   "source": [
    "## 2.3. Simple Logistic Regression"
   ]
  },
  {
   "cell_type": "markdown",
   "metadata": {},
   "source": [
    "Now that we are happy with the number of features, let's fit a classification model and preprocess the test set"
   ]
  },
  {
   "cell_type": "code",
   "execution_count": 175,
   "metadata": {},
   "outputs": [
    {
     "data": {
      "text/plain": [
       "(1001, 626)"
      ]
     },
     "execution_count": 175,
     "metadata": {},
     "output_type": "execute_result"
    }
   ],
   "source": [
    "X_matrix_test = count_vectorizer.transform(X_test)\n",
    "X_matrix_test.shape"
   ]
  },
  {
   "cell_type": "code",
   "execution_count": 176,
   "metadata": {},
   "outputs": [
    {
     "name": "stdout",
     "output_type": "stream",
     "text": [
      "Train set accuracy 0.88\n",
      "Test set accuracy 0.83\n",
      "Test Accuracy: 0.8581\n",
      "Classification Report:\n",
      "              precision    recall  f1-score   support\n",
      "\n",
      "           0       0.90      0.93      0.91       804\n",
      "           1       0.66      0.57      0.61       197\n",
      "\n",
      "    accuracy                           0.86      1001\n",
      "   macro avg       0.78      0.75      0.76      1001\n",
      "weighted avg       0.85      0.86      0.85      1001\n",
      "\n",
      "Confusion Matrix:\n",
      "[[746  58]\n",
      " [ 84 113]]\n"
     ]
    }
   ],
   "source": [
    "logistic_model=LogisticRegression()\n",
    "logistic_model.fit(X_matrix_train,y_train)\n",
    "print(f\"Train set accuracy {logistic_model.score(X_matrix_train,y_train):.2f}\")\n",
    "print(f\"Test set accuracy {logistic_model.score(X_matrix_test,y_test):.2f}\")\n",
    "\n",
    "# Print classification report\n",
    "print(\"Classification Report:\")\n",
    "print(classification_report(y_test, test_predictions))\n",
    "\n",
    "# Print confusion matrix\n",
    "print(\"Confusion Matrix:\")\n",
    "print(confusion_matrix(y_test, test_predictions))"
   ]
  },
  {
   "cell_type": "markdown",
   "metadata": {},
   "source": [
    "* Note, train scores can also be used as one of the metrics to select the optimal min_df & max_df parameters\n",
    "* Now we can use the model object to access and specifically its **coef_** amd **feature_names_in_** attributes to plot which tokens have the greatest predictive power of negative and postiive reviews\n",
    "    * Note this approach is only going to work if the model was fitted on a dataframe with the correct feature names, if an array was used, feature names can be extracted from the vectorizer used previously"
   ]
  },
  {
   "cell_type": "markdown",
   "metadata": {},
   "source": [
    "*---------------------------------------------------------------------*\n",
    "### Model Analysis"
   ]
  },
  {
   "cell_type": "code",
   "execution_count": 177,
   "metadata": {},
   "outputs": [
    {
     "name": "stderr",
     "output_type": "stream",
     "text": [
      "/var/folders/j6/lnskfknd3zz28plgqdh6w_4m0000gn/T/ipykernel_25697/1687988034.py:12: UserWarning: FixedFormatter should only be used together with FixedLocator\n",
      "  axs[0].set_xticklabels(coef_df.tail(20)[\"token\"], rotation=45)\n",
      "/var/folders/j6/lnskfknd3zz28plgqdh6w_4m0000gn/T/ipykernel_25697/1687988034.py:17: UserWarning: FixedFormatter should only be used together with FixedLocator\n",
      "  axs[1].set_xticklabels(coef_df.head(20)[\"token\"], rotation=45)\n"
     ]
    },
    {
     "data": {
      "image/png": "[encoded data removed]",
      "text/plain": [
       "<Figure size 1000x800 with 2 Axes>"
      ]
     },
     "metadata": {},
     "output_type": "display_data"
    }
   ],
   "source": [
    "def plot_coefs(model):\n",
    "    # Create a DataFrame to store the coefficients and corresponding tokens\n",
    "    coef_df = pd.DataFrame({\"coefficient\": model.coef_[0], \"token\": count_vectorizer.get_feature_names_out()})\n",
    "    # Sort by coefficients\n",
    "    coef_df = coef_df.sort_values(\"coefficient\", ascending=False)\n",
    "\n",
    "    # Create a figure with 2 subplots\n",
    "    fig, axs = plt.subplots(2, 1, figsize=(10, 8))\n",
    "\n",
    "    # Plot tokens indicating negative sentiment with smallest coefficients\n",
    "    axs[0].bar(coef_df.tail(20)[\"token\"], coef_df.tail(20)[\"coefficient\"], color=\"red\")\n",
    "    axs[0].set_xticklabels(coef_df.tail(20)[\"token\"], rotation=45)\n",
    "    axs[0].set_title(\"Negative indicators\")\n",
    "\n",
    "    # Plot tokens indicating positive sentiment with largest coefficients\n",
    "    axs[1].bar(coef_df.head(20)[\"token\"], coef_df.head(20)[\"coefficient\"], color=\"blue\")\n",
    "    axs[1].set_xticklabels(coef_df.head(20)[\"token\"], rotation=45)\n",
    "    axs[1].set_title(\"Positive indicators\")\n",
    "\n",
    "    fig.tight_layout()\n",
    "    plt.show()\n",
    "\n",
    "plot_coefs(logistic_model)"
   ]
  },
  {
   "cell_type": "markdown",
   "metadata": {},
   "source": [
    "Observation:  \n",
    "\n",
    "The model accuracy on test set is close to the accuracy on the train and valildation sets. This is a good sign, as it inidcates there is no problem with overfitting the model.  We have sufficient number of observations to train the model so that when it is faced with unseen test data it still performs well.   "
   ]
  },
  {
   "cell_type": "markdown",
   "metadata": {},
   "source": [
    "## 2.X. Gridsearch for logreg"
   ]
  },
  {
   "cell_type": "code",
   "execution_count": 178,
   "metadata": {},
   "outputs": [],
   "source": [
    "# Pipeline composition, includes preprocessing and the classifier\n",
    "pipeline = Pipeline([\n",
    "    ('tfidf', TfidfVectorizer()),  # Vectorization\n",
    "    ('svd', TruncatedSVD(n_components=100)),  # Dimensionality reduction for sparse data, using SVD instead of PCA for sparse data\n",
    "    ('logr', LogisticRegression(solver='liblinear'))  # Classifier with  liblinear solver - good for small datasets\n",
    "])\n",
    "\n",
    "# Define the hyperparameters space to search\n",
    "param_grid = {\n",
    "    'tfidf__max_df': [0.8, 0.85, 0.9], # ignore terms that appear in more than XX% of the documents. \n",
    "    'tfidf__ngram_range': [(1, 2), (1, 3)], # both unigrams and bigrams will be used as features\n",
    "    'tfidf__stop_words': ('stop_words', None),\n",
    "    'svd__n_components': [150, 175, 200], # reduce the feature space to the top 100 components\n",
    "    'logr__C': [10, 100, 200]\n",
    "}\n",
    "\n",
    "# Set up GridSearchCV to search for the best parameters\n",
    "grid_search = GridSearchCV(pipeline, param_grid, cv=5)\n",
    "\n",
    "# X_train on the raw text data\n",
    "grid_search.fit(X_train, y_train)\n",
    "\n",
    "# After fitting, get the best estimator\n",
    "best_model = grid_search.best_estimator_\n",
    "\n",
    "# Predict the test set using the best model\n",
    "test_predictions = best_model.predict(X_test)"
   ]
  },
  {
   "cell_type": "code",
   "execution_count": 179,
   "metadata": {},
   "outputs": [
    {
     "name": "stdout",
     "output_type": "stream",
     "text": [
      "Best hyperparameters: {'logr__C': 100, 'svd__n_components': 150, 'tfidf__max_df': 0.8, 'tfidf__ngram_range': (1, 2)}\n",
      "Test Accuracy: 0.8631\n",
      "Classification Report:\n",
      "              precision    recall  f1-score   support\n",
      "\n",
      "           0       0.91      0.92      0.92       804\n",
      "           1       0.66      0.62      0.64       197\n",
      "\n",
      "    accuracy                           0.86      1001\n",
      "   macro avg       0.79      0.77      0.78      1001\n",
      "weighted avg       0.86      0.86      0.86      1001\n",
      "\n",
      "Confusion Matrix:\n",
      "[[741  63]\n",
      " [ 74 123]]\n"
     ]
    }
   ],
   "source": [
    "# Calculate the accuracy\n",
    "test_accuracy = accuracy_score(y_test, test_predictions)\n",
    "\n",
    "# Print the best hyperparameters\n",
    "print(\"Best hyperparameters:\", grid_search.best_params_)\n",
    "\n",
    "# Print the accuracy\n",
    "print(f\"Test Accuracy: {test_accuracy:.4f}\")\n",
    "\n",
    "# Print classification report\n",
    "print(\"Classification Report:\")\n",
    "print(classification_report(y_test, test_predictions))\n",
    "\n",
    "# Print confusion matrix\n",
    "print(\"Confusion Matrix:\")\n",
    "print(confusion_matrix(y_test, test_predictions))"
   ]
  },
  {
   "cell_type": "code",
   "execution_count": 180,
   "metadata": {},
   "outputs": [
    {
     "name": "stdout",
     "output_type": "stream",
     "text": [
      "Best model saved to '../model/labeled_yes_best_linear_grid_search_model.pkl'\n"
     ]
    }
   ],
   "source": [
    "# Save the best model using joblib\n",
    "#joblib.dump(best_model, \"../model/labeled_yes_best_linear_grid_search_model.pkl\")\n",
    "# print(\"Best model saved to '../model/labeled_yes_best_linear_grid_search_model.pkl'\")"
   ]
  },
  {
   "cell_type": "markdown",
   "metadata": {},
   "source": [
    "The original version with PCA is below:"
   ]
  },
  {
   "cell_type": "code",
   "execution_count": 181,
   "metadata": {},
   "outputs": [],
   "source": [
    "# Set up a pipeline\n",
    "# PCA does not support sparse input, converting sparce matrix into a dense matrix\n",
    "#X_matrix_train_dense = X_matrix_train.toarray()\n",
    "#X_matrix_test_dense = X_matrix_test.toarray()"
   ]
  },
  {
   "cell_type": "code",
   "execution_count": 182,
   "metadata": {},
   "outputs": [],
   "source": [
    "# Create a pipeline with PCA and a decision tree classifier\n",
    "if False: \n",
    "\n",
    "    pipeline = Pipeline([\n",
    "        ('pca', PCA(n_components=20)),\n",
    "        ('logr', LogisticRegression(solver='liblinear'))  # 'solver' to ensure compatibility with smaller datasets\n",
    "    ])\n",
    "\n",
    "    # Define the hyperparameters\n",
    "    param_grid = {\n",
    "        'logr__C': [0.1, 0.5, 1, 10, 100, 1000]  \n",
    "    }\n",
    "\n",
    "    ### 2.5.2. Hyperparameter optimization\n",
    "    \n",
    "    # Set up GridSearchCV \n",
    "    grid_search = GridSearchCV(pipeline, param_grid, cv=5)\n",
    "    grid_search.fit(X_matrix_train_dense, y_train)\n",
    "\n",
    "    # Print the best hyperparameters\n",
    "    print(\"Best hyperparameters:\", grid_search.best_params_)"
   ]
  },
  {
   "cell_type": "markdown",
   "metadata": {},
   "source": [
    "## 2.X. Model Performance Evaluation"
   ]
  },
  {
   "cell_type": "markdown",
   "metadata": {},
   "source": []
  },
  {
   "cell_type": "markdown",
   "metadata": {},
   "source": [
    "## 2.4. Text analysis conclusions"
   ]
  },
  {
   "cell_type": "markdown",
   "metadata": {},
   "source": [
    "## 2.5. Decision Tree Classifier"
   ]
  },
  {
   "cell_type": "markdown",
   "metadata": {},
   "source": [
    "### 2.5.1. Set up a pipeline"
   ]
  },
  {
   "cell_type": "code",
   "execution_count": 183,
   "metadata": {},
   "outputs": [],
   "source": [
    "# PCA does not support sparse input, converting sparce matrix into a dense matrix\n",
    "X_matrix_train_dense = X_matrix_train.toarray()\n",
    "X_matrix_test_dense = X_matrix_test.toarray()"
   ]
  },
  {
   "cell_type": "code",
   "execution_count": 184,
   "metadata": {},
   "outputs": [],
   "source": [
    "# Create a pipeline with PCA and a decision tree classifier\n",
    "pipeline = Pipeline([\n",
    "    ('pca', PCA(n_components=20)),\n",
    "    ('clf', DecisionTreeClassifier())\n",
    "])"
   ]
  },
  {
   "cell_type": "code",
   "execution_count": 185,
   "metadata": {},
   "outputs": [],
   "source": [
    "# Define the hyperparameters\n",
    "param_grid = {\n",
    "    'clf__max_depth': [1,2, 3, 5, 7, 10, 15,20], \n",
    "    'clf__min_samples_split': [2,3,4,5,6,7,8], \n",
    "    'clf__min_samples_leaf': [2,4,5,6,7,8]  \n",
    "}"
   ]
  },
  {
   "cell_type": "markdown",
   "metadata": {},
   "source": [
    "### 2.5.2. Hyperparameter optimization"
   ]
  },
  {
   "cell_type": "markdown",
   "metadata": {},
   "source": [
    "* I use GridSearchCV to search over a specified parameter grid. \n",
    "* I tried to set up Gridsearch to do the pre-processing (Vectorisation) but I could not figure out how to do it. \n",
    "* GridSearchCV will use cross-validation internally, so no need to set up a separate validation set.  "
   ]
  },
  {
   "cell_type": "code",
   "execution_count": 186,
   "metadata": {},
   "outputs": [],
   "source": [
    "# Set up GridSearchCV \n",
    "grid_search = GridSearchCV(pipeline, param_grid, cv=5)"
   ]
  },
  {
   "cell_type": "code",
   "execution_count": 187,
   "metadata": {},
   "outputs": [
    {
     "data": {
      "text/html": [
       "<style>#sk-container-id-2 {color: black;}#sk-container-id-2 pre{padding: 0;}#sk-container-id-2 div.sk-toggleable {background-color: white;}#sk-container-id-2 label.sk-toggleable__label {cursor: pointer;display: block;width: 100%;margin-bottom: 0;padding: 0.3em;box-sizing: border-box;text-align: center;}#sk-container-id-2 label.sk-toggleable__label-arrow:before {content: \"▸\";float: left;margin-right: 0.25em;color: #696969;}#sk-container-id-2 label.sk-toggleable__label-arrow:hover:before {color: black;}#sk-container-id-2 div.sk-estimator:hover label.sk-toggleable__label-arrow:before {color: black;}#sk-container-id-2 div.sk-toggleable__content {max-height: 0;max-width: 0;overflow: hidden;text-align: left;background-color: #f0f8ff;}#sk-container-id-2 div.sk-toggleable__content pre {margin: 0.2em;color: black;border-radius: 0.25em;background-color: #f0f8ff;}#sk-container-id-2 input.sk-toggleable__control:checked~div.sk-toggleable__content {max-height: 200px;max-width: 100%;overflow: auto;}#sk-container-id-2 input.sk-toggleable__control:checked~label.sk-toggleable__label-arrow:before {content: \"▾\";}#sk-container-id-2 div.sk-estimator input.sk-toggleable__control:checked~label.sk-toggleable__label {background-color: #d4ebff;}#sk-container-id-2 div.sk-label input.sk-toggleable__control:checked~label.sk-toggleable__label {background-color: #d4ebff;}#sk-container-id-2 input.sk-hidden--visually {border: 0;clip: rect(1px 1px 1px 1px);clip: rect(1px, 1px, 1px, 1px);height: 1px;margin: -1px;overflow: hidden;padding: 0;position: absolute;width: 1px;}#sk-container-id-2 div.sk-estimator {font-family: monospace;background-color: #f0f8ff;border: 1px dotted black;border-radius: 0.25em;box-sizing: border-box;margin-bottom: 0.5em;}#sk-container-id-2 div.sk-estimator:hover {background-color: #d4ebff;}#sk-container-id-2 div.sk-parallel-item::after {content: \"\";width: 100%;border-bottom: 1px solid gray;flex-grow: 1;}#sk-container-id-2 div.sk-label:hover label.sk-toggleable__label {background-color: #d4ebff;}#sk-container-id-2 div.sk-serial::before {content: \"\";position: absolute;border-left: 1px solid gray;box-sizing: border-box;top: 0;bottom: 0;left: 50%;z-index: 0;}#sk-container-id-2 div.sk-serial {display: flex;flex-direction: column;align-items: center;background-color: white;padding-right: 0.2em;padding-left: 0.2em;position: relative;}#sk-container-id-2 div.sk-item {position: relative;z-index: 1;}#sk-container-id-2 div.sk-parallel {display: flex;align-items: stretch;justify-content: center;background-color: white;position: relative;}#sk-container-id-2 div.sk-item::before, #sk-container-id-2 div.sk-parallel-item::before {content: \"\";position: absolute;border-left: 1px solid gray;box-sizing: border-box;top: 0;bottom: 0;left: 50%;z-index: -1;}#sk-container-id-2 div.sk-parallel-item {display: flex;flex-direction: column;z-index: 1;position: relative;background-color: white;}#sk-container-id-2 div.sk-parallel-item:first-child::after {align-self: flex-end;width: 50%;}#sk-container-id-2 div.sk-parallel-item:last-child::after {align-self: flex-start;width: 50%;}#sk-container-id-2 div.sk-parallel-item:only-child::after {width: 0;}#sk-container-id-2 div.sk-dashed-wrapped {border: 1px dashed gray;margin: 0 0.4em 0.5em 0.4em;box-sizing: border-box;padding-bottom: 0.4em;background-color: white;}#sk-container-id-2 div.sk-label label {font-family: monospace;font-weight: bold;display: inline-block;line-height: 1.2em;}#sk-container-id-2 div.sk-label-container {text-align: center;}#sk-container-id-2 div.sk-container {/* jupyter's `normalize.less` sets `[hidden] { display: none; }` but bootstrap.min.css set `[hidden] { display: none !important; }` so we also need the `!important` here to be able to override the default hidden behavior on the sphinx rendered scikit-learn.org. See: https://github.com/scikit-learn/scikit-learn/issues/21755 */display: inline-block !important;position: relative;}#sk-container-id-2 div.sk-text-repr-fallback {display: none;}</style><div id=\"sk-container-id-2\" class=\"sk-top-container\"><div class=\"sk-text-repr-fallback\"><pre>GridSearchCV(cv=5,\n",
       "             estimator=Pipeline(steps=[(&#x27;pca&#x27;, PCA(n_components=20)),\n",
       "                                       (&#x27;clf&#x27;, DecisionTreeClassifier())]),\n",
       "             param_grid={&#x27;clf__max_depth&#x27;: [1, 2, 3, 5, 7, 10, 15, 20],\n",
       "                         &#x27;clf__min_samples_leaf&#x27;: [2, 4, 5, 6, 7, 8],\n",
       "                         &#x27;clf__min_samples_split&#x27;: [2, 3, 4, 5, 6, 7, 8]})</pre><b>In a Jupyter environment, please rerun this cell to show the HTML representation or trust the notebook. <br />On GitHub, the HTML representation is unable to render, please try loading this page with nbviewer.org.</b></div><div class=\"sk-container\" hidden><div class=\"sk-item sk-dashed-wrapped\"><div class=\"sk-label-container\"><div class=\"sk-label sk-toggleable\"><input class=\"sk-toggleable__control sk-hidden--visually\" id=\"sk-estimator-id-5\" type=\"checkbox\" ><label for=\"sk-estimator-id-5\" class=\"sk-toggleable__label sk-toggleable__label-arrow\">GridSearchCV</label><div class=\"sk-toggleable__content\"><pre>GridSearchCV(cv=5,\n",
       "             estimator=Pipeline(steps=[(&#x27;pca&#x27;, PCA(n_components=20)),\n",
       "                                       (&#x27;clf&#x27;, DecisionTreeClassifier())]),\n",
       "             param_grid={&#x27;clf__max_depth&#x27;: [1, 2, 3, 5, 7, 10, 15, 20],\n",
       "                         &#x27;clf__min_samples_leaf&#x27;: [2, 4, 5, 6, 7, 8],\n",
       "                         &#x27;clf__min_samples_split&#x27;: [2, 3, 4, 5, 6, 7, 8]})</pre></div></div></div><div class=\"sk-parallel\"><div class=\"sk-parallel-item\"><div class=\"sk-item\"><div class=\"sk-label-container\"><div class=\"sk-label sk-toggleable\"><input class=\"sk-toggleable__control sk-hidden--visually\" id=\"sk-estimator-id-6\" type=\"checkbox\" ><label for=\"sk-estimator-id-6\" class=\"sk-toggleable__label sk-toggleable__label-arrow\">estimator: Pipeline</label><div class=\"sk-toggleable__content\"><pre>Pipeline(steps=[(&#x27;pca&#x27;, PCA(n_components=20)),\n",
       "                (&#x27;clf&#x27;, DecisionTreeClassifier())])</pre></div></div></div><div class=\"sk-serial\"><div class=\"sk-item\"><div class=\"sk-serial\"><div class=\"sk-item\"><div class=\"sk-estimator sk-toggleable\"><input class=\"sk-toggleable__control sk-hidden--visually\" id=\"sk-estimator-id-7\" type=\"checkbox\" ><label for=\"sk-estimator-id-7\" class=\"sk-toggleable__label sk-toggleable__label-arrow\">PCA</label><div class=\"sk-toggleable__content\"><pre>PCA(n_components=20)</pre></div></div></div><div class=\"sk-item\"><div class=\"sk-estimator sk-toggleable\"><input class=\"sk-toggleable__control sk-hidden--visually\" id=\"sk-estimator-id-8\" type=\"checkbox\" ><label for=\"sk-estimator-id-8\" class=\"sk-toggleable__label sk-toggleable__label-arrow\">DecisionTreeClassifier</label><div class=\"sk-toggleable__content\"><pre>DecisionTreeClassifier()</pre></div></div></div></div></div></div></div></div></div></div></div></div>"
      ],
      "text/plain": [
       "GridSearchCV(cv=5,\n",
       "             estimator=Pipeline(steps=[('pca', PCA(n_components=20)),\n",
       "                                       ('clf', DecisionTreeClassifier())]),\n",
       "             param_grid={'clf__max_depth': [1, 2, 3, 5, 7, 10, 15, 20],\n",
       "                         'clf__min_samples_leaf': [2, 4, 5, 6, 7, 8],\n",
       "                         'clf__min_samples_split': [2, 3, 4, 5, 6, 7, 8]})"
      ]
     },
     "execution_count": 187,
     "metadata": {},
     "output_type": "execute_result"
    }
   ],
   "source": [
    "grid_search.fit(X_matrix_train_dense, y_train)"
   ]
  },
  {
   "cell_type": "code",
   "execution_count": 188,
   "metadata": {},
   "outputs": [
    {
     "name": "stdout",
     "output_type": "stream",
     "text": [
      "Best hyperparameters: {'clf__max_depth': 1, 'clf__min_samples_leaf': 2, 'clf__min_samples_split': 2}\n"
     ]
    }
   ],
   "source": [
    "# Print the best hyperparameters\n",
    "print(\"Best hyperparameters:\", grid_search.best_params_)"
   ]
  },
  {
   "cell_type": "markdown",
   "metadata": {},
   "source": [
    "### 2.5.3. Parameters to optimize."
   ]
  },
  {
   "cell_type": "code",
   "execution_count": 189,
   "metadata": {},
   "outputs": [
    {
     "name": "stdout",
     "output_type": "stream",
     "text": [
      "Validation Accuracy with Best Parameters: 0.8032\n"
     ]
    }
   ],
   "source": [
    "best_model = grid_search.best_estimator_\n",
    "\n",
    "# Using the dense version of X_test, which is X_matrix_test_dense\n",
    "test_preds = best_model.predict(X_matrix_test_dense)\n",
    "\n",
    "# Accuracy using the true labels y_test and the predicted labels test_preds\n",
    "val_acc = accuracy_score(y_test, test_preds)\n",
    "print(f\"Validation Accuracy with Best Parameters: {val_acc:.4f}\")"
   ]
  },
  {
   "cell_type": "code",
   "execution_count": 190,
   "metadata": {},
   "outputs": [
    {
     "data": {
      "image/png": "[encoded data removed]",
      "text/plain": [
       "<Figure size 400x400 with 1 Axes>"
      ]
     },
     "metadata": {},
     "output_type": "display_data"
    }
   ],
   "source": [
    "matrix = confusion_matrix(y_test, test_preds)\n",
    "\n",
    "# Displaying the confusion matrix \n",
    "import seaborn as sns\n",
    "import matplotlib.pyplot as plt\n",
    "\n",
    "plt.figure(figsize=(4, 4))\n",
    "sns.heatmap(matrix, annot=True, fmt=\"d\", cmap=\"Blues\", cbar=False)\n",
    "plt.xlabel('Predicted Label')\n",
    "plt.ylabel('True Label')\n",
    "plt.title('Confusion Matrix')\n",
    "plt.show()"
   ]
  },
  {
   "cell_type": "code",
   "execution_count": 191,
   "metadata": {},
   "outputs": [
    {
     "name": "stdout",
     "output_type": "stream",
     "text": [
      "              precision    recall  f1-score   support\n",
      "\n",
      "           0       0.80      1.00      0.89       804\n",
      "           1       0.00      0.00      0.00       197\n",
      "\n",
      "    accuracy                           0.80      1001\n",
      "   macro avg       0.40      0.50      0.45      1001\n",
      "weighted avg       0.65      0.80      0.72      1001\n",
      "\n"
     ]
    },
    {
     "name": "stderr",
     "output_type": "stream",
     "text": [
      "/Users/lgfolder/anaconda3/envs/myenv2/lib/python3.8/site-packages/sklearn/metrics/_classification.py:1469: UndefinedMetricWarning: Precision and F-score are ill-defined and being set to 0.0 in labels with no predicted samples. Use `zero_division` parameter to control this behavior.\n",
      "  _warn_prf(average, modifier, msg_start, len(result))\n",
      "/Users/lgfolder/anaconda3/envs/myenv2/lib/python3.8/site-packages/sklearn/metrics/_classification.py:1469: UndefinedMetricWarning: Precision and F-score are ill-defined and being set to 0.0 in labels with no predicted samples. Use `zero_division` parameter to control this behavior.\n",
      "  _warn_prf(average, modifier, msg_start, len(result))\n",
      "/Users/lgfolder/anaconda3/envs/myenv2/lib/python3.8/site-packages/sklearn/metrics/_classification.py:1469: UndefinedMetricWarning: Precision and F-score are ill-defined and being set to 0.0 in labels with no predicted samples. Use `zero_division` parameter to control this behavior.\n",
      "  _warn_prf(average, modifier, msg_start, len(result))\n"
     ]
    }
   ],
   "source": [
    "# Printing the classification report\n",
    "report = classification_report(y_test, test_preds)\n",
    "print(report)"
   ]
  },
  {
   "cell_type": "markdown",
   "metadata": {},
   "source": [
    "Observation:  \n",
    "\n",
    "* The DT classifier combined with the gridsearch for best hyperparameters combination have not resulted in  a better model than the logistical regression constratucted earlier.  The accuracy score of 74% is lower than 78% for the logreg model.  BUt 74% is still better than the 57% for the majority class os 1s. \n",
    "* The DT model has a slightly better performance in classifying positive reviews (1s) with a precision of 0.76 and recall of 0.80, compared to classifying negative reviews (0s) which has a precision of 0.72 and recall of 0.67. \n",
    "* Overall, with an accuracy is 0.74. The model classifies well between positive and negative reviews, although there's a margin for improvement."
   ]
  }
 ],
 "metadata": {
  "kernelspec": {
   "display_name": "Python 3",
   "language": "python",
   "name": "python3"
  },
  "language_info": {
   "codemirror_mode": {
    "name": "ipython",
    "version": 3
   },
   "file_extension": ".py",
   "mimetype": "text/x-python",
   "name": "python",
   "nbconvert_exporter": "python",
   "pygments_lexer": "ipython3",
   "version": "3.8.16"
  },
  "toc-autonumbering": false,
  "toc-showcode": false,
  "toc-showmarkdowntxt": false
 },
 "nbformat": 4,
 "nbformat_minor": 4
}
