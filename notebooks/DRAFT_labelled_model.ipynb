{
 "cells": [
  {
   "cell_type": "markdown",
   "metadata": {},
   "source": [
    "# Capstone Project \n",
    "\n",
    "**BrainStation Data Science Bootcamp - Machine Learning Project**\n",
    "\n",
    "**Author: L Gavrilova**\n",
    "\n",
    "**Date:  2023**"
   ]
  },
  {
   "cell_type": "markdown",
   "metadata": {
    "Collapsed": "false"
   },
   "source": [
    "# Notebook 2b. Labelled Model Training"
   ]
  },
  {
   "cell_type": "markdown",
   "metadata": {
    "Collapsed": "false"
   },
   "source": [
    "## 2.0 Imports"
   ]
  },
  {
   "cell_type": "code",
   "execution_count": 90,
   "metadata": {
    "Collapsed": "false"
   },
   "outputs": [
    {
     "name": "stderr",
     "output_type": "stream",
     "text": [
      "[nltk_data] Downloading package punkt to /Users/lgfolder/nltk_data...\n",
      "[nltk_data]   Package punkt is already up-to-date!\n"
     ]
    }
   ],
   "source": [
    "# Standard Libraries for data manipulation\n",
    "import pandas as pd\n",
    "import numpy as np\n",
    "import re\n",
    "import os\n",
    "import string\n",
    "\n",
    "# Visualization Libraries\n",
    "import matplotlib.pyplot as plt\n",
    "import seaborn as sns\n",
    "import matplotlib.dates as mdates\n",
    "plt.rcParams['figure.figsize'] = (6.0, 4.0) \n",
    "pd.set_option('display.float_format', '{:.2f}'.format)\n",
    "plt.style.use('ggplot')\n",
    "\n",
    "# NLP Libraries\n",
    "import nltk\n",
    "from nltk.corpus import stopwords\n",
    "from nltk.tokenize import RegexpTokenizer, word_tokenize, sent_tokenize\n",
    "from nltk.stem import PorterStemmer, WordNetLemmatizer\n",
    "nltk.download('punkt') # If needed\n",
    "\n",
    "# Sentiment Analysis Libraries\n",
    "from textblob import TextBlob\n",
    "from vaderSentiment.vaderSentiment import SentimentIntensityAnalyzer\n",
    "\n",
    "# Machine Learning Libraries\n",
    "from sklearn.model_selection import train_test_split, GridSearchCV, cross_val_score\n",
    "from sklearn.preprocessing import StandardScaler\n",
    "from sklearn.feature_extraction.text import CountVectorizer, TfidfVectorizer\n",
    "from sklearn.pipeline import Pipeline\n",
    "from sklearn.decomposition import PCA, TruncatedSVD\n",
    "from sklearn.tree import DecisionTreeClassifier\n",
    "from sklearn.linear_model import LogisticRegression, LinearRegression\n",
    "from sklearn.metrics import accuracy_score, classification_report, recall_score, precision_score, confusion_matrix, f1_score, roc_curve, roc_auc_score, mean_squared_error, r2_score\n",
    "\n",
    "from sklearn.model_selection import train_test_split\n",
    "from sklearn.linear_model import LogisticRegression\n",
    "\n",
    "# SMOTE for dealing with imbalanced datasets\n",
    "from imblearn.over_sampling import SMOTE\n",
    "\n",
    "# Additional Settings\n",
    "import emoji"
   ]
  },
  {
   "cell_type": "code",
   "execution_count": 91,
   "metadata": {
    "Collapsed": "false"
   },
   "outputs": [],
   "source": [
    "df = pd.read_csv('../data/annotation file 3600 done 1142022.csv')"
   ]
  },
  {
   "cell_type": "code",
   "execution_count": 92,
   "metadata": {},
   "outputs": [
    {
     "name": "stdout",
     "output_type": "stream",
     "text": [
      "<class 'pandas.core.frame.DataFrame'>\n",
      "RangeIndex: 5020 entries, 0 to 5019\n",
      "Data columns (total 6 columns):\n",
      " #   Column     Non-Null Count  Dtype \n",
      "---  ------     --------------  ----- \n",
      " 0   link_id    5001 non-null   object\n",
      " 1   parent_id  5001 non-null   object\n",
      " 2   User       5001 non-null   object\n",
      " 3   Text       5001 non-null   object\n",
      " 4   Intent     5001 non-null   object\n",
      " 5   Support    5001 non-null   object\n",
      "dtypes: object(6)\n",
      "memory usage: 235.4+ KB\n"
     ]
    }
   ],
   "source": [
    "df.info()"
   ]
  },
  {
   "cell_type": "code",
   "execution_count": 93,
   "metadata": {},
   "outputs": [
    {
     "data": {
      "text/html": [
       "<div>\n",
       "<style scoped>\n",
       "    .dataframe tbody tr th:only-of-type {\n",
       "        vertical-align: middle;\n",
       "    }\n",
       "\n",
       "    .dataframe tbody tr th {\n",
       "        vertical-align: top;\n",
       "    }\n",
       "\n",
       "    .dataframe thead th {\n",
       "        text-align: right;\n",
       "    }\n",
       "</style>\n",
       "<table border=\"1\" class=\"dataframe\">\n",
       "  <thead>\n",
       "    <tr style=\"text-align: right;\">\n",
       "      <th></th>\n",
       "      <th>link_id</th>\n",
       "      <th>parent_id</th>\n",
       "      <th>User</th>\n",
       "      <th>Text</th>\n",
       "      <th>Intent</th>\n",
       "      <th>Support</th>\n",
       "    </tr>\n",
       "  </thead>\n",
       "  <tbody>\n",
       "    <tr>\n",
       "      <th>count</th>\n",
       "      <td>5001</td>\n",
       "      <td>5001</td>\n",
       "      <td>5001</td>\n",
       "      <td>5001</td>\n",
       "      <td>5001</td>\n",
       "      <td>5001</td>\n",
       "    </tr>\n",
       "    <tr>\n",
       "      <th>unique</th>\n",
       "      <td>1948</td>\n",
       "      <td>3153</td>\n",
       "      <td>4662</td>\n",
       "      <td>4952</td>\n",
       "      <td>6</td>\n",
       "      <td>4</td>\n",
       "    </tr>\n",
       "    <tr>\n",
       "      <th>top</th>\n",
       "      <td>t3_ladzdt</td>\n",
       "      <td>t3_ladzdt</td>\n",
       "      <td>AutoModerator</td>\n",
       "      <td>GME</td>\n",
       "      <td>u</td>\n",
       "      <td>y</td>\n",
       "    </tr>\n",
       "    <tr>\n",
       "      <th>freq</th>\n",
       "      <td>66</td>\n",
       "      <td>46</td>\n",
       "      <td>14</td>\n",
       "      <td>22</td>\n",
       "      <td>3246</td>\n",
       "      <td>2473</td>\n",
       "    </tr>\n",
       "  </tbody>\n",
       "</table>\n",
       "</div>"
      ],
      "text/plain": [
       "          link_id  parent_id           User  Text Intent Support\n",
       "count        5001       5001           5001  5001   5001    5001\n",
       "unique       1948       3153           4662  4952      6       4\n",
       "top     t3_ladzdt  t3_ladzdt  AutoModerator   GME      u       y\n",
       "freq           66         46             14    22   3246    2473"
      ]
     },
     "execution_count": 93,
     "metadata": {},
     "output_type": "execute_result"
    }
   ],
   "source": [
    "df.describe()"
   ]
  },
  {
   "cell_type": "code",
   "execution_count": 94,
   "metadata": {},
   "outputs": [
    {
     "data": {
      "text/plain": [
       "False"
      ]
     },
     "execution_count": 94,
     "metadata": {},
     "output_type": "execute_result"
    }
   ],
   "source": [
    "df['link_id'].nunique() == df.shape[0]"
   ]
  },
  {
   "cell_type": "code",
   "execution_count": 95,
   "metadata": {},
   "outputs": [
    {
     "data": {
      "text/plain": [
       "link_id     0.00\n",
       "parent_id   0.00\n",
       "User        0.00\n",
       "Text        0.00\n",
       "Intent      0.00\n",
       "Support     0.00\n",
       "dtype: float64"
      ]
     },
     "execution_count": 95,
     "metadata": {},
     "output_type": "execute_result"
    }
   ],
   "source": [
    "df.isna().sum()/df.shape[0]"
   ]
  },
  {
   "cell_type": "code",
   "execution_count": 96,
   "metadata": {},
   "outputs": [
    {
     "data": {
      "text/html": [
       "<div>\n",
       "<style scoped>\n",
       "    .dataframe tbody tr th:only-of-type {\n",
       "        vertical-align: middle;\n",
       "    }\n",
       "\n",
       "    .dataframe tbody tr th {\n",
       "        vertical-align: top;\n",
       "    }\n",
       "\n",
       "    .dataframe thead th {\n",
       "        text-align: right;\n",
       "    }\n",
       "</style>\n",
       "<table border=\"1\" class=\"dataframe\">\n",
       "  <thead>\n",
       "    <tr style=\"text-align: right;\">\n",
       "      <th></th>\n",
       "      <th>link_id</th>\n",
       "      <th>parent_id</th>\n",
       "      <th>User</th>\n",
       "      <th>Text</th>\n",
       "      <th>Intent</th>\n",
       "      <th>Support</th>\n",
       "    </tr>\n",
       "  </thead>\n",
       "  <tbody>\n",
       "    <tr>\n",
       "      <th>5001</th>\n",
       "      <td>NaN</td>\n",
       "      <td>NaN</td>\n",
       "      <td>NaN</td>\n",
       "      <td>NaN</td>\n",
       "      <td>NaN</td>\n",
       "      <td>NaN</td>\n",
       "    </tr>\n",
       "    <tr>\n",
       "      <th>5002</th>\n",
       "      <td>NaN</td>\n",
       "      <td>NaN</td>\n",
       "      <td>NaN</td>\n",
       "      <td>NaN</td>\n",
       "      <td>NaN</td>\n",
       "      <td>NaN</td>\n",
       "    </tr>\n",
       "    <tr>\n",
       "      <th>5003</th>\n",
       "      <td>NaN</td>\n",
       "      <td>NaN</td>\n",
       "      <td>NaN</td>\n",
       "      <td>NaN</td>\n",
       "      <td>NaN</td>\n",
       "      <td>NaN</td>\n",
       "    </tr>\n",
       "    <tr>\n",
       "      <th>5004</th>\n",
       "      <td>NaN</td>\n",
       "      <td>NaN</td>\n",
       "      <td>NaN</td>\n",
       "      <td>NaN</td>\n",
       "      <td>NaN</td>\n",
       "      <td>NaN</td>\n",
       "    </tr>\n",
       "    <tr>\n",
       "      <th>5005</th>\n",
       "      <td>NaN</td>\n",
       "      <td>NaN</td>\n",
       "      <td>NaN</td>\n",
       "      <td>NaN</td>\n",
       "      <td>NaN</td>\n",
       "      <td>NaN</td>\n",
       "    </tr>\n",
       "    <tr>\n",
       "      <th>5006</th>\n",
       "      <td>NaN</td>\n",
       "      <td>NaN</td>\n",
       "      <td>NaN</td>\n",
       "      <td>NaN</td>\n",
       "      <td>NaN</td>\n",
       "      <td>NaN</td>\n",
       "    </tr>\n",
       "    <tr>\n",
       "      <th>5007</th>\n",
       "      <td>NaN</td>\n",
       "      <td>NaN</td>\n",
       "      <td>NaN</td>\n",
       "      <td>NaN</td>\n",
       "      <td>NaN</td>\n",
       "      <td>NaN</td>\n",
       "    </tr>\n",
       "    <tr>\n",
       "      <th>5008</th>\n",
       "      <td>NaN</td>\n",
       "      <td>NaN</td>\n",
       "      <td>NaN</td>\n",
       "      <td>NaN</td>\n",
       "      <td>NaN</td>\n",
       "      <td>NaN</td>\n",
       "    </tr>\n",
       "    <tr>\n",
       "      <th>5009</th>\n",
       "      <td>NaN</td>\n",
       "      <td>NaN</td>\n",
       "      <td>NaN</td>\n",
       "      <td>NaN</td>\n",
       "      <td>NaN</td>\n",
       "      <td>NaN</td>\n",
       "    </tr>\n",
       "    <tr>\n",
       "      <th>5010</th>\n",
       "      <td>NaN</td>\n",
       "      <td>NaN</td>\n",
       "      <td>NaN</td>\n",
       "      <td>NaN</td>\n",
       "      <td>NaN</td>\n",
       "      <td>NaN</td>\n",
       "    </tr>\n",
       "    <tr>\n",
       "      <th>5011</th>\n",
       "      <td>NaN</td>\n",
       "      <td>NaN</td>\n",
       "      <td>NaN</td>\n",
       "      <td>NaN</td>\n",
       "      <td>NaN</td>\n",
       "      <td>NaN</td>\n",
       "    </tr>\n",
       "    <tr>\n",
       "      <th>5012</th>\n",
       "      <td>NaN</td>\n",
       "      <td>NaN</td>\n",
       "      <td>NaN</td>\n",
       "      <td>NaN</td>\n",
       "      <td>NaN</td>\n",
       "      <td>NaN</td>\n",
       "    </tr>\n",
       "    <tr>\n",
       "      <th>5013</th>\n",
       "      <td>NaN</td>\n",
       "      <td>NaN</td>\n",
       "      <td>NaN</td>\n",
       "      <td>NaN</td>\n",
       "      <td>NaN</td>\n",
       "      <td>NaN</td>\n",
       "    </tr>\n",
       "    <tr>\n",
       "      <th>5014</th>\n",
       "      <td>NaN</td>\n",
       "      <td>NaN</td>\n",
       "      <td>NaN</td>\n",
       "      <td>NaN</td>\n",
       "      <td>NaN</td>\n",
       "      <td>NaN</td>\n",
       "    </tr>\n",
       "    <tr>\n",
       "      <th>5015</th>\n",
       "      <td>NaN</td>\n",
       "      <td>NaN</td>\n",
       "      <td>NaN</td>\n",
       "      <td>NaN</td>\n",
       "      <td>NaN</td>\n",
       "      <td>NaN</td>\n",
       "    </tr>\n",
       "    <tr>\n",
       "      <th>5016</th>\n",
       "      <td>NaN</td>\n",
       "      <td>NaN</td>\n",
       "      <td>NaN</td>\n",
       "      <td>NaN</td>\n",
       "      <td>NaN</td>\n",
       "      <td>NaN</td>\n",
       "    </tr>\n",
       "    <tr>\n",
       "      <th>5017</th>\n",
       "      <td>NaN</td>\n",
       "      <td>NaN</td>\n",
       "      <td>NaN</td>\n",
       "      <td>NaN</td>\n",
       "      <td>NaN</td>\n",
       "      <td>NaN</td>\n",
       "    </tr>\n",
       "    <tr>\n",
       "      <th>5018</th>\n",
       "      <td>NaN</td>\n",
       "      <td>NaN</td>\n",
       "      <td>NaN</td>\n",
       "      <td>NaN</td>\n",
       "      <td>NaN</td>\n",
       "      <td>NaN</td>\n",
       "    </tr>\n",
       "    <tr>\n",
       "      <th>5019</th>\n",
       "      <td>NaN</td>\n",
       "      <td>NaN</td>\n",
       "      <td>NaN</td>\n",
       "      <td>NaN</td>\n",
       "      <td>NaN</td>\n",
       "      <td>NaN</td>\n",
       "    </tr>\n",
       "  </tbody>\n",
       "</table>\n",
       "</div>"
      ],
      "text/plain": [
       "     link_id parent_id User Text Intent Support\n",
       "5001     NaN       NaN  NaN  NaN    NaN     NaN\n",
       "5002     NaN       NaN  NaN  NaN    NaN     NaN\n",
       "5003     NaN       NaN  NaN  NaN    NaN     NaN\n",
       "5004     NaN       NaN  NaN  NaN    NaN     NaN\n",
       "5005     NaN       NaN  NaN  NaN    NaN     NaN\n",
       "5006     NaN       NaN  NaN  NaN    NaN     NaN\n",
       "5007     NaN       NaN  NaN  NaN    NaN     NaN\n",
       "5008     NaN       NaN  NaN  NaN    NaN     NaN\n",
       "5009     NaN       NaN  NaN  NaN    NaN     NaN\n",
       "5010     NaN       NaN  NaN  NaN    NaN     NaN\n",
       "5011     NaN       NaN  NaN  NaN    NaN     NaN\n",
       "5012     NaN       NaN  NaN  NaN    NaN     NaN\n",
       "5013     NaN       NaN  NaN  NaN    NaN     NaN\n",
       "5014     NaN       NaN  NaN  NaN    NaN     NaN\n",
       "5015     NaN       NaN  NaN  NaN    NaN     NaN\n",
       "5016     NaN       NaN  NaN  NaN    NaN     NaN\n",
       "5017     NaN       NaN  NaN  NaN    NaN     NaN\n",
       "5018     NaN       NaN  NaN  NaN    NaN     NaN\n",
       "5019     NaN       NaN  NaN  NaN    NaN     NaN"
      ]
     },
     "execution_count": 96,
     "metadata": {},
     "output_type": "execute_result"
    }
   ],
   "source": [
    "df[ df['Text'].isna() ]"
   ]
  },
  {
   "cell_type": "code",
   "execution_count": 97,
   "metadata": {},
   "outputs": [],
   "source": [
    "# Dropping rows that have NaN values\n",
    "df = df.dropna()"
   ]
  },
  {
   "cell_type": "code",
   "execution_count": 98,
   "metadata": {},
   "outputs": [
    {
     "data": {
      "text/html": [
       "<div>\n",
       "<style scoped>\n",
       "    .dataframe tbody tr th:only-of-type {\n",
       "        vertical-align: middle;\n",
       "    }\n",
       "\n",
       "    .dataframe tbody tr th {\n",
       "        vertical-align: top;\n",
       "    }\n",
       "\n",
       "    .dataframe thead th {\n",
       "        text-align: right;\n",
       "    }\n",
       "</style>\n",
       "<table border=\"1\" class=\"dataframe\">\n",
       "  <thead>\n",
       "    <tr style=\"text-align: right;\">\n",
       "      <th></th>\n",
       "      <th>link_id</th>\n",
       "      <th>parent_id</th>\n",
       "      <th>User</th>\n",
       "      <th>Text</th>\n",
       "      <th>Intent</th>\n",
       "      <th>Support</th>\n",
       "    </tr>\n",
       "  </thead>\n",
       "  <tbody>\n",
       "  </tbody>\n",
       "</table>\n",
       "</div>"
      ],
      "text/plain": [
       "Empty DataFrame\n",
       "Columns: [link_id, parent_id, User, Text, Intent, Support]\n",
       "Index: []"
      ]
     },
     "execution_count": 98,
     "metadata": {},
     "output_type": "execute_result"
    }
   ],
   "source": [
    "df[ df['Text'].isna() ]"
   ]
  },
  {
   "cell_type": "code",
   "execution_count": 99,
   "metadata": {},
   "outputs": [
    {
     "data": {
      "image/png": "[encoded data removed]",
      "text/plain": [
       "<Figure size 400x400 with 1 Axes>"
      ]
     },
     "metadata": {},
     "output_type": "display_data"
    }
   ],
   "source": [
    "ax = df['Intent'].value_counts().sort_index() \\\n",
    "    .plot(kind='bar',\n",
    "          title='Count of Intent',\n",
    "          figsize=(4, 4))\n",
    "ax.set_xlabel('Intent')\n",
    "plt.show()"
   ]
  },
  {
   "cell_type": "markdown",
   "metadata": {},
   "source": [
    "* Majority of posts (2/3) received clasification 'u', which means 'uncertain'. \n",
    "* 20% of posts were rated as \"positive\" signalling an intent to buy GME shares.\n",
    "* Only a very small % of messages were rated as \"negative\" which creates an  imbalance in our set.  We have a deficit of examples of negative posts. "
   ]
  },
  {
   "cell_type": "markdown",
   "metadata": {},
   "source": [
    "## 2.1. Cleaning the text (pre-processing)"
   ]
  },
  {
   "cell_type": "code",
   "execution_count": 100,
   "metadata": {},
   "outputs": [],
   "source": [
    "# punctuation and anything except for letters is stripped away, also empty spaces go away. \n",
    "\n",
    "# Emojis are stripped off!!!! NB! \n",
    "\n",
    "if False:\n",
    "    \n",
    "    cleaned_df = df.copy()\n",
    "    # to replace any character that is not a lowercase or uppercase letter with a single space\n",
    "    # then to replace one or more whitespace characters (\\s+) with a single space\n",
    "    # then to replace '/n' with empty spaces\n",
    "    # then to remove all types of whitespace characters at the ends of the string\n",
    "    # cleaned_df[\"Text\"] = cleaned_df[\"Text\"].replace(\"\\n\", \"\").str.replace(r\"[^a-zA-Z]\", \" \").str.replace(r\"\\s+\", \" \")\n",
    "\n",
    "\n",
    "    # First, replace newline characters with an empty string for each element\n",
    "    cleaned_df[\"Text\"] = cleaned_df[\"Text\"].str.replace(\"\\n\", \"\", regex=False)\n",
    "\n",
    "    # Then, replace non-alphabetic characters with a space for each element\n",
    "    cleaned_df[\"Text\"] = cleaned_df[\"Text\"].str.replace(r\"[^a-zA-Z]\", \" \", regex=True)\n",
    "\n",
    "    # Then, replace multiple spaces with a single space for each element\n",
    "    cleaned_df[\"Text\"] = cleaned_df[\"Text\"].str.replace(r\"\\s+\", \" \", regex=True)\n",
    "\n",
    "    # Finally, strip leading and trailing spaces from each element\n",
    "    cleaned_df[\"Text\"] = cleaned_df[\"Text\"].str.strip()\n",
    "\n",
    "    df=cleaned_df.copy()"
   ]
  },
  {
   "cell_type": "code",
   "execution_count": 101,
   "metadata": {},
   "outputs": [
    {
     "data": {
      "text/html": [
       "<div>\n",
       "<style scoped>\n",
       "    .dataframe tbody tr th:only-of-type {\n",
       "        vertical-align: middle;\n",
       "    }\n",
       "\n",
       "    .dataframe tbody tr th {\n",
       "        vertical-align: top;\n",
       "    }\n",
       "\n",
       "    .dataframe thead th {\n",
       "        text-align: right;\n",
       "    }\n",
       "</style>\n",
       "<table border=\"1\" class=\"dataframe\">\n",
       "  <thead>\n",
       "    <tr style=\"text-align: right;\">\n",
       "      <th></th>\n",
       "      <th>link_id</th>\n",
       "      <th>parent_id</th>\n",
       "      <th>User</th>\n",
       "      <th>Text</th>\n",
       "      <th>Intent</th>\n",
       "      <th>Support</th>\n",
       "    </tr>\n",
       "  </thead>\n",
       "  <tbody>\n",
       "    <tr>\n",
       "      <th>3391</th>\n",
       "      <td>t3_la5s8i</td>\n",
       "      <td>t1_glmpdx8</td>\n",
       "      <td>bolognasandwich1</td>\n",
       "      <td>No one knows when the squeeze will happen. Loo...</td>\n",
       "      <td>u</td>\n",
       "      <td>y</td>\n",
       "    </tr>\n",
       "    <tr>\n",
       "      <th>3002</th>\n",
       "      <td>t3_kjikuv</td>\n",
       "      <td>t1_ggwukfc</td>\n",
       "      <td>banana-flavour</td>\n",
       "      <td>Last sentence said yolo 50k each on PLTR and G...</td>\n",
       "      <td>u</td>\n",
       "      <td>u</td>\n",
       "    </tr>\n",
       "    <tr>\n",
       "      <th>4946</th>\n",
       "      <td>t3_l8c0u4</td>\n",
       "      <td>t3_l8c0u4</td>\n",
       "      <td>Self_Cloathing</td>\n",
       "      <td>Helping children and the poor suckers that sti...</td>\n",
       "      <td>u</td>\n",
       "      <td>y</td>\n",
       "    </tr>\n",
       "    <tr>\n",
       "      <th>3248</th>\n",
       "      <td>t3_l78za1</td>\n",
       "      <td>t3_l78za1</td>\n",
       "      <td>ljs_xxxx</td>\n",
       "      <td>Buying more NOK and BB. Still holding AMC and ...</td>\n",
       "      <td>y</td>\n",
       "      <td>y</td>\n",
       "    </tr>\n",
       "    <tr>\n",
       "      <th>113</th>\n",
       "      <td>t3_kzsjo9</td>\n",
       "      <td>t1_gjqg99k</td>\n",
       "      <td>Prevaricater</td>\n",
       "      <td>Yeah BB reeks of people thinking they missed t...</td>\n",
       "      <td>u</td>\n",
       "      <td>y</td>\n",
       "    </tr>\n",
       "  </tbody>\n",
       "</table>\n",
       "</div>"
      ],
      "text/plain": [
       "        link_id   parent_id              User  \\\n",
       "3391  t3_la5s8i  t1_glmpdx8  bolognasandwich1   \n",
       "3002  t3_kjikuv  t1_ggwukfc    banana-flavour   \n",
       "4946  t3_l8c0u4   t3_l8c0u4    Self_Cloathing   \n",
       "3248  t3_l78za1   t3_l78za1          ljs_xxxx   \n",
       "113   t3_kzsjo9  t1_gjqg99k      Prevaricater   \n",
       "\n",
       "                                                   Text Intent Support  \n",
       "3391  No one knows when the squeeze will happen. Loo...      u       y  \n",
       "3002  Last sentence said yolo 50k each on PLTR and G...      u       u  \n",
       "4946  Helping children and the poor suckers that sti...      u       y  \n",
       "3248  Buying more NOK and BB. Still holding AMC and ...      y       y  \n",
       "113   Yeah BB reeks of people thinking they missed t...      u       y  "
      ]
     },
     "execution_count": 101,
     "metadata": {},
     "output_type": "execute_result"
    }
   ],
   "source": [
    "df.sample(5)"
   ]
  },
  {
   "cell_type": "markdown",
   "metadata": {},
   "source": [
    "I am going to exclude information and unclear from the dataset. negative will be assugned rating 0, and positive will be assigned trating 1.  "
   ]
  },
  {
   "cell_type": "code",
   "execution_count": 102,
   "metadata": {},
   "outputs": [
    {
     "data": {
      "text/html": [
       "<div>\n",
       "<style scoped>\n",
       "    .dataframe tbody tr th:only-of-type {\n",
       "        vertical-align: middle;\n",
       "    }\n",
       "\n",
       "    .dataframe tbody tr th {\n",
       "        vertical-align: top;\n",
       "    }\n",
       "\n",
       "    .dataframe thead th {\n",
       "        text-align: right;\n",
       "    }\n",
       "</style>\n",
       "<table border=\"1\" class=\"dataframe\">\n",
       "  <thead>\n",
       "    <tr style=\"text-align: right;\">\n",
       "      <th></th>\n",
       "      <th>link_id</th>\n",
       "      <th>parent_id</th>\n",
       "      <th>User</th>\n",
       "      <th>Text</th>\n",
       "      <th>Intent</th>\n",
       "      <th>Support</th>\n",
       "    </tr>\n",
       "  </thead>\n",
       "  <tbody>\n",
       "    <tr>\n",
       "      <th>0</th>\n",
       "      <td>t3_l71j1l</td>\n",
       "      <td>t1_gl43z92</td>\n",
       "      <td>chasetate27</td>\n",
       "      <td>GME &amp;amp; BB are not on cashapp but AMC &amp;amp; ...</td>\n",
       "      <td>0</td>\n",
       "      <td>0</td>\n",
       "    </tr>\n",
       "    <tr>\n",
       "      <th>1</th>\n",
       "      <td>t3_ki3745</td>\n",
       "      <td>t3_ki3745</td>\n",
       "      <td>pmd5700</td>\n",
       "      <td>Oh GME, you tease!</td>\n",
       "      <td>0</td>\n",
       "      <td>0</td>\n",
       "    </tr>\n",
       "    <tr>\n",
       "      <th>2</th>\n",
       "      <td>t3_la75n9</td>\n",
       "      <td>t3_la75n9</td>\n",
       "      <td>PigLizzard</td>\n",
       "      <td>Dump gme, amc, nok, and bb so we can all buy s...</td>\n",
       "      <td>0</td>\n",
       "      <td>0</td>\n",
       "    </tr>\n",
       "    <tr>\n",
       "      <th>3</th>\n",
       "      <td>t3_lw6hoh</td>\n",
       "      <td>t1_gpfpvtf</td>\n",
       "      <td>anono87</td>\n",
       "      <td>Not a single decent DD posted? 9 billion in re...</td>\n",
       "      <td>0</td>\n",
       "      <td>0</td>\n",
       "    </tr>\n",
       "    <tr>\n",
       "      <th>4</th>\n",
       "      <td>t3_l9xqem</td>\n",
       "      <td>t3_l9xqem</td>\n",
       "      <td>gluino</td>\n",
       "      <td>Just got into $GME @ 220.</td>\n",
       "      <td>1</td>\n",
       "      <td>0</td>\n",
       "    </tr>\n",
       "  </tbody>\n",
       "</table>\n",
       "</div>"
      ],
      "text/plain": [
       "     link_id   parent_id         User  \\\n",
       "0  t3_l71j1l  t1_gl43z92  chasetate27   \n",
       "1  t3_ki3745   t3_ki3745      pmd5700   \n",
       "2  t3_la75n9   t3_la75n9   PigLizzard   \n",
       "3  t3_lw6hoh  t1_gpfpvtf      anono87   \n",
       "4  t3_l9xqem   t3_l9xqem       gluino   \n",
       "\n",
       "                                                Text  Intent  Support  \n",
       "0  GME &amp; BB are not on cashapp but AMC &amp; ...       0        0  \n",
       "1                                 Oh GME, you tease!       0        0  \n",
       "2  Dump gme, amc, nok, and bb so we can all buy s...       0        0  \n",
       "3  Not a single decent DD posted? 9 billion in re...       0        0  \n",
       "4                          Just got into $GME @ 220.       1        0  "
      ]
     },
     "execution_count": 102,
     "metadata": {},
     "output_type": "execute_result"
    }
   ],
   "source": [
    "# Two options together\n",
    "#df['Intent'] = np.where((df['Intent'] == 'y')  | (df['Intent'] == 'm'), 1, 0)\n",
    "#df['Support'] = np.where((df['Support'] == 'y') | (df['Intent'] == 'm'), 1, 0)\n",
    "\n",
    "# Only one option\n",
    "df['Intent'] = np.where((df['Intent'] == 'y'), 1, 0)\n",
    "df['Support'] = np.where((df['Support'] == 'y'),1, 0)\n",
    "\n",
    "df.head()"
   ]
  },
  {
   "cell_type": "code",
   "execution_count": 103,
   "metadata": {},
   "outputs": [
    {
     "data": {
      "text/plain": [
       "Intent\n",
       "0    4018\n",
       "1     983\n",
       "Name: count, dtype: int64"
      ]
     },
     "execution_count": 103,
     "metadata": {},
     "output_type": "execute_result"
    }
   ],
   "source": [
    "df['Intent'].value_counts()"
   ]
  },
  {
   "cell_type": "code",
   "execution_count": 104,
   "metadata": {},
   "outputs": [
    {
     "data": {
      "text/plain": [
       "Support\n",
       "0    2528\n",
       "1    2473\n",
       "Name: count, dtype: int64"
      ]
     },
     "execution_count": 104,
     "metadata": {},
     "output_type": "execute_result"
    }
   ],
   "source": [
    "df['Support'].value_counts()"
   ]
  },
  {
   "cell_type": "code",
   "execution_count": 105,
   "metadata": {},
   "outputs": [
    {
     "data": {
      "image/png": "[encoded data removed]",
      "text/plain": [
       "<Figure size 300x300 with 1 Axes>"
      ]
     },
     "metadata": {},
     "output_type": "display_data"
    },
    {
     "name": "stdout",
     "output_type": "stream",
     "text": [
      "Class imbalance: [0.8 0.2]\n"
     ]
    }
   ],
   "source": [
    "values, counts = np.unique(df['Intent'], return_counts=True)\n",
    "normalized_counts = counts / counts.sum()\n",
    "\n",
    "plt.figure(figsize=(3, 3))\n",
    "plt.bar(values, normalized_counts * 100)\n",
    "plt.xlabel('Intent Rating')\n",
    "plt.ylabel('% of posts')\n",
    "plt.title(\"Rating distribution\")\n",
    "plt.show()\n",
    "\n",
    "\n",
    "print(f\"Class imbalance: {np.round(normalized_counts, 2)}\")"
   ]
  },
  {
   "cell_type": "code",
   "execution_count": 106,
   "metadata": {},
   "outputs": [
    {
     "data": {
      "image/png": "[encoded data removed]",
      "text/plain": [
       "<Figure size 300x300 with 1 Axes>"
      ]
     },
     "metadata": {},
     "output_type": "display_data"
    },
    {
     "name": "stdout",
     "output_type": "stream",
     "text": [
      "Class imbalance: [0.51 0.49]\n"
     ]
    }
   ],
   "source": [
    "values, counts = np.unique(df['Support'], return_counts=True)\n",
    "normalized_counts = counts / counts.sum()\n",
    "\n",
    "plt.figure(figsize=(3, 3))\n",
    "plt.bar(values, normalized_counts * 100)\n",
    "plt.xlabel('Support Rating')\n",
    "plt.ylabel('% of posts')\n",
    "plt.title(\"Rating distribution\")\n",
    "plt.show()\n",
    "print(f\"Class imbalance: {np.round(normalized_counts, 2)}\")"
   ]
  },
  {
   "cell_type": "markdown",
   "metadata": {},
   "source": [
    "### 2.1.1. Custom Tokenization function"
   ]
  },
  {
   "cell_type": "code",
   "execution_count": 107,
   "metadata": {},
   "outputs": [],
   "source": [
    "#Load up our stop words from NLTK\n",
    "stop_words = stopwords.words('english')\n",
    "\n",
    "# Additional custom stopwords to add\n",
    "custom_stopwords = ['gamestop', 'gme', 'game']\n",
    "\n",
    "# Extend the NLTK stopwords list with custom stopwords\n",
    "stop_words.extend(custom_stopwords)"
   ]
  },
  {
   "cell_type": "code",
   "execution_count": 108,
   "metadata": {},
   "outputs": [],
   "source": [
    "# Defining my tokenisation function\n",
    "def my_tokenizer(document, lemmatization=True, stemming=False):\n",
    "    '''\n",
    "    Function for use in Vectorizer that tokenizes the document.\n",
    "    \n",
    "    Parameters:\n",
    "    - document: The text to be tokenized.\n",
    "    - lemmatization: If True, perform lemmatization.\n",
    "    - stemming: If True, perform stemming.\n",
    "    \n",
    "    Returns:\n",
    "    - A list of tokens.\n",
    "    '''\n",
    "    \n",
    "    # Replace newline characters with an empty string\n",
    "    document = document.replace(\"\\n\", \"\")\n",
    "\n",
    "    # Replace non-alphabetic characters with a space\n",
    "    document = re.sub(r\"[^a-zA-Z]\", \" \", document)\n",
    "\n",
    "    # Replace multiple spaces with a single space\n",
    "    document = re.sub(r\"\\s+\", \" \", document)\n",
    "\n",
    "    # Strip leading and trailing spaces\n",
    "    document = document.strip()\n",
    "\n",
    "    # tokenize - split on whitespace\n",
    "    tokenized_document = document.split(' ')\n",
    "\n",
    "    # remove stopwords before stemming or lemmatization\n",
    "    tokenized_document = [word for word in tokenized_document if word.lower() not in stop_words]\n",
    "\n",
    "    # Perform stemming if set to True\n",
    "    if stemming:\n",
    "        stemmer = PorterStemmer()\n",
    "        tokenized_document = [stemmer.stem(word) for word in tokenized_document]\n",
    "\n",
    "    # Perform lemmatization if set to True\n",
    "    if lemmatization:\n",
    "        lemmatizer = WordNetLemmatizer()\n",
    "        tokenized_document = [lemmatizer.lemmatize(word) for word in tokenized_document]\n",
    "\n",
    "    return tokenized_document\n",
    "\n",
    "\n",
    "#EXTRA\n",
    "#to modify the default parameters of my_tokenizer_pattern we can use a lambda function in-place:\n",
    "#count_vectorizer = CountVectorizer(tokenizer=lambda document: my_tokenizer(document, lemmatization=True, stemming=False))\n",
    "\n",
    "#what if we only wanted to extract letters, without numeric characters\n",
    "#consider changing the pattern to pattern=r\"(?u)\\b[a-zA-Z][a-zA-Z]+\\b\""
   ]
  },
  {
   "cell_type": "markdown",
   "metadata": {},
   "source": [
    "### Train test split"
   ]
  },
  {
   "cell_type": "code",
   "execution_count": 109,
   "metadata": {},
   "outputs": [
    {
     "data": {
      "text/plain": [
       "(4000,)"
      ]
     },
     "execution_count": 109,
     "metadata": {},
     "output_type": "execute_result"
    }
   ],
   "source": [
    "# store simplified data in X and y\n",
    "X = df['Text']\n",
    "y = df['Intent']\n",
    "\n",
    "# splitting our data into train and test sets\n",
    "from sklearn.model_selection import train_test_split\n",
    "\n",
    "X_train, X_test, y_train, y_test = train_test_split(X, y, test_size=0.2, random_state=99, stratify=y)\n",
    "\n",
    "# size of training data\n",
    "X_train.shape"
   ]
  },
  {
   "cell_type": "markdown",
   "metadata": {},
   "source": [
    "## 2.2. Vectorisation "
   ]
  },
  {
   "cell_type": "code",
   "execution_count": 110,
   "metadata": {},
   "outputs": [
    {
     "name": "stderr",
     "output_type": "stream",
     "text": [
      "/Users/lgfolder/anaconda3/envs/myenv2/lib/python3.8/site-packages/sklearn/feature_extraction/text.py:525: UserWarning: The parameter 'token_pattern' will not be used since 'tokenizer' is not None'\n",
      "  warnings.warn(\n"
     ]
    },
    {
     "name": "stdout",
     "output_type": "stream",
     "text": [
      "(4000, 585)\n"
     ]
    }
   ],
   "source": [
    "# Initialise a CountVectorizer object\n",
    "count_vectorizer = CountVectorizer(tokenizer=my_tokenizer,\n",
    "                                   stop_words=stop_words, # using stop words list that has been customised\n",
    "                                   min_df=0.005, \n",
    "                                   ngram_range=(1,4), \n",
    "                                   max_features=1000)\n",
    "\n",
    "# Preprocess the stop words with the custom tokenizer logic (if applicable)\n",
    "processed_stop_words = set(my_tokenizer(' '.join(stop_words)))\n",
    "\n",
    "# Fit the CountVectorizer object on X_train\n",
    "count_vectorizer.fit(X_train)\n",
    "\n",
    "# Fit the CountVectorizer object on X_train\n",
    "X_matrix_train = count_vectorizer.transform(X_train)\n",
    "\n",
    "print(X_matrix_train.shape);"
   ]
  },
  {
   "cell_type": "code",
   "execution_count": 111,
   "metadata": {},
   "outputs": [
    {
     "name": "stdout",
     "output_type": "stream",
     "text": [
      "The most common words and their counts are:\n"
     ]
    },
    {
     "data": {
      "text/html": [
       "<div>\n",
       "<style scoped>\n",
       "    .dataframe tbody tr th:only-of-type {\n",
       "        vertical-align: middle;\n",
       "    }\n",
       "\n",
       "    .dataframe tbody tr th {\n",
       "        vertical-align: top;\n",
       "    }\n",
       "\n",
       "    .dataframe thead th {\n",
       "        text-align: right;\n",
       "    }\n",
       "</style>\n",
       "<table border=\"1\" class=\"dataframe\">\n",
       "  <thead>\n",
       "    <tr style=\"text-align: right;\">\n",
       "      <th></th>\n",
       "      <th>counts</th>\n",
       "    </tr>\n",
       "  </thead>\n",
       "  <tbody>\n",
       "    <tr>\n",
       "      <th>buy</th>\n",
       "      <td>794</td>\n",
       "    </tr>\n",
       "    <tr>\n",
       "      <th>stock</th>\n",
       "      <td>740</td>\n",
       "    </tr>\n",
       "    <tr>\n",
       "      <th>share</th>\n",
       "      <td>719</td>\n",
       "    </tr>\n",
       "    <tr>\n",
       "      <th>like</th>\n",
       "      <td>554</td>\n",
       "    </tr>\n",
       "    <tr>\n",
       "      <th>amc</th>\n",
       "      <td>531</td>\n",
       "    </tr>\n",
       "    <tr>\n",
       "      <th>short</th>\n",
       "      <td>518</td>\n",
       "    </tr>\n",
       "    <tr>\n",
       "      <th>get</th>\n",
       "      <td>414</td>\n",
       "    </tr>\n",
       "    <tr>\n",
       "      <th>people</th>\n",
       "      <td>400</td>\n",
       "    </tr>\n",
       "    <tr>\n",
       "      <th>hold</th>\n",
       "      <td>389</td>\n",
       "    </tr>\n",
       "    <tr>\n",
       "      <th>go</th>\n",
       "      <td>387</td>\n",
       "    </tr>\n",
       "    <tr>\n",
       "      <th>money</th>\n",
       "      <td>372</td>\n",
       "    </tr>\n",
       "    <tr>\n",
       "      <th>sell</th>\n",
       "      <td>369</td>\n",
       "    </tr>\n",
       "    <tr>\n",
       "      <th>going</th>\n",
       "      <td>325</td>\n",
       "    </tr>\n",
       "    <tr>\n",
       "      <th>price</th>\n",
       "      <td>322</td>\n",
       "    </tr>\n",
       "    <tr>\n",
       "      <th>day</th>\n",
       "      <td>300</td>\n",
       "    </tr>\n",
       "    <tr>\n",
       "      <th>squeeze</th>\n",
       "      <td>289</td>\n",
       "    </tr>\n",
       "    <tr>\n",
       "      <th>market</th>\n",
       "      <td>288</td>\n",
       "    </tr>\n",
       "    <tr>\n",
       "      <th>would</th>\n",
       "      <td>287</td>\n",
       "    </tr>\n",
       "    <tr>\n",
       "      <th>make</th>\n",
       "      <td>278</td>\n",
       "    </tr>\n",
       "    <tr>\n",
       "      <th>u</th>\n",
       "      <td>273</td>\n",
       "    </tr>\n",
       "  </tbody>\n",
       "</table>\n",
       "</div>"
      ],
      "text/plain": [
       "         counts\n",
       "buy         794\n",
       "stock       740\n",
       "share       719\n",
       "like        554\n",
       "amc         531\n",
       "short       518\n",
       "get         414\n",
       "people      400\n",
       "hold        389\n",
       "go          387\n",
       "money       372\n",
       "sell        369\n",
       "going       325\n",
       "price       322\n",
       "day         300\n",
       "squeeze     289\n",
       "market      288\n",
       "would       287\n",
       "make        278\n",
       "u           273"
      ]
     },
     "execution_count": 111,
     "metadata": {},
     "output_type": "execute_result"
    }
   ],
   "source": [
    "# sum all the rows for each feature\n",
    "word_counts = pd.DataFrame(\n",
    "        {\"counts\": np.array(X_matrix_train.sum(axis=0)).flatten()},\n",
    "        index=count_vectorizer.get_feature_names_out()).sort_values(\"counts\", ascending=False)\n",
    "\n",
    "print('The most common words and their counts are:')\n",
    "word_counts[:20]"
   ]
  },
  {
   "cell_type": "code",
   "execution_count": 112,
   "metadata": {},
   "outputs": [
    {
     "data": {
      "text/html": [
       "<div>\n",
       "<style scoped>\n",
       "    .dataframe tbody tr th:only-of-type {\n",
       "        vertical-align: middle;\n",
       "    }\n",
       "\n",
       "    .dataframe tbody tr th {\n",
       "        vertical-align: top;\n",
       "    }\n",
       "\n",
       "    .dataframe thead th {\n",
       "        text-align: right;\n",
       "    }\n",
       "</style>\n",
       "<table border=\"1\" class=\"dataframe\">\n",
       "  <thead>\n",
       "    <tr style=\"text-align: right;\">\n",
       "      <th></th>\n",
       "      <th>able</th>\n",
       "      <th>account</th>\n",
       "      <th>action</th>\n",
       "      <th>actual</th>\n",
       "      <th>actually</th>\n",
       "      <th>advice</th>\n",
       "      <th>afford</th>\n",
       "      <th>ago</th>\n",
       "      <th>agree</th>\n",
       "      <th>allow</th>\n",
       "      <th>...</th>\n",
       "      <th>www reddit com</th>\n",
       "      <th>www reddit com r</th>\n",
       "      <th>x</th>\n",
       "      <th>x b</th>\n",
       "      <th>yeah</th>\n",
       "      <th>year</th>\n",
       "      <th>yes</th>\n",
       "      <th>yesterday</th>\n",
       "      <th>yet</th>\n",
       "      <th>yolo</th>\n",
       "    </tr>\n",
       "  </thead>\n",
       "  <tbody>\n",
       "    <tr>\n",
       "      <th>0</th>\n",
       "      <td>0</td>\n",
       "      <td>0</td>\n",
       "      <td>0</td>\n",
       "      <td>0</td>\n",
       "      <td>0</td>\n",
       "      <td>0</td>\n",
       "      <td>0</td>\n",
       "      <td>0</td>\n",
       "      <td>0</td>\n",
       "      <td>0</td>\n",
       "      <td>...</td>\n",
       "      <td>0</td>\n",
       "      <td>0</td>\n",
       "      <td>0</td>\n",
       "      <td>0</td>\n",
       "      <td>0</td>\n",
       "      <td>0</td>\n",
       "      <td>0</td>\n",
       "      <td>0</td>\n",
       "      <td>0</td>\n",
       "      <td>0</td>\n",
       "    </tr>\n",
       "    <tr>\n",
       "      <th>1</th>\n",
       "      <td>0</td>\n",
       "      <td>0</td>\n",
       "      <td>0</td>\n",
       "      <td>0</td>\n",
       "      <td>0</td>\n",
       "      <td>0</td>\n",
       "      <td>0</td>\n",
       "      <td>0</td>\n",
       "      <td>0</td>\n",
       "      <td>0</td>\n",
       "      <td>...</td>\n",
       "      <td>0</td>\n",
       "      <td>0</td>\n",
       "      <td>0</td>\n",
       "      <td>0</td>\n",
       "      <td>0</td>\n",
       "      <td>0</td>\n",
       "      <td>0</td>\n",
       "      <td>0</td>\n",
       "      <td>0</td>\n",
       "      <td>0</td>\n",
       "    </tr>\n",
       "    <tr>\n",
       "      <th>2</th>\n",
       "      <td>0</td>\n",
       "      <td>0</td>\n",
       "      <td>0</td>\n",
       "      <td>0</td>\n",
       "      <td>0</td>\n",
       "      <td>0</td>\n",
       "      <td>0</td>\n",
       "      <td>0</td>\n",
       "      <td>0</td>\n",
       "      <td>0</td>\n",
       "      <td>...</td>\n",
       "      <td>0</td>\n",
       "      <td>0</td>\n",
       "      <td>0</td>\n",
       "      <td>0</td>\n",
       "      <td>0</td>\n",
       "      <td>0</td>\n",
       "      <td>0</td>\n",
       "      <td>0</td>\n",
       "      <td>0</td>\n",
       "      <td>0</td>\n",
       "    </tr>\n",
       "    <tr>\n",
       "      <th>3</th>\n",
       "      <td>0</td>\n",
       "      <td>0</td>\n",
       "      <td>0</td>\n",
       "      <td>0</td>\n",
       "      <td>0</td>\n",
       "      <td>0</td>\n",
       "      <td>0</td>\n",
       "      <td>0</td>\n",
       "      <td>0</td>\n",
       "      <td>0</td>\n",
       "      <td>...</td>\n",
       "      <td>0</td>\n",
       "      <td>0</td>\n",
       "      <td>0</td>\n",
       "      <td>0</td>\n",
       "      <td>0</td>\n",
       "      <td>0</td>\n",
       "      <td>0</td>\n",
       "      <td>0</td>\n",
       "      <td>0</td>\n",
       "      <td>0</td>\n",
       "    </tr>\n",
       "    <tr>\n",
       "      <th>4</th>\n",
       "      <td>0</td>\n",
       "      <td>0</td>\n",
       "      <td>0</td>\n",
       "      <td>0</td>\n",
       "      <td>0</td>\n",
       "      <td>0</td>\n",
       "      <td>0</td>\n",
       "      <td>0</td>\n",
       "      <td>0</td>\n",
       "      <td>0</td>\n",
       "      <td>...</td>\n",
       "      <td>0</td>\n",
       "      <td>0</td>\n",
       "      <td>0</td>\n",
       "      <td>0</td>\n",
       "      <td>0</td>\n",
       "      <td>0</td>\n",
       "      <td>0</td>\n",
       "      <td>0</td>\n",
       "      <td>0</td>\n",
       "      <td>0</td>\n",
       "    </tr>\n",
       "  </tbody>\n",
       "</table>\n",
       "<p>5 rows × 585 columns</p>\n",
       "</div>"
      ],
      "text/plain": [
       "   able  account  action  actual  actually  advice  afford  ago  agree  allow  \\\n",
       "0     0        0       0       0         0       0       0    0      0      0   \n",
       "1     0        0       0       0         0       0       0    0      0      0   \n",
       "2     0        0       0       0         0       0       0    0      0      0   \n",
       "3     0        0       0       0         0       0       0    0      0      0   \n",
       "4     0        0       0       0         0       0       0    0      0      0   \n",
       "\n",
       "   ...  www reddit com  www reddit com r  x  x b  yeah  year  yes  yesterday  \\\n",
       "0  ...               0                 0  0    0     0     0    0          0   \n",
       "1  ...               0                 0  0    0     0     0    0          0   \n",
       "2  ...               0                 0  0    0     0     0    0          0   \n",
       "3  ...               0                 0  0    0     0     0    0          0   \n",
       "4  ...               0                 0  0    0     0     0    0          0   \n",
       "\n",
       "   yet  yolo  \n",
       "0    0     0  \n",
       "1    0     0  \n",
       "2    0     0  \n",
       "3    0     0  \n",
       "4    0     0  \n",
       "\n",
       "[5 rows x 585 columns]"
      ]
     },
     "execution_count": 112,
     "metadata": {},
     "output_type": "execute_result"
    }
   ],
   "source": [
    "#toarray() method converts sparse matrix to a DataFrame\n",
    "pd.DataFrame(X_matrix_train.toarray(),columns=count_vectorizer.get_feature_names_out()).head()"
   ]
  },
  {
   "cell_type": "code",
   "execution_count": 113,
   "metadata": {},
   "outputs": [
    {
     "data": {
      "image/png": "[encoded data removed]",
      "text/plain": [
       "<Figure size 600x400 with 1 Axes>"
      ]
     },
     "metadata": {},
     "output_type": "display_data"
    }
   ],
   "source": [
    "word_counts[:20].plot(kind='barh',title='Counts of the most common words')\n",
    "plt.show()"
   ]
  },
  {
   "cell_type": "markdown",
   "metadata": {},
   "source": [
    "Observations:  \n",
    "\n",
    "* The list of words assocaited with neagtive reviews is quite revealing. \n",
    "* Customers clearly dislike unclean small rooms, tired decor, rude staff, poor breakfast selection, expensive hotels where quality does not match the price, broken amenities, noise and poor service."
   ]
  },
  {
   "cell_type": "markdown",
   "metadata": {},
   "source": [
    "### SMOTE sampling due to imbalance"
   ]
  },
  {
   "cell_type": "code",
   "execution_count": 114,
   "metadata": {},
   "outputs": [],
   "source": [
    "# instantiate SMOTE sampler, fit it to the training data, then resample the data\n",
    "X_train_sm, y_train_sm = SMOTE(random_state=1).fit_resample(X_matrix_train, y_train)"
   ]
  },
  {
   "cell_type": "code",
   "execution_count": 115,
   "metadata": {},
   "outputs": [
    {
     "name": "stdout",
     "output_type": "stream",
     "text": [
      "Original class distribution\n"
     ]
    },
    {
     "data": {
      "text/plain": [
       "Intent\n",
       "0    3214\n",
       "1     786\n",
       "Name: count, dtype: int64"
      ]
     },
     "metadata": {},
     "output_type": "display_data"
    },
    {
     "name": "stdout",
     "output_type": "stream",
     "text": [
      "\n",
      "Resampled class distribution\n"
     ]
    },
    {
     "data": {
      "text/plain": [
       "Intent\n",
       "0    3214\n",
       "1    3214\n",
       "Name: count, dtype: int64"
      ]
     },
     "metadata": {},
     "output_type": "display_data"
    }
   ],
   "source": [
    "# check what SMOTE has done\n",
    "\n",
    "print('Original class distribution')\n",
    "display(pd.Series(y_train).value_counts().sort_index())\n",
    "\n",
    "print('\\nResampled class distribution')\n",
    "display(pd.Series(y_train_sm).value_counts().sort_index())"
   ]
  },
  {
   "cell_type": "code",
   "execution_count": 116,
   "metadata": {},
   "outputs": [],
   "source": [
    "# scale the sampled train data and the unsampled test data\n",
    "#ss_sm = StandardScaler().fit(X_train_sm)\n",
    "#X_train_sm_ss = ss_sm.transform(X_train_sm)\n",
    "#X_test_ss = ss_sm.transform(X_test)"
   ]
  },
  {
   "cell_type": "markdown",
   "metadata": {},
   "source": [
    "## 2.3. Simple Logistic Regression"
   ]
  },
  {
   "cell_type": "markdown",
   "metadata": {},
   "source": [
    "Now that we are happy with the number of features, let's fit a classification model and preprocess the test set"
   ]
  },
  {
   "cell_type": "code",
   "execution_count": 117,
   "metadata": {},
   "outputs": [
    {
     "data": {
      "text/plain": [
       "(1001, 585)"
      ]
     },
     "execution_count": 117,
     "metadata": {},
     "output_type": "execute_result"
    }
   ],
   "source": [
    "X_matrix_test = count_vectorizer.transform(X_test)\n",
    "X_matrix_test.shape"
   ]
  },
  {
   "cell_type": "code",
   "execution_count": 118,
   "metadata": {},
   "outputs": [
    {
     "name": "stdout",
     "output_type": "stream",
     "text": [
      "Train set accuracy 0.87\n",
      "Test set accuracy 0.83\n",
      "Classification Report:\n",
      "              precision    recall  f1-score   support\n",
      "\n",
      "           0       0.86      0.94      0.90       804\n",
      "           1       0.61      0.35      0.44       197\n",
      "\n",
      "    accuracy                           0.83      1001\n",
      "   macro avg       0.73      0.65      0.67      1001\n",
      "weighted avg       0.81      0.83      0.81      1001\n",
      "\n",
      "Confusion Matrix:\n",
      "[[759  45]\n",
      " [128  69]]\n"
     ]
    }
   ],
   "source": [
    "logistic_model=LogisticRegression()\n",
    "logistic_model.fit(X_matrix_train,y_train)\n",
    "print(f\"Train set accuracy {logistic_model.score(X_matrix_train,y_train):.2f}\")\n",
    "print(f\"Test set accuracy {logistic_model.score(X_matrix_test,y_test):.2f}\")\n",
    "\n",
    "# Make predictions on the test set\n",
    "test_predictions = logistic_model.predict(X_matrix_test)\n",
    "\n",
    "# Print classification report\n",
    "print(\"Classification Report:\")\n",
    "print(classification_report(y_test, test_predictions))\n",
    "\n",
    "# Print confusion matrix\n",
    "print(\"Confusion Matrix:\")\n",
    "print(confusion_matrix(y_test, test_predictions))"
   ]
  },
  {
   "cell_type": "markdown",
   "metadata": {},
   "source": [
    "* Note, train scores can also be used as one of the metrics to select the optimal min_df & max_df parameters\n",
    "* Now we can use the model object to access and specifically its **coef_** amd **feature_names_in_** attributes to plot which tokens have the greatest predictive power of negative and postiive reviews\n",
    "    * Note this approach is only going to work if the model was fitted on a dataframe with the correct feature names, if an array was used, feature names can be extracted from the vectorizer used previously"
   ]
  },
  {
   "cell_type": "code",
   "execution_count": 119,
   "metadata": {},
   "outputs": [
    {
     "data": {
      "image/png": "[encoded data removed]",
      "text/plain": [
       "<Figure size 600x400 with 1 Axes>"
      ]
     },
     "metadata": {},
     "output_type": "display_data"
    }
   ],
   "source": [
    "# probabilistic prediction\n",
    "y_test_proba = logistic_model.predict_proba(X_matrix_test)[:,1] # probabilities of data points being in the positive class\n",
    "\n",
    "# ROC arrays\n",
    "fprs, tprs, thresholds = roc_curve(y_test, y_test_proba)\n",
    "\n",
    "# AUC\n",
    "roc_auc = roc_auc_score(y_test, y_test_proba)\n",
    "\n",
    "# plot\n",
    "plt.figure()\n",
    "sns.lineplot(x=fprs, y=tprs, color='red', lw=2, label=f'ROC (AUC = {roc_auc:0.2f})')  # Corrected line\n",
    "sns.lineplot(x=[0, 1], y=[0, 1], color='black', lw=2, linestyle='--', label='Random guess')  # Corrected line and added linestyle for clarity\n",
    "\n",
    "plt.xlabel('False Positive Rate (FPR)')\n",
    "plt.ylabel('True Positive Rate (Recall or TPR)')\n",
    "plt.title('ROC Curve for Intent Prediction')\n",
    "plt.legend(loc='best')\n",
    "plt.show()"
   ]
  },
  {
   "cell_type": "markdown",
   "metadata": {},
   "source": [
    "Remember what the threshold is - if the probabilistic prediction of a data point being in the positive class is at or greater than x threshold, then our hard classifier will assign that data point to the positive class.  e.g. if our threshold is 0.3, and the probability of a data point being in the positive class is 0.4, then the hard classification is that the data point is positive.\n",
    "\n",
    "Remember what the ROC curve represents - \"if I were to set my threshold at x, then our model would have a TPR of y, but we would have to live with an FPR of z\".\n",
    "- **A threshold of 0 is the point at the top right of the ROC curve** - we are intentionally classifying every data point as positive, thus we correctly classify all the true positive data points ($TPR = 100\\%$) but fail to correctly classify any of the true negative data points ($FPR = 100\\%$)\n",
    "- **A threshold of 1 is the point at the bottom left of the curve** - we are intentionally classifying every data point as negative, thus we correctly classify all the true negative data points ($FPR = 0\\%$) but fail to correctly classify any of the true positive data points ($TPR = 0\\%$)"
   ]
  },
  {
   "cell_type": "code",
   "execution_count": 120,
   "metadata": {},
   "outputs": [
    {
     "name": "stdout",
     "output_type": "stream",
     "text": [
      "Train set accuracy after SMOTE 0.82\n",
      "Test set accuracy after SMOTE 0.67\n",
      "Classification Report after SMOTE:\n",
      "              precision    recall  f1-score   support\n",
      "\n",
      "           0       0.87      0.69      0.77       804\n",
      "           1       0.32      0.58      0.41       197\n",
      "\n",
      "    accuracy                           0.67      1001\n",
      "   macro avg       0.59      0.64      0.59      1001\n",
      "weighted avg       0.76      0.67      0.70      1001\n",
      "\n",
      "Confusion Matrix after SMOTE:\n",
      "[[558 246]\n",
      " [ 83 114]]\n"
     ]
    },
    {
     "ename": "KeyboardInterrupt",
     "evalue": "",
     "output_type": "error",
     "traceback": [
      "\u001b[0;31m---------------------------------------------------------------------------\u001b[0m",
      "\u001b[0;31mKeyboardInterrupt\u001b[0m                         Traceback (most recent call last)",
      "\u001b[1;32m/Users/lgfolder/github/capstone-project-lusavkaedu/notebooks/DRAFT_labelled_model.ipynb Cell 45\u001b[0m line \u001b[0;36m3\n\u001b[1;32m     <a href='vscode-notebook-cell:/Users/lgfolder/github/capstone-project-lusavkaedu/notebooks/DRAFT_labelled_model.ipynb#Y164sZmlsZQ%3D%3D?line=34'>35</a>\u001b[0m \u001b[39m# Plot\u001b[39;00m\n\u001b[1;32m     <a href='vscode-notebook-cell:/Users/lgfolder/github/capstone-project-lusavkaedu/notebooks/DRAFT_labelled_model.ipynb#Y164sZmlsZQ%3D%3D?line=35'>36</a>\u001b[0m plt\u001b[39m.\u001b[39mfigure()\n\u001b[0;32m---> <a href='vscode-notebook-cell:/Users/lgfolder/github/capstone-project-lusavkaedu/notebooks/DRAFT_labelled_model.ipynb#Y164sZmlsZQ%3D%3D?line=36'>37</a>\u001b[0m sns\u001b[39m.\u001b[39;49mlineplot(x\u001b[39m=\u001b[39;49mfprs_sm, y\u001b[39m=\u001b[39;49mtprs_sm, color\u001b[39m=\u001b[39;49m\u001b[39m'\u001b[39;49m\u001b[39mblue\u001b[39;49m\u001b[39m'\u001b[39;49m, lw\u001b[39m=\u001b[39;49m\u001b[39m2\u001b[39;49m, label\u001b[39m=\u001b[39;49m\u001b[39mf\u001b[39;49m\u001b[39m'\u001b[39;49m\u001b[39mROC after SMOTE (AUC = \u001b[39;49m\u001b[39m{\u001b[39;49;00mroc_auc_sm\u001b[39m:\u001b[39;49;00m\u001b[39m0.2f\u001b[39;49m\u001b[39m}\u001b[39;49;00m\u001b[39m)\u001b[39;49m\u001b[39m'\u001b[39;49m)\n\u001b[1;32m     <a href='vscode-notebook-cell:/Users/lgfolder/github/capstone-project-lusavkaedu/notebooks/DRAFT_labelled_model.ipynb#Y164sZmlsZQ%3D%3D?line=37'>38</a>\u001b[0m sns\u001b[39m.\u001b[39mlineplot(x\u001b[39m=\u001b[39m[\u001b[39m0\u001b[39m, \u001b[39m1\u001b[39m], y\u001b[39m=\u001b[39m[\u001b[39m0\u001b[39m, \u001b[39m1\u001b[39m], color\u001b[39m=\u001b[39m\u001b[39m'\u001b[39m\u001b[39mblack\u001b[39m\u001b[39m'\u001b[39m, lw\u001b[39m=\u001b[39m\u001b[39m2\u001b[39m, linestyle\u001b[39m=\u001b[39m\u001b[39m'\u001b[39m\u001b[39m--\u001b[39m\u001b[39m'\u001b[39m, label\u001b[39m=\u001b[39m\u001b[39m'\u001b[39m\u001b[39mRandom guess\u001b[39m\u001b[39m'\u001b[39m)\n\u001b[1;32m     <a href='vscode-notebook-cell:/Users/lgfolder/github/capstone-project-lusavkaedu/notebooks/DRAFT_labelled_model.ipynb#Y164sZmlsZQ%3D%3D?line=39'>40</a>\u001b[0m plt\u001b[39m.\u001b[39mxlabel(\u001b[39m'\u001b[39m\u001b[39mFalse Positive Rate (FPR)\u001b[39m\u001b[39m'\u001b[39m)\n",
      "File \u001b[0;32m~/anaconda3/envs/myenv2/lib/python3.8/site-packages/seaborn/relational.py:645\u001b[0m, in \u001b[0;36mlineplot\u001b[0;34m(data, x, y, hue, size, style, units, palette, hue_order, hue_norm, sizes, size_order, size_norm, dashes, markers, style_order, estimator, errorbar, n_boot, seed, orient, sort, err_style, err_kws, legend, ci, ax, **kwargs)\u001b[0m\n\u001b[1;32m    642\u001b[0m color \u001b[39m=\u001b[39m kwargs\u001b[39m.\u001b[39mpop(\u001b[39m\"\u001b[39m\u001b[39mcolor\u001b[39m\u001b[39m\"\u001b[39m, kwargs\u001b[39m.\u001b[39mpop(\u001b[39m\"\u001b[39m\u001b[39mc\u001b[39m\u001b[39m\"\u001b[39m, \u001b[39mNone\u001b[39;00m))\n\u001b[1;32m    643\u001b[0m kwargs[\u001b[39m\"\u001b[39m\u001b[39mcolor\u001b[39m\u001b[39m\"\u001b[39m] \u001b[39m=\u001b[39m _default_color(ax\u001b[39m.\u001b[39mplot, hue, color, kwargs)\n\u001b[0;32m--> 645\u001b[0m p\u001b[39m.\u001b[39;49mplot(ax, kwargs)\n\u001b[1;32m    646\u001b[0m \u001b[39mreturn\u001b[39;00m ax\n",
      "File \u001b[0;32m~/anaconda3/envs/myenv2/lib/python3.8/site-packages/seaborn/relational.py:441\u001b[0m, in \u001b[0;36m_LinePlotter.plot\u001b[0;34m(self, ax, kws)\u001b[0m\n\u001b[1;32m    438\u001b[0m     grouped \u001b[39m=\u001b[39m sub_data\u001b[39m.\u001b[39mgroupby(orient, sort\u001b[39m=\u001b[39m\u001b[39mself\u001b[39m\u001b[39m.\u001b[39msort)\n\u001b[1;32m    439\u001b[0m     \u001b[39m# Could pass as_index=False instead of reset_index,\u001b[39;00m\n\u001b[1;32m    440\u001b[0m     \u001b[39m# but that fails on a corner case with older pandas.\u001b[39;00m\n\u001b[0;32m--> 441\u001b[0m     sub_data \u001b[39m=\u001b[39m grouped\u001b[39m.\u001b[39;49mapply(agg, other)\u001b[39m.\u001b[39mreset_index()\n\u001b[1;32m    442\u001b[0m \u001b[39melse\u001b[39;00m:\n\u001b[1;32m    443\u001b[0m     sub_data[\u001b[39mf\u001b[39m\u001b[39m\"\u001b[39m\u001b[39m{\u001b[39;00mother\u001b[39m}\u001b[39;00m\u001b[39mmin\u001b[39m\u001b[39m\"\u001b[39m] \u001b[39m=\u001b[39m np\u001b[39m.\u001b[39mnan\n",
      "File \u001b[0;32m~/anaconda3/envs/myenv2/lib/python3.8/site-packages/pandas/core/groupby/groupby.py:1353\u001b[0m, in \u001b[0;36mGroupBy.apply\u001b[0;34m(self, func, *args, **kwargs)\u001b[0m\n\u001b[1;32m   1351\u001b[0m \u001b[39mwith\u001b[39;00m option_context(\u001b[39m\"\u001b[39m\u001b[39mmode.chained_assignment\u001b[39m\u001b[39m\"\u001b[39m, \u001b[39mNone\u001b[39;00m):\n\u001b[1;32m   1352\u001b[0m     \u001b[39mtry\u001b[39;00m:\n\u001b[0;32m-> 1353\u001b[0m         result \u001b[39m=\u001b[39m \u001b[39mself\u001b[39;49m\u001b[39m.\u001b[39;49m_python_apply_general(f, \u001b[39mself\u001b[39;49m\u001b[39m.\u001b[39;49m_selected_obj)\n\u001b[1;32m   1354\u001b[0m     \u001b[39mexcept\u001b[39;00m \u001b[39mTypeError\u001b[39;00m:\n\u001b[1;32m   1355\u001b[0m         \u001b[39m# gh-20949\u001b[39;00m\n\u001b[1;32m   1356\u001b[0m         \u001b[39m# try again, with .apply acting as a filtering\u001b[39;00m\n\u001b[0;32m   (...)\u001b[0m\n\u001b[1;32m   1360\u001b[0m         \u001b[39m# fails on *some* columns, e.g. a numeric operation\u001b[39;00m\n\u001b[1;32m   1361\u001b[0m         \u001b[39m# on a string grouper column\u001b[39;00m\n\u001b[1;32m   1363\u001b[0m         \u001b[39mreturn\u001b[39;00m \u001b[39mself\u001b[39m\u001b[39m.\u001b[39m_python_apply_general(f, \u001b[39mself\u001b[39m\u001b[39m.\u001b[39m_obj_with_exclusions)\n",
      "File \u001b[0;32m~/anaconda3/envs/myenv2/lib/python3.8/site-packages/pandas/core/groupby/groupby.py:1402\u001b[0m, in \u001b[0;36mGroupBy._python_apply_general\u001b[0;34m(self, f, data, not_indexed_same, is_transform, is_agg)\u001b[0m\n\u001b[1;32m   1367\u001b[0m \u001b[39m@final\u001b[39m\n\u001b[1;32m   1368\u001b[0m \u001b[39mdef\u001b[39;00m \u001b[39m_python_apply_general\u001b[39m(\n\u001b[1;32m   1369\u001b[0m     \u001b[39mself\u001b[39m,\n\u001b[0;32m   (...)\u001b[0m\n\u001b[1;32m   1374\u001b[0m     is_agg: \u001b[39mbool\u001b[39m \u001b[39m=\u001b[39m \u001b[39mFalse\u001b[39;00m,\n\u001b[1;32m   1375\u001b[0m ) \u001b[39m-\u001b[39m\u001b[39m>\u001b[39m NDFrameT:\n\u001b[1;32m   1376\u001b[0m \u001b[39m    \u001b[39m\u001b[39m\"\"\"\u001b[39;00m\n\u001b[1;32m   1377\u001b[0m \u001b[39m    Apply function f in python space\u001b[39;00m\n\u001b[1;32m   1378\u001b[0m \n\u001b[0;32m   (...)\u001b[0m\n\u001b[1;32m   1400\u001b[0m \u001b[39m        data after applying f\u001b[39;00m\n\u001b[1;32m   1401\u001b[0m \u001b[39m    \"\"\"\u001b[39;00m\n\u001b[0;32m-> 1402\u001b[0m     values, mutated \u001b[39m=\u001b[39m \u001b[39mself\u001b[39;49m\u001b[39m.\u001b[39;49mgrouper\u001b[39m.\u001b[39;49mapply(f, data, \u001b[39mself\u001b[39;49m\u001b[39m.\u001b[39;49maxis)\n\u001b[1;32m   1403\u001b[0m     \u001b[39mif\u001b[39;00m not_indexed_same \u001b[39mis\u001b[39;00m \u001b[39mNone\u001b[39;00m:\n\u001b[1;32m   1404\u001b[0m         not_indexed_same \u001b[39m=\u001b[39m mutated\n",
      "File \u001b[0;32m~/anaconda3/envs/myenv2/lib/python3.8/site-packages/pandas/core/groupby/ops.py:767\u001b[0m, in \u001b[0;36mBaseGrouper.apply\u001b[0;34m(self, f, data, axis)\u001b[0m\n\u001b[1;32m    765\u001b[0m \u001b[39m# group might be modified\u001b[39;00m\n\u001b[1;32m    766\u001b[0m group_axes \u001b[39m=\u001b[39m group\u001b[39m.\u001b[39maxes\n\u001b[0;32m--> 767\u001b[0m res \u001b[39m=\u001b[39m f(group)\n\u001b[1;32m    768\u001b[0m \u001b[39mif\u001b[39;00m \u001b[39mnot\u001b[39;00m mutated \u001b[39mand\u001b[39;00m \u001b[39mnot\u001b[39;00m _is_indexed_like(res, group_axes, axis):\n\u001b[1;32m    769\u001b[0m     mutated \u001b[39m=\u001b[39m \u001b[39mTrue\u001b[39;00m\n",
      "File \u001b[0;32m~/anaconda3/envs/myenv2/lib/python3.8/site-packages/pandas/core/groupby/groupby.py:1341\u001b[0m, in \u001b[0;36mGroupBy.apply.<locals>.f\u001b[0;34m(g)\u001b[0m\n\u001b[1;32m   1338\u001b[0m \u001b[39m@wraps\u001b[39m(func)\n\u001b[1;32m   1339\u001b[0m \u001b[39mdef\u001b[39;00m \u001b[39mf\u001b[39m(g):\n\u001b[1;32m   1340\u001b[0m     \u001b[39mwith\u001b[39;00m np\u001b[39m.\u001b[39merrstate(\u001b[39mall\u001b[39m\u001b[39m=\u001b[39m\u001b[39m\"\u001b[39m\u001b[39mignore\u001b[39m\u001b[39m\"\u001b[39m):\n\u001b[0;32m-> 1341\u001b[0m         \u001b[39mreturn\u001b[39;00m func(g, \u001b[39m*\u001b[39;49margs, \u001b[39m*\u001b[39;49m\u001b[39m*\u001b[39;49mkwargs)\n",
      "File \u001b[0;32m~/anaconda3/envs/myenv2/lib/python3.8/site-packages/seaborn/_statistics.py:513\u001b[0m, in \u001b[0;36mEstimateAggregator.__call__\u001b[0;34m(self, data, var)\u001b[0m\n\u001b[1;32m    511\u001b[0m \u001b[39melif\u001b[39;00m \u001b[39mself\u001b[39m\u001b[39m.\u001b[39merror_method \u001b[39m==\u001b[39m \u001b[39m\"\u001b[39m\u001b[39mci\u001b[39m\u001b[39m\"\u001b[39m:\n\u001b[1;32m    512\u001b[0m     units \u001b[39m=\u001b[39m data\u001b[39m.\u001b[39mget(\u001b[39m\"\u001b[39m\u001b[39munits\u001b[39m\u001b[39m\"\u001b[39m, \u001b[39mNone\u001b[39;00m)\n\u001b[0;32m--> 513\u001b[0m     boots \u001b[39m=\u001b[39m bootstrap(vals, units\u001b[39m=\u001b[39;49munits, func\u001b[39m=\u001b[39;49m\u001b[39mself\u001b[39;49m\u001b[39m.\u001b[39;49mestimator, \u001b[39m*\u001b[39;49m\u001b[39m*\u001b[39;49m\u001b[39mself\u001b[39;49m\u001b[39m.\u001b[39;49mboot_kws)\n\u001b[1;32m    514\u001b[0m     err_min, err_max \u001b[39m=\u001b[39m _percentile_interval(boots, \u001b[39mself\u001b[39m\u001b[39m.\u001b[39merror_level)\n\u001b[1;32m    516\u001b[0m \u001b[39mreturn\u001b[39;00m pd\u001b[39m.\u001b[39mSeries({var: estimate, \u001b[39mf\u001b[39m\u001b[39m\"\u001b[39m\u001b[39m{\u001b[39;00mvar\u001b[39m}\u001b[39;00m\u001b[39mmin\u001b[39m\u001b[39m\"\u001b[39m: err_min, \u001b[39mf\u001b[39m\u001b[39m\"\u001b[39m\u001b[39m{\u001b[39;00mvar\u001b[39m}\u001b[39;00m\u001b[39mmax\u001b[39m\u001b[39m\"\u001b[39m: err_max})\n",
      "File \u001b[0;32m~/anaconda3/envs/myenv2/lib/python3.8/site-packages/seaborn/algorithms.py:98\u001b[0m, in \u001b[0;36mbootstrap\u001b[0;34m(*args, **kwargs)\u001b[0m\n\u001b[1;32m     96\u001b[0m     resampler \u001b[39m=\u001b[39m integers(\u001b[39m0\u001b[39m, n, n, dtype\u001b[39m=\u001b[39mnp\u001b[39m.\u001b[39mintp)  \u001b[39m# intp is indexing dtype\u001b[39;00m\n\u001b[1;32m     97\u001b[0m     sample \u001b[39m=\u001b[39m [a\u001b[39m.\u001b[39mtake(resampler, axis\u001b[39m=\u001b[39m\u001b[39m0\u001b[39m) \u001b[39mfor\u001b[39;00m a \u001b[39min\u001b[39;00m args]\n\u001b[0;32m---> 98\u001b[0m     boot_dist\u001b[39m.\u001b[39mappend(f(\u001b[39m*\u001b[39;49msample, \u001b[39m*\u001b[39;49m\u001b[39m*\u001b[39;49mfunc_kwargs))\n\u001b[1;32m     99\u001b[0m \u001b[39mreturn\u001b[39;00m np\u001b[39m.\u001b[39marray(boot_dist)\n",
      "File \u001b[0;32m<__array_function__ internals>:200\u001b[0m, in \u001b[0;36mmean\u001b[0;34m(*args, **kwargs)\u001b[0m\n",
      "File \u001b[0;32m~/anaconda3/envs/myenv2/lib/python3.8/site-packages/numpy/core/fromnumeric.py:3464\u001b[0m, in \u001b[0;36mmean\u001b[0;34m(a, axis, dtype, out, keepdims, where)\u001b[0m\n\u001b[1;32m   3461\u001b[0m     \u001b[39melse\u001b[39;00m:\n\u001b[1;32m   3462\u001b[0m         \u001b[39mreturn\u001b[39;00m mean(axis\u001b[39m=\u001b[39maxis, dtype\u001b[39m=\u001b[39mdtype, out\u001b[39m=\u001b[39mout, \u001b[39m*\u001b[39m\u001b[39m*\u001b[39mkwargs)\n\u001b[0;32m-> 3464\u001b[0m \u001b[39mreturn\u001b[39;00m _methods\u001b[39m.\u001b[39;49m_mean(a, axis\u001b[39m=\u001b[39;49maxis, dtype\u001b[39m=\u001b[39;49mdtype,\n\u001b[1;32m   3465\u001b[0m                       out\u001b[39m=\u001b[39;49mout, \u001b[39m*\u001b[39;49m\u001b[39m*\u001b[39;49mkwargs)\n",
      "File \u001b[0;32m~/anaconda3/envs/myenv2/lib/python3.8/site-packages/numpy/core/_methods.py:181\u001b[0m, in \u001b[0;36m_mean\u001b[0;34m(a, axis, dtype, out, keepdims, where)\u001b[0m\n\u001b[1;32m    178\u001b[0m         dtype \u001b[39m=\u001b[39m mu\u001b[39m.\u001b[39mdtype(\u001b[39m'\u001b[39m\u001b[39mf4\u001b[39m\u001b[39m'\u001b[39m)\n\u001b[1;32m    179\u001b[0m         is_float16_result \u001b[39m=\u001b[39m \u001b[39mTrue\u001b[39;00m\n\u001b[0;32m--> 181\u001b[0m ret \u001b[39m=\u001b[39m umr_sum(arr, axis, dtype, out, keepdims, where\u001b[39m=\u001b[39;49mwhere)\n\u001b[1;32m    182\u001b[0m \u001b[39mif\u001b[39;00m \u001b[39misinstance\u001b[39m(ret, mu\u001b[39m.\u001b[39mndarray):\n\u001b[1;32m    183\u001b[0m     \u001b[39mwith\u001b[39;00m _no_nep50_warning():\n",
      "\u001b[0;31mKeyboardInterrupt\u001b[0m: "
     ]
    },
    {
     "data": {
      "image/png": "[encoded data removed]",
      "text/plain": [
       "<Figure size 600x400 with 1 Axes>"
      ]
     },
     "metadata": {},
     "output_type": "display_data"
    }
   ],
   "source": [
    "# Logreg with SMOTE\n",
    "\n",
    "# Initialize the logistic regression model\n",
    "logistic_model_sm = LogisticRegression()\n",
    "\n",
    "# Fit the model on the SMOTE resampled training data\n",
    "logistic_model_sm.fit(X_train_sm, y_train_sm)\n",
    "\n",
    "# Evaluate the model on the original training set\n",
    "print(f\"Train set accuracy after SMOTE {logistic_model_sm.score(X_train_sm, y_train_sm):.2f}\")\n",
    "\n",
    "# Evaluate the model on the test set\n",
    "print(f\"Test set accuracy after SMOTE {logistic_model_sm.score(X_matrix_test, y_test):.2f}\")\n",
    "\n",
    "# Make predictions on the test set using the model trained on SMOTE data\n",
    "test_predictions_sm = logistic_model_sm.predict(X_matrix_test)\n",
    "\n",
    "# Print classification report\n",
    "print(\"Classification Report after SMOTE:\")\n",
    "print(classification_report(y_test, test_predictions_sm))\n",
    "\n",
    "# Print confusion matrix\n",
    "print(\"Confusion Matrix after SMOTE:\")\n",
    "print(confusion_matrix(y_test, test_predictions_sm))\n",
    "\n",
    "# Get probabilistic predictions\n",
    "y_test_proba_sm = logistic_model_sm.predict_proba(X_matrix_test)[:,1]\n",
    "\n",
    "# ROC arrays\n",
    "fprs_sm, tprs_sm, thresholds_sm = roc_curve(y_test, y_test_proba_sm)\n",
    "\n",
    "# AUC\n",
    "roc_auc_sm = roc_auc_score(y_test, y_test_proba_sm)\n",
    "\n",
    "# Plot\n",
    "plt.figure()\n",
    "sns.lineplot(x=fprs_sm, y=tprs_sm, color='blue', lw=2, label=f'ROC after SMOTE (AUC = {roc_auc_sm:0.2f})')\n",
    "sns.lineplot(x=[0, 1], y=[0, 1], color='black', lw=2, linestyle='--', label='Random guess')\n",
    "\n",
    "plt.xlabel('False Positive Rate (FPR)')\n",
    "plt.ylabel('True Positive Rate (Recall or TPR)')\n",
    "plt.title('ROC Curve after SMOTE for Intent Prediction')\n",
    "plt.legend(loc='best')\n",
    "plt.show()"
   ]
  },
  {
   "cell_type": "markdown",
   "metadata": {},
   "source": [
    "*---------------------------------------------------------------------*\n",
    "### Model Analysis"
   ]
  },
  {
   "cell_type": "code",
   "execution_count": null,
   "metadata": {},
   "outputs": [
    {
     "name": "stderr",
     "output_type": "stream",
     "text": [
      "/var/folders/j6/lnskfknd3zz28plgqdh6w_4m0000gn/T/ipykernel_23996/2985225999.py:12: UserWarning: FixedFormatter should only be used together with FixedLocator\n",
      "  axs[0].set_xticklabels(coef_df.tail(20)[\"token\"], rotation=45)\n",
      "/var/folders/j6/lnskfknd3zz28plgqdh6w_4m0000gn/T/ipykernel_23996/2985225999.py:17: UserWarning: FixedFormatter should only be used together with FixedLocator\n",
      "  axs[1].set_xticklabels(coef_df.head(20)[\"token\"], rotation=45)\n"
     ]
    },
    {
     "data": {
      "image/png": "[encoded data removed]",
      "text/plain": [
       "<Figure size 800x600 with 2 Axes>"
      ]
     },
     "metadata": {},
     "output_type": "display_data"
    }
   ],
   "source": [
    "def plot_coefs(model):\n",
    "    # Create a DataFrame to store the coefficients and corresponding tokens\n",
    "    coef_df = pd.DataFrame({\"coefficient\": model.coef_[0], \"token\": count_vectorizer.get_feature_names_out()})\n",
    "    # Sort by coefficients\n",
    "    coef_df = coef_df.sort_values(\"coefficient\", ascending=False)\n",
    "\n",
    "    # Create a figure with 2 subplots\n",
    "    fig, axs = plt.subplots(2, 1, figsize=(8, 6))\n",
    "\n",
    "    # Plot tokens indicating negative sentiment with smallest coefficients\n",
    "    axs[0].bar(coef_df.tail(20)[\"token\"], coef_df.tail(20)[\"coefficient\"], color=\"red\")\n",
    "    axs[0].set_xticklabels(coef_df.tail(20)[\"token\"], rotation=45)\n",
    "    axs[0].set_title(\"Negative indicators\")\n",
    "\n",
    "    # Plot tokens indicating positive sentiment with largest coefficients\n",
    "    axs[1].bar(coef_df.head(20)[\"token\"], coef_df.head(20)[\"coefficient\"], color=\"blue\")\n",
    "    axs[1].set_xticklabels(coef_df.head(20)[\"token\"], rotation=45)\n",
    "    axs[1].set_title(\"Positive indicators\")\n",
    "\n",
    "    fig.tight_layout()\n",
    "    plt.show()\n",
    "\n",
    "plot_coefs(logistic_model)"
   ]
  },
  {
   "cell_type": "markdown",
   "metadata": {},
   "source": [
    "Observation:  \n",
    "\n",
    "The model accuracy on test set is close to the accuracy on the train and valildation sets. This is a good sign, as it inidcates there is no problem with overfitting the model.  We have sufficient number of observations to train the model so that when it is faced with unseen test data it still performs well.   "
   ]
  },
  {
   "cell_type": "markdown",
   "metadata": {},
   "source": [
    "## 2.X. Gridsearch for logreg"
   ]
  },
  {
   "cell_type": "code",
   "execution_count": null,
   "metadata": {},
   "outputs": [
    {
     "ename": "KeyboardInterrupt",
     "evalue": "",
     "output_type": "error",
     "traceback": [
      "\u001b[0;31m---------------------------------------------------------------------------\u001b[0m",
      "\u001b[0;31mKeyboardInterrupt\u001b[0m                         Traceback (most recent call last)",
      "\u001b[1;32m/Users/lgfolder/github/capstone-project-lusavkaedu/notebooks/DRAFT_labelled_model.ipynb Cell 49\u001b[0m line \u001b[0;36m2\n\u001b[1;32m     <a href='vscode-notebook-cell:/Users/lgfolder/github/capstone-project-lusavkaedu/notebooks/DRAFT_labelled_model.ipynb#Y135sZmlsZQ%3D%3D?line=16'>17</a>\u001b[0m grid_search \u001b[39m=\u001b[39m GridSearchCV(pipeline, param_grid, cv\u001b[39m=\u001b[39m\u001b[39m5\u001b[39m)\n\u001b[1;32m     <a href='vscode-notebook-cell:/Users/lgfolder/github/capstone-project-lusavkaedu/notebooks/DRAFT_labelled_model.ipynb#Y135sZmlsZQ%3D%3D?line=18'>19</a>\u001b[0m \u001b[39m# X_train on the raw text data\u001b[39;00m\n\u001b[0;32m---> <a href='vscode-notebook-cell:/Users/lgfolder/github/capstone-project-lusavkaedu/notebooks/DRAFT_labelled_model.ipynb#Y135sZmlsZQ%3D%3D?line=19'>20</a>\u001b[0m grid_search\u001b[39m.\u001b[39;49mfit(X_train, y_train)\n\u001b[1;32m     <a href='vscode-notebook-cell:/Users/lgfolder/github/capstone-project-lusavkaedu/notebooks/DRAFT_labelled_model.ipynb#Y135sZmlsZQ%3D%3D?line=21'>22</a>\u001b[0m \u001b[39m# After fitting, get the best estimator\u001b[39;00m\n\u001b[1;32m     <a href='vscode-notebook-cell:/Users/lgfolder/github/capstone-project-lusavkaedu/notebooks/DRAFT_labelled_model.ipynb#Y135sZmlsZQ%3D%3D?line=22'>23</a>\u001b[0m best_model \u001b[39m=\u001b[39m grid_search\u001b[39m.\u001b[39mbest_estimator_\n",
      "File \u001b[0;32m~/anaconda3/envs/myenv2/lib/python3.8/site-packages/sklearn/base.py:1151\u001b[0m, in \u001b[0;36m_fit_context.<locals>.decorator.<locals>.wrapper\u001b[0;34m(estimator, *args, **kwargs)\u001b[0m\n\u001b[1;32m   1144\u001b[0m     estimator\u001b[39m.\u001b[39m_validate_params()\n\u001b[1;32m   1146\u001b[0m \u001b[39mwith\u001b[39;00m config_context(\n\u001b[1;32m   1147\u001b[0m     skip_parameter_validation\u001b[39m=\u001b[39m(\n\u001b[1;32m   1148\u001b[0m         prefer_skip_nested_validation \u001b[39mor\u001b[39;00m global_skip_validation\n\u001b[1;32m   1149\u001b[0m     )\n\u001b[1;32m   1150\u001b[0m ):\n\u001b[0;32m-> 1151\u001b[0m     \u001b[39mreturn\u001b[39;00m fit_method(estimator, \u001b[39m*\u001b[39;49margs, \u001b[39m*\u001b[39;49m\u001b[39m*\u001b[39;49mkwargs)\n",
      "File \u001b[0;32m~/anaconda3/envs/myenv2/lib/python3.8/site-packages/sklearn/model_selection/_search.py:898\u001b[0m, in \u001b[0;36mBaseSearchCV.fit\u001b[0;34m(self, X, y, groups, **fit_params)\u001b[0m\n\u001b[1;32m    892\u001b[0m     results \u001b[39m=\u001b[39m \u001b[39mself\u001b[39m\u001b[39m.\u001b[39m_format_results(\n\u001b[1;32m    893\u001b[0m         all_candidate_params, n_splits, all_out, all_more_results\n\u001b[1;32m    894\u001b[0m     )\n\u001b[1;32m    896\u001b[0m     \u001b[39mreturn\u001b[39;00m results\n\u001b[0;32m--> 898\u001b[0m \u001b[39mself\u001b[39;49m\u001b[39m.\u001b[39;49m_run_search(evaluate_candidates)\n\u001b[1;32m    900\u001b[0m \u001b[39m# multimetric is determined here because in the case of a callable\u001b[39;00m\n\u001b[1;32m    901\u001b[0m \u001b[39m# self.scoring the return type is only known after calling\u001b[39;00m\n\u001b[1;32m    902\u001b[0m first_test_score \u001b[39m=\u001b[39m all_out[\u001b[39m0\u001b[39m][\u001b[39m\"\u001b[39m\u001b[39mtest_scores\u001b[39m\u001b[39m\"\u001b[39m]\n",
      "File \u001b[0;32m~/anaconda3/envs/myenv2/lib/python3.8/site-packages/sklearn/model_selection/_search.py:1419\u001b[0m, in \u001b[0;36mGridSearchCV._run_search\u001b[0;34m(self, evaluate_candidates)\u001b[0m\n\u001b[1;32m   1417\u001b[0m \u001b[39mdef\u001b[39;00m \u001b[39m_run_search\u001b[39m(\u001b[39mself\u001b[39m, evaluate_candidates):\n\u001b[1;32m   1418\u001b[0m \u001b[39m    \u001b[39m\u001b[39m\"\"\"Search all candidates in param_grid\"\"\"\u001b[39;00m\n\u001b[0;32m-> 1419\u001b[0m     evaluate_candidates(ParameterGrid(\u001b[39mself\u001b[39;49m\u001b[39m.\u001b[39;49mparam_grid))\n",
      "File \u001b[0;32m~/anaconda3/envs/myenv2/lib/python3.8/site-packages/sklearn/model_selection/_search.py:845\u001b[0m, in \u001b[0;36mBaseSearchCV.fit.<locals>.evaluate_candidates\u001b[0;34m(candidate_params, cv, more_results)\u001b[0m\n\u001b[1;32m    837\u001b[0m \u001b[39mif\u001b[39;00m \u001b[39mself\u001b[39m\u001b[39m.\u001b[39mverbose \u001b[39m>\u001b[39m \u001b[39m0\u001b[39m:\n\u001b[1;32m    838\u001b[0m     \u001b[39mprint\u001b[39m(\n\u001b[1;32m    839\u001b[0m         \u001b[39m\"\u001b[39m\u001b[39mFitting \u001b[39m\u001b[39m{0}\u001b[39;00m\u001b[39m folds for each of \u001b[39m\u001b[39m{1}\u001b[39;00m\u001b[39m candidates,\u001b[39m\u001b[39m\"\u001b[39m\n\u001b[1;32m    840\u001b[0m         \u001b[39m\"\u001b[39m\u001b[39m totalling \u001b[39m\u001b[39m{2}\u001b[39;00m\u001b[39m fits\u001b[39m\u001b[39m\"\u001b[39m\u001b[39m.\u001b[39mformat(\n\u001b[1;32m    841\u001b[0m             n_splits, n_candidates, n_candidates \u001b[39m*\u001b[39m n_splits\n\u001b[1;32m    842\u001b[0m         )\n\u001b[1;32m    843\u001b[0m     )\n\u001b[0;32m--> 845\u001b[0m out \u001b[39m=\u001b[39m parallel(\n\u001b[1;32m    846\u001b[0m     delayed(_fit_and_score)(\n\u001b[1;32m    847\u001b[0m         clone(base_estimator),\n\u001b[1;32m    848\u001b[0m         X,\n\u001b[1;32m    849\u001b[0m         y,\n\u001b[1;32m    850\u001b[0m         train\u001b[39m=\u001b[39;49mtrain,\n\u001b[1;32m    851\u001b[0m         test\u001b[39m=\u001b[39;49mtest,\n\u001b[1;32m    852\u001b[0m         parameters\u001b[39m=\u001b[39;49mparameters,\n\u001b[1;32m    853\u001b[0m         split_progress\u001b[39m=\u001b[39;49m(split_idx, n_splits),\n\u001b[1;32m    854\u001b[0m         candidate_progress\u001b[39m=\u001b[39;49m(cand_idx, n_candidates),\n\u001b[1;32m    855\u001b[0m         \u001b[39m*\u001b[39;49m\u001b[39m*\u001b[39;49mfit_and_score_kwargs,\n\u001b[1;32m    856\u001b[0m     )\n\u001b[1;32m    857\u001b[0m     \u001b[39mfor\u001b[39;49;00m (cand_idx, parameters), (split_idx, (train, test)) \u001b[39min\u001b[39;49;00m product(\n\u001b[1;32m    858\u001b[0m         \u001b[39menumerate\u001b[39;49m(candidate_params), \u001b[39menumerate\u001b[39;49m(cv\u001b[39m.\u001b[39;49msplit(X, y, groups))\n\u001b[1;32m    859\u001b[0m     )\n\u001b[1;32m    860\u001b[0m )\n\u001b[1;32m    862\u001b[0m \u001b[39mif\u001b[39;00m \u001b[39mlen\u001b[39m(out) \u001b[39m<\u001b[39m \u001b[39m1\u001b[39m:\n\u001b[1;32m    863\u001b[0m     \u001b[39mraise\u001b[39;00m \u001b[39mValueError\u001b[39;00m(\n\u001b[1;32m    864\u001b[0m         \u001b[39m\"\u001b[39m\u001b[39mNo fits were performed. \u001b[39m\u001b[39m\"\u001b[39m\n\u001b[1;32m    865\u001b[0m         \u001b[39m\"\u001b[39m\u001b[39mWas the CV iterator empty? \u001b[39m\u001b[39m\"\u001b[39m\n\u001b[1;32m    866\u001b[0m         \u001b[39m\"\u001b[39m\u001b[39mWere there no candidates?\u001b[39m\u001b[39m\"\u001b[39m\n\u001b[1;32m    867\u001b[0m     )\n",
      "File \u001b[0;32m~/anaconda3/envs/myenv2/lib/python3.8/site-packages/sklearn/utils/parallel.py:65\u001b[0m, in \u001b[0;36mParallel.__call__\u001b[0;34m(self, iterable)\u001b[0m\n\u001b[1;32m     60\u001b[0m config \u001b[39m=\u001b[39m get_config()\n\u001b[1;32m     61\u001b[0m iterable_with_config \u001b[39m=\u001b[39m (\n\u001b[1;32m     62\u001b[0m     (_with_config(delayed_func, config), args, kwargs)\n\u001b[1;32m     63\u001b[0m     \u001b[39mfor\u001b[39;00m delayed_func, args, kwargs \u001b[39min\u001b[39;00m iterable\n\u001b[1;32m     64\u001b[0m )\n\u001b[0;32m---> 65\u001b[0m \u001b[39mreturn\u001b[39;00m \u001b[39msuper\u001b[39;49m()\u001b[39m.\u001b[39;49m\u001b[39m__call__\u001b[39;49m(iterable_with_config)\n",
      "File \u001b[0;32m~/anaconda3/envs/myenv2/lib/python3.8/site-packages/joblib/parallel.py:1088\u001b[0m, in \u001b[0;36mParallel.__call__\u001b[0;34m(self, iterable)\u001b[0m\n\u001b[1;32m   1085\u001b[0m \u001b[39mif\u001b[39;00m \u001b[39mself\u001b[39m\u001b[39m.\u001b[39mdispatch_one_batch(iterator):\n\u001b[1;32m   1086\u001b[0m     \u001b[39mself\u001b[39m\u001b[39m.\u001b[39m_iterating \u001b[39m=\u001b[39m \u001b[39mself\u001b[39m\u001b[39m.\u001b[39m_original_iterator \u001b[39mis\u001b[39;00m \u001b[39mnot\u001b[39;00m \u001b[39mNone\u001b[39;00m\n\u001b[0;32m-> 1088\u001b[0m \u001b[39mwhile\u001b[39;00m \u001b[39mself\u001b[39;49m\u001b[39m.\u001b[39;49mdispatch_one_batch(iterator):\n\u001b[1;32m   1089\u001b[0m     \u001b[39mpass\u001b[39;00m\n\u001b[1;32m   1091\u001b[0m \u001b[39mif\u001b[39;00m pre_dispatch \u001b[39m==\u001b[39m \u001b[39m\"\u001b[39m\u001b[39mall\u001b[39m\u001b[39m\"\u001b[39m \u001b[39mor\u001b[39;00m n_jobs \u001b[39m==\u001b[39m \u001b[39m1\u001b[39m:\n\u001b[1;32m   1092\u001b[0m     \u001b[39m# The iterable was consumed all at once by the above for loop.\u001b[39;00m\n\u001b[1;32m   1093\u001b[0m     \u001b[39m# No need to wait for async callbacks to trigger to\u001b[39;00m\n\u001b[1;32m   1094\u001b[0m     \u001b[39m# consumption.\u001b[39;00m\n",
      "File \u001b[0;32m~/anaconda3/envs/myenv2/lib/python3.8/site-packages/joblib/parallel.py:901\u001b[0m, in \u001b[0;36mParallel.dispatch_one_batch\u001b[0;34m(self, iterator)\u001b[0m\n\u001b[1;32m    899\u001b[0m     \u001b[39mreturn\u001b[39;00m \u001b[39mFalse\u001b[39;00m\n\u001b[1;32m    900\u001b[0m \u001b[39melse\u001b[39;00m:\n\u001b[0;32m--> 901\u001b[0m     \u001b[39mself\u001b[39;49m\u001b[39m.\u001b[39;49m_dispatch(tasks)\n\u001b[1;32m    902\u001b[0m     \u001b[39mreturn\u001b[39;00m \u001b[39mTrue\u001b[39;00m\n",
      "File \u001b[0;32m~/anaconda3/envs/myenv2/lib/python3.8/site-packages/joblib/parallel.py:819\u001b[0m, in \u001b[0;36mParallel._dispatch\u001b[0;34m(self, batch)\u001b[0m\n\u001b[1;32m    817\u001b[0m \u001b[39mwith\u001b[39;00m \u001b[39mself\u001b[39m\u001b[39m.\u001b[39m_lock:\n\u001b[1;32m    818\u001b[0m     job_idx \u001b[39m=\u001b[39m \u001b[39mlen\u001b[39m(\u001b[39mself\u001b[39m\u001b[39m.\u001b[39m_jobs)\n\u001b[0;32m--> 819\u001b[0m     job \u001b[39m=\u001b[39m \u001b[39mself\u001b[39;49m\u001b[39m.\u001b[39;49m_backend\u001b[39m.\u001b[39;49mapply_async(batch, callback\u001b[39m=\u001b[39;49mcb)\n\u001b[1;32m    820\u001b[0m     \u001b[39m# A job can complete so quickly than its callback is\u001b[39;00m\n\u001b[1;32m    821\u001b[0m     \u001b[39m# called before we get here, causing self._jobs to\u001b[39;00m\n\u001b[1;32m    822\u001b[0m     \u001b[39m# grow. To ensure correct results ordering, .insert is\u001b[39;00m\n\u001b[1;32m    823\u001b[0m     \u001b[39m# used (rather than .append) in the following line\u001b[39;00m\n\u001b[1;32m    824\u001b[0m     \u001b[39mself\u001b[39m\u001b[39m.\u001b[39m_jobs\u001b[39m.\u001b[39minsert(job_idx, job)\n",
      "File \u001b[0;32m~/anaconda3/envs/myenv2/lib/python3.8/site-packages/joblib/_parallel_backends.py:208\u001b[0m, in \u001b[0;36mSequentialBackend.apply_async\u001b[0;34m(self, func, callback)\u001b[0m\n\u001b[1;32m    206\u001b[0m \u001b[39mdef\u001b[39;00m \u001b[39mapply_async\u001b[39m(\u001b[39mself\u001b[39m, func, callback\u001b[39m=\u001b[39m\u001b[39mNone\u001b[39;00m):\n\u001b[1;32m    207\u001b[0m \u001b[39m    \u001b[39m\u001b[39m\"\"\"Schedule a func to be run\"\"\"\u001b[39;00m\n\u001b[0;32m--> 208\u001b[0m     result \u001b[39m=\u001b[39m ImmediateResult(func)\n\u001b[1;32m    209\u001b[0m     \u001b[39mif\u001b[39;00m callback:\n\u001b[1;32m    210\u001b[0m         callback(result)\n",
      "File \u001b[0;32m~/anaconda3/envs/myenv2/lib/python3.8/site-packages/joblib/_parallel_backends.py:597\u001b[0m, in \u001b[0;36mImmediateResult.__init__\u001b[0;34m(self, batch)\u001b[0m\n\u001b[1;32m    594\u001b[0m \u001b[39mdef\u001b[39;00m \u001b[39m__init__\u001b[39m(\u001b[39mself\u001b[39m, batch):\n\u001b[1;32m    595\u001b[0m     \u001b[39m# Don't delay the application, to avoid keeping the input\u001b[39;00m\n\u001b[1;32m    596\u001b[0m     \u001b[39m# arguments in memory\u001b[39;00m\n\u001b[0;32m--> 597\u001b[0m     \u001b[39mself\u001b[39m\u001b[39m.\u001b[39mresults \u001b[39m=\u001b[39m batch()\n",
      "File \u001b[0;32m~/anaconda3/envs/myenv2/lib/python3.8/site-packages/joblib/parallel.py:288\u001b[0m, in \u001b[0;36mBatchedCalls.__call__\u001b[0;34m(self)\u001b[0m\n\u001b[1;32m    284\u001b[0m \u001b[39mdef\u001b[39;00m \u001b[39m__call__\u001b[39m(\u001b[39mself\u001b[39m):\n\u001b[1;32m    285\u001b[0m     \u001b[39m# Set the default nested backend to self._backend but do not set the\u001b[39;00m\n\u001b[1;32m    286\u001b[0m     \u001b[39m# change the default number of processes to -1\u001b[39;00m\n\u001b[1;32m    287\u001b[0m     \u001b[39mwith\u001b[39;00m parallel_backend(\u001b[39mself\u001b[39m\u001b[39m.\u001b[39m_backend, n_jobs\u001b[39m=\u001b[39m\u001b[39mself\u001b[39m\u001b[39m.\u001b[39m_n_jobs):\n\u001b[0;32m--> 288\u001b[0m         \u001b[39mreturn\u001b[39;00m [func(\u001b[39m*\u001b[39margs, \u001b[39m*\u001b[39m\u001b[39m*\u001b[39mkwargs)\n\u001b[1;32m    289\u001b[0m                 \u001b[39mfor\u001b[39;00m func, args, kwargs \u001b[39min\u001b[39;00m \u001b[39mself\u001b[39m\u001b[39m.\u001b[39mitems]\n",
      "File \u001b[0;32m~/anaconda3/envs/myenv2/lib/python3.8/site-packages/joblib/parallel.py:288\u001b[0m, in \u001b[0;36m<listcomp>\u001b[0;34m(.0)\u001b[0m\n\u001b[1;32m    284\u001b[0m \u001b[39mdef\u001b[39;00m \u001b[39m__call__\u001b[39m(\u001b[39mself\u001b[39m):\n\u001b[1;32m    285\u001b[0m     \u001b[39m# Set the default nested backend to self._backend but do not set the\u001b[39;00m\n\u001b[1;32m    286\u001b[0m     \u001b[39m# change the default number of processes to -1\u001b[39;00m\n\u001b[1;32m    287\u001b[0m     \u001b[39mwith\u001b[39;00m parallel_backend(\u001b[39mself\u001b[39m\u001b[39m.\u001b[39m_backend, n_jobs\u001b[39m=\u001b[39m\u001b[39mself\u001b[39m\u001b[39m.\u001b[39m_n_jobs):\n\u001b[0;32m--> 288\u001b[0m         \u001b[39mreturn\u001b[39;00m [func(\u001b[39m*\u001b[39;49margs, \u001b[39m*\u001b[39;49m\u001b[39m*\u001b[39;49mkwargs)\n\u001b[1;32m    289\u001b[0m                 \u001b[39mfor\u001b[39;00m func, args, kwargs \u001b[39min\u001b[39;00m \u001b[39mself\u001b[39m\u001b[39m.\u001b[39mitems]\n",
      "File \u001b[0;32m~/anaconda3/envs/myenv2/lib/python3.8/site-packages/sklearn/utils/parallel.py:127\u001b[0m, in \u001b[0;36m_FuncWrapper.__call__\u001b[0;34m(self, *args, **kwargs)\u001b[0m\n\u001b[1;32m    125\u001b[0m     config \u001b[39m=\u001b[39m {}\n\u001b[1;32m    126\u001b[0m \u001b[39mwith\u001b[39;00m config_context(\u001b[39m*\u001b[39m\u001b[39m*\u001b[39mconfig):\n\u001b[0;32m--> 127\u001b[0m     \u001b[39mreturn\u001b[39;00m \u001b[39mself\u001b[39;49m\u001b[39m.\u001b[39;49mfunction(\u001b[39m*\u001b[39;49margs, \u001b[39m*\u001b[39;49m\u001b[39m*\u001b[39;49mkwargs)\n",
      "File \u001b[0;32m~/anaconda3/envs/myenv2/lib/python3.8/site-packages/sklearn/model_selection/_validation.py:732\u001b[0m, in \u001b[0;36m_fit_and_score\u001b[0;34m(estimator, X, y, scorer, train, test, verbose, parameters, fit_params, return_train_score, return_parameters, return_n_test_samples, return_times, return_estimator, split_progress, candidate_progress, error_score)\u001b[0m\n\u001b[1;32m    730\u001b[0m         estimator\u001b[39m.\u001b[39mfit(X_train, \u001b[39m*\u001b[39m\u001b[39m*\u001b[39mfit_params)\n\u001b[1;32m    731\u001b[0m     \u001b[39melse\u001b[39;00m:\n\u001b[0;32m--> 732\u001b[0m         estimator\u001b[39m.\u001b[39;49mfit(X_train, y_train, \u001b[39m*\u001b[39;49m\u001b[39m*\u001b[39;49mfit_params)\n\u001b[1;32m    734\u001b[0m \u001b[39mexcept\u001b[39;00m \u001b[39mException\u001b[39;00m:\n\u001b[1;32m    735\u001b[0m     \u001b[39m# Note fit time as time until error\u001b[39;00m\n\u001b[1;32m    736\u001b[0m     fit_time \u001b[39m=\u001b[39m time\u001b[39m.\u001b[39mtime() \u001b[39m-\u001b[39m start_time\n",
      "File \u001b[0;32m~/anaconda3/envs/myenv2/lib/python3.8/site-packages/sklearn/base.py:1151\u001b[0m, in \u001b[0;36m_fit_context.<locals>.decorator.<locals>.wrapper\u001b[0;34m(estimator, *args, **kwargs)\u001b[0m\n\u001b[1;32m   1144\u001b[0m     estimator\u001b[39m.\u001b[39m_validate_params()\n\u001b[1;32m   1146\u001b[0m \u001b[39mwith\u001b[39;00m config_context(\n\u001b[1;32m   1147\u001b[0m     skip_parameter_validation\u001b[39m=\u001b[39m(\n\u001b[1;32m   1148\u001b[0m         prefer_skip_nested_validation \u001b[39mor\u001b[39;00m global_skip_validation\n\u001b[1;32m   1149\u001b[0m     )\n\u001b[1;32m   1150\u001b[0m ):\n\u001b[0;32m-> 1151\u001b[0m     \u001b[39mreturn\u001b[39;00m fit_method(estimator, \u001b[39m*\u001b[39;49margs, \u001b[39m*\u001b[39;49m\u001b[39m*\u001b[39;49mkwargs)\n",
      "File \u001b[0;32m~/anaconda3/envs/myenv2/lib/python3.8/site-packages/sklearn/pipeline.py:416\u001b[0m, in \u001b[0;36mPipeline.fit\u001b[0;34m(self, X, y, **fit_params)\u001b[0m\n\u001b[1;32m    390\u001b[0m \u001b[39m\u001b[39m\u001b[39m\"\"\"Fit the model.\u001b[39;00m\n\u001b[1;32m    391\u001b[0m \n\u001b[1;32m    392\u001b[0m \u001b[39mFit all the transformers one after the other and transform the\u001b[39;00m\n\u001b[0;32m   (...)\u001b[0m\n\u001b[1;32m    413\u001b[0m \u001b[39m    Pipeline with fitted steps.\u001b[39;00m\n\u001b[1;32m    414\u001b[0m \u001b[39m\"\"\"\u001b[39;00m\n\u001b[1;32m    415\u001b[0m fit_params_steps \u001b[39m=\u001b[39m \u001b[39mself\u001b[39m\u001b[39m.\u001b[39m_check_fit_params(\u001b[39m*\u001b[39m\u001b[39m*\u001b[39mfit_params)\n\u001b[0;32m--> 416\u001b[0m Xt \u001b[39m=\u001b[39m \u001b[39mself\u001b[39;49m\u001b[39m.\u001b[39;49m_fit(X, y, \u001b[39m*\u001b[39;49m\u001b[39m*\u001b[39;49mfit_params_steps)\n\u001b[1;32m    417\u001b[0m \u001b[39mwith\u001b[39;00m _print_elapsed_time(\u001b[39m\"\u001b[39m\u001b[39mPipeline\u001b[39m\u001b[39m\"\u001b[39m, \u001b[39mself\u001b[39m\u001b[39m.\u001b[39m_log_message(\u001b[39mlen\u001b[39m(\u001b[39mself\u001b[39m\u001b[39m.\u001b[39msteps) \u001b[39m-\u001b[39m \u001b[39m1\u001b[39m)):\n\u001b[1;32m    418\u001b[0m     \u001b[39mif\u001b[39;00m \u001b[39mself\u001b[39m\u001b[39m.\u001b[39m_final_estimator \u001b[39m!=\u001b[39m \u001b[39m\"\u001b[39m\u001b[39mpassthrough\u001b[39m\u001b[39m\"\u001b[39m:\n",
      "File \u001b[0;32m~/anaconda3/envs/myenv2/lib/python3.8/site-packages/sklearn/pipeline.py:370\u001b[0m, in \u001b[0;36mPipeline._fit\u001b[0;34m(self, X, y, **fit_params_steps)\u001b[0m\n\u001b[1;32m    368\u001b[0m     cloned_transformer \u001b[39m=\u001b[39m clone(transformer)\n\u001b[1;32m    369\u001b[0m \u001b[39m# Fit or load from cache the current transformer\u001b[39;00m\n\u001b[0;32m--> 370\u001b[0m X, fitted_transformer \u001b[39m=\u001b[39m fit_transform_one_cached(\n\u001b[1;32m    371\u001b[0m     cloned_transformer,\n\u001b[1;32m    372\u001b[0m     X,\n\u001b[1;32m    373\u001b[0m     y,\n\u001b[1;32m    374\u001b[0m     \u001b[39mNone\u001b[39;49;00m,\n\u001b[1;32m    375\u001b[0m     message_clsname\u001b[39m=\u001b[39;49m\u001b[39m\"\u001b[39;49m\u001b[39mPipeline\u001b[39;49m\u001b[39m\"\u001b[39;49m,\n\u001b[1;32m    376\u001b[0m     message\u001b[39m=\u001b[39;49m\u001b[39mself\u001b[39;49m\u001b[39m.\u001b[39;49m_log_message(step_idx),\n\u001b[1;32m    377\u001b[0m     \u001b[39m*\u001b[39;49m\u001b[39m*\u001b[39;49mfit_params_steps[name],\n\u001b[1;32m    378\u001b[0m )\n\u001b[1;32m    379\u001b[0m \u001b[39m# Replace the transformer of the step with the fitted\u001b[39;00m\n\u001b[1;32m    380\u001b[0m \u001b[39m# transformer. This is necessary when loading the transformer\u001b[39;00m\n\u001b[1;32m    381\u001b[0m \u001b[39m# from the cache.\u001b[39;00m\n\u001b[1;32m    382\u001b[0m \u001b[39mself\u001b[39m\u001b[39m.\u001b[39msteps[step_idx] \u001b[39m=\u001b[39m (name, fitted_transformer)\n",
      "File \u001b[0;32m~/anaconda3/envs/myenv2/lib/python3.8/site-packages/joblib/memory.py:349\u001b[0m, in \u001b[0;36mNotMemorizedFunc.__call__\u001b[0;34m(self, *args, **kwargs)\u001b[0m\n\u001b[1;32m    348\u001b[0m \u001b[39mdef\u001b[39;00m \u001b[39m__call__\u001b[39m(\u001b[39mself\u001b[39m, \u001b[39m*\u001b[39margs, \u001b[39m*\u001b[39m\u001b[39m*\u001b[39mkwargs):\n\u001b[0;32m--> 349\u001b[0m     \u001b[39mreturn\u001b[39;00m \u001b[39mself\u001b[39;49m\u001b[39m.\u001b[39;49mfunc(\u001b[39m*\u001b[39;49margs, \u001b[39m*\u001b[39;49m\u001b[39m*\u001b[39;49mkwargs)\n",
      "File \u001b[0;32m~/anaconda3/envs/myenv2/lib/python3.8/site-packages/sklearn/pipeline.py:950\u001b[0m, in \u001b[0;36m_fit_transform_one\u001b[0;34m(transformer, X, y, weight, message_clsname, message, **fit_params)\u001b[0m\n\u001b[1;32m    948\u001b[0m \u001b[39mwith\u001b[39;00m _print_elapsed_time(message_clsname, message):\n\u001b[1;32m    949\u001b[0m     \u001b[39mif\u001b[39;00m \u001b[39mhasattr\u001b[39m(transformer, \u001b[39m\"\u001b[39m\u001b[39mfit_transform\u001b[39m\u001b[39m\"\u001b[39m):\n\u001b[0;32m--> 950\u001b[0m         res \u001b[39m=\u001b[39m transformer\u001b[39m.\u001b[39;49mfit_transform(X, y, \u001b[39m*\u001b[39;49m\u001b[39m*\u001b[39;49mfit_params)\n\u001b[1;32m    951\u001b[0m     \u001b[39melse\u001b[39;00m:\n\u001b[1;32m    952\u001b[0m         res \u001b[39m=\u001b[39m transformer\u001b[39m.\u001b[39mfit(X, y, \u001b[39m*\u001b[39m\u001b[39m*\u001b[39mfit_params)\u001b[39m.\u001b[39mtransform(X)\n",
      "File \u001b[0;32m~/anaconda3/envs/myenv2/lib/python3.8/site-packages/sklearn/utils/_set_output.py:140\u001b[0m, in \u001b[0;36m_wrap_method_output.<locals>.wrapped\u001b[0;34m(self, X, *args, **kwargs)\u001b[0m\n\u001b[1;32m    138\u001b[0m \u001b[39m@wraps\u001b[39m(f)\n\u001b[1;32m    139\u001b[0m \u001b[39mdef\u001b[39;00m \u001b[39mwrapped\u001b[39m(\u001b[39mself\u001b[39m, X, \u001b[39m*\u001b[39margs, \u001b[39m*\u001b[39m\u001b[39m*\u001b[39mkwargs):\n\u001b[0;32m--> 140\u001b[0m     data_to_wrap \u001b[39m=\u001b[39m f(\u001b[39mself\u001b[39;49m, X, \u001b[39m*\u001b[39;49margs, \u001b[39m*\u001b[39;49m\u001b[39m*\u001b[39;49mkwargs)\n\u001b[1;32m    141\u001b[0m     \u001b[39mif\u001b[39;00m \u001b[39misinstance\u001b[39m(data_to_wrap, \u001b[39mtuple\u001b[39m):\n\u001b[1;32m    142\u001b[0m         \u001b[39m# only wrap the first output for cross decomposition\u001b[39;00m\n\u001b[1;32m    143\u001b[0m         return_tuple \u001b[39m=\u001b[39m (\n\u001b[1;32m    144\u001b[0m             _wrap_data_with_container(method, data_to_wrap[\u001b[39m0\u001b[39m], X, \u001b[39mself\u001b[39m),\n\u001b[1;32m    145\u001b[0m             \u001b[39m*\u001b[39mdata_to_wrap[\u001b[39m1\u001b[39m:],\n\u001b[1;32m    146\u001b[0m         )\n",
      "File \u001b[0;32m~/anaconda3/envs/myenv2/lib/python3.8/site-packages/sklearn/base.py:1151\u001b[0m, in \u001b[0;36m_fit_context.<locals>.decorator.<locals>.wrapper\u001b[0;34m(estimator, *args, **kwargs)\u001b[0m\n\u001b[1;32m   1144\u001b[0m     estimator\u001b[39m.\u001b[39m_validate_params()\n\u001b[1;32m   1146\u001b[0m \u001b[39mwith\u001b[39;00m config_context(\n\u001b[1;32m   1147\u001b[0m     skip_parameter_validation\u001b[39m=\u001b[39m(\n\u001b[1;32m   1148\u001b[0m         prefer_skip_nested_validation \u001b[39mor\u001b[39;00m global_skip_validation\n\u001b[1;32m   1149\u001b[0m     )\n\u001b[1;32m   1150\u001b[0m ):\n\u001b[0;32m-> 1151\u001b[0m     \u001b[39mreturn\u001b[39;00m fit_method(estimator, \u001b[39m*\u001b[39;49margs, \u001b[39m*\u001b[39;49m\u001b[39m*\u001b[39;49mkwargs)\n",
      "File \u001b[0;32m~/anaconda3/envs/myenv2/lib/python3.8/site-packages/sklearn/decomposition/_truncated_svd.py:246\u001b[0m, in \u001b[0;36mTruncatedSVD.fit_transform\u001b[0;34m(self, X, y)\u001b[0m\n\u001b[1;32m    241\u001b[0m     \u001b[39mif\u001b[39;00m \u001b[39mself\u001b[39m\u001b[39m.\u001b[39mn_components \u001b[39m>\u001b[39m X\u001b[39m.\u001b[39mshape[\u001b[39m1\u001b[39m]:\n\u001b[1;32m    242\u001b[0m         \u001b[39mraise\u001b[39;00m \u001b[39mValueError\u001b[39;00m(\n\u001b[1;32m    243\u001b[0m             \u001b[39mf\u001b[39m\u001b[39m\"\u001b[39m\u001b[39mn_components(\u001b[39m\u001b[39m{\u001b[39;00m\u001b[39mself\u001b[39m\u001b[39m.\u001b[39mn_components\u001b[39m}\u001b[39;00m\u001b[39m) must be <=\u001b[39m\u001b[39m\"\u001b[39m\n\u001b[1;32m    244\u001b[0m             \u001b[39mf\u001b[39m\u001b[39m\"\u001b[39m\u001b[39m n_features(\u001b[39m\u001b[39m{\u001b[39;00mX\u001b[39m.\u001b[39mshape[\u001b[39m1\u001b[39m]\u001b[39m}\u001b[39;00m\u001b[39m).\u001b[39m\u001b[39m\"\u001b[39m\n\u001b[1;32m    245\u001b[0m         )\n\u001b[0;32m--> 246\u001b[0m     U, Sigma, VT \u001b[39m=\u001b[39m randomized_svd(\n\u001b[1;32m    247\u001b[0m         X,\n\u001b[1;32m    248\u001b[0m         \u001b[39mself\u001b[39;49m\u001b[39m.\u001b[39;49mn_components,\n\u001b[1;32m    249\u001b[0m         n_iter\u001b[39m=\u001b[39;49m\u001b[39mself\u001b[39;49m\u001b[39m.\u001b[39;49mn_iter,\n\u001b[1;32m    250\u001b[0m         n_oversamples\u001b[39m=\u001b[39;49m\u001b[39mself\u001b[39;49m\u001b[39m.\u001b[39;49mn_oversamples,\n\u001b[1;32m    251\u001b[0m         power_iteration_normalizer\u001b[39m=\u001b[39;49m\u001b[39mself\u001b[39;49m\u001b[39m.\u001b[39;49mpower_iteration_normalizer,\n\u001b[1;32m    252\u001b[0m         random_state\u001b[39m=\u001b[39;49mrandom_state,\n\u001b[1;32m    253\u001b[0m     )\n\u001b[1;32m    255\u001b[0m \u001b[39mself\u001b[39m\u001b[39m.\u001b[39mcomponents_ \u001b[39m=\u001b[39m VT\n\u001b[1;32m    257\u001b[0m \u001b[39m# As a result of the SVD approximation error on X ~ U @ Sigma @ V.T,\u001b[39;00m\n\u001b[1;32m    258\u001b[0m \u001b[39m# X @ V is not the same as U @ Sigma\u001b[39;00m\n",
      "File \u001b[0;32m~/anaconda3/envs/myenv2/lib/python3.8/site-packages/sklearn/utils/extmath.py:462\u001b[0m, in \u001b[0;36mrandomized_svd\u001b[0;34m(M, n_components, n_oversamples, n_iter, power_iteration_normalizer, transpose, flip_sign, random_state, svd_lapack_driver)\u001b[0m\n\u001b[1;32m    459\u001b[0m B \u001b[39m=\u001b[39m safe_sparse_dot(Q\u001b[39m.\u001b[39mT, M)\n\u001b[1;32m    461\u001b[0m \u001b[39m# compute the SVD on the thin matrix: (k + p) wide\u001b[39;00m\n\u001b[0;32m--> 462\u001b[0m Uhat, s, Vt \u001b[39m=\u001b[39m linalg\u001b[39m.\u001b[39;49msvd(B, full_matrices\u001b[39m=\u001b[39;49m\u001b[39mFalse\u001b[39;49;00m, lapack_driver\u001b[39m=\u001b[39;49msvd_lapack_driver)\n\u001b[1;32m    464\u001b[0m \u001b[39mdel\u001b[39;00m B\n\u001b[1;32m    465\u001b[0m U \u001b[39m=\u001b[39m np\u001b[39m.\u001b[39mdot(Q, Uhat)\n",
      "File \u001b[0;32m~/anaconda3/envs/myenv2/lib/python3.8/site-packages/scipy/linalg/_decomp_svd.py:127\u001b[0m, in \u001b[0;36msvd\u001b[0;34m(a, full_matrices, compute_uv, overwrite_a, check_finite, lapack_driver)\u001b[0m\n\u001b[1;32m    123\u001b[0m lwork \u001b[39m=\u001b[39m _compute_lwork(gesXd_lwork, a1\u001b[39m.\u001b[39mshape[\u001b[39m0\u001b[39m], a1\u001b[39m.\u001b[39mshape[\u001b[39m1\u001b[39m],\n\u001b[1;32m    124\u001b[0m                        compute_uv\u001b[39m=\u001b[39mcompute_uv, full_matrices\u001b[39m=\u001b[39mfull_matrices)\n\u001b[1;32m    126\u001b[0m \u001b[39m# perform decomposition\u001b[39;00m\n\u001b[0;32m--> 127\u001b[0m u, s, v, info \u001b[39m=\u001b[39m gesXd(a1, compute_uv\u001b[39m=\u001b[39;49mcompute_uv, lwork\u001b[39m=\u001b[39;49mlwork,\n\u001b[1;32m    128\u001b[0m                       full_matrices\u001b[39m=\u001b[39;49mfull_matrices, overwrite_a\u001b[39m=\u001b[39;49moverwrite_a)\n\u001b[1;32m    130\u001b[0m \u001b[39mif\u001b[39;00m info \u001b[39m>\u001b[39m \u001b[39m0\u001b[39m:\n\u001b[1;32m    131\u001b[0m     \u001b[39mraise\u001b[39;00m LinAlgError(\u001b[39m\"\u001b[39m\u001b[39mSVD did not converge\u001b[39m\u001b[39m\"\u001b[39m)\n",
      "\u001b[0;31mKeyboardInterrupt\u001b[0m: "
     ]
    }
   ],
   "source": [
    "# Pipeline composition, includes preprocessing and the classifier\n",
    "pipeline = Pipeline([\n",
    "    ('tfidf', TfidfVectorizer()),  # Vectorization\n",
    "    ('svd', TruncatedSVD(n_components=100)),  # Dimensionality reduction for sparse data, using SVD instead of PCA for sparse data\n",
    "    ('logr', LogisticRegression(solver='liblinear'))  # Classifier with  liblinear solver - good for small datasets\n",
    "])\n",
    "\n",
    "# Define the hyperparameters space to search\n",
    "param_grid = {\n",
    "    'tfidf__max_df': [0.8, 0.85, 0.9], # this parameter allows to ignore words that appear in more than XX% of the documents. \n",
    "    'tfidf__ngram_range': [(1, 2), (1, 3)], # both unigrams and bigrams will be used as features\n",
    "    'svd__n_components': [150, 175, 200], # reduce the feature space to the top 100 components\n",
    "    'logr__C': [10, 100, 200]\n",
    "}\n",
    "\n",
    "# Set up GridSearchCV to search for the best parameters\n",
    "grid_search = GridSearchCV(pipeline, param_grid, cv=5)\n",
    "\n",
    "# X_train on the raw text data\n",
    "grid_search.fit(X_train, y_train)\n",
    "\n",
    "# After fitting, get the best estimator\n",
    "best_model = grid_search.best_estimator_\n",
    "\n",
    "# Predict the test set using the best model\n",
    "test_predictions = best_model.predict(X_test)\n"
   ]
  },
  {
   "cell_type": "code",
   "execution_count": null,
   "metadata": {},
   "outputs": [],
   "source": [
    "# Calculate the accuracy\n",
    "test_accuracy = accuracy_score(y_test, test_predictions)\n",
    "\n",
    "# Print the best hyperparameters\n",
    "print(\"Best hyperparameters:\", grid_search.best_params_)\n",
    "\n",
    "# Print the accuracy\n",
    "print(f\"Test Accuracy: {test_accuracy:.4f}\")\n",
    "\n",
    "# Print classification report\n",
    "print(\"Classification Report:\")\n",
    "print(classification_report(y_test, test_predictions))\n",
    "\n",
    "# Print confusion matrix\n",
    "print(\"Confusion Matrix:\")\n",
    "print(confusion_matrix(y_test, test_predictions))"
   ]
  },
  {
   "cell_type": "code",
   "execution_count": null,
   "metadata": {},
   "outputs": [],
   "source": [
    "# Importing the best parameters into the pipeline for further export to another notebook\n",
    "\n",
    "# Extract the best parameters\n",
    "best_params = grid_search.best_params_\n",
    "\n",
    "# Create a new pipeline with the best parameters\n",
    "best_pipeline = Pipeline([\n",
    "    ('tfidf', TfidfVectorizer(max_df=best_params['tfidf__max_df'],\n",
    "                              ngram_range=best_params['tfidf__ngram_range'])),\n",
    "    ('svd', TruncatedSVD(n_components=best_params['svd__n_components'])),\n",
    "    ('logr', LogisticRegression(C=best_params['logr__C'], solver='liblinear'))\n",
    "])\n",
    "\n",
    "# Fit the best pipeline on the full training set\n",
    "best_pipeline.fit(X_train, y_train)\n",
    "\n",
    "# Now you can use best_pipeline to predict, like so:\n",
    "test_predictions = best_pipeline.predict(X_test)"
   ]
  },
  {
   "cell_type": "code",
   "execution_count": null,
   "metadata": {},
   "outputs": [],
   "source": [
    "# Save the best model using joblib\n",
    "#joblib.dump(best_model, \"../model/labeled_yes_best_linear_grid_search_model.pkl\")\n",
    "# print(\"Best model saved to '../model/labeled_yes_best_linear_grid_search_model.pkl'\")"
   ]
  },
  {
   "cell_type": "code",
   "execution_count": null,
   "metadata": {},
   "outputs": [],
   "source": [
    "# Save the best pipline using joblib\n",
    "from joblib import dump\n",
    "dump(best_model, '../model/labelled_yes_linear_pipeline.pkl', compress=True)"
   ]
  },
  {
   "cell_type": "markdown",
   "metadata": {},
   "source": []
  },
  {
   "cell_type": "markdown",
   "metadata": {},
   "source": [
    "## 2.5. Decision Tree Classifier"
   ]
  },
  {
   "cell_type": "markdown",
   "metadata": {},
   "source": [
    "### 2.5.1. Set up a pipeline"
   ]
  },
  {
   "cell_type": "code",
   "execution_count": null,
   "metadata": {},
   "outputs": [],
   "source": [
    "# PCA does not support sparse input, converting sparce matrix into a dense matrix\n",
    "X_matrix_train_dense = X_matrix_train.toarray()\n",
    "X_matrix_test_dense = X_matrix_test.toarray()"
   ]
  },
  {
   "cell_type": "code",
   "execution_count": null,
   "metadata": {},
   "outputs": [],
   "source": [
    "# Create a pipeline with PCA and a decision tree classifier\n",
    "pipeline = Pipeline([\n",
    "    ('pca', PCA(n_components=20)),\n",
    "    ('clf', DecisionTreeClassifier())\n",
    "])"
   ]
  },
  {
   "cell_type": "code",
   "execution_count": null,
   "metadata": {},
   "outputs": [],
   "source": [
    "# Define the hyperparameters\n",
    "param_grid = {\n",
    "    'clf__max_depth': [1,2, 3, 5, 7, 10, 15,20], \n",
    "    'clf__min_samples_split': [2,3,4,5,6,7,8], \n",
    "    'clf__min_samples_leaf': [2,4,5,6,7,8]  \n",
    "}"
   ]
  },
  {
   "cell_type": "markdown",
   "metadata": {},
   "source": [
    "### 2.5.2. Hyperparameter optimization"
   ]
  },
  {
   "cell_type": "markdown",
   "metadata": {},
   "source": [
    "* I use GridSearchCV to search over a specified parameter grid. \n",
    "* I tried to set up Gridsearch to do the pre-processing (Vectorisation) but I could not figure out how to do it. \n",
    "* GridSearchCV will use cross-validation internally, so no need to set up a separate validation set.  "
   ]
  },
  {
   "cell_type": "code",
   "execution_count": null,
   "metadata": {},
   "outputs": [],
   "source": [
    "# Set up GridSearchCV \n",
    "grid_search = GridSearchCV(pipeline, param_grid, cv=5)"
   ]
  },
  {
   "cell_type": "code",
   "execution_count": null,
   "metadata": {},
   "outputs": [],
   "source": [
    "grid_search.fit(X_matrix_train_dense, y_train)"
   ]
  },
  {
   "cell_type": "code",
   "execution_count": null,
   "metadata": {},
   "outputs": [],
   "source": [
    "# Print the best hyperparameters\n",
    "print(\"Best hyperparameters:\", grid_search.best_params_)"
   ]
  },
  {
   "cell_type": "markdown",
   "metadata": {},
   "source": [
    "### 2.5.3. Parameters to optimize."
   ]
  },
  {
   "cell_type": "code",
   "execution_count": null,
   "metadata": {},
   "outputs": [],
   "source": [
    "best_model = grid_search.best_estimator_\n",
    "\n",
    "# Using the dense version of X_test, which is X_matrix_test_dense\n",
    "test_preds = best_model.predict(X_matrix_test_dense)\n",
    "\n",
    "# Accuracy using the true labels y_test and the predicted labels test_preds\n",
    "val_acc = accuracy_score(y_test, test_preds)\n",
    "print(f\"Validation Accuracy with Best Parameters: {val_acc:.4f}\")"
   ]
  },
  {
   "cell_type": "code",
   "execution_count": null,
   "metadata": {},
   "outputs": [],
   "source": [
    "matrix = confusion_matrix(y_test, test_preds)\n",
    "\n",
    "# Displaying the confusion matrix \n",
    "import seaborn as sns\n",
    "import matplotlib.pyplot as plt\n",
    "\n",
    "plt.figure(figsize=(4, 4))\n",
    "sns.heatmap(matrix, annot=True, fmt=\"d\", cmap=\"Blues\", cbar=False)\n",
    "plt.xlabel('Predicted Label')\n",
    "plt.ylabel('True Label')\n",
    "plt.title('Confusion Matrix')\n",
    "plt.show()"
   ]
  },
  {
   "cell_type": "code",
   "execution_count": null,
   "metadata": {},
   "outputs": [],
   "source": [
    "# Printing the classification report\n",
    "report = classification_report(y_test, test_preds)\n",
    "print(report)"
   ]
  },
  {
   "cell_type": "markdown",
   "metadata": {},
   "source": [
    "Observation:  \n",
    "\n",
    "* The DT classifier combined with the gridsearch for best hyperparameters combination have not resulted in  a better model than the logistical regression constratucted earlier.  The accuracy score of 74% is lower than 78% for the logreg model.  BUt 74% is still better than the 57% for the majority class os 1s. \n",
    "* The DT model has a slightly better performance in classifying positive reviews (1s) with a precision of 0.76 and recall of 0.80, compared to classifying negative reviews (0s) which has a precision of 0.72 and recall of 0.67. \n",
    "* Overall, with an accuracy is 0.74. The model classifies well between positive and negative reviews, although there's a margin for improvement."
   ]
  },
  {
   "cell_type": "markdown",
   "metadata": {},
   "source": [
    "## 2.x. VADER Sentiment Analyser"
   ]
  },
  {
   "cell_type": "code",
   "execution_count": null,
   "metadata": {},
   "outputs": [
    {
     "name": "stdout",
     "output_type": "stream",
     "text": [
      "<class 'pandas.core.frame.DataFrame'>\n",
      "Index: 5001 entries, 0 to 5000\n",
      "Data columns (total 6 columns):\n",
      " #   Column     Non-Null Count  Dtype \n",
      "---  ------     --------------  ----- \n",
      " 0   link_id    5001 non-null   object\n",
      " 1   parent_id  5001 non-null   object\n",
      " 2   User       5001 non-null   object\n",
      " 3   Text       5001 non-null   object\n",
      " 4   Intent     5001 non-null   int64 \n",
      " 5   Support    5001 non-null   int64 \n",
      "dtypes: int64(2), object(4)\n",
      "memory usage: 273.5+ KB\n"
     ]
    }
   ],
   "source": [
    "df.info()"
   ]
  },
  {
   "cell_type": "code",
   "execution_count": null,
   "metadata": {},
   "outputs": [],
   "source": [
    "# Instantiate an object of SentimentIntensityAnalyzer\n",
    "analyzer = SentimentIntensityAnalyzer()"
   ]
  },
  {
   "cell_type": "code",
   "execution_count": null,
   "metadata": {},
   "outputs": [
    {
     "name": "stdout",
     "output_type": "stream",
     "text": [
      "R3LIABLE_\n",
      "Pump and dump RKT! Just sold a few RKT to buy another GME for this dip. Buy and hold fellow apes!\n",
      "1\n",
      "1\n",
      "{'neg': 0.137, 'neu': 0.863, 'pos': 0.0, 'compound': -0.4912}\n"
     ]
    }
   ],
   "source": [
    "# This code checks the content of each inidividual text cell and prints the post text and the sentiment ratings below:\n",
    "\n",
    "i = 2011\n",
    "\n",
    "print(df[\"User\"].loc[i])\n",
    "print(df[\"Text\"].loc[i])\n",
    "print(df[\"Intent\"].loc[i])\n",
    "print(df[\"Support\"].loc[i])\n",
    "post = df[\"Text\"].loc[i]\n",
    "\n",
    "# Calculates the sentiment scores for the chosen cell\n",
    "overall_sentiment_score = analyzer.polarity_scores(post)\n",
    "print(overall_sentiment_score)"
   ]
  },
  {
   "cell_type": "markdown",
   "metadata": {},
   "source": [
    "In Vader documentation (https://github.com/cjhutto/vaderSentiment#about-the-scoring) it is explained that if:\n",
    "\n",
    "\"\n",
    "    The compound score is computed by summing the valence scores of each word in the lexicon, adjusted according to the rules, and then normalized to be between -1 (most extreme negative) and +1 (most extreme positive). This is the most useful metric if you want a single unidimensional measure of sentiment for a given sentence. Calling it a 'normalized, weighted composite score' is accurate.\n",
    "\n",
    "    It is also useful for researchers who would like to set standardized thresholds for classifying sentences as either positive, neutral, or negative. Typical threshold values (used in the literature cited on this page) are:\n",
    "\n",
    "* positive sentiment: compound score >= 0.5\n",
    "* neutral sentiment: (compound score > -0.5) and (compound score < 0.5)\n",
    "* negative sentiment: compound score <= -0.5.\n",
    "\n",
    "    NOTE: The compound score is the one most commonly used for sentiment analysis by most researchers, including the authors.\n",
    "\n",
    "    The pos, neu, and neg scores are ratios for proportions of text that fall in each category (so these should all add up to be 1... or close to it with float operation).\""
   ]
  },
  {
   "cell_type": "code",
   "execution_count": null,
   "metadata": {},
   "outputs": [],
   "source": [
    "# Define a function that will go through posts and assign sentimen scores to text:\n",
    "def calculate_sentiment(text):\n",
    "    if pd.isnull(text):\n",
    "        return {'neg': None, 'neu': None, 'pos': None, 'compound': None}\n",
    "    \n",
    "    # Analyze the sentiment of the post\n",
    "    sentiment_score = analyzer.polarity_scores(text)\n",
    "    return sentiment_score"
   ]
  },
  {
   "cell_type": "code",
   "execution_count": null,
   "metadata": {},
   "outputs": [],
   "source": [
    "# Apply the calculate_sentiment function to each row in the 'title' column (runtime = 2 seconds)\n",
    "sentiments = df['Text'].apply(calculate_sentiment)\n",
    "\n",
    "# Record the sentiments into the dataframe new columns (v= vader)\n",
    "df.loc[:, 'neg_v'] = sentiments.apply(lambda x: x['neg'])\n",
    "df.loc[:, 'neu_v'] = sentiments.apply(lambda x: x['neu'])\n",
    "df.loc[:, 'pos_v'] = sentiments.apply(lambda x: x['pos'])\n",
    "df.loc[:, 'compound_v'] = sentiments.apply(lambda x: x['compound'])"
   ]
  },
  {
   "cell_type": "code",
   "execution_count": null,
   "metadata": {},
   "outputs": [
    {
     "name": "stdout",
     "output_type": "stream",
     "text": [
      "\n",
      "Crosstab between binned Vader compound score and Intent:\n",
      " Intent            0    1\n",
      "compound_v              \n",
      "Very Negative   567  153\n",
      "Negative       1706  301\n",
      "Positive        869  263\n",
      "Very Positive   876  266\n"
     ]
    }
   ],
   "source": [
    "# Bin the compound scores into categories\n",
    "df['compound_v_binned'] = pd.cut(df['compound_v'], bins=[-1, -0.5, 0, 0.5, 1], labels=['Very Negative', 'Negative', 'Positive', 'Very Positive'])\n",
    "\n",
    "# Crosstab between binned compound score and Intent\n",
    "crosstab_v_intent_binned = pd.crosstab(df['compound_v_binned'], df['Intent'], rownames=['compound_v'], colnames=['Intent'])\n",
    "print(\"\\nCrosstab between binned Vader compound score and Intent:\\n\", crosstab_v_intent_binned)"
   ]
  },
  {
   "cell_type": "code",
   "execution_count": null,
   "metadata": {},
   "outputs": [
    {
     "data": {
      "image/png": "[encoded data removed]",
      "text/plain": [
       "<Figure size 600x600 with 4 Axes>"
      ]
     },
     "metadata": {},
     "output_type": "display_data"
    }
   ],
   "source": [
    "# Plotting graphs to show the distribution of Vader ratings\n",
    "fig, axes = plt.subplots(2, 2, figsize=(6, 6))  # Adjust the size as needed\n",
    "\n",
    "\n",
    "sns.barplot(ax=axes[0, 0], data=df, x='Intent', y='compound_v')\n",
    "axes[0, 0].set_title('Comp Score by Intent Category')\n",
    "\n",
    "sns.barplot(ax=axes[0, 1], data=df, x='Intent', y='pos_v')\n",
    "axes[0, 1].set_title('Pos Score by Intent Category')\n",
    "\n",
    "sns.barplot(ax=axes[1, 0], data=df, x='Intent', y='neu_v')\n",
    "axes[1, 0].set_title('Neu Score by Intent Category')\n",
    "\n",
    "sns.barplot(ax=axes[1, 1], data=df, x='Intent', y='neg_v')\n",
    "axes[1, 1].set_title('Neg Score by Intent Category')\n",
    "\n",
    "plt.tight_layout()\n",
    "plt.show()"
   ]
  },
  {
   "cell_type": "code",
   "execution_count": null,
   "metadata": {},
   "outputs": [
    {
     "data": {
      "image/png": "[encoded data removed]",
      "text/plain": [
       "<Figure size 1200x300 with 3 Axes>"
      ]
     },
     "metadata": {},
     "output_type": "display_data"
    }
   ],
   "source": [
    "fig, axs = plt.subplots(1, 3, figsize=(12, 3))\n",
    "sns.barplot(data=df, x='Intent', y='pos_v', ax=axs[0])\n",
    "sns.barplot(data=df, x='Intent', y='neu_v', ax=axs[1])\n",
    "sns.barplot(data=df, x='Intent', y='neg_v', ax=axs[2])\n",
    "axs[0].set_title('Positive')\n",
    "axs[1].set_title('Neutral')\n",
    "axs[2].set_title('Negative')\n",
    "plt.tight_layout()\n",
    "plt.show()"
   ]
  },
  {
   "cell_type": "markdown",
   "metadata": {},
   "source": [
    "I can see on the distribution graphs above that Vader sentiment alone is not sufficient to classify WSB messages correctly. Vader has been trained on general language models, and does not capture the financial sentiment and context well. \n",
    "\n",
    "I dont think this Vader sentiment analyser works at all, as messages scored 1 on Intent to buy were somewhat evenly split between negative and positive sentiments. Negative sentiment is more predictive that the message will be a zero (a higher % of very negative messages are assigned a rating of 0), but this is very imprecise.  \n",
    "\n",
    "The correlation coefficient calcualted below indicate very low correlation between Intent and VADER scores:"
   ]
  },
  {
   "cell_type": "code",
   "execution_count": null,
   "metadata": {},
   "outputs": [
    {
     "name": "stdout",
     "output_type": "stream",
     "text": [
      "neg_v        -0.02\n",
      "pos_v         0.04\n",
      "neu_v        -0.02\n",
      "compound_v    0.04\n",
      "dtype: float64\n"
     ]
    }
   ],
   "source": [
    "# Features matrix (X) and target vector (y)\n",
    "X = df[['neg_v','pos_v','neu_v','compound_v']]  # Using all columns as features\n",
    "y = df['Intent']                 # Target variable\n",
    "\n",
    "# Calculating the correlation of X an y\n",
    "correlation = X.corrwith(y)\n",
    "print(correlation)"
   ]
  },
  {
   "cell_type": "markdown",
   "metadata": {},
   "source": [
    "Just to be sure, below I built a linear regression to check if I can spot any relationships here:"
   ]
  },
  {
   "cell_type": "code",
   "execution_count": null,
   "metadata": {},
   "outputs": [
    {
     "name": "stdout",
     "output_type": "stream",
     "text": [
      "Coefficients: \n",
      "[0.09497117 0.1114991  0.13088364 0.01256285]\n",
      "Intercept: 0.19600000000000004\n",
      "Mean squared error (MSE): 0.1598\n",
      "R-squared (R2): -0.0033\n"
     ]
    }
   ],
   "source": [
    "# Building linear regression between Intent and the Vader sentiment\n",
    "\n",
    "# Split the data into training and test sets\n",
    "X_train, X_test, y_train, y_test = train_test_split(X, y, test_size=0.2, random_state=42)\n",
    "\n",
    "# Initialize the StandardScaler\n",
    "scaler = StandardScaler()\n",
    "\n",
    "# Fit the scaler using only the training data and transform it\n",
    "X_train_scaled = scaler.fit_transform(X_train)\n",
    "X_test_scaled = scaler.transform(X_test)\n",
    "\n",
    "# Create and fit the linear regression model to the scaled data\n",
    "model = LinearRegression()\n",
    "model.fit(X_train_scaled, y_train)\n",
    "\n",
    "# Predict on the test data\n",
    "y_pred = model.predict(X_test_scaled)\n",
    "\n",
    "# Calculate metrics\n",
    "mse = mean_squared_error(y_test, y_pred)\n",
    "r2 = r2_score(y_test, y_pred)\n",
    "\n",
    "# Printing out the coefficients and the metrics\n",
    "print(f\"Coefficients: \\n{model.coef_}\")\n",
    "print(f\"Intercept: {model.intercept_}\")\n",
    "print(f\"Mean squared error (MSE): {mse:.4f}\")\n",
    "print(f\"R-squared (R2): {r2:.4f}\")\n"
   ]
  },
  {
   "cell_type": "markdown",
   "metadata": {},
   "source": [
    "Concludion:  we have a negative R-squared, which means that the VADER sentiment analyser is not helpful at all in classifying our data, even assigning ratings in the opposite direction of what we could expect. VADER tool can be helpful, perhaps, if it is assisted with \"translation\" of unique WSB jargon language into a normal english that VADER has been trained to understand.  "
   ]
  },
  {
   "cell_type": "markdown",
   "metadata": {},
   "source": [
    "## 2.z. TextBlob from NLTK"
   ]
  },
  {
   "cell_type": "code",
   "execution_count": null,
   "metadata": {},
   "outputs": [],
   "source": [
    "from textblob import TextBlob"
   ]
  },
  {
   "cell_type": "markdown",
   "metadata": {},
   "source": [
    "* In TextBlob NLTM Library sentiment is captured by polarity score, ranging from negative (-1) to positive (+1). \n",
    "* Subjectivity is graded from 0 to 1, with 0 being very factual/objecive and 1 being very subjective. \n",
    "* As a reminder, our Intent field is not very balanced, with only 23% of ratings having positive intent to buy."
   ]
  },
  {
   "cell_type": "code",
   "execution_count": null,
   "metadata": {},
   "outputs": [
    {
     "name": "stdout",
     "output_type": "stream",
     "text": [
      "Lil_Orphan_Anakin\n",
      "To be fair I didn’t want to sound retarded when I was convincing her to buy so I think I told her “some people think it might hit $30 pretty soon.” I guess she interpreted that as $30 being the ceiling. I should’ve done the smart thing and sent her GME $420.69 memes so she would hold longer\n",
      "0\n",
      "1\n",
      "VADER sentiment score:\n",
      "{'neg': 0.054, 'neu': 0.766, 'pos': 0.18, 'compound': 0.7579}\n",
      "TextBlob sentiment score:\n",
      "Sentiment(polarity=0.21071428571428572, subjectivity=0.7904761904761904)\n"
     ]
    }
   ],
   "source": [
    "# This code checks the content of each inidividual text cell \n",
    "i = 106\n",
    "\n",
    "print(df[\"User\"].loc[i])\n",
    "print(df[\"Text\"].loc[i])\n",
    "print(df[\"Intent\"].loc[i])\n",
    "print(df[\"Support\"].loc[i])\n",
    "\n",
    "post = df[\"Text\"].loc[i]\n",
    "\n",
    "# VADER (from above)\n",
    "overall_sentiment_score = analyzer.polarity_scores(post)\n",
    "print(\"VADER sentiment score:\")\n",
    "print(overall_sentiment_score)\n",
    "\n",
    "# TextBlob \n",
    "\n",
    "analysis = TextBlob(post)\n",
    "print(\"TextBlob sentiment score:\")\n",
    "print(analysis.sentiment)"
   ]
  },
  {
   "cell_type": "markdown",
   "metadata": {},
   "source": [
    "In the code above I can flip through various posts by comparing the content and the sentiment rating assigned by VADER and TextBlob"
   ]
  },
  {
   "cell_type": "code",
   "execution_count": null,
   "metadata": {},
   "outputs": [
    {
     "name": "stdout",
     "output_type": "stream",
     "text": [
      "Class imbalance: [0.8 0.2]\n"
     ]
    }
   ],
   "source": [
    "# Reminding myself what is the class composition in our \"Intent\" column\n",
    "df['Intent'].value_counts()\n",
    "values, counts = np.unique(df['Intent'], return_counts=True)\n",
    "normalized_counts = counts / counts.sum()\n",
    "print(f\"Class imbalance: {np.round(normalized_counts, 2)}\")"
   ]
  },
  {
   "cell_type": "markdown",
   "metadata": {},
   "source": [
    "In the code below I calculate the totals of positive and negative posts.  If polarity rating is >0, then I count it as a positive score, and if polarity is less than 0, then I count it as a negative sentiment.  I can compare the totals of the dataset to my distribution of categoris for 'Intent'.  With threshhold set at zero I have too many positive ratings, so I needed to change the threshhold to dial down positivity of the dataset. I now classify polarity scores as positive only once they reach a certain threshhold, for example they need ot be above 0.2 to be counted as positive. By experimenting a bit, I determined that threashhold of 0.2 is a good threshhold to get to the desired distribution of 1 and 0 (hopefully matching the distribution of labels).  I am recording this calculated sentiment score into my model. "
   ]
  },
  {
   "cell_type": "code",
   "execution_count": null,
   "metadata": {},
   "outputs": [
    {
     "name": "stdout",
     "output_type": "stream",
     "text": [
      "Positive sentiment = 39.31% via 5001 samples\n",
      "Negative sentiment = 60.69% via 5001 samples\n"
     ]
    }
   ],
   "source": [
    "# this code borrowed from TextBlob sentiment analysis tutorial at https://pythonprogramming.net/sentiment-analysis-python-textblob-vader/\n",
    "\n",
    "pos_count = 0\n",
    "pos_correct = 0\n",
    "\n",
    "# 'Text' column to be analyzed with TextBlob\n",
    "for line in df['Text']:\n",
    "    analysis = TextBlob(line)\n",
    "    if analysis.sentiment.polarity > .00:\n",
    "        pos_correct += 1\n",
    "    pos_count += 1\n",
    "\n",
    "neg_count = 0\n",
    "neg_correct = 0\n",
    "\n",
    "for line in df['Text']:\n",
    "    analysis = TextBlob(line)\n",
    "    if analysis.sentiment.polarity <= 0.0:\n",
    "        neg_correct += 1\n",
    "    neg_count += 1\n",
    "\n",
    "print(\"Positive sentiment = {:.2f}% via {} samples\".format(pos_correct/pos_count*100.0, pos_count))\n",
    "print(\"Negative sentiment = {:.2f}% via {} samples\".format(neg_correct/neg_count*100.0, neg_count))\n"
   ]
  },
  {
   "cell_type": "markdown",
   "metadata": {},
   "source": []
  },
  {
   "cell_type": "code",
   "execution_count": null,
   "metadata": {},
   "outputs": [],
   "source": [
    "# Define a function to apply TextBlob analysis and create new columns\n",
    "def apply_textblob(sentiment_text):\n",
    "    analysis = TextBlob(sentiment_text)\n",
    "    subj_score = analysis.sentiment.subjectivity\n",
    "    pol_score = analysis.sentiment.polarity\n",
    "    sentim_score = 1 if pol_score > 0.2 else 0\n",
    "    return subj_score, pol_score, sentim_score\n",
    "\n",
    "# Apply the function and assign new columns\n",
    "df[['subj_tb1', 'pol_tb1', 'sentim_tb1']] = df.apply(lambda row: apply_textblob(row['Text']), axis=1, result_type='expand')"
   ]
  },
  {
   "cell_type": "markdown",
   "metadata": {},
   "source": [
    "Observation:\n",
    "\n",
    "* the R squared is extremely low.  There is nearly no correlation between the TextBlob assigned sentiment metrics, such as polarity and subjectivity and the labels assigned by researchers. "
   ]
  },
  {
   "cell_type": "code",
   "execution_count": null,
   "metadata": {},
   "outputs": [
    {
     "name": "stdout",
     "output_type": "stream",
     "text": [
      "\n",
      "Crosstab between sentim_tb1 and Intent:\n",
      " Intent         0    1\n",
      "sentim_tb1           \n",
      "0.00        3262  730\n",
      "1.00         756  253\n"
     ]
    }
   ],
   "source": [
    "# Crosstab between sentim_tb1 and Intent\n",
    "crosstab_tb1_intent = pd.crosstab(df['sentim_tb1'], df['Intent'], rownames=['sentim_tb1'], colnames=['Intent'])\n",
    "print(\"\\nCrosstab between sentim_tb1 and Intent:\\n\", crosstab_tb1_intent)"
   ]
  },
  {
   "cell_type": "code",
   "execution_count": null,
   "metadata": {},
   "outputs": [
    {
     "name": "stdout",
     "output_type": "stream",
     "text": [
      "subj_tb1   0.09\n",
      "pol_tb1    0.05\n",
      "dtype: float64\n"
     ]
    }
   ],
   "source": [
    "# Features matrix (X) and target vector (y)\n",
    "X = df[['subj_tb1', 'pol_tb1']]  # Using both columns as features\n",
    "y = df['Intent']                 # Target variable\n",
    "\n",
    "# Calculating the correlation of X an y\n",
    "correlation = X.corrwith(y)\n",
    "print(correlation)"
   ]
  },
  {
   "cell_type": "code",
   "execution_count": null,
   "metadata": {},
   "outputs": [
    {
     "name": "stdout",
     "output_type": "stream",
     "text": [
      "Coefficients: \n",
      "[0.03421028 0.02283751]\n",
      "Intercept: 0.196\n",
      "Mean squared error (MSE): 0.1585\n",
      "R-squared (R2): 0.0051\n"
     ]
    }
   ],
   "source": [
    "# Building linear regression between Intent and the TextBlob sentiment\n",
    "\n",
    "# Split the data into training and test sets\n",
    "X_train, X_test, y_train, y_test = train_test_split(X, y, test_size=0.2, random_state=42)\n",
    "\n",
    "# Initialize the StandardScaler\n",
    "scaler = StandardScaler()\n",
    "\n",
    "# Fit the scaler using only the training data and transform it\n",
    "X_train_scaled = scaler.fit_transform(X_train)\n",
    "X_test_scaled = scaler.transform(X_test)\n",
    "\n",
    "# Create and fit the linear regression model to the scaled data\n",
    "model = LinearRegression()\n",
    "model.fit(X_train_scaled, y_train)\n",
    "\n",
    "# Predict on the test data\n",
    "y_pred = model.predict(X_test_scaled)\n",
    "\n",
    "# Calculate metrics\n",
    "mse = mean_squared_error(y_test, y_pred)\n",
    "r2 = r2_score(y_test, y_pred)\n",
    "\n",
    "# Printing out the coefficients and the metrics\n",
    "print(f\"Coefficients: \\n{model.coef_}\")\n",
    "print(f\"Intercept: {model.intercept_}\")\n",
    "print(f\"Mean squared error (MSE): {mse:.4f}\")\n",
    "print(f\"R-squared (R2): {r2:.4f}\")\n"
   ]
  },
  {
   "cell_type": "markdown",
   "metadata": {},
   "source": [
    "I will try the logistics regression below"
   ]
  },
  {
   "cell_type": "code",
   "execution_count": null,
   "metadata": {},
   "outputs": [
    {
     "name": "stdout",
     "output_type": "stream",
     "text": [
      "Accuracy: 0.8012\n",
      "Recall: 0.0000\n",
      "Precision: 0.0000\n",
      "F1 Score: 0.0000\n",
      "Confusion Matrix:\n",
      "[[802   0]\n",
      " [199   0]]\n"
     ]
    },
    {
     "name": "stderr",
     "output_type": "stream",
     "text": [
      "/Users/lgfolder/anaconda3/envs/myenv2/lib/python3.8/site-packages/sklearn/metrics/_classification.py:1469: UndefinedMetricWarning: Precision is ill-defined and being set to 0.0 due to no predicted samples. Use `zero_division` parameter to control this behavior.\n",
      "  _warn_prf(average, modifier, msg_start, len(result))\n"
     ]
    }
   ],
   "source": [
    "# Building a logistic regression on the TextBlob sentiment analysis accuracy\n",
    "\n",
    "# Features matrix (X) and target vector (y)\n",
    "X = df[['sentim_tb1']]  # Features need to be in a 2D array for sklearn\n",
    "y = df['Intent']        # Target is just a series\n",
    "\n",
    "# Split the data into training and test sets\n",
    "X_train, X_test, y_train, y_test = train_test_split(X, y, test_size=0.2, random_state=42)\n",
    "\n",
    "# Create and fit the logistic regression model\n",
    "model = LogisticRegression()\n",
    "model.fit(X_train, y_train)\n",
    "\n",
    "# Predict on the test data\n",
    "y_pred = model.predict(X_test)\n",
    "\n",
    "# Calculate metrics\n",
    "accuracy = accuracy_score(y_test, y_pred)\n",
    "recall = recall_score(y_test, y_pred)\n",
    "precision = precision_score(y_test, y_pred)\n",
    "f1 = f1_score(y_test, y_pred)\n",
    "\n",
    "# Generating the confusion matrix\n",
    "conf_matrix = confusion_matrix(y_test, y_pred)\n",
    "\n",
    "# Printing out the metrics\n",
    "print(f\"Accuracy: {accuracy:.4f}\")\n",
    "print(f\"Recall: {recall:.4f}\")\n",
    "print(f\"Precision: {precision:.4f}\")\n",
    "print(f\"F1 Score: {f1:.4f}\")\n",
    "print(f\"Confusion Matrix:\\n{conf_matrix}\")"
   ]
  },
  {
   "cell_type": "markdown",
   "metadata": {},
   "source": [
    "Conlcusion on TextBlob:\n",
    "\n",
    "* It is challenging to predict sentiment score on Reddit posts intent to buy based on the NLTK TextBlob sentiment analyser. \n",
    "* I tried several different settings/combinations on the threshhold (for positivity and subjectivity).  Unfortunately, none of them yielded good results.  \n",
    "* TextBlob sentiment encoder shows very poor results on WSB dataset when applied without additional language adjustments. I should try to change the language using my own dictionary of WSB specific terms   "
   ]
  },
  {
   "cell_type": "markdown",
   "metadata": {},
   "source": []
  },
  {
   "cell_type": "markdown",
   "metadata": {},
   "source": []
  }
 ],
 "metadata": {
  "kernelspec": {
   "display_name": "Python 3",
   "language": "python",
   "name": "python3"
  },
  "language_info": {
   "codemirror_mode": {
    "name": "ipython",
    "version": 3
   },
   "file_extension": ".py",
   "mimetype": "text/x-python",
   "name": "python",
   "nbconvert_exporter": "python",
   "pygments_lexer": "ipython3",
   "version": "3.8.16"
  },
  "toc-autonumbering": false,
  "toc-showcode": false,
  "toc-showmarkdowntxt": false
 },
 "nbformat": 4,
 "nbformat_minor": 4
}
