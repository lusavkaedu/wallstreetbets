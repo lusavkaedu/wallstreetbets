{
 "cells": [
  {
   "cell_type": "markdown",
   "metadata": {},
   "source": [
    "# Capstone Project \n",
    "\n",
    "**BrainStation Data Science Bootcamp - Machine Learning Project**\n",
    "\n",
    "**Author: L Gavrilova**\n",
    "\n",
    "**Date:  2023**"
   ]
  },
  {
   "cell_type": "markdown",
   "metadata": {
    "Collapsed": "false"
   },
   "source": [
    "# Notebook 2b. Labelled Model Training"
   ]
  },
  {
   "cell_type": "markdown",
   "metadata": {
    "Collapsed": "false"
   },
   "source": [
    "## 2.0 Imports"
   ]
  },
  {
   "cell_type": "code",
   "execution_count": 1,
   "metadata": {
    "Collapsed": "false"
   },
   "outputs": [
    {
     "name": "stderr",
     "output_type": "stream",
     "text": [
      "[nltk_data] Downloading package punkt to /Users/lgfolder/nltk_data...\n",
      "[nltk_data]   Package punkt is already up-to-date!\n"
     ]
    }
   ],
   "source": [
    "# Standard Libraries for data manipulation\n",
    "import pandas as pd\n",
    "import numpy as np\n",
    "import re\n",
    "import os\n",
    "import string\n",
    "\n",
    "# Visualization Libraries\n",
    "import matplotlib.pyplot as plt\n",
    "import seaborn as sns\n",
    "import matplotlib.dates as mdates\n",
    "plt.rcParams['figure.figsize'] = (6.0, 4.0) \n",
    "pd.set_option('display.float_format', '{:.2f}'.format)\n",
    "plt.style.use('ggplot')\n",
    "\n",
    "# NLP Libraries\n",
    "import nltk\n",
    "from nltk.corpus import stopwords\n",
    "from nltk.tokenize import RegexpTokenizer, word_tokenize, sent_tokenize\n",
    "from nltk.stem import PorterStemmer, WordNetLemmatizer\n",
    "nltk.download('punkt') # If needed\n",
    "\n",
    "# Sentiment Analysis Libraries\n",
    "from textblob import TextBlob\n",
    "from vaderSentiment.vaderSentiment import SentimentIntensityAnalyzer\n",
    "\n",
    "# Machine Learning Libraries\n",
    "from sklearn.model_selection import train_test_split, GridSearchCV, cross_val_score\n",
    "from sklearn.preprocessing import StandardScaler\n",
    "from sklearn.feature_extraction.text import CountVectorizer, TfidfVectorizer\n",
    "from sklearn.pipeline import Pipeline\n",
    "from sklearn.decomposition import PCA, TruncatedSVD\n",
    "from sklearn.tree import DecisionTreeClassifier\n",
    "from sklearn.linear_model import LogisticRegression, LinearRegression\n",
    "from sklearn.metrics import accuracy_score, classification_report, recall_score, precision_score, confusion_matrix, f1_score, roc_curve, roc_auc_score, mean_squared_error, r2_score\n",
    "\n",
    "from sklearn.model_selection import train_test_split\n",
    "from sklearn.linear_model import LogisticRegression\n",
    "\n",
    "# SMOTE for dealing with imbalanced datasets\n",
    "from imblearn.over_sampling import SMOTE\n",
    "\n",
    "# Additional Settings\n",
    "import emoji"
   ]
  },
  {
   "cell_type": "code",
   "execution_count": 2,
   "metadata": {
    "Collapsed": "false"
   },
   "outputs": [],
   "source": [
    "DATAFILE = '../data/labelled_dataset_wo_emoji.csv'\n",
    "df = pd.read_csv(DATAFILE)"
   ]
  },
  {
   "cell_type": "code",
   "execution_count": 3,
   "metadata": {},
   "outputs": [
    {
     "name": "stdout",
     "output_type": "stream",
     "text": [
      "<class 'pandas.core.frame.DataFrame'>\n",
      "RangeIndex: 4996 entries, 0 to 4995\n",
      "Data columns (total 7 columns):\n",
      " #   Column      Non-Null Count  Dtype \n",
      "---  ------      --------------  ----- \n",
      " 0   link_id     4996 non-null   object\n",
      " 1   parent_id   4996 non-null   object\n",
      " 2   User        4996 non-null   object\n",
      " 3   Text        4996 non-null   object\n",
      " 4   Intent      4996 non-null   object\n",
      " 5   Support     4996 non-null   object\n",
      " 6   emoji_text  742 non-null    object\n",
      "dtypes: object(7)\n",
      "memory usage: 273.3+ KB\n"
     ]
    }
   ],
   "source": [
    "df.info()"
   ]
  },
  {
   "cell_type": "code",
   "execution_count": 4,
   "metadata": {},
   "outputs": [
    {
     "data": {
      "text/html": [
       "<div>\n",
       "<style scoped>\n",
       "    .dataframe tbody tr th:only-of-type {\n",
       "        vertical-align: middle;\n",
       "    }\n",
       "\n",
       "    .dataframe tbody tr th {\n",
       "        vertical-align: top;\n",
       "    }\n",
       "\n",
       "    .dataframe thead th {\n",
       "        text-align: right;\n",
       "    }\n",
       "</style>\n",
       "<table border=\"1\" class=\"dataframe\">\n",
       "  <thead>\n",
       "    <tr style=\"text-align: right;\">\n",
       "      <th></th>\n",
       "      <th>link_id</th>\n",
       "      <th>parent_id</th>\n",
       "      <th>User</th>\n",
       "      <th>Text</th>\n",
       "      <th>Intent</th>\n",
       "      <th>Support</th>\n",
       "      <th>emoji_text</th>\n",
       "    </tr>\n",
       "  </thead>\n",
       "  <tbody>\n",
       "    <tr>\n",
       "      <th>count</th>\n",
       "      <td>4996</td>\n",
       "      <td>4996</td>\n",
       "      <td>4996</td>\n",
       "      <td>4996</td>\n",
       "      <td>4996</td>\n",
       "      <td>4996</td>\n",
       "      <td>742</td>\n",
       "    </tr>\n",
       "    <tr>\n",
       "      <th>unique</th>\n",
       "      <td>1944</td>\n",
       "      <td>3148</td>\n",
       "      <td>4659</td>\n",
       "      <td>4940</td>\n",
       "      <td>5</td>\n",
       "      <td>4</td>\n",
       "      <td>382</td>\n",
       "    </tr>\n",
       "    <tr>\n",
       "      <th>top</th>\n",
       "      <td>t3_ladzdt</td>\n",
       "      <td>t3_ladzdt</td>\n",
       "      <td>AutoModerator</td>\n",
       "      <td>GME</td>\n",
       "      <td>u</td>\n",
       "      <td>y</td>\n",
       "      <td>🚀 🚀 🚀</td>\n",
       "    </tr>\n",
       "    <tr>\n",
       "      <th>freq</th>\n",
       "      <td>66</td>\n",
       "      <td>46</td>\n",
       "      <td>14</td>\n",
       "      <td>22</td>\n",
       "      <td>3247</td>\n",
       "      <td>2473</td>\n",
       "      <td>66</td>\n",
       "    </tr>\n",
       "  </tbody>\n",
       "</table>\n",
       "</div>"
      ],
      "text/plain": [
       "          link_id  parent_id           User  Text Intent Support emoji_text\n",
       "count        4996       4996           4996  4996   4996    4996        742\n",
       "unique       1944       3148           4659  4940      5       4        382\n",
       "top     t3_ladzdt  t3_ladzdt  AutoModerator   GME      u       y      🚀 🚀 🚀\n",
       "freq           66         46             14    22   3247    2473         66"
      ]
     },
     "execution_count": 4,
     "metadata": {},
     "output_type": "execute_result"
    }
   ],
   "source": [
    "df.describe()"
   ]
  },
  {
   "cell_type": "code",
   "execution_count": 5,
   "metadata": {},
   "outputs": [
    {
     "data": {
      "text/plain": [
       "Intent\n",
       "u    3247\n",
       "y     983\n",
       "m     370\n",
       "i     313\n",
       "n      83\n",
       "Name: count, dtype: int64"
      ]
     },
     "execution_count": 5,
     "metadata": {},
     "output_type": "execute_result"
    }
   ],
   "source": [
    "df['Intent'].value_counts()"
   ]
  },
  {
   "cell_type": "code",
   "execution_count": 6,
   "metadata": {},
   "outputs": [
    {
     "data": {
      "image/png": "[encoded data removed]",
      "text/plain": [
       "<Figure size 400x400 with 1 Axes>"
      ]
     },
     "metadata": {},
     "output_type": "display_data"
    }
   ],
   "source": [
    "ax = df['Intent'].value_counts().sort_index() \\\n",
    "    .plot(kind='bar',\n",
    "          title='Count of Intent',\n",
    "          figsize=(4, 4))\n",
    "ax.set_xlabel('Intent')\n",
    "plt.show()"
   ]
  },
  {
   "cell_type": "markdown",
   "metadata": {},
   "source": [
    "* Majority of posts (2/3) received clasification 'u', which means 'uncertain'. \n",
    "* 20% of posts were rated as \"positive\" signalling an intent to buy GME shares.\n",
    "* Only a very small % of messages were rated as \"negative\" which creates an  imbalance in our set.  We have a deficit of examples of negative posts. "
   ]
  },
  {
   "cell_type": "markdown",
   "metadata": {},
   "source": [
    "## 2.1. Cleaning the text (pre-processing)"
   ]
  },
  {
   "cell_type": "code",
   "execution_count": 7,
   "metadata": {},
   "outputs": [
    {
     "data": {
      "text/html": [
       "<div>\n",
       "<style scoped>\n",
       "    .dataframe tbody tr th:only-of-type {\n",
       "        vertical-align: middle;\n",
       "    }\n",
       "\n",
       "    .dataframe tbody tr th {\n",
       "        vertical-align: top;\n",
       "    }\n",
       "\n",
       "    .dataframe thead th {\n",
       "        text-align: right;\n",
       "    }\n",
       "</style>\n",
       "<table border=\"1\" class=\"dataframe\">\n",
       "  <thead>\n",
       "    <tr style=\"text-align: right;\">\n",
       "      <th></th>\n",
       "      <th>link_id</th>\n",
       "      <th>parent_id</th>\n",
       "      <th>User</th>\n",
       "      <th>Text</th>\n",
       "      <th>Intent</th>\n",
       "      <th>Support</th>\n",
       "      <th>emoji_text</th>\n",
       "    </tr>\n",
       "  </thead>\n",
       "  <tbody>\n",
       "    <tr>\n",
       "      <th>3636</th>\n",
       "      <td>t3_lnqdke</td>\n",
       "      <td>t1_go5ozs6</td>\n",
       "      <td>Aliienate</td>\n",
       "      <td>Sold 5c mar 19 SNDL at peak and cut my cost ba...</td>\n",
       "      <td>u</td>\n",
       "      <td>u</td>\n",
       "      <td>NaN</td>\n",
       "    </tr>\n",
       "    <tr>\n",
       "      <th>3995</th>\n",
       "      <td>t3_kbp0eu</td>\n",
       "      <td>t3_kbp0eu</td>\n",
       "      <td>wolfiasty</td>\n",
       "      <td>I'm locked with GME. Good luck to us both.</td>\n",
       "      <td>y</td>\n",
       "      <td>u</td>\n",
       "      <td>NaN</td>\n",
       "    </tr>\n",
       "    <tr>\n",
       "      <th>1974</th>\n",
       "      <td>t3_l69mob</td>\n",
       "      <td>t3_l69mob</td>\n",
       "      <td>bluerbnd</td>\n",
       "      <td>STFU YOU MORON. YOU COULDN'T SOUND MORE LIKE A...</td>\n",
       "      <td>u</td>\n",
       "      <td>y</td>\n",
       "      <td>🚀 🚀 🚀 🚀</td>\n",
       "    </tr>\n",
       "    <tr>\n",
       "      <th>1820</th>\n",
       "      <td>t3_l7kdww</td>\n",
       "      <td>t1_gl7812t</td>\n",
       "      <td>_HeyItsMyName_</td>\n",
       "      <td>Think of the bright side. I’m not an OG in any...</td>\n",
       "      <td>u</td>\n",
       "      <td>u</td>\n",
       "      <td>NaN</td>\n",
       "    </tr>\n",
       "    <tr>\n",
       "      <th>1977</th>\n",
       "      <td>t3_l8pegt</td>\n",
       "      <td>t1_gle4tf6</td>\n",
       "      <td>AdDecent8021</td>\n",
       "      <td>There will be no sell button for GME in my life</td>\n",
       "      <td>m</td>\n",
       "      <td>y</td>\n",
       "      <td>NaN</td>\n",
       "    </tr>\n",
       "  </tbody>\n",
       "</table>\n",
       "</div>"
      ],
      "text/plain": [
       "        link_id   parent_id            User  \\\n",
       "3636  t3_lnqdke  t1_go5ozs6       Aliienate   \n",
       "3995  t3_kbp0eu   t3_kbp0eu       wolfiasty   \n",
       "1974  t3_l69mob   t3_l69mob        bluerbnd   \n",
       "1820  t3_l7kdww  t1_gl7812t  _HeyItsMyName_   \n",
       "1977  t3_l8pegt  t1_gle4tf6    AdDecent8021   \n",
       "\n",
       "                                                   Text Intent Support  \\\n",
       "3636  Sold 5c mar 19 SNDL at peak and cut my cost ba...      u       u   \n",
       "3995         I'm locked with GME. Good luck to us both.      y       u   \n",
       "1974  STFU YOU MORON. YOU COULDN'T SOUND MORE LIKE A...      u       y   \n",
       "1820  Think of the bright side. I’m not an OG in any...      u       u   \n",
       "1977    There will be no sell button for GME in my life      m       y   \n",
       "\n",
       "     emoji_text  \n",
       "3636        NaN  \n",
       "3995        NaN  \n",
       "1974    🚀 🚀 🚀 🚀  \n",
       "1820        NaN  \n",
       "1977        NaN  "
      ]
     },
     "execution_count": 7,
     "metadata": {},
     "output_type": "execute_result"
    }
   ],
   "source": [
    "df.sample(5)"
   ]
  },
  {
   "cell_type": "markdown",
   "metadata": {},
   "source": [
    "I am going to exclude information and unclear from the dataset. negative will be assugned rating 0, and positive will be assigned trating 1.  "
   ]
  },
  {
   "cell_type": "code",
   "execution_count": 8,
   "metadata": {},
   "outputs": [
    {
     "data": {
      "text/html": [
       "<div>\n",
       "<style scoped>\n",
       "    .dataframe tbody tr th:only-of-type {\n",
       "        vertical-align: middle;\n",
       "    }\n",
       "\n",
       "    .dataframe tbody tr th {\n",
       "        vertical-align: top;\n",
       "    }\n",
       "\n",
       "    .dataframe thead th {\n",
       "        text-align: right;\n",
       "    }\n",
       "</style>\n",
       "<table border=\"1\" class=\"dataframe\">\n",
       "  <thead>\n",
       "    <tr style=\"text-align: right;\">\n",
       "      <th></th>\n",
       "      <th>link_id</th>\n",
       "      <th>parent_id</th>\n",
       "      <th>User</th>\n",
       "      <th>Text</th>\n",
       "      <th>Intent</th>\n",
       "      <th>Support</th>\n",
       "      <th>emoji_text</th>\n",
       "    </tr>\n",
       "  </thead>\n",
       "  <tbody>\n",
       "    <tr>\n",
       "      <th>0</th>\n",
       "      <td>t3_l71j1l</td>\n",
       "      <td>t1_gl43z92</td>\n",
       "      <td>chasetate27</td>\n",
       "      <td>GME &amp;amp; BB are not on cashapp but AMC &amp;amp; ...</td>\n",
       "      <td>0</td>\n",
       "      <td>0</td>\n",
       "      <td>NaN</td>\n",
       "    </tr>\n",
       "    <tr>\n",
       "      <th>1</th>\n",
       "      <td>t3_ki3745</td>\n",
       "      <td>t3_ki3745</td>\n",
       "      <td>pmd5700</td>\n",
       "      <td>Oh GME, you tease!</td>\n",
       "      <td>0</td>\n",
       "      <td>0</td>\n",
       "      <td>NaN</td>\n",
       "    </tr>\n",
       "    <tr>\n",
       "      <th>2</th>\n",
       "      <td>t3_la75n9</td>\n",
       "      <td>t3_la75n9</td>\n",
       "      <td>PigLizzard</td>\n",
       "      <td>Dump gme, amc, nok, and bb so we can all buy s...</td>\n",
       "      <td>0</td>\n",
       "      <td>1</td>\n",
       "      <td>NaN</td>\n",
       "    </tr>\n",
       "    <tr>\n",
       "      <th>3</th>\n",
       "      <td>t3_lw6hoh</td>\n",
       "      <td>t1_gpfpvtf</td>\n",
       "      <td>anono87</td>\n",
       "      <td>Not a single decent double down posted? 9 bill...</td>\n",
       "      <td>0</td>\n",
       "      <td>0</td>\n",
       "      <td>NaN</td>\n",
       "    </tr>\n",
       "    <tr>\n",
       "      <th>4</th>\n",
       "      <td>t3_l9xqem</td>\n",
       "      <td>t3_l9xqem</td>\n",
       "      <td>gluino</td>\n",
       "      <td>Just got into $GME @ 220.</td>\n",
       "      <td>0</td>\n",
       "      <td>0</td>\n",
       "      <td>NaN</td>\n",
       "    </tr>\n",
       "  </tbody>\n",
       "</table>\n",
       "</div>"
      ],
      "text/plain": [
       "     link_id   parent_id         User  \\\n",
       "0  t3_l71j1l  t1_gl43z92  chasetate27   \n",
       "1  t3_ki3745   t3_ki3745      pmd5700   \n",
       "2  t3_la75n9   t3_la75n9   PigLizzard   \n",
       "3  t3_lw6hoh  t1_gpfpvtf      anono87   \n",
       "4  t3_l9xqem   t3_l9xqem       gluino   \n",
       "\n",
       "                                                Text  Intent  Support  \\\n",
       "0  GME &amp; BB are not on cashapp but AMC &amp; ...       0        0   \n",
       "1                                 Oh GME, you tease!       0        0   \n",
       "2  Dump gme, amc, nok, and bb so we can all buy s...       0        1   \n",
       "3  Not a single decent double down posted? 9 bill...       0        0   \n",
       "4                          Just got into $GME @ 220.       0        0   \n",
       "\n",
       "  emoji_text  \n",
       "0        NaN  \n",
       "1        NaN  \n",
       "2        NaN  \n",
       "3        NaN  \n",
       "4        NaN  "
      ]
     },
     "execution_count": 8,
     "metadata": {},
     "output_type": "execute_result"
    }
   ],
   "source": [
    "# Two options together\n",
    "#df['Intent'] = np.where((df['Intent'] == 'y')  | (df['Intent'] == 'm'), 1, 0)\n",
    "#df['Support'] = np.where((df['Support'] == 'y') | (df['Intent'] == 'm'), 1, 0)\n",
    "\n",
    "# Only one option\n",
    "df['Intent'] = np.where((df['Intent'] == 'n'), 1, 0)\n",
    "df['Support'] = np.where((df['Support'] == 'n'),1, 0)\n",
    "\n",
    "df.head()"
   ]
  },
  {
   "cell_type": "code",
   "execution_count": 9,
   "metadata": {},
   "outputs": [
    {
     "data": {
      "text/plain": [
       "Intent\n",
       "0    4913\n",
       "1      83\n",
       "Name: count, dtype: int64"
      ]
     },
     "execution_count": 9,
     "metadata": {},
     "output_type": "execute_result"
    }
   ],
   "source": [
    "df['Intent'].value_counts()"
   ]
  },
  {
   "cell_type": "code",
   "execution_count": 10,
   "metadata": {},
   "outputs": [
    {
     "data": {
      "text/plain": [
       "Support\n",
       "0    4704\n",
       "1     292\n",
       "Name: count, dtype: int64"
      ]
     },
     "execution_count": 10,
     "metadata": {},
     "output_type": "execute_result"
    }
   ],
   "source": [
    "df['Support'].value_counts()"
   ]
  },
  {
   "cell_type": "code",
   "execution_count": 11,
   "metadata": {},
   "outputs": [
    {
     "data": {
      "image/png": "[encoded data removed]",
      "text/plain": [
       "<Figure size 300x300 with 1 Axes>"
      ]
     },
     "metadata": {},
     "output_type": "display_data"
    },
    {
     "name": "stdout",
     "output_type": "stream",
     "text": [
      "Class imbalance: [0.98 0.02]\n"
     ]
    }
   ],
   "source": [
    "values, counts = np.unique(df['Intent'], return_counts=True)\n",
    "normalized_counts = counts / counts.sum()\n",
    "\n",
    "plt.figure(figsize=(3, 3))\n",
    "plt.bar(values, normalized_counts * 100)\n",
    "plt.xlabel('Intent Rating')\n",
    "plt.ylabel('% of posts')\n",
    "plt.title(\"Rating distribution\")\n",
    "plt.show()\n",
    "\n",
    "\n",
    "print(f\"Class imbalance: {np.round(normalized_counts, 2)}\")"
   ]
  },
  {
   "cell_type": "code",
   "execution_count": 12,
   "metadata": {},
   "outputs": [
    {
     "data": {
      "image/png": "[encoded data removed]",
      "text/plain": [
       "<Figure size 300x300 with 1 Axes>"
      ]
     },
     "metadata": {},
     "output_type": "display_data"
    },
    {
     "name": "stdout",
     "output_type": "stream",
     "text": [
      "Class imbalance: [0.94 0.06]\n"
     ]
    }
   ],
   "source": [
    "values, counts = np.unique(df['Support'], return_counts=True)\n",
    "normalized_counts = counts / counts.sum()\n",
    "\n",
    "plt.figure(figsize=(3, 3))\n",
    "plt.bar(values, normalized_counts * 100)\n",
    "plt.xlabel('Support Rating')\n",
    "plt.ylabel('% of posts')\n",
    "plt.title(\"Rating distribution\")\n",
    "plt.show()\n",
    "print(f\"Class imbalance: {np.round(normalized_counts, 2)}\")"
   ]
  },
  {
   "cell_type": "markdown",
   "metadata": {},
   "source": [
    "### 2.1.1. Custom Tokenization function"
   ]
  },
  {
   "cell_type": "code",
   "execution_count": 13,
   "metadata": {},
   "outputs": [],
   "source": [
    "#Load up our stop words from NLTK\n",
    "stop_words = stopwords.words('english')\n",
    "\n",
    "# Additional custom stopwords to add\n",
    "custom_stopwords = ['gamestop', 'gme', 'game']\n",
    "\n",
    "# Extend the NLTK stopwords list with custom stopwords\n",
    "stop_words.extend(custom_stopwords)"
   ]
  },
  {
   "cell_type": "code",
   "execution_count": 14,
   "metadata": {},
   "outputs": [],
   "source": [
    "# Defining my tokenisation function\n",
    "def my_tokenizer(document, lemmatization=True, stemming=False):\n",
    "    '''\n",
    "    Function for use in Vectorizer that tokenizes the document.\n",
    "    \n",
    "    Parameters:\n",
    "    - document: The text to be tokenized.\n",
    "    - lemmatization: If True, perform lemmatization.\n",
    "    - stemming: If True, perform stemming.\n",
    "    \n",
    "    Returns:\n",
    "    - A list of tokens.\n",
    "    '''\n",
    "    \n",
    "    # Replace newline characters with an empty string\n",
    "    document = document.replace(\"\\n\", \"\")\n",
    "\n",
    "    # Replace non-alphabetic characters with a space\n",
    "    document = re.sub(r\"[^a-zA-Z]\", \" \", document)\n",
    "\n",
    "    # Replace multiple spaces with a single space\n",
    "    document = re.sub(r\"\\s+\", \" \", document)\n",
    "\n",
    "    # Strip leading and trailing spaces\n",
    "    document = document.strip()\n",
    "\n",
    "    # tokenize - split on whitespace\n",
    "    tokenized_document = document.split(' ')\n",
    "\n",
    "    # remove stopwords before stemming or lemmatization\n",
    "    tokenized_document = [word for word in tokenized_document if word.lower() not in stop_words]\n",
    "\n",
    "    # Perform stemming if set to True\n",
    "    if stemming:\n",
    "        stemmer = PorterStemmer()\n",
    "        tokenized_document = [stemmer.stem(word) for word in tokenized_document]\n",
    "\n",
    "    # Perform lemmatization if set to True\n",
    "    if lemmatization:\n",
    "        lemmatizer = WordNetLemmatizer()\n",
    "        tokenized_document = [lemmatizer.lemmatize(word) for word in tokenized_document]\n",
    "\n",
    "    return tokenized_document\n",
    "\n",
    "\n",
    "#EXTRA\n",
    "#to modify the default parameters of my_tokenizer_pattern we can use a lambda function in-place:\n",
    "#count_vectorizer = CountVectorizer(tokenizer=lambda document: my_tokenizer(document, lemmatization=True, stemming=False))\n",
    "\n",
    "#what if we only wanted to extract letters, without numeric characters\n",
    "#consider changing the pattern to pattern=r\"(?u)\\b[a-zA-Z][a-zA-Z]+\\b\""
   ]
  },
  {
   "cell_type": "markdown",
   "metadata": {},
   "source": [
    "### Train test split"
   ]
  },
  {
   "cell_type": "code",
   "execution_count": 15,
   "metadata": {},
   "outputs": [
    {
     "data": {
      "text/plain": [
       "(3996,)"
      ]
     },
     "execution_count": 15,
     "metadata": {},
     "output_type": "execute_result"
    }
   ],
   "source": [
    "# store simplified data in X and y\n",
    "X = df['Text']\n",
    "y = df['Intent']\n",
    "\n",
    "# splitting our data into train and test sets\n",
    "from sklearn.model_selection import train_test_split\n",
    "\n",
    "X_train, X_test, y_train, y_test = train_test_split(X, y, test_size=0.2, random_state=99, stratify=y)\n",
    "\n",
    "# size of training data\n",
    "X_train.shape"
   ]
  },
  {
   "cell_type": "markdown",
   "metadata": {},
   "source": [
    "## 2.2. Vectorisation "
   ]
  },
  {
   "cell_type": "code",
   "execution_count": 16,
   "metadata": {},
   "outputs": [
    {
     "name": "stderr",
     "output_type": "stream",
     "text": [
      "/Users/lgfolder/anaconda3/envs/myenv2/lib/python3.8/site-packages/sklearn/feature_extraction/text.py:525: UserWarning: The parameter 'token_pattern' will not be used since 'tokenizer' is not None'\n",
      "  warnings.warn(\n"
     ]
    },
    {
     "name": "stdout",
     "output_type": "stream",
     "text": [
      "(3996, 1000)\n"
     ]
    }
   ],
   "source": [
    "# Initialise a CountVectorizer object\n",
    "count_vectorizer = CountVectorizer(tokenizer=my_tokenizer,\n",
    "                                   stop_words=stop_words, # using stop words list that has been customised\n",
    "                                   min_df=10, \n",
    "                                   ngram_range=(1,3), \n",
    "                                   max_features=1000)\n",
    "\n",
    "# Preprocess the stop words with the custom tokenizer logic (if applicable)\n",
    "processed_stop_words = set(my_tokenizer(' '.join(stop_words)))\n",
    "\n",
    "# Fit the CountVectorizer object on X_train\n",
    "count_vectorizer.fit(X_train)\n",
    "\n",
    "# Fit the CountVectorizer object on X_train\n",
    "X_matrix_train = count_vectorizer.transform(X_train)\n",
    "\n",
    "print(X_matrix_train.shape);"
   ]
  },
  {
   "cell_type": "code",
   "execution_count": 17,
   "metadata": {},
   "outputs": [
    {
     "name": "stdout",
     "output_type": "stream",
     "text": [
      "The most common words and their counts are:\n"
     ]
    },
    {
     "data": {
      "text/html": [
       "<div>\n",
       "<style scoped>\n",
       "    .dataframe tbody tr th:only-of-type {\n",
       "        vertical-align: middle;\n",
       "    }\n",
       "\n",
       "    .dataframe tbody tr th {\n",
       "        vertical-align: top;\n",
       "    }\n",
       "\n",
       "    .dataframe thead th {\n",
       "        text-align: right;\n",
       "    }\n",
       "</style>\n",
       "<table border=\"1\" class=\"dataframe\">\n",
       "  <thead>\n",
       "    <tr style=\"text-align: right;\">\n",
       "      <th></th>\n",
       "      <th>counts</th>\n",
       "    </tr>\n",
       "  </thead>\n",
       "  <tbody>\n",
       "    <tr>\n",
       "      <th>optimistic</th>\n",
       "      <td>1727</td>\n",
       "    </tr>\n",
       "    <tr>\n",
       "      <th>super</th>\n",
       "      <td>1640</td>\n",
       "    </tr>\n",
       "    <tr>\n",
       "      <th>super optimistic</th>\n",
       "      <td>1628</td>\n",
       "    </tr>\n",
       "    <tr>\n",
       "      <th>optimistic super</th>\n",
       "      <td>1217</td>\n",
       "    </tr>\n",
       "    <tr>\n",
       "      <th>optimistic super optimistic</th>\n",
       "      <td>1217</td>\n",
       "    </tr>\n",
       "    <tr>\n",
       "      <th>super optimistic super</th>\n",
       "      <td>1205</td>\n",
       "    </tr>\n",
       "    <tr>\n",
       "      <th>buy</th>\n",
       "      <td>786</td>\n",
       "    </tr>\n",
       "    <tr>\n",
       "      <th>stock</th>\n",
       "      <td>727</td>\n",
       "    </tr>\n",
       "    <tr>\n",
       "      <th>investor</th>\n",
       "      <td>726</td>\n",
       "    </tr>\n",
       "    <tr>\n",
       "      <th>share</th>\n",
       "      <td>707</td>\n",
       "    </tr>\n",
       "    <tr>\n",
       "      <th>patient</th>\n",
       "      <td>642</td>\n",
       "    </tr>\n",
       "    <tr>\n",
       "      <th>patient investor</th>\n",
       "      <td>637</td>\n",
       "    </tr>\n",
       "    <tr>\n",
       "      <th>amc</th>\n",
       "      <td>560</td>\n",
       "    </tr>\n",
       "    <tr>\n",
       "      <th>like</th>\n",
       "      <td>535</td>\n",
       "    </tr>\n",
       "    <tr>\n",
       "      <th>short</th>\n",
       "      <td>492</td>\n",
       "    </tr>\n",
       "    <tr>\n",
       "      <th>get</th>\n",
       "      <td>423</td>\n",
       "    </tr>\n",
       "    <tr>\n",
       "      <th>money</th>\n",
       "      <td>399</td>\n",
       "    </tr>\n",
       "    <tr>\n",
       "      <th>hold</th>\n",
       "      <td>392</td>\n",
       "    </tr>\n",
       "    <tr>\n",
       "      <th>people</th>\n",
       "      <td>386</td>\n",
       "    </tr>\n",
       "    <tr>\n",
       "      <th>go</th>\n",
       "      <td>376</td>\n",
       "    </tr>\n",
       "  </tbody>\n",
       "</table>\n",
       "</div>"
      ],
      "text/plain": [
       "                             counts\n",
       "optimistic                     1727\n",
       "super                          1640\n",
       "super optimistic               1628\n",
       "optimistic super               1217\n",
       "optimistic super optimistic    1217\n",
       "super optimistic super         1205\n",
       "buy                             786\n",
       "stock                           727\n",
       "investor                        726\n",
       "share                           707\n",
       "patient                         642\n",
       "patient investor                637\n",
       "amc                             560\n",
       "like                            535\n",
       "short                           492\n",
       "get                             423\n",
       "money                           399\n",
       "hold                            392\n",
       "people                          386\n",
       "go                              376"
      ]
     },
     "execution_count": 17,
     "metadata": {},
     "output_type": "execute_result"
    }
   ],
   "source": [
    "# sum all the rows for each feature\n",
    "word_counts = pd.DataFrame(\n",
    "        {\"counts\": np.array(X_matrix_train.sum(axis=0)).flatten()},\n",
    "        index=count_vectorizer.get_feature_names_out()).sort_values(\"counts\", ascending=False)\n",
    "\n",
    "print('The most common words and their counts are:')\n",
    "word_counts[:20]"
   ]
  },
  {
   "cell_type": "code",
   "execution_count": 18,
   "metadata": {},
   "outputs": [
    {
     "data": {
      "text/html": [
       "<div>\n",
       "<style scoped>\n",
       "    .dataframe tbody tr th:only-of-type {\n",
       "        vertical-align: middle;\n",
       "    }\n",
       "\n",
       "    .dataframe tbody tr th {\n",
       "        vertical-align: top;\n",
       "    }\n",
       "\n",
       "    .dataframe thead th {\n",
       "        text-align: right;\n",
       "    }\n",
       "</style>\n",
       "<table border=\"1\" class=\"dataframe\">\n",
       "  <thead>\n",
       "    <tr style=\"text-align: right;\">\n",
       "      <th></th>\n",
       "      <th>able</th>\n",
       "      <th>absolutely</th>\n",
       "      <th>access</th>\n",
       "      <th>account</th>\n",
       "      <th>action</th>\n",
       "      <th>actual</th>\n",
       "      <th>actually</th>\n",
       "      <th>add</th>\n",
       "      <th>advice</th>\n",
       "      <th>advisor</th>\n",
       "      <th>...</th>\n",
       "      <th>wtf</th>\n",
       "      <th>x</th>\n",
       "      <th>ya</th>\n",
       "      <th>yeah</th>\n",
       "      <th>year</th>\n",
       "      <th>yes</th>\n",
       "      <th>yesterday</th>\n",
       "      <th>yet</th>\n",
       "      <th>yolo</th>\n",
       "      <th>zero</th>\n",
       "    </tr>\n",
       "  </thead>\n",
       "  <tbody>\n",
       "    <tr>\n",
       "      <th>0</th>\n",
       "      <td>0</td>\n",
       "      <td>0</td>\n",
       "      <td>0</td>\n",
       "      <td>0</td>\n",
       "      <td>0</td>\n",
       "      <td>0</td>\n",
       "      <td>0</td>\n",
       "      <td>0</td>\n",
       "      <td>0</td>\n",
       "      <td>0</td>\n",
       "      <td>...</td>\n",
       "      <td>0</td>\n",
       "      <td>0</td>\n",
       "      <td>0</td>\n",
       "      <td>0</td>\n",
       "      <td>0</td>\n",
       "      <td>0</td>\n",
       "      <td>0</td>\n",
       "      <td>0</td>\n",
       "      <td>0</td>\n",
       "      <td>0</td>\n",
       "    </tr>\n",
       "    <tr>\n",
       "      <th>1</th>\n",
       "      <td>0</td>\n",
       "      <td>0</td>\n",
       "      <td>0</td>\n",
       "      <td>0</td>\n",
       "      <td>0</td>\n",
       "      <td>0</td>\n",
       "      <td>0</td>\n",
       "      <td>0</td>\n",
       "      <td>0</td>\n",
       "      <td>0</td>\n",
       "      <td>...</td>\n",
       "      <td>0</td>\n",
       "      <td>0</td>\n",
       "      <td>0</td>\n",
       "      <td>0</td>\n",
       "      <td>0</td>\n",
       "      <td>0</td>\n",
       "      <td>0</td>\n",
       "      <td>0</td>\n",
       "      <td>0</td>\n",
       "      <td>0</td>\n",
       "    </tr>\n",
       "    <tr>\n",
       "      <th>2</th>\n",
       "      <td>0</td>\n",
       "      <td>0</td>\n",
       "      <td>0</td>\n",
       "      <td>0</td>\n",
       "      <td>0</td>\n",
       "      <td>0</td>\n",
       "      <td>0</td>\n",
       "      <td>0</td>\n",
       "      <td>0</td>\n",
       "      <td>0</td>\n",
       "      <td>...</td>\n",
       "      <td>0</td>\n",
       "      <td>0</td>\n",
       "      <td>0</td>\n",
       "      <td>0</td>\n",
       "      <td>0</td>\n",
       "      <td>0</td>\n",
       "      <td>0</td>\n",
       "      <td>0</td>\n",
       "      <td>0</td>\n",
       "      <td>0</td>\n",
       "    </tr>\n",
       "    <tr>\n",
       "      <th>3</th>\n",
       "      <td>0</td>\n",
       "      <td>0</td>\n",
       "      <td>0</td>\n",
       "      <td>0</td>\n",
       "      <td>0</td>\n",
       "      <td>0</td>\n",
       "      <td>0</td>\n",
       "      <td>0</td>\n",
       "      <td>0</td>\n",
       "      <td>0</td>\n",
       "      <td>...</td>\n",
       "      <td>0</td>\n",
       "      <td>0</td>\n",
       "      <td>0</td>\n",
       "      <td>0</td>\n",
       "      <td>0</td>\n",
       "      <td>0</td>\n",
       "      <td>0</td>\n",
       "      <td>0</td>\n",
       "      <td>0</td>\n",
       "      <td>0</td>\n",
       "    </tr>\n",
       "    <tr>\n",
       "      <th>4</th>\n",
       "      <td>0</td>\n",
       "      <td>0</td>\n",
       "      <td>0</td>\n",
       "      <td>0</td>\n",
       "      <td>0</td>\n",
       "      <td>0</td>\n",
       "      <td>0</td>\n",
       "      <td>0</td>\n",
       "      <td>0</td>\n",
       "      <td>0</td>\n",
       "      <td>...</td>\n",
       "      <td>0</td>\n",
       "      <td>0</td>\n",
       "      <td>0</td>\n",
       "      <td>0</td>\n",
       "      <td>0</td>\n",
       "      <td>0</td>\n",
       "      <td>0</td>\n",
       "      <td>0</td>\n",
       "      <td>0</td>\n",
       "      <td>0</td>\n",
       "    </tr>\n",
       "  </tbody>\n",
       "</table>\n",
       "<p>5 rows × 1000 columns</p>\n",
       "</div>"
      ],
      "text/plain": [
       "   able  absolutely  access  account  action  actual  actually  add  advice  \\\n",
       "0     0           0       0        0       0       0         0    0       0   \n",
       "1     0           0       0        0       0       0         0    0       0   \n",
       "2     0           0       0        0       0       0         0    0       0   \n",
       "3     0           0       0        0       0       0         0    0       0   \n",
       "4     0           0       0        0       0       0         0    0       0   \n",
       "\n",
       "   advisor  ...  wtf  x  ya  yeah  year  yes  yesterday  yet  yolo  zero  \n",
       "0        0  ...    0  0   0     0     0    0          0    0     0     0  \n",
       "1        0  ...    0  0   0     0     0    0          0    0     0     0  \n",
       "2        0  ...    0  0   0     0     0    0          0    0     0     0  \n",
       "3        0  ...    0  0   0     0     0    0          0    0     0     0  \n",
       "4        0  ...    0  0   0     0     0    0          0    0     0     0  \n",
       "\n",
       "[5 rows x 1000 columns]"
      ]
     },
     "execution_count": 18,
     "metadata": {},
     "output_type": "execute_result"
    }
   ],
   "source": [
    "#toarray() method converts sparse matrix to a DataFrame\n",
    "pd.DataFrame(X_matrix_train.toarray(),columns=count_vectorizer.get_feature_names_out()).head()"
   ]
  },
  {
   "cell_type": "code",
   "execution_count": 19,
   "metadata": {},
   "outputs": [
    {
     "data": {
      "image/png": "[encoded data removed]",
      "text/plain": [
       "<Figure size 600x400 with 1 Axes>"
      ]
     },
     "metadata": {},
     "output_type": "display_data"
    }
   ],
   "source": [
    "word_counts[:20].plot(kind='barh',title='Counts of the most common words')\n",
    "plt.show()"
   ]
  },
  {
   "cell_type": "markdown",
   "metadata": {},
   "source": [
    "Observations:  \n",
    "\n",
    "* The list of words assocaited with neagtive reviews is quite revealing. \n",
    "* Customers clearly dislike unclean small rooms, tired decor, rude staff, poor breakfast selection, expensive hotels where quality does not match the price, broken amenities, noise and poor service."
   ]
  },
  {
   "cell_type": "markdown",
   "metadata": {},
   "source": [
    "### SMOTE sampling due to imbalance"
   ]
  },
  {
   "cell_type": "code",
   "execution_count": 20,
   "metadata": {},
   "outputs": [],
   "source": [
    "# instantiate SMOTE sampler, fit it to the training data, then resample the data\n",
    "X_train_sm, y_train_sm = SMOTE(random_state=1).fit_resample(X_matrix_train, y_train)"
   ]
  },
  {
   "cell_type": "code",
   "execution_count": 21,
   "metadata": {},
   "outputs": [
    {
     "name": "stdout",
     "output_type": "stream",
     "text": [
      "Original class distribution\n"
     ]
    },
    {
     "data": {
      "text/plain": [
       "Intent\n",
       "0    3930\n",
       "1      66\n",
       "Name: count, dtype: int64"
      ]
     },
     "metadata": {},
     "output_type": "display_data"
    },
    {
     "name": "stdout",
     "output_type": "stream",
     "text": [
      "\n",
      "Resampled class distribution\n"
     ]
    },
    {
     "data": {
      "text/plain": [
       "Intent\n",
       "0    3930\n",
       "1    3930\n",
       "Name: count, dtype: int64"
      ]
     },
     "metadata": {},
     "output_type": "display_data"
    }
   ],
   "source": [
    "# check what SMOTE has done\n",
    "\n",
    "print('Original class distribution')\n",
    "display(pd.Series(y_train).value_counts().sort_index())\n",
    "\n",
    "print('\\nResampled class distribution')\n",
    "display(pd.Series(y_train_sm).value_counts().sort_index())"
   ]
  },
  {
   "cell_type": "code",
   "execution_count": 22,
   "metadata": {},
   "outputs": [],
   "source": [
    "# scale the sampled train data and the unsampled test data\n",
    "#ss_sm = StandardScaler().fit(X_train_sm)\n",
    "#X_train_sm_ss = ss_sm.transform(X_train_sm)\n",
    "#X_test_ss = ss_sm.transform(X_test)"
   ]
  },
  {
   "cell_type": "markdown",
   "metadata": {},
   "source": [
    "## 2.3. Simple Logistic Regression"
   ]
  },
  {
   "cell_type": "markdown",
   "metadata": {},
   "source": [
    "Now that we are happy with the number of features, let's fit a classification model and preprocess the test set"
   ]
  },
  {
   "cell_type": "code",
   "execution_count": 23,
   "metadata": {},
   "outputs": [
    {
     "data": {
      "text/plain": [
       "(1000, 1000)"
      ]
     },
     "execution_count": 23,
     "metadata": {},
     "output_type": "execute_result"
    }
   ],
   "source": [
    "X_matrix_test = count_vectorizer.transform(X_test)\n",
    "X_matrix_test.shape"
   ]
  },
  {
   "cell_type": "code",
   "execution_count": 24,
   "metadata": {},
   "outputs": [
    {
     "name": "stdout",
     "output_type": "stream",
     "text": [
      "Train set accuracy 0.99\n",
      "Test set accuracy 0.98\n",
      "Classification Report:\n",
      "              precision    recall  f1-score   support\n",
      "\n",
      "           0       0.98      1.00      0.99       983\n",
      "           1       0.33      0.06      0.10        17\n",
      "\n",
      "    accuracy                           0.98      1000\n",
      "   macro avg       0.66      0.53      0.55      1000\n",
      "weighted avg       0.97      0.98      0.98      1000\n",
      "\n",
      "Confusion Matrix:\n",
      "[[981   2]\n",
      " [ 16   1]]\n"
     ]
    }
   ],
   "source": [
    "logistic_model=LogisticRegression(solver='liblinear', max_iter=1000) # Using liblinear solver - good for small datasets\n",
    "logistic_model.fit(X_matrix_train,y_train)\n",
    "print(f\"Train set accuracy {logistic_model.score(X_matrix_train,y_train):.2f}\")\n",
    "print(f\"Test set accuracy {logistic_model.score(X_matrix_test,y_test):.2f}\")\n",
    "\n",
    "# Make predictions on the test set\n",
    "test_predictions = logistic_model.predict(X_matrix_test)\n",
    "\n",
    "# Print classification report\n",
    "print(\"Classification Report:\")\n",
    "print(classification_report(y_test, test_predictions))\n",
    "\n",
    "# Print confusion matrix\n",
    "print(\"Confusion Matrix:\")\n",
    "print(confusion_matrix(y_test, test_predictions))"
   ]
  },
  {
   "cell_type": "markdown",
   "metadata": {},
   "source": [
    "* Note, train scores can also be used as one of the metrics to select the optimal min_df & max_df parameters\n",
    "* Now we can use the model object to access and specifically its **coef_** amd **feature_names_in_** attributes to plot which tokens have the greatest predictive power of negative and postiive reviews\n",
    "    * Note this approach is only going to work if the model was fitted on a dataframe with the correct feature names, if an array was used, feature names can be extracted from the vectorizer used previously"
   ]
  },
  {
   "cell_type": "code",
   "execution_count": 25,
   "metadata": {},
   "outputs": [
    {
     "data": {
      "image/png": "[encoded data removed]",
      "text/plain": [
       "<Figure size 600x400 with 1 Axes>"
      ]
     },
     "metadata": {},
     "output_type": "display_data"
    }
   ],
   "source": [
    "# probabilistic prediction\n",
    "y_test_proba = logistic_model.predict_proba(X_matrix_test)[:,1] # probabilities of data points being in the positive class\n",
    "\n",
    "# ROC arrays\n",
    "fprs, tprs, thresholds = roc_curve(y_test, y_test_proba)\n",
    "\n",
    "# AUC\n",
    "roc_auc = roc_auc_score(y_test, y_test_proba)\n",
    "\n",
    "# plot\n",
    "plt.figure()\n",
    "sns.lineplot(x=fprs, y=tprs, color='red', lw=2, label=f'ROC (AUC = {roc_auc:0.2f})')  # Corrected line\n",
    "sns.lineplot(x=[0, 1], y=[0, 1], color='black', lw=2, linestyle='--', label='Random guess')  # Corrected line and added linestyle for clarity\n",
    "\n",
    "plt.xlabel('False Positive Rate (FPR)')\n",
    "plt.ylabel('True Positive Rate (Recall or TPR)')\n",
    "plt.title('ROC Curve for Intent Prediction')\n",
    "plt.legend(loc='best')\n",
    "plt.show()"
   ]
  },
  {
   "cell_type": "markdown",
   "metadata": {},
   "source": [
    "Remember what the threshold is - if the probabilistic prediction of a data point being in the positive class is at or greater than x threshold, then our hard classifier will assign that data point to the positive class.  e.g. if our threshold is 0.3, and the probability of a data point being in the positive class is 0.4, then the hard classification is that the data point is positive.\n",
    "\n",
    "Remember what the ROC curve represents - \"if I were to set my threshold at x, then our model would have a TPR of y, but we would have to live with an FPR of z\".\n",
    "- **A threshold of 0 is the point at the top right of the ROC curve** - we are intentionally classifying every data point as positive, thus we correctly classify all the true positive data points ($TPR = 100\\%$) but fail to correctly classify any of the true negative data points ($FPR = 100\\%$)\n",
    "- **A threshold of 1 is the point at the bottom left of the curve** - we are intentionally classifying every data point as negative, thus we correctly classify all the true negative data points ($FPR = 0\\%$) but fail to correctly classify any of the true positive data points ($TPR = 0\\%$)"
   ]
  },
  {
   "cell_type": "code",
   "execution_count": 26,
   "metadata": {},
   "outputs": [
    {
     "name": "stdout",
     "output_type": "stream",
     "text": [
      "Train set accuracy after SMOTE 0.94\n",
      "Test set accuracy after SMOTE 0.86\n",
      "Classification Report after SMOTE:\n",
      "              precision    recall  f1-score   support\n",
      "\n",
      "           0       0.98      0.87      0.92       983\n",
      "           1       0.02      0.18      0.04        17\n",
      "\n",
      "    accuracy                           0.86      1000\n",
      "   macro avg       0.50      0.52      0.48      1000\n",
      "weighted avg       0.97      0.86      0.91      1000\n",
      "\n",
      "Confusion Matrix after SMOTE:\n",
      "[[855 128]\n",
      " [ 14   3]]\n"
     ]
    },
    {
     "data": {
      "image/png": "[encoded data removed]",
      "text/plain": [
       "<Figure size 600x400 with 1 Axes>"
      ]
     },
     "metadata": {},
     "output_type": "display_data"
    }
   ],
   "source": [
    "# Logreg with SMOTE\n",
    "\n",
    "# Initialize the logistic regression model\n",
    "logistic_model_sm = LogisticRegression(solver='liblinear', max_iter=1000)\n",
    "\n",
    "# Fit the model on the SMOTE resampled training data\n",
    "logistic_model_sm.fit(X_train_sm, y_train_sm)\n",
    "\n",
    "# Evaluate the model on the original training set\n",
    "print(f\"Train set accuracy after SMOTE {logistic_model_sm.score(X_train_sm, y_train_sm):.2f}\")\n",
    "\n",
    "# Evaluate the model on the test set\n",
    "print(f\"Test set accuracy after SMOTE {logistic_model_sm.score(X_matrix_test, y_test):.2f}\")\n",
    "\n",
    "# Make predictions on the test set using the model trained on SMOTE data\n",
    "test_predictions_sm = logistic_model_sm.predict(X_matrix_test)\n",
    "\n",
    "# Print classification report\n",
    "print(\"Classification Report after SMOTE:\")\n",
    "print(classification_report(y_test, test_predictions_sm))\n",
    "\n",
    "# Print confusion matrix\n",
    "print(\"Confusion Matrix after SMOTE:\")\n",
    "print(confusion_matrix(y_test, test_predictions_sm))\n",
    "\n",
    "# Get probabilistic predictions\n",
    "y_test_proba_sm = logistic_model_sm.predict_proba(X_matrix_test)[:,1]\n",
    "\n",
    "# ROC arrays\n",
    "fprs_sm, tprs_sm, thresholds_sm = roc_curve(y_test, y_test_proba_sm)\n",
    "\n",
    "# AUC\n",
    "roc_auc_sm = roc_auc_score(y_test, y_test_proba_sm)\n",
    "\n",
    "# Plot\n",
    "plt.figure()\n",
    "sns.lineplot(x=fprs_sm, y=tprs_sm, color='blue', lw=2, label=f'ROC after SMOTE (AUC = {roc_auc_sm:0.2f})')\n",
    "sns.lineplot(x=[0, 1], y=[0, 1], color='black', lw=2, linestyle='--', label='Random guess')\n",
    "\n",
    "plt.xlabel('False Positive Rate (FPR)')\n",
    "plt.ylabel('True Positive Rate (Recall or TPR)')\n",
    "plt.title('ROC Curve after SMOTE for Intent Prediction')\n",
    "plt.legend(loc='best')\n",
    "plt.show()"
   ]
  },
  {
   "cell_type": "markdown",
   "metadata": {},
   "source": [
    "*---------------------------------------------------------------------*\n",
    "### Model Analysis"
   ]
  },
  {
   "cell_type": "code",
   "execution_count": 27,
   "metadata": {},
   "outputs": [
    {
     "name": "stderr",
     "output_type": "stream",
     "text": [
      "/var/folders/j6/lnskfknd3zz28plgqdh6w_4m0000gn/T/ipykernel_87270/2985225999.py:12: UserWarning: FixedFormatter should only be used together with FixedLocator\n",
      "  axs[0].set_xticklabels(coef_df.tail(20)[\"token\"], rotation=45)\n",
      "/var/folders/j6/lnskfknd3zz28plgqdh6w_4m0000gn/T/ipykernel_87270/2985225999.py:17: UserWarning: FixedFormatter should only be used together with FixedLocator\n",
      "  axs[1].set_xticklabels(coef_df.head(20)[\"token\"], rotation=45)\n"
     ]
    },
    {
     "data": {
      "image/png": "[encoded data removed]",
      "text/plain": [
       "<Figure size 800x600 with 2 Axes>"
      ]
     },
     "metadata": {},
     "output_type": "display_data"
    }
   ],
   "source": [
    "def plot_coefs(model):\n",
    "    # Create a DataFrame to store the coefficients and corresponding tokens\n",
    "    coef_df = pd.DataFrame({\"coefficient\": model.coef_[0], \"token\": count_vectorizer.get_feature_names_out()})\n",
    "    # Sort by coefficients\n",
    "    coef_df = coef_df.sort_values(\"coefficient\", ascending=False)\n",
    "\n",
    "    # Create a figure with 2 subplots\n",
    "    fig, axs = plt.subplots(2, 1, figsize=(8, 6))\n",
    "\n",
    "    # Plot tokens indicating negative sentiment with smallest coefficients\n",
    "    axs[0].bar(coef_df.tail(20)[\"token\"], coef_df.tail(20)[\"coefficient\"], color=\"red\")\n",
    "    axs[0].set_xticklabels(coef_df.tail(20)[\"token\"], rotation=45)\n",
    "    axs[0].set_title(\"Negative indicators\")\n",
    "\n",
    "    # Plot tokens indicating positive sentiment with largest coefficients\n",
    "    axs[1].bar(coef_df.head(20)[\"token\"], coef_df.head(20)[\"coefficient\"], color=\"blue\")\n",
    "    axs[1].set_xticklabels(coef_df.head(20)[\"token\"], rotation=45)\n",
    "    axs[1].set_title(\"Positive indicators\")\n",
    "\n",
    "    fig.tight_layout()\n",
    "    plt.show()\n",
    "\n",
    "plot_coefs(logistic_model)"
   ]
  },
  {
   "cell_type": "markdown",
   "metadata": {},
   "source": [
    "Observation:  \n",
    "\n",
    "The model accuracy on test set is close to the accuracy on the train and valildation sets. This is a good sign, as it inidcates there is no problem with overfitting the model.  We have sufficient number of observations to train the model so that when it is faced with unseen test data it still performs well.   "
   ]
  },
  {
   "cell_type": "markdown",
   "metadata": {},
   "source": [
    "## 2.X. Gridsearch for logreg"
   ]
  },
  {
   "cell_type": "code",
   "execution_count": 28,
   "metadata": {},
   "outputs": [],
   "source": [
    "# Pipeline composition, includes preprocessing and the classifier\n",
    "pipeline = Pipeline([\n",
    "    ('tfidf', TfidfVectorizer()),  # Vectorization\n",
    "    ('svd', TruncatedSVD(n_components=100)),  # Dimensionality reduction for sparse data, using SVD instead of PCA for sparse data\n",
    "    ('logr', LogisticRegression(solver='liblinear'))  # Classifier with  liblinear solver - good for small datasets\n",
    "])\n",
    "\n",
    "# Define the hyperparameters space to search\n",
    "param_grid = {\n",
    "    'tfidf__max_df': [0.8, 0.85, 0.9], # this parameter allows to ignore words that appear in more than XX% of the documents. \n",
    "    'tfidf__ngram_range': [(1, 2), (1, 3)], # both unigrams and bigrams will be used as features\n",
    "    'svd__n_components': [200, 250, 300], # reduce the feature space to the top 100 components\n",
    "    'logr__C': [10, 100, 200]\n",
    "}\n",
    "\n",
    "# Set up GridSearchCV to search for the best parameters\n",
    "grid_search = GridSearchCV(pipeline, param_grid, cv=5)\n",
    "\n",
    "# X_train on the raw text data\n",
    "grid_search.fit(X_train, y_train)\n",
    "\n",
    "# After fitting, get the best estimator\n",
    "best_model = grid_search.best_estimator_\n",
    "\n",
    "# Predict the test set using the best model\n",
    "test_predictions = best_model.predict(X_test)\n"
   ]
  },
  {
   "cell_type": "code",
   "execution_count": 29,
   "metadata": {},
   "outputs": [
    {
     "name": "stdout",
     "output_type": "stream",
     "text": [
      "Best hyperparameters: {'logr__C': 200, 'svd__n_components': 200, 'tfidf__max_df': 0.9, 'tfidf__ngram_range': (1, 3)}\n",
      "Test Accuracy: 0.9850\n",
      "Classification Report:\n",
      "              precision    recall  f1-score   support\n",
      "\n",
      "           0       0.98      1.00      0.99       983\n",
      "           1       1.00      0.12      0.21        17\n",
      "\n",
      "    accuracy                           0.98      1000\n",
      "   macro avg       0.99      0.56      0.60      1000\n",
      "weighted avg       0.99      0.98      0.98      1000\n",
      "\n",
      "Confusion Matrix:\n",
      "[[983   0]\n",
      " [ 15   2]]\n"
     ]
    }
   ],
   "source": [
    "# Calculate the accuracy\n",
    "test_accuracy = accuracy_score(y_test, test_predictions)\n",
    "\n",
    "# Print the best hyperparameters\n",
    "print(\"Best hyperparameters:\", grid_search.best_params_)\n",
    "\n",
    "# Print the accuracy\n",
    "print(f\"Test Accuracy: {test_accuracy:.4f}\")\n",
    "\n",
    "# Print classification report\n",
    "print(\"Classification Report:\")\n",
    "print(classification_report(y_test, test_predictions))\n",
    "\n",
    "# Print confusion matrix\n",
    "print(\"Confusion Matrix:\")\n",
    "print(confusion_matrix(y_test, test_predictions))"
   ]
  },
  {
   "cell_type": "code",
   "execution_count": 30,
   "metadata": {},
   "outputs": [],
   "source": [
    "# Importing the best parameters into the pipeline for further export to other notebooks\n",
    "\n",
    "# Extract the best parameters\n",
    "best_params = grid_search.best_params_\n",
    "\n",
    "# Create a new pipeline with the best parameters\n",
    "best_pipeline = Pipeline([\n",
    "    ('tfidf', TfidfVectorizer(max_df=best_params['tfidf__max_df'],\n",
    "                              ngram_range=best_params['tfidf__ngram_range'])),\n",
    "    ('svd', TruncatedSVD(n_components=best_params['svd__n_components'])),\n",
    "    ('logr', LogisticRegression(C=best_params['logr__C'], solver='liblinear'))\n",
    "])\n",
    "\n",
    "# Fit the best pipeline on the full training set\n",
    "best_pipeline.fit(X_train, y_train)\n",
    "\n",
    "# Now you can use best_pipeline to predict, like so:\n",
    "test_predictions = best_pipeline.predict(X_test)"
   ]
  },
  {
   "cell_type": "code",
   "execution_count": 31,
   "metadata": {},
   "outputs": [],
   "source": [
    "# Save the best model using joblib\n",
    "# joblib.dump(best_model, \"../model/labeled_yes_best_linear_grid_search_model.pkl\")\n",
    "# print(\"Best model saved to '../model/labeled_yes_best_linear_grid_search_model.pkl'\")"
   ]
  },
  {
   "cell_type": "code",
   "execution_count": 32,
   "metadata": {},
   "outputs": [
    {
     "data": {
      "text/plain": [
       "['../model/labelled_yes_linear_pipeline.pkl']"
      ]
     },
     "execution_count": 32,
     "metadata": {},
     "output_type": "execute_result"
    }
   ],
   "source": [
    "# Save the best pipline using joblib\n",
    "from joblib import dump\n",
    "dump(best_model, '../model/labelled_yes_linear_pipeline.pkl', compress=True)"
   ]
  },
  {
   "cell_type": "markdown",
   "metadata": {},
   "source": []
  },
  {
   "cell_type": "markdown",
   "metadata": {},
   "source": [
    "## 2.5. Decision Tree Classifier"
   ]
  },
  {
   "cell_type": "markdown",
   "metadata": {},
   "source": [
    "### 2.5.1. Set up a pipeline"
   ]
  },
  {
   "cell_type": "code",
   "execution_count": 33,
   "metadata": {},
   "outputs": [],
   "source": [
    "# PCA does not support sparse input, converting sparce matrix into a dense matrix\n",
    "X_matrix_train_dense = X_matrix_train.toarray()\n",
    "X_matrix_test_dense = X_matrix_test.toarray()"
   ]
  },
  {
   "cell_type": "code",
   "execution_count": 34,
   "metadata": {},
   "outputs": [],
   "source": [
    "# Create a pipeline with PCA and a decision tree classifier\n",
    "pipeline = Pipeline([\n",
    "    ('pca', PCA(n_components=20)),\n",
    "    ('clf', DecisionTreeClassifier())\n",
    "])"
   ]
  },
  {
   "cell_type": "code",
   "execution_count": 35,
   "metadata": {},
   "outputs": [],
   "source": [
    "# Define the hyperparameters\n",
    "param_grid = {\n",
    "    'clf__max_depth': [1,2, 3, 5, 7, 10, 15,20], \n",
    "    'clf__min_samples_split': [2,3,4,5,6,7,8], \n",
    "    'clf__min_samples_leaf': [2,4,5,6,7,8]  \n",
    "}"
   ]
  },
  {
   "cell_type": "markdown",
   "metadata": {},
   "source": [
    "### 2.5.2. Hyperparameter optimization"
   ]
  },
  {
   "cell_type": "markdown",
   "metadata": {},
   "source": [
    "* I use GridSearchCV to search over a specified parameter grid. \n",
    "* I tried to set up Gridsearch to do the pre-processing (Vectorisation) but I could not figure out how to do it. \n",
    "* GridSearchCV will use cross-validation internally, so no need to set up a separate validation set.  "
   ]
  },
  {
   "cell_type": "code",
   "execution_count": 36,
   "metadata": {},
   "outputs": [],
   "source": [
    "# Set up GridSearchCV \n",
    "grid_search = GridSearchCV(pipeline, param_grid, cv=5)"
   ]
  },
  {
   "cell_type": "code",
   "execution_count": 37,
   "metadata": {},
   "outputs": [
    {
     "data": {
      "text/html": [
       "<style>#sk-container-id-1 {color: black;}#sk-container-id-1 pre{padding: 0;}#sk-container-id-1 div.sk-toggleable {background-color: white;}#sk-container-id-1 label.sk-toggleable__label {cursor: pointer;display: block;width: 100%;margin-bottom: 0;padding: 0.3em;box-sizing: border-box;text-align: center;}#sk-container-id-1 label.sk-toggleable__label-arrow:before {content: \"▸\";float: left;margin-right: 0.25em;color: #696969;}#sk-container-id-1 label.sk-toggleable__label-arrow:hover:before {color: black;}#sk-container-id-1 div.sk-estimator:hover label.sk-toggleable__label-arrow:before {color: black;}#sk-container-id-1 div.sk-toggleable__content {max-height: 0;max-width: 0;overflow: hidden;text-align: left;background-color: #f0f8ff;}#sk-container-id-1 div.sk-toggleable__content pre {margin: 0.2em;color: black;border-radius: 0.25em;background-color: #f0f8ff;}#sk-container-id-1 input.sk-toggleable__control:checked~div.sk-toggleable__content {max-height: 200px;max-width: 100%;overflow: auto;}#sk-container-id-1 input.sk-toggleable__control:checked~label.sk-toggleable__label-arrow:before {content: \"▾\";}#sk-container-id-1 div.sk-estimator input.sk-toggleable__control:checked~label.sk-toggleable__label {background-color: #d4ebff;}#sk-container-id-1 div.sk-label input.sk-toggleable__control:checked~label.sk-toggleable__label {background-color: #d4ebff;}#sk-container-id-1 input.sk-hidden--visually {border: 0;clip: rect(1px 1px 1px 1px);clip: rect(1px, 1px, 1px, 1px);height: 1px;margin: -1px;overflow: hidden;padding: 0;position: absolute;width: 1px;}#sk-container-id-1 div.sk-estimator {font-family: monospace;background-color: #f0f8ff;border: 1px dotted black;border-radius: 0.25em;box-sizing: border-box;margin-bottom: 0.5em;}#sk-container-id-1 div.sk-estimator:hover {background-color: #d4ebff;}#sk-container-id-1 div.sk-parallel-item::after {content: \"\";width: 100%;border-bottom: 1px solid gray;flex-grow: 1;}#sk-container-id-1 div.sk-label:hover label.sk-toggleable__label {background-color: #d4ebff;}#sk-container-id-1 div.sk-serial::before {content: \"\";position: absolute;border-left: 1px solid gray;box-sizing: border-box;top: 0;bottom: 0;left: 50%;z-index: 0;}#sk-container-id-1 div.sk-serial {display: flex;flex-direction: column;align-items: center;background-color: white;padding-right: 0.2em;padding-left: 0.2em;position: relative;}#sk-container-id-1 div.sk-item {position: relative;z-index: 1;}#sk-container-id-1 div.sk-parallel {display: flex;align-items: stretch;justify-content: center;background-color: white;position: relative;}#sk-container-id-1 div.sk-item::before, #sk-container-id-1 div.sk-parallel-item::before {content: \"\";position: absolute;border-left: 1px solid gray;box-sizing: border-box;top: 0;bottom: 0;left: 50%;z-index: -1;}#sk-container-id-1 div.sk-parallel-item {display: flex;flex-direction: column;z-index: 1;position: relative;background-color: white;}#sk-container-id-1 div.sk-parallel-item:first-child::after {align-self: flex-end;width: 50%;}#sk-container-id-1 div.sk-parallel-item:last-child::after {align-self: flex-start;width: 50%;}#sk-container-id-1 div.sk-parallel-item:only-child::after {width: 0;}#sk-container-id-1 div.sk-dashed-wrapped {border: 1px dashed gray;margin: 0 0.4em 0.5em 0.4em;box-sizing: border-box;padding-bottom: 0.4em;background-color: white;}#sk-container-id-1 div.sk-label label {font-family: monospace;font-weight: bold;display: inline-block;line-height: 1.2em;}#sk-container-id-1 div.sk-label-container {text-align: center;}#sk-container-id-1 div.sk-container {/* jupyter's `normalize.less` sets `[hidden] { display: none; }` but bootstrap.min.css set `[hidden] { display: none !important; }` so we also need the `!important` here to be able to override the default hidden behavior on the sphinx rendered scikit-learn.org. See: https://github.com/scikit-learn/scikit-learn/issues/21755 */display: inline-block !important;position: relative;}#sk-container-id-1 div.sk-text-repr-fallback {display: none;}</style><div id=\"sk-container-id-1\" class=\"sk-top-container\"><div class=\"sk-text-repr-fallback\"><pre>GridSearchCV(cv=5,\n",
       "             estimator=Pipeline(steps=[(&#x27;pca&#x27;, PCA(n_components=20)),\n",
       "                                       (&#x27;clf&#x27;, DecisionTreeClassifier())]),\n",
       "             param_grid={&#x27;clf__max_depth&#x27;: [1, 2, 3, 5, 7, 10, 15, 20],\n",
       "                         &#x27;clf__min_samples_leaf&#x27;: [2, 4, 5, 6, 7, 8],\n",
       "                         &#x27;clf__min_samples_split&#x27;: [2, 3, 4, 5, 6, 7, 8]})</pre><b>In a Jupyter environment, please rerun this cell to show the HTML representation or trust the notebook. <br />On GitHub, the HTML representation is unable to render, please try loading this page with nbviewer.org.</b></div><div class=\"sk-container\" hidden><div class=\"sk-item sk-dashed-wrapped\"><div class=\"sk-label-container\"><div class=\"sk-label sk-toggleable\"><input class=\"sk-toggleable__control sk-hidden--visually\" id=\"sk-estimator-id-1\" type=\"checkbox\" ><label for=\"sk-estimator-id-1\" class=\"sk-toggleable__label sk-toggleable__label-arrow\">GridSearchCV</label><div class=\"sk-toggleable__content\"><pre>GridSearchCV(cv=5,\n",
       "             estimator=Pipeline(steps=[(&#x27;pca&#x27;, PCA(n_components=20)),\n",
       "                                       (&#x27;clf&#x27;, DecisionTreeClassifier())]),\n",
       "             param_grid={&#x27;clf__max_depth&#x27;: [1, 2, 3, 5, 7, 10, 15, 20],\n",
       "                         &#x27;clf__min_samples_leaf&#x27;: [2, 4, 5, 6, 7, 8],\n",
       "                         &#x27;clf__min_samples_split&#x27;: [2, 3, 4, 5, 6, 7, 8]})</pre></div></div></div><div class=\"sk-parallel\"><div class=\"sk-parallel-item\"><div class=\"sk-item\"><div class=\"sk-label-container\"><div class=\"sk-label sk-toggleable\"><input class=\"sk-toggleable__control sk-hidden--visually\" id=\"sk-estimator-id-2\" type=\"checkbox\" ><label for=\"sk-estimator-id-2\" class=\"sk-toggleable__label sk-toggleable__label-arrow\">estimator: Pipeline</label><div class=\"sk-toggleable__content\"><pre>Pipeline(steps=[(&#x27;pca&#x27;, PCA(n_components=20)),\n",
       "                (&#x27;clf&#x27;, DecisionTreeClassifier())])</pre></div></div></div><div class=\"sk-serial\"><div class=\"sk-item\"><div class=\"sk-serial\"><div class=\"sk-item\"><div class=\"sk-estimator sk-toggleable\"><input class=\"sk-toggleable__control sk-hidden--visually\" id=\"sk-estimator-id-3\" type=\"checkbox\" ><label for=\"sk-estimator-id-3\" class=\"sk-toggleable__label sk-toggleable__label-arrow\">PCA</label><div class=\"sk-toggleable__content\"><pre>PCA(n_components=20)</pre></div></div></div><div class=\"sk-item\"><div class=\"sk-estimator sk-toggleable\"><input class=\"sk-toggleable__control sk-hidden--visually\" id=\"sk-estimator-id-4\" type=\"checkbox\" ><label for=\"sk-estimator-id-4\" class=\"sk-toggleable__label sk-toggleable__label-arrow\">DecisionTreeClassifier</label><div class=\"sk-toggleable__content\"><pre>DecisionTreeClassifier()</pre></div></div></div></div></div></div></div></div></div></div></div></div>"
      ],
      "text/plain": [
       "GridSearchCV(cv=5,\n",
       "             estimator=Pipeline(steps=[('pca', PCA(n_components=20)),\n",
       "                                       ('clf', DecisionTreeClassifier())]),\n",
       "             param_grid={'clf__max_depth': [1, 2, 3, 5, 7, 10, 15, 20],\n",
       "                         'clf__min_samples_leaf': [2, 4, 5, 6, 7, 8],\n",
       "                         'clf__min_samples_split': [2, 3, 4, 5, 6, 7, 8]})"
      ]
     },
     "execution_count": 37,
     "metadata": {},
     "output_type": "execute_result"
    }
   ],
   "source": [
    "grid_search.fit(X_matrix_train_dense, y_train)"
   ]
  },
  {
   "cell_type": "code",
   "execution_count": 38,
   "metadata": {},
   "outputs": [
    {
     "name": "stdout",
     "output_type": "stream",
     "text": [
      "Best hyperparameters: {'clf__max_depth': 1, 'clf__min_samples_leaf': 2, 'clf__min_samples_split': 2}\n"
     ]
    }
   ],
   "source": [
    "# Print the best hyperparameters\n",
    "print(\"Best hyperparameters:\", grid_search.best_params_)"
   ]
  },
  {
   "cell_type": "markdown",
   "metadata": {},
   "source": [
    "### 2.5.3. Parameters to optimize."
   ]
  },
  {
   "cell_type": "code",
   "execution_count": 39,
   "metadata": {},
   "outputs": [
    {
     "name": "stdout",
     "output_type": "stream",
     "text": [
      "Validation Accuracy with Best Parameters: 0.9830\n"
     ]
    }
   ],
   "source": [
    "best_model = grid_search.best_estimator_\n",
    "\n",
    "# Using the dense version of X_test, which is X_matrix_test_dense\n",
    "test_preds = best_model.predict(X_matrix_test_dense)\n",
    "\n",
    "# Accuracy using the true labels y_test and the predicted labels test_preds\n",
    "val_acc = accuracy_score(y_test, test_preds)\n",
    "print(f\"Validation Accuracy with Best Parameters: {val_acc:.4f}\")"
   ]
  },
  {
   "cell_type": "code",
   "execution_count": 40,
   "metadata": {},
   "outputs": [
    {
     "data": {
      "image/png": "[encoded data removed]",
      "text/plain": [
       "<Figure size 400x400 with 1 Axes>"
      ]
     },
     "metadata": {},
     "output_type": "display_data"
    }
   ],
   "source": [
    "matrix = confusion_matrix(y_test, test_preds)\n",
    "\n",
    "# Displaying the confusion matrix \n",
    "import seaborn as sns\n",
    "import matplotlib.pyplot as plt\n",
    "\n",
    "plt.figure(figsize=(4, 4))\n",
    "sns.heatmap(matrix, annot=True, fmt=\"d\", cmap=\"Blues\", cbar=False)\n",
    "plt.xlabel('Predicted Label')\n",
    "plt.ylabel('True Label')\n",
    "plt.title('Confusion Matrix')\n",
    "plt.show()"
   ]
  },
  {
   "cell_type": "code",
   "execution_count": 41,
   "metadata": {},
   "outputs": [
    {
     "name": "stdout",
     "output_type": "stream",
     "text": [
      "              precision    recall  f1-score   support\n",
      "\n",
      "           0       0.98      1.00      0.99       983\n",
      "           1       0.00      0.00      0.00        17\n",
      "\n",
      "    accuracy                           0.98      1000\n",
      "   macro avg       0.49      0.50      0.50      1000\n",
      "weighted avg       0.97      0.98      0.97      1000\n",
      "\n"
     ]
    },
    {
     "name": "stderr",
     "output_type": "stream",
     "text": [
      "/Users/lgfolder/anaconda3/envs/myenv2/lib/python3.8/site-packages/sklearn/metrics/_classification.py:1469: UndefinedMetricWarning: Precision and F-score are ill-defined and being set to 0.0 in labels with no predicted samples. Use `zero_division` parameter to control this behavior.\n",
      "  _warn_prf(average, modifier, msg_start, len(result))\n",
      "/Users/lgfolder/anaconda3/envs/myenv2/lib/python3.8/site-packages/sklearn/metrics/_classification.py:1469: UndefinedMetricWarning: Precision and F-score are ill-defined and being set to 0.0 in labels with no predicted samples. Use `zero_division` parameter to control this behavior.\n",
      "  _warn_prf(average, modifier, msg_start, len(result))\n",
      "/Users/lgfolder/anaconda3/envs/myenv2/lib/python3.8/site-packages/sklearn/metrics/_classification.py:1469: UndefinedMetricWarning: Precision and F-score are ill-defined and being set to 0.0 in labels with no predicted samples. Use `zero_division` parameter to control this behavior.\n",
      "  _warn_prf(average, modifier, msg_start, len(result))\n"
     ]
    }
   ],
   "source": [
    "# Printing the classification report\n",
    "report = classification_report(y_test, test_preds)\n",
    "print(report)"
   ]
  },
  {
   "cell_type": "markdown",
   "metadata": {},
   "source": [
    "Observation:  \n",
    "\n",
    "* The DT classifier combined with the gridsearch for best hyperparameters combination have not resulted in  a better model than the logistical regression constratucted earlier.  The accuracy score of 74% is lower than 78% for the logreg model.  BUt 74% is still better than the 57% for the majority class os 1s. \n",
    "* The DT model has a slightly better performance in classifying positive reviews (1s) with a precision of 0.76 and recall of 0.80, compared to classifying negative reviews (0s) which has a precision of 0.72 and recall of 0.67. \n",
    "* Overall, with an accuracy is 0.74. The model classifies well between positive and negative reviews, although there's a margin for improvement."
   ]
  },
  {
   "cell_type": "markdown",
   "metadata": {},
   "source": [
    "## 2.x. VADER Sentiment Analyser"
   ]
  },
  {
   "cell_type": "code",
   "execution_count": 42,
   "metadata": {},
   "outputs": [
    {
     "name": "stdout",
     "output_type": "stream",
     "text": [
      "<class 'pandas.core.frame.DataFrame'>\n",
      "RangeIndex: 4996 entries, 0 to 4995\n",
      "Data columns (total 7 columns):\n",
      " #   Column      Non-Null Count  Dtype \n",
      "---  ------      --------------  ----- \n",
      " 0   link_id     4996 non-null   object\n",
      " 1   parent_id   4996 non-null   object\n",
      " 2   User        4996 non-null   object\n",
      " 3   Text        4996 non-null   object\n",
      " 4   Intent      4996 non-null   int64 \n",
      " 5   Support     4996 non-null   int64 \n",
      " 6   emoji_text  742 non-null    object\n",
      "dtypes: int64(2), object(5)\n",
      "memory usage: 273.3+ KB\n"
     ]
    }
   ],
   "source": [
    "df.info()"
   ]
  },
  {
   "cell_type": "code",
   "execution_count": 43,
   "metadata": {},
   "outputs": [],
   "source": [
    "# Instantiate an object of SentimentIntensityAnalyzer\n",
    "analyzer = SentimentIntensityAnalyzer()"
   ]
  },
  {
   "cell_type": "code",
   "execution_count": 44,
   "metadata": {},
   "outputs": [
    {
     "name": "stdout",
     "output_type": "stream",
     "text": [
      "Mooseknuckle94\n",
      "Keep them patient investors up boys! AMC/GME . (Cut that \"buy at xxx time\" shit out too ya jackasses)\n",
      "0\n",
      "0\n",
      "{'neg': 0.38, 'neu': 0.62, 'pos': 0.0, 'compound': -0.8687}\n"
     ]
    }
   ],
   "source": [
    "# This code checks the content of each inidividual text cell and prints the post text and the sentiment ratings below:\n",
    "\n",
    "i = 2011\n",
    "\n",
    "print(df[\"User\"].loc[i])\n",
    "print(df[\"Text\"].loc[i])\n",
    "print(df[\"Intent\"].loc[i])\n",
    "print(df[\"Support\"].loc[i])\n",
    "post = df[\"Text\"].loc[i]\n",
    "\n",
    "# Calculates the sentiment scores for the chosen cell\n",
    "overall_sentiment_score = analyzer.polarity_scores(post)\n",
    "print(overall_sentiment_score)"
   ]
  },
  {
   "cell_type": "markdown",
   "metadata": {},
   "source": [
    "In Vader documentation (https://github.com/cjhutto/vaderSentiment#about-the-scoring) it is explained that if:\n",
    "\n",
    "\"\n",
    "    The compound score is computed by summing the valence scores of each word in the lexicon, adjusted according to the rules, and then normalized to be between -1 (most extreme negative) and +1 (most extreme positive). This is the most useful metric if you want a single unidimensional measure of sentiment for a given sentence. Calling it a 'normalized, weighted composite score' is accurate.\n",
    "\n",
    "    It is also useful for researchers who would like to set standardized thresholds for classifying sentences as either positive, neutral, or negative. Typical threshold values (used in the literature cited on this page) are:\n",
    "\n",
    "* positive sentiment: compound score >= 0.5\n",
    "* neutral sentiment: (compound score > -0.5) and (compound score < 0.5)\n",
    "* negative sentiment: compound score <= -0.5.\n",
    "\n",
    "    NOTE: The compound score is the one most commonly used for sentiment analysis by most researchers, including the authors.\n",
    "\n",
    "    The pos, neu, and neg scores are ratios for proportions of text that fall in each category (so these should all add up to be 1... or close to it with float operation).\""
   ]
  },
  {
   "cell_type": "code",
   "execution_count": 45,
   "metadata": {},
   "outputs": [],
   "source": [
    "# Define a function that will go through posts and assign sentimen scores to text:\n",
    "def calculate_sentiment(text):\n",
    "    if pd.isnull(text):\n",
    "        return {'neg': None, 'neu': None, 'pos': None, 'compound': None}\n",
    "    \n",
    "    # Analyze the sentiment of the post\n",
    "    sentiment_score = analyzer.polarity_scores(text)\n",
    "    return sentiment_score"
   ]
  },
  {
   "cell_type": "code",
   "execution_count": 46,
   "metadata": {},
   "outputs": [],
   "source": [
    "# Apply the calculate_sentiment function to each row in the 'title' column (runtime = 2 seconds)\n",
    "sentiments = df['Text'].apply(calculate_sentiment)\n",
    "\n",
    "# Record the sentiments into the dataframe new columns (v= vader)\n",
    "df.loc[:, 'neg_v'] = sentiments.apply(lambda x: x['neg'])\n",
    "df.loc[:, 'neu_v'] = sentiments.apply(lambda x: x['neu'])\n",
    "df.loc[:, 'pos_v'] = sentiments.apply(lambda x: x['pos'])\n",
    "df.loc[:, 'compound_v'] = sentiments.apply(lambda x: x['compound'])"
   ]
  },
  {
   "cell_type": "code",
   "execution_count": 47,
   "metadata": {},
   "outputs": [
    {
     "name": "stdout",
     "output_type": "stream",
     "text": [
      "\n",
      "Crosstab between binned Vader compound score and Intent:\n",
      " Intent            0   1\n",
      "compound_v             \n",
      "Very Negative   628  12\n",
      "Negative       1839  27\n",
      "Positive       1034  23\n",
      "Very Positive  1412  21\n"
     ]
    }
   ],
   "source": [
    "# Bin the compound scores into categories\n",
    "df['compound_v_binned'] = pd.cut(df['compound_v'], bins=[-1, -0.5, 0, 0.5, 1], labels=['Very Negative', 'Negative', 'Positive', 'Very Positive'])\n",
    "\n",
    "# Crosstab between binned compound score and Intent\n",
    "crosstab_v_intent_binned = pd.crosstab(df['compound_v_binned'], df['Intent'], rownames=['compound_v'], colnames=['Intent'])\n",
    "print(\"\\nCrosstab between binned Vader compound score and Intent:\\n\", crosstab_v_intent_binned)"
   ]
  },
  {
   "cell_type": "code",
   "execution_count": 48,
   "metadata": {},
   "outputs": [
    {
     "data": {
      "image/png": "[encoded data removed]",
      "text/plain": [
       "<Figure size 600x600 with 4 Axes>"
      ]
     },
     "metadata": {},
     "output_type": "display_data"
    }
   ],
   "source": [
    "# Plotting graphs to show the distribution of Vader ratings\n",
    "fig, axes = plt.subplots(2, 2, figsize=(6, 6))  # Adjust the size as needed\n",
    "\n",
    "\n",
    "sns.barplot(ax=axes[0, 0], data=df, x='Intent', y='compound_v')\n",
    "axes[0, 0].set_title('Comp Score by Intent Category')\n",
    "\n",
    "sns.barplot(ax=axes[0, 1], data=df, x='Intent', y='pos_v')\n",
    "axes[0, 1].set_title('Pos Score by Intent Category')\n",
    "\n",
    "sns.barplot(ax=axes[1, 0], data=df, x='Intent', y='neu_v')\n",
    "axes[1, 0].set_title('Neu Score by Intent Category')\n",
    "\n",
    "sns.barplot(ax=axes[1, 1], data=df, x='Intent', y='neg_v')\n",
    "axes[1, 1].set_title('Neg Score by Intent Category')\n",
    "\n",
    "plt.tight_layout()\n",
    "plt.show()"
   ]
  },
  {
   "cell_type": "code",
   "execution_count": 49,
   "metadata": {},
   "outputs": [
    {
     "data": {
      "image/png": "[encoded data removed]",
      "text/plain": [
       "<Figure size 1200x300 with 3 Axes>"
      ]
     },
     "metadata": {},
     "output_type": "display_data"
    }
   ],
   "source": [
    "fig, axs = plt.subplots(1, 3, figsize=(12, 3))\n",
    "sns.barplot(data=df, x='Intent', y='pos_v', ax=axs[0])\n",
    "sns.barplot(data=df, x='Intent', y='neu_v', ax=axs[1])\n",
    "sns.barplot(data=df, x='Intent', y='neg_v', ax=axs[2])\n",
    "axs[0].set_title('Positive')\n",
    "axs[1].set_title('Neutral')\n",
    "axs[2].set_title('Negative')\n",
    "plt.tight_layout()\n",
    "plt.show()"
   ]
  },
  {
   "cell_type": "markdown",
   "metadata": {},
   "source": [
    "I can see on the distribution graphs above that Vader sentiment alone is not sufficient to classify WSB messages correctly. Vader has been trained on general language models, and does not capture the financial sentiment and context well. \n",
    "\n",
    "I dont think this Vader sentiment analyser works at all, as messages scored 1 on Intent to buy were somewhat evenly split between negative and positive sentiments. Negative sentiment is more predictive that the message will be a zero (a higher % of very negative messages are assigned a rating of 0), but this is very imprecise.  \n",
    "\n",
    "The correlation coefficient calcualted below indicate very low correlation between Intent and VADER scores:"
   ]
  },
  {
   "cell_type": "code",
   "execution_count": 50,
   "metadata": {},
   "outputs": [
    {
     "name": "stdout",
     "output_type": "stream",
     "text": [
      "neg_v         0.02\n",
      "pos_v        -0.01\n",
      "neu_v        -0.00\n",
      "compound_v   -0.01\n",
      "dtype: float64\n"
     ]
    }
   ],
   "source": [
    "# Features matrix (X) and target vector (y)\n",
    "X = df[['neg_v','pos_v','neu_v','compound_v']] \n",
    "y = df['Intent'] \n",
    "\n",
    "# Calculating the correlation of X an y\n",
    "correlation = X.corrwith(y)\n",
    "print(correlation)"
   ]
  },
  {
   "cell_type": "markdown",
   "metadata": {},
   "source": [
    "Just to be sure, below I built a linear regression to check if I can spot any relationships here:"
   ]
  },
  {
   "cell_type": "code",
   "execution_count": 51,
   "metadata": {},
   "outputs": [
    {
     "name": "stdout",
     "output_type": "stream",
     "text": [
      "Coefficients: \n",
      "[-1.49795723e+00 -2.42665928e+00 -2.62586610e+00  1.64640014e-05]\n",
      "Intercept: 0.014514514514515577\n",
      "Mean squared error (MSE): 0.0245\n",
      "R-squared (R2): -0.0056\n"
     ]
    }
   ],
   "source": [
    "# Building linear regression between Intent and the Vader sentiment\n",
    "\n",
    "# Split the data into training and test sets\n",
    "X_train, X_test, y_train, y_test = train_test_split(X, y, test_size=0.2, random_state=42)\n",
    "\n",
    "# Initialize the StandardScaler\n",
    "scaler = StandardScaler()\n",
    "\n",
    "# Fit the scaler using only the training data and transform it\n",
    "X_train_scaled = scaler.fit_transform(X_train)\n",
    "X_test_scaled = scaler.transform(X_test)\n",
    "\n",
    "# Create and fit the linear regression model to the scaled data\n",
    "model = LinearRegression()\n",
    "model.fit(X_train_scaled, y_train)\n",
    "\n",
    "# Predict on the test data\n",
    "y_pred = model.predict(X_test_scaled)\n",
    "\n",
    "# Calculate metrics\n",
    "mse = mean_squared_error(y_test, y_pred)\n",
    "r2 = r2_score(y_test, y_pred)\n",
    "\n",
    "# Printing out the coefficients and the metrics\n",
    "print(f\"Coefficients: \\n{model.coef_}\")\n",
    "print(f\"Intercept: {model.intercept_}\")\n",
    "print(f\"Mean squared error (MSE): {mse:.4f}\")\n",
    "print(f\"R-squared (R2): {r2:.4f}\")\n"
   ]
  },
  {
   "cell_type": "markdown",
   "metadata": {},
   "source": [
    "Concludion:  we have a negative R-squared, which means that the VADER sentiment analyser is not helpful at all in classifying our data, even assigning ratings in the opposite direction of what we could expect. VADER tool can be helpful, perhaps, if it is assisted with \"translation\" of unique WSB jargon language into a normal english that VADER has been trained to understand.  "
   ]
  },
  {
   "cell_type": "markdown",
   "metadata": {},
   "source": [
    "## 2.z. TextBlob from NLTK"
   ]
  },
  {
   "cell_type": "code",
   "execution_count": 52,
   "metadata": {},
   "outputs": [],
   "source": [
    "from textblob import TextBlob"
   ]
  },
  {
   "cell_type": "markdown",
   "metadata": {},
   "source": [
    "* In TextBlob NLTM Library sentiment is captured by polarity score, ranging from negative (-1) to positive (+1). \n",
    "* Subjectivity is graded from 0 to 1, with 0 being very factual/objecive and 1 being very subjective. \n",
    "* As a reminder, our Intent field is not very balanced, with only 23% of ratings having positive intent to buy."
   ]
  },
  {
   "cell_type": "code",
   "execution_count": 53,
   "metadata": {},
   "outputs": [
    {
     "name": "stdout",
     "output_type": "stream",
     "text": [
      "Lil_Orphan_Anakin\n",
      "To be fair I didn’t want to sound retarded when I was convincing her to buy so I think I told her “some people think it might hit $30 pretty soon.” I guess she interpreted that as $30 being the ceiling. I should’ve done the smart thing and sent her GME $420.69 memes so she would hold longer\n",
      "0\n",
      "0\n",
      "VADER sentiment score:\n",
      "{'neg': 0.054, 'neu': 0.766, 'pos': 0.18, 'compound': 0.7579}\n",
      "TextBlob sentiment score:\n",
      "Sentiment(polarity=0.21071428571428572, subjectivity=0.7904761904761904)\n"
     ]
    }
   ],
   "source": [
    "# This code checks the content of each inidividual text cell \n",
    "i = 106\n",
    "\n",
    "print(df[\"User\"].loc[i])\n",
    "print(df[\"Text\"].loc[i])\n",
    "print(df[\"Intent\"].loc[i])\n",
    "print(df[\"Support\"].loc[i])\n",
    "\n",
    "post = df[\"Text\"].loc[i]\n",
    "\n",
    "# VADER (from above)\n",
    "overall_sentiment_score = analyzer.polarity_scores(post)\n",
    "print(\"VADER sentiment score:\")\n",
    "print(overall_sentiment_score)\n",
    "\n",
    "# TextBlob \n",
    "\n",
    "analysis = TextBlob(post)\n",
    "print(\"TextBlob sentiment score:\")\n",
    "print(analysis.sentiment)"
   ]
  },
  {
   "cell_type": "markdown",
   "metadata": {},
   "source": [
    "In the code above I can flip through various posts by comparing the content and the sentiment rating assigned by VADER and TextBlob"
   ]
  },
  {
   "cell_type": "code",
   "execution_count": 54,
   "metadata": {},
   "outputs": [
    {
     "name": "stdout",
     "output_type": "stream",
     "text": [
      "Class imbalance: [0.98 0.02]\n"
     ]
    }
   ],
   "source": [
    "# Reminding myself what is the class composition in our \"Intent\" column\n",
    "df['Intent'].value_counts()\n",
    "values, counts = np.unique(df['Intent'], return_counts=True)\n",
    "normalized_counts = counts / counts.sum()\n",
    "print(f\"Class imbalance: {np.round(normalized_counts, 2)}\")"
   ]
  },
  {
   "cell_type": "markdown",
   "metadata": {},
   "source": [
    "In the code below I calculate the totals of positive and negative posts.  If polarity rating is >0, then I count it as a positive score, and if polarity is less than 0, then I count it as a negative sentiment.  I can compare the totals of the dataset to my distribution of categoris for 'Intent'.  With threshhold set at zero I have too many positive ratings, so I needed to change the threshhold to dial down positivity of the dataset. I now classify polarity scores as positive only once they reach a certain threshhold, for example they need ot be above 0.2 to be counted as positive. By experimenting a bit, I determined that threashhold of 0.2 is a good threshhold to get to the desired distribution of 1 and 0 (hopefully matching the distribution of labels).  I am recording this calculated sentiment score into my model. "
   ]
  },
  {
   "cell_type": "code",
   "execution_count": 55,
   "metadata": {},
   "outputs": [
    {
     "name": "stdout",
     "output_type": "stream",
     "text": [
      "Positive sentiment = 45.06% via 4996 samples\n",
      "Negative sentiment = 54.94% via 4996 samples\n"
     ]
    }
   ],
   "source": [
    "# this code borrowed from TextBlob sentiment analysis tutorial at https://pythonprogramming.net/sentiment-analysis-python-textblob-vader/\n",
    "\n",
    "pos_count = 0\n",
    "pos_correct = 0\n",
    "\n",
    "# 'Text' column to be analyzed with TextBlob\n",
    "for line in df['Text']:\n",
    "    analysis = TextBlob(line)\n",
    "    if analysis.sentiment.polarity > .00:\n",
    "        pos_correct += 1\n",
    "    pos_count += 1\n",
    "\n",
    "neg_count = 0\n",
    "neg_correct = 0\n",
    "\n",
    "for line in df['Text']:\n",
    "    analysis = TextBlob(line)\n",
    "    if analysis.sentiment.polarity <= 0.0:\n",
    "        neg_correct += 1\n",
    "    neg_count += 1\n",
    "\n",
    "print(\"Positive sentiment = {:.2f}% via {} samples\".format(pos_correct/pos_count*100.0, pos_count))\n",
    "print(\"Negative sentiment = {:.2f}% via {} samples\".format(neg_correct/neg_count*100.0, neg_count))\n"
   ]
  },
  {
   "cell_type": "markdown",
   "metadata": {},
   "source": []
  },
  {
   "cell_type": "code",
   "execution_count": 56,
   "metadata": {},
   "outputs": [],
   "source": [
    "# Define a function to apply TextBlob analysis and create new columns\n",
    "def apply_textblob(sentiment_text):\n",
    "    analysis = TextBlob(sentiment_text)\n",
    "    subj_score = analysis.sentiment.subjectivity\n",
    "    pol_score = analysis.sentiment.polarity\n",
    "    sentim_score = 1 if pol_score > 0.2 else 0\n",
    "    return subj_score, pol_score, sentim_score\n",
    "\n",
    "# Apply the function and assign new columns\n",
    "df[['subj_tb1', 'pol_tb1', 'sentim_tb1']] = df.apply(lambda row: apply_textblob(row['Text']), axis=1, result_type='expand')"
   ]
  },
  {
   "cell_type": "markdown",
   "metadata": {},
   "source": [
    "Observation:\n",
    "\n",
    "* the R squared is extremely low.  There is nearly no correlation between the TextBlob assigned sentiment metrics, such as polarity and subjectivity and the labels assigned by researchers. "
   ]
  },
  {
   "cell_type": "code",
   "execution_count": 57,
   "metadata": {},
   "outputs": [
    {
     "name": "stdout",
     "output_type": "stream",
     "text": [
      "\n",
      "Crosstab between sentim_tb1 and Intent:\n",
      " Intent         0   1\n",
      "sentim_tb1          \n",
      "0.00        3780  60\n",
      "1.00        1133  23\n"
     ]
    }
   ],
   "source": [
    "# Crosstab between sentim_tb1 and Intent\n",
    "crosstab_tb1_intent = pd.crosstab(df['sentim_tb1'], df['Intent'], rownames=['sentim_tb1'], colnames=['Intent'])\n",
    "print(\"\\nCrosstab between sentim_tb1 and Intent:\\n\", crosstab_tb1_intent)"
   ]
  },
  {
   "cell_type": "code",
   "execution_count": 58,
   "metadata": {},
   "outputs": [
    {
     "name": "stdout",
     "output_type": "stream",
     "text": [
      "subj_tb1   0.02\n",
      "pol_tb1    0.02\n",
      "dtype: float64\n"
     ]
    }
   ],
   "source": [
    "# Features matrix (X) and target vector (y)\n",
    "X = df[['subj_tb1', 'pol_tb1']]  # Using both columns as features\n",
    "y = df['Intent']                 # Target variable\n",
    "\n",
    "# Calculating the correlation of X an y\n",
    "correlation = X.corrwith(y)\n",
    "print(correlation)"
   ]
  },
  {
   "cell_type": "code",
   "execution_count": 59,
   "metadata": {},
   "outputs": [
    {
     "name": "stdout",
     "output_type": "stream",
     "text": [
      "Coefficients: \n",
      "[0.00192357 0.00289079]\n",
      "Intercept: 0.014514514514514515\n",
      "Mean squared error (MSE): 0.0245\n",
      "R-squared (R2): -0.0051\n"
     ]
    }
   ],
   "source": [
    "# Building linear regression between Intent and the TextBlob sentiment\n",
    "\n",
    "# Split the data into training and test sets\n",
    "X_train, X_test, y_train, y_test = train_test_split(X, y, test_size=0.2, random_state=42)\n",
    "\n",
    "# Initialize the StandardScaler\n",
    "scaler = StandardScaler()\n",
    "\n",
    "# Fit the scaler using only the training data and transform it\n",
    "X_train_scaled = scaler.fit_transform(X_train)\n",
    "X_test_scaled = scaler.transform(X_test)\n",
    "\n",
    "# Create and fit the linear regression model to the scaled data\n",
    "model = LinearRegression()\n",
    "model.fit(X_train_scaled, y_train)\n",
    "\n",
    "# Predict on the test data\n",
    "y_pred = model.predict(X_test_scaled)\n",
    "\n",
    "# Calculate metrics\n",
    "mse = mean_squared_error(y_test, y_pred)\n",
    "r2 = r2_score(y_test, y_pred)\n",
    "\n",
    "# Printing out the coefficients and the metrics\n",
    "print(f\"Coefficients: \\n{model.coef_}\")\n",
    "print(f\"Intercept: {model.intercept_}\")\n",
    "print(f\"Mean squared error (MSE): {mse:.4f}\")\n",
    "print(f\"R-squared (R2): {r2:.4f}\")\n"
   ]
  },
  {
   "cell_type": "markdown",
   "metadata": {},
   "source": [
    "I will try the logistics regression below"
   ]
  },
  {
   "cell_type": "code",
   "execution_count": 60,
   "metadata": {},
   "outputs": [
    {
     "name": "stdout",
     "output_type": "stream",
     "text": [
      "Accuracy: 0.9750\n",
      "Recall: 0.0000\n",
      "Precision: 0.0000\n",
      "F1 Score: 0.0000\n",
      "Confusion Matrix:\n",
      "[[975   0]\n",
      " [ 25   0]]\n"
     ]
    },
    {
     "name": "stderr",
     "output_type": "stream",
     "text": [
      "/Users/lgfolder/anaconda3/envs/myenv2/lib/python3.8/site-packages/sklearn/metrics/_classification.py:1469: UndefinedMetricWarning: Precision is ill-defined and being set to 0.0 due to no predicted samples. Use `zero_division` parameter to control this behavior.\n",
      "  _warn_prf(average, modifier, msg_start, len(result))\n"
     ]
    }
   ],
   "source": [
    "# Building a logistic regression on the TextBlob sentiment analysis accuracy\n",
    "\n",
    "# Features matrix (X) and target vector (y)\n",
    "X = df[['sentim_tb1']]  # Features need to be in a 2D array for sklearn\n",
    "y = df['Intent']        # Target is just a series\n",
    "\n",
    "# Split the data into training and test sets\n",
    "X_train, X_test, y_train, y_test = train_test_split(X, y, test_size=0.2, random_state=42)\n",
    "\n",
    "# Create and fit the logistic regression model\n",
    "model = LogisticRegression()\n",
    "model.fit(X_train, y_train)\n",
    "\n",
    "# Predict on the test data\n",
    "y_pred = model.predict(X_test)\n",
    "\n",
    "# Calculate metrics\n",
    "accuracy = accuracy_score(y_test, y_pred)\n",
    "recall = recall_score(y_test, y_pred)\n",
    "precision = precision_score(y_test, y_pred)\n",
    "f1 = f1_score(y_test, y_pred)\n",
    "\n",
    "# Generating the confusion matrix\n",
    "conf_matrix = confusion_matrix(y_test, y_pred)\n",
    "\n",
    "# Printing out the metrics\n",
    "print(f\"Accuracy: {accuracy:.4f}\")\n",
    "print(f\"Recall: {recall:.4f}\")\n",
    "print(f\"Precision: {precision:.4f}\")\n",
    "print(f\"F1 Score: {f1:.4f}\")\n",
    "print(f\"Confusion Matrix:\\n{conf_matrix}\")"
   ]
  },
  {
   "cell_type": "markdown",
   "metadata": {},
   "source": [
    "Conlcusion on TextBlob:\n",
    "\n",
    "* It is challenging to predict sentiment score on Reddit posts intent to buy based on the NLTK TextBlob sentiment analyser. \n",
    "* I tried several different settings/combinations on the threshhold (for positivity and subjectivity).  Unfortunately, none of them yielded good results.  \n",
    "* TextBlob sentiment encoder shows very poor results on WSB dataset when applied without additional language adjustments. I should try to change the language using my own dictionary of WSB specific terms   "
   ]
  },
  {
   "cell_type": "markdown",
   "metadata": {},
   "source": [
    "Need to do NN"
   ]
  },
  {
   "cell_type": "markdown",
   "metadata": {},
   "source": []
  }
 ],
 "metadata": {
  "kernelspec": {
   "display_name": "Python 3",
   "language": "python",
   "name": "python3"
  },
  "language_info": {
   "codemirror_mode": {
    "name": "ipython",
    "version": 3
   },
   "file_extension": ".py",
   "mimetype": "text/x-python",
   "name": "python",
   "nbconvert_exporter": "python",
   "pygments_lexer": "ipython3",
   "version": "3.8.16"
  },
  "toc-autonumbering": false,
  "toc-showcode": false,
  "toc-showmarkdowntxt": false
 },
 "nbformat": 4,
 "nbformat_minor": 4
}
