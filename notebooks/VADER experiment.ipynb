{
 "cells": [
  {
   "cell_type": "code",
   "execution_count": 13,
   "metadata": {},
   "outputs": [
    {
     "name": "stderr",
     "output_type": "stream",
     "text": [
      "[nltk_data] Downloading package punkt to /Users/lgfolder/nltk_data...\n",
      "[nltk_data]   Package punkt is already up-to-date!\n"
     ]
    }
   ],
   "source": [
    "# Importing several libraries\n",
    "import pandas as pd\n",
    "import pandas as pd\n",
    "import numpy as np\n",
    "import matplotlib.pyplot as plt\n",
    "plt.rcParams['figure.figsize'] = (6.0, 4.0) #setting figure size\n",
    "import seaborn as sns\n",
    "import matplotlib.dates as mdates\n",
    "import os\n",
    "import emoji\n",
    "import re\n",
    "pd.set_option('display.float_format', '{:.2f}'.format) # Set the float display option\n",
    "\n",
    "from vaderSentiment.vaderSentiment import SentimentIntensityAnalyzer\n",
    "\n",
    "import nltk\n",
    "nltk.download('punkt')\n",
    "from nltk.tokenize import sent_tokenize"
   ]
  },
  {
   "cell_type": "code",
   "execution_count": 10,
   "metadata": {},
   "outputs": [
    {
     "name": "stderr",
     "output_type": "stream",
     "text": [
      "/var/folders/j6/lnskfknd3zz28plgqdh6w_4m0000gn/T/ipykernel_92043/3170336875.py:2: DtypeWarning: Columns (14) have mixed types. Specify dtype option on import or set low_memory=False.\n",
      "  df_all = pd.read_csv(DATAFILE)\n"
     ]
    }
   ],
   "source": [
    "DATAFILE = '../data/merged_data.csv'\n",
    "df_all = pd.read_csv(DATAFILE)\n",
    "df = df_all.copy().head(200)"
   ]
  },
  {
   "cell_type": "code",
   "execution_count": 143,
   "metadata": {},
   "outputs": [
    {
     "name": "stdout",
     "output_type": "stream",
     "text": [
      "Hi, I have 10 4/16 GME $24 calls that are up 264% right now.\n",
      "\n",
      "My question is: Would it be smart to hold onto these calls as GME continues to rise, or sell a portion and buy further OTM calls with a shorter expiry (thinking 1/29 $55c)? My line of thinking is that having more calls = more $. After reading the gamma squeeze DD it seems certain that GME could reach well over $55 by next week.\n",
      "\n",
      "Appreciate all and any advice as I'm still learning everyday. Thank you.\n"
     ]
    }
   ],
   "source": [
    "i = 30\n",
    "print(df[\"selftext\"].loc[i])\n",
    "post = df[\"selftext\"].loc[i]"
   ]
  },
  {
   "cell_type": "code",
   "execution_count": 145,
   "metadata": {},
   "outputs": [
    {
     "name": "stdout",
     "output_type": "stream",
     "text": [
      "{'neg': 0.0, 'neu': 0.864, 'pos': 0.136, 'compound': 0.8807}\n"
     ]
    }
   ],
   "source": [
    "# Calculate the sentiment scores for the entire block of text\n",
    "# post = [\"Hey guys. So I just saw yesterday some GME posts with a lot of super optimistic in them, and since this was my first investment, I decided to buy some shares, 2500$ worth, about 125. Should I bother trading them when I think they're high, then buy back when they go down, or should I just sit back, relax and keep riding to the moon? (I'd currently sell for 800$ profit I guess) What are you guys doing right now\"]\n",
    "\n",
    "overall_sentiment_score = analyzer.polarity_scores(post)\n",
    "print(overall_sentiment_score)"
   ]
  },
  {
   "cell_type": "code",
   "execution_count": 96,
   "metadata": {},
   "outputs": [],
   "source": [
    "# sentences = sent_tokenize(post)"
   ]
  },
  {
   "cell_type": "code",
   "execution_count": 83,
   "metadata": {},
   "outputs": [
    {
     "name": "stdout",
     "output_type": "stream",
     "text": [
      "Guysss... we retards have fantasized a long time about this but it is finally happening!!!\n",
      "{'neg': 0.0, 'neu': 1.0, 'pos': 0.0, 'compound': 0.0}\n",
      "GME confirmed Cohens role.\n",
      "{'neg': 0.0, 'neu': 1.0, 'pos': 0.0, 'compound': 0.0}\n",
      "We gonna moon retards, i hope retards can breath in space.\n",
      "{'neg': 0.0, 'neu': 0.775, 'pos': 0.225, 'compound': 0.4404}\n",
      "[:newspaper:  |  **GameStop Announces Additional Board Refreshment to Accelerate Transformation**  https://news.gamestop.com/news-releases/news-release-details/gamestop-announces-additional-board-refreshment-accelerate](https://news.gamestop.com/news-releases/news-release-details/gamestop-announces-additional-board-refreshment-accelerate)\n",
      "{'neg': 0.0, 'neu': 1.0, 'pos': 0.0, 'compound': 0.0}\n"
     ]
    }
   ],
   "source": [
    "for sentence in sentences:\n",
    "    sentiment_score = analyzer.polarity_scores(sentence)\n",
    "    print(sentence)\n",
    "    print(sentiment_score)"
   ]
  },
  {
   "cell_type": "code",
   "execution_count": null,
   "metadata": {},
   "outputs": [],
   "source": []
  },
  {
   "cell_type": "code",
   "execution_count": null,
   "metadata": {},
   "outputs": [],
   "source": []
  },
  {
   "cell_type": "code",
   "execution_count": null,
   "metadata": {},
   "outputs": [],
   "source": []
  },
  {
   "cell_type": "code",
   "execution_count": null,
   "metadata": {},
   "outputs": [],
   "source": []
  },
  {
   "cell_type": "code",
   "execution_count": null,
   "metadata": {},
   "outputs": [],
   "source": [
    "# import SentimentIntensityAnalyzer class\n",
    "# from vaderSentiment.vaderSentiment module.\n",
    "from vaderSentiment.vaderSentiment import SentimentIntensityAnalyzer\n",
    "\n",
    "# function to print sentiments\n",
    "# of the sentence.\n",
    "def sentiment_scores(sentence):\n",
    "\n",
    "\t# Create a SentimentIntensityAnalyzer object.\n",
    "\tsid_obj = SentimentIntensityAnalyzer()\n",
    "\n",
    "\t# polarity_scores method of SentimentIntensityAnalyzer\n",
    "\t# object gives a sentiment dictionary.\n",
    "\t# which contains pos, neg, neu, and compound scores.\n",
    "\tsentiment_dict = sid_obj.polarity_scores(sentence)\n",
    "\t\n",
    "\tprint(\"Overall sentiment dictionary is : \", sentiment_dict)\n",
    "\tprint(\"sentence was rated as \", sentiment_dict['neg']*100, \"% Negative\")\n",
    "\tprint(\"sentence was rated as \", sentiment_dict['neu']*100, \"% Neutral\")\n",
    "\tprint(\"sentence was rated as \", sentiment_dict['pos']*100, \"% Positive\")\n",
    "\n",
    "\tprint(\"Sentence Overall Rated As\", end = \" \")\n",
    "\n",
    "\t# decide sentiment as positive, negative and neutral\n",
    "\tif sentiment_dict['compound'] >= 0.05 :\n",
    "\t\tprint(\"Positive\")\n",
    "\n",
    "\telif sentiment_dict['compound'] <= - 0.05 :\n",
    "\t\tprint(\"Negative\")\n",
    "\n",
    "\telse :\n",
    "\t\tprint(\"Neutral\")\n",
    "\n",
    "\n",
    "\n",
    "# Driver code\n",
    "if __name__ == \"__main__\" :\n",
    "\n",
    "\tprint(\"\\n1st statement :\")\n",
    "\tsentence = \"Geeks For Geeks is the best portal for \\\n",
    "\t\t\t\tthe computer science engineering students.\"\n",
    "\n",
    "\t# function calling\n",
    "\tsentiment_scores(sentence)\n",
    "\n",
    "\tprint(\"\\n2nd Statement :\")\n",
    "\tsentence = \"study is going on as usual\"\n",
    "\tsentiment_scores(sentence)\n",
    "\n",
    "\tprint(\"\\n3rd Statement :\")\n",
    "\tsentence = \"I am very sad today.\"\n",
    "\tsentiment_scores(sentence)\n"
   ]
  },
  {
   "cell_type": "code",
   "execution_count": 147,
   "metadata": {},
   "outputs": [
    {
     "name": "stdout",
     "output_type": "stream",
     "text": [
      "Empty DataFrame\n",
      "Columns: [Company]\n",
      "Index: []\n"
     ]
    }
   ],
   "source": [
    "# code to extract stock ticker mentions from the social media posts \n",
    "\n",
    "import pandas as pd\n",
    "import re\n",
    "\n",
    "# Sample text containing stock mentions\n",
    "text = \"I just bought $GME and $AAPL, and I'm considering $AMZN as well. $gme is on fire! GME, Gamestop, gamestop, GameStop, gme.\"\n",
    "\n",
    "# Sample list of publicly traded tickers\n",
    "ticker_data = {\n",
    "    'Ticker': ['$GME', '$AAPL', '$AMZN', '$TSLA'],\n",
    "    'Company': ['GameStop Inc.', 'Apple Inc.', 'Amazon.com Inc.', 'Tesla, Inc.']\n",
    "}\n",
    "\n",
    "# Create a DataFrame from the ticker data\n",
    "ticker_df = pd.DataFrame(ticker_data)\n",
    "\n",
    "# Define a regular expression pattern to find stock mentions\n",
    "pattern = r'\\$?(?i)\\b(' + '|'.join(map(re.escape, ticker_df['Ticker'])) + r')\\b'\n",
    "\n",
    "# Find all stock mentions in the text\n",
    "mentions = re.findall(pattern, text)\n",
    "\n",
    "# Remove duplicate mentions\n",
    "unique_mentions = list(set(mentions))\n",
    "\n",
    "# Create a dictionary to store the mentions and associated companies\n",
    "mentions_dict = {}\n",
    "for mention in unique_mentions:\n",
    "    company = ticker_df[ticker_df['Ticker'].str.lower() == mention.lstrip('$').lower()]['Company'].values[0]\n",
    "    mentions_dict[mention] = company\n",
    "\n",
    "# Create a DataFrame from the mentions dictionary\n",
    "mentions_df = pd.DataFrame.from_dict(mentions_dict, orient='index', columns=['Company'])\n",
    "\n",
    "# Print the extracted mentions\n",
    "print(mentions_df)\n"
   ]
  },
  {
   "cell_type": "code",
   "execution_count": null,
   "metadata": {},
   "outputs": [],
   "source": []
  }
 ],
 "metadata": {
  "kernelspec": {
   "display_name": "myenv2",
   "language": "python",
   "name": "python3"
  },
  "language_info": {
   "codemirror_mode": {
    "name": "ipython",
    "version": 3
   },
   "file_extension": ".py",
   "mimetype": "text/x-python",
   "name": "python",
   "nbconvert_exporter": "python",
   "pygments_lexer": "ipython3",
   "version": "3.8.16"
  }
 },
 "nbformat": 4,
 "nbformat_minor": 2
}
