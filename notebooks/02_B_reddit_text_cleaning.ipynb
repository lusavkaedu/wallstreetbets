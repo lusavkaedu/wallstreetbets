{
 "cells": [
  {
   "cell_type": "markdown",
   "id": "713e2b95",
   "metadata": {},
   "source": [
    "# Identifying Precise Forecasters on r/Wallstreetbets\n",
    "**BrainStation Data Science Bootcamp - Capstone Project**\n",
    "\n",
    "**Author: L Gavrilova**\n",
    "\n",
    "**Date: 6 November 2023**"
   ]
  },
  {
   "cell_type": "markdown",
   "id": "ac8905b9",
   "metadata": {},
   "source": [
    "# Notebook 2B - Reddit datasets - Text Cleaning "
   ]
  },
  {
   "cell_type": "markdown",
   "id": "69e991fd",
   "metadata": {},
   "source": [
    "## 2.0. Introduction"
   ]
  },
  {
   "cell_type": "markdown",
   "metadata": {},
   "source": [
    "This notebook is a close copy of the notbook for cleaning the labelled dataset. \n",
    "\n",
    "In this notebook 2B I perform the following steps:\n",
    "\n",
    "1. I load the reddit dataset and repeat all the same cleaning steps that I designed for cleaning the labelled dataset (removing website links, removing and preserving emojis, applying WSB dictionary, empty spcaes removal, etc). \n",
    "2. I merged the 'title' and 'selftext' fields from the reddit dataset into one new column named 'text'.  This is done to simplify processing (to process one column, instead of two). Moreover, in nearly 30% of rows 'selftext' has missing value, whereas 'title' column had no missing values.  It made sense to combine these two columns as they carry no significnat difference in meaning or significance. \n",
    "\n",
    "The reselt is a csv file that is prepared for further machine processing. "
   ]
  },
  {
   "cell_type": "markdown",
   "metadata": {},
   "source": [
    "## 2.1. Cleaning Text"
   ]
  },
  {
   "cell_type": "markdown",
   "id": "65f51324",
   "metadata": {},
   "source": [
    "### 2.1.1. Data Loading and Basic Checks"
   ]
  },
  {
   "cell_type": "code",
   "execution_count": 124,
   "id": "f3e553e3",
   "metadata": {},
   "outputs": [],
   "source": [
    "# Standard Libraries for data manipulation\n",
    "import pandas as pd\n",
    "import numpy as np\n",
    "\n",
    "# Regular Expressions Library\n",
    "import re\n",
    "\n",
    "# Emoji Handling Library\n",
    "import emoji"
   ]
  },
  {
   "cell_type": "code",
   "execution_count": 125,
   "metadata": {},
   "outputs": [],
   "source": [
    "df = pd.read_csv('../data/reddit_GMEonly_cleaned.csv')"
   ]
  },
  {
   "cell_type": "code",
   "execution_count": 126,
   "metadata": {},
   "outputs": [
    {
     "name": "stdout",
     "output_type": "stream",
     "text": [
      "<class 'pandas.core.frame.DataFrame'>\n",
      "RangeIndex: 155167 entries, 0 to 155166\n",
      "Data columns (total 18 columns):\n",
      " #   Column               Non-Null Count   Dtype  \n",
      "---  ------               --------------   -----  \n",
      " 0   id                   155167 non-null  object \n",
      " 1   author               155167 non-null  object \n",
      " 2   created              155167 non-null  object \n",
      " 3   removed              155167 non-null  int64  \n",
      " 4   deleted              155167 non-null  int64  \n",
      " 5   is_self              155167 non-null  int64  \n",
      " 6   is_video             155167 non-null  int64  \n",
      " 7   title                155167 non-null  object \n",
      " 8   link_flair_text      155167 non-null  object \n",
      " 9   upvote_ratio         155167 non-null  float64\n",
      " 10  score                155167 non-null  int64  \n",
      " 11  num_comments         155167 non-null  int64  \n",
      " 12  selftext             110596 non-null  object \n",
      " 13  shortlink            155167 non-null  object \n",
      " 14  FolderName           155167 non-null  object \n",
      " 15  word_count_selftext  155167 non-null  int64  \n",
      " 16  word_count_title     155167 non-null  int64  \n",
      " 17  date                 155167 non-null  object \n",
      "dtypes: float64(1), int64(8), object(9)\n",
      "memory usage: 21.3+ MB\n"
     ]
    }
   ],
   "source": [
    "df.info()"
   ]
  },
  {
   "cell_type": "code",
   "execution_count": 127,
   "metadata": {},
   "outputs": [
    {
     "data": {
      "text/html": [
       "<div>\n",
       "<style scoped>\n",
       "    .dataframe tbody tr th:only-of-type {\n",
       "        vertical-align: middle;\n",
       "    }\n",
       "\n",
       "    .dataframe tbody tr th {\n",
       "        vertical-align: top;\n",
       "    }\n",
       "\n",
       "    .dataframe thead th {\n",
       "        text-align: right;\n",
       "    }\n",
       "</style>\n",
       "<table border=\"1\" class=\"dataframe\">\n",
       "  <thead>\n",
       "    <tr style=\"text-align: right;\">\n",
       "      <th></th>\n",
       "      <th>id</th>\n",
       "      <th>author</th>\n",
       "      <th>created</th>\n",
       "      <th>removed</th>\n",
       "      <th>deleted</th>\n",
       "      <th>is_self</th>\n",
       "      <th>is_video</th>\n",
       "      <th>title</th>\n",
       "      <th>link_flair_text</th>\n",
       "      <th>upvote_ratio</th>\n",
       "      <th>score</th>\n",
       "      <th>num_comments</th>\n",
       "      <th>selftext</th>\n",
       "      <th>shortlink</th>\n",
       "      <th>FolderName</th>\n",
       "      <th>word_count_selftext</th>\n",
       "      <th>word_count_title</th>\n",
       "      <th>date</th>\n",
       "    </tr>\n",
       "  </thead>\n",
       "  <tbody>\n",
       "    <tr>\n",
       "      <th>134896</th>\n",
       "      <td>lhek03</td>\n",
       "      <td>ExAstrisSapientiae</td>\n",
       "      <td>2021-02-11 06:17:33</td>\n",
       "      <td>1</td>\n",
       "      <td>0</td>\n",
       "      <td>1</td>\n",
       "      <td>0</td>\n",
       "      <td>Anyone else feeling suicidal from YOLO GME losses?</td>\n",
       "      <td>Discussion</td>\n",
       "      <td>1.00</td>\n",
       "      <td>1</td>\n",
       "      <td>0</td>\n",
       "      <td>[removed]</td>\n",
       "      <td>https://redd.it/lhek03</td>\n",
       "      <td>wallstreetbets</td>\n",
       "      <td>1</td>\n",
       "      <td>8</td>\n",
       "      <td>2021-02-11</td>\n",
       "    </tr>\n",
       "    <tr>\n",
       "      <th>100561</th>\n",
       "      <td>l6d1hy</td>\n",
       "      <td>AOR66</td>\n",
       "      <td>2021-01-27 20:03:12</td>\n",
       "      <td>1</td>\n",
       "      <td>0</td>\n",
       "      <td>0</td>\n",
       "      <td>0</td>\n",
       "      <td>Gamestop Short Seller Melvin Capital's Plotkin paid $32M for mansion, $12M for house next door in Miami</td>\n",
       "      <td>News</td>\n",
       "      <td>1.00</td>\n",
       "      <td>1</td>\n",
       "      <td>1</td>\n",
       "      <td>NaN</td>\n",
       "      <td>https://redd.it/l6d1hy</td>\n",
       "      <td>wallstreetbets</td>\n",
       "      <td>1</td>\n",
       "      <td>17</td>\n",
       "      <td>2021-01-27</td>\n",
       "    </tr>\n",
       "    <tr>\n",
       "      <th>31582</th>\n",
       "      <td>mfcsj5</td>\n",
       "      <td>Morphen</td>\n",
       "      <td>2021-03-28 23:32:29</td>\n",
       "      <td>0</td>\n",
       "      <td>0</td>\n",
       "      <td>0</td>\n",
       "      <td>1</td>\n",
       "      <td>This is how the latest HF strategy feels when your entire portfolio is GME.</td>\n",
       "      <td>Memes 🤣</td>\n",
       "      <td>0.91</td>\n",
       "      <td>168</td>\n",
       "      <td>12</td>\n",
       "      <td>NaN</td>\n",
       "      <td>https://redd.it/mfcsj5</td>\n",
       "      <td>gme</td>\n",
       "      <td>1</td>\n",
       "      <td>14</td>\n",
       "      <td>2021-03-28</td>\n",
       "    </tr>\n",
       "    <tr>\n",
       "      <th>33817</th>\n",
       "      <td>l9i6fp</td>\n",
       "      <td>Bluebird_Civil</td>\n",
       "      <td>2021-01-31 18:17:20</td>\n",
       "      <td>0</td>\n",
       "      <td>0</td>\n",
       "      <td>1</td>\n",
       "      <td>0</td>\n",
       "      <td>Good faith violation?</td>\n",
       "      <td>Question</td>\n",
       "      <td>0.74</td>\n",
       "      <td>7</td>\n",
       "      <td>11</td>\n",
       "      <td>I just recently opened a fidelity account and deposited some cash. I have enough cash available to trade and to buy a stock i wanted but it is telling me that I am going to exceed my settled cash balance and that selling these shares before paying in full could result in a good faith violation. So let's say I buy a share of GME and sell it within the same day is that a violation?</td>\n",
       "      <td>https://redd.it/l9i6fp</td>\n",
       "      <td>stocks</td>\n",
       "      <td>76</td>\n",
       "      <td>3</td>\n",
       "      <td>2021-01-31</td>\n",
       "    </tr>\n",
       "    <tr>\n",
       "      <th>133339</th>\n",
       "      <td>l8a5y3</td>\n",
       "      <td>Bedigdekermenjian</td>\n",
       "      <td>2021-01-30 01:20:16</td>\n",
       "      <td>1</td>\n",
       "      <td>0</td>\n",
       "      <td>1</td>\n",
       "      <td>0</td>\n",
       "      <td>Post for Newbies who want in on $GME or $AMC</td>\n",
       "      <td>Discussion</td>\n",
       "      <td>1.00</td>\n",
       "      <td>1</td>\n",
       "      <td>0</td>\n",
       "      <td>[removed]</td>\n",
       "      <td>https://redd.it/l8a5y3</td>\n",
       "      <td>wallstreetbets</td>\n",
       "      <td>1</td>\n",
       "      <td>10</td>\n",
       "      <td>2021-01-30</td>\n",
       "    </tr>\n",
       "  </tbody>\n",
       "</table>\n",
       "</div>"
      ],
      "text/plain": [
       "            id              author              created  removed  deleted  \\\n",
       "134896  lhek03  ExAstrisSapientiae  2021-02-11 06:17:33        1        0   \n",
       "100561  l6d1hy               AOR66  2021-01-27 20:03:12        1        0   \n",
       "31582   mfcsj5             Morphen  2021-03-28 23:32:29        0        0   \n",
       "33817   l9i6fp      Bluebird_Civil  2021-01-31 18:17:20        0        0   \n",
       "133339  l8a5y3   Bedigdekermenjian  2021-01-30 01:20:16        1        0   \n",
       "\n",
       "        is_self  is_video  \\\n",
       "134896        1         0   \n",
       "100561        0         0   \n",
       "31582         0         1   \n",
       "33817         1         0   \n",
       "133339        1         0   \n",
       "\n",
       "                                                                                                          title  \\\n",
       "134896                                                       Anyone else feeling suicidal from YOLO GME losses?   \n",
       "100561  Gamestop Short Seller Melvin Capital's Plotkin paid $32M for mansion, $12M for house next door in Miami   \n",
       "31582                               This is how the latest HF strategy feels when your entire portfolio is GME.   \n",
       "33817                                                                                     Good faith violation?   \n",
       "133339                                                             Post for Newbies who want in on $GME or $AMC   \n",
       "\n",
       "       link_flair_text  upvote_ratio  score  num_comments  \\\n",
       "134896      Discussion          1.00      1             0   \n",
       "100561            News          1.00      1             1   \n",
       "31582          Memes 🤣          0.91    168            12   \n",
       "33817         Question          0.74      7            11   \n",
       "133339      Discussion          1.00      1             0   \n",
       "\n",
       "                                                                                                                                                                                                                                                                                                                                                                                              selftext  \\\n",
       "134896                                                                                                                                                                                                                                                                                                                                                                                       [removed]   \n",
       "100561                                                                                                                                                                                                                                                                                                                                                                                             NaN   \n",
       "31582                                                                                                                                                                                                                                                                                                                                                                                              NaN   \n",
       "33817   I just recently opened a fidelity account and deposited some cash. I have enough cash available to trade and to buy a stock i wanted but it is telling me that I am going to exceed my settled cash balance and that selling these shares before paying in full could result in a good faith violation. So let's say I buy a share of GME and sell it within the same day is that a violation?   \n",
       "133339                                                                                                                                                                                                                                                                                                                                                                                       [removed]   \n",
       "\n",
       "                     shortlink      FolderName  word_count_selftext  \\\n",
       "134896  https://redd.it/lhek03  wallstreetbets                    1   \n",
       "100561  https://redd.it/l6d1hy  wallstreetbets                    1   \n",
       "31582   https://redd.it/mfcsj5             gme                    1   \n",
       "33817   https://redd.it/l9i6fp          stocks                   76   \n",
       "133339  https://redd.it/l8a5y3  wallstreetbets                    1   \n",
       "\n",
       "        word_count_title        date  \n",
       "134896                 8  2021-02-11  \n",
       "100561                17  2021-01-27  \n",
       "31582                 14  2021-03-28  \n",
       "33817                  3  2021-01-31  \n",
       "133339                10  2021-01-30  "
      ]
     },
     "execution_count": 127,
     "metadata": {},
     "output_type": "execute_result"
    }
   ],
   "source": [
    "df.sample(5)"
   ]
  },
  {
   "cell_type": "code",
   "execution_count": 129,
   "metadata": {},
   "outputs": [
    {
     "data": {
      "text/plain": [
       "True"
      ]
     },
     "execution_count": 129,
     "metadata": {},
     "output_type": "execute_result"
    }
   ],
   "source": [
    "df['id'].nunique() == df.shape[0]"
   ]
  },
  {
   "cell_type": "code",
   "execution_count": 130,
   "metadata": {},
   "outputs": [
    {
     "data": {
      "text/plain": [
       "id                     0.000000\n",
       "author                 0.000000\n",
       "created                0.000000\n",
       "removed                0.000000\n",
       "deleted                0.000000\n",
       "is_self                0.000000\n",
       "is_video               0.000000\n",
       "title                  0.000000\n",
       "link_flair_text        0.000000\n",
       "upvote_ratio           0.000000\n",
       "score                  0.000000\n",
       "num_comments           0.000000\n",
       "selftext               0.287245\n",
       "shortlink              0.000000\n",
       "FolderName             0.000000\n",
       "word_count_selftext    0.000000\n",
       "word_count_title       0.000000\n",
       "date                   0.000000\n",
       "dtype: float64"
      ]
     },
     "execution_count": 130,
     "metadata": {},
     "output_type": "execute_result"
    }
   ],
   "source": [
    "df.isna().sum()/df.shape[0]"
   ]
  },
  {
   "cell_type": "code",
   "execution_count": 131,
   "metadata": {},
   "outputs": [],
   "source": [
    "df_clean = df.copy() "
   ]
  },
  {
   "cell_type": "code",
   "execution_count": 132,
   "metadata": {},
   "outputs": [
    {
     "name": "stdout",
     "output_type": "stream",
     "text": [
      "Number of missing values in 'title_selftext': 0\n"
     ]
    }
   ],
   "source": [
    "# Concatenate 'title' and 'selftext' into a new column 'title_selftext'\n",
    "df_clean['text'] = df_clean['title'] + ' ' + df_clean['selftext'].fillna('')\n",
    "\n",
    "# Check for missing values in the new 'title_selftext' column\n",
    "missing_values = df_clean['text'].isnull().sum()\n",
    "\n",
    "# Print the number of missing values\n",
    "print(f\"Number of missing values in 'title_selftext': {missing_values}\")\n",
    "\n",
    "# Drop the legacy columns 'selftext' and 'title'\n",
    "df_clean = df_clean.drop(columns=['title', 'selftext'])"
   ]
  },
  {
   "cell_type": "code",
   "execution_count": 133,
   "metadata": {},
   "outputs": [],
   "source": [
    "# Function to clean text\n",
    "def purge_content(text):\n",
    "    if pd.isna(text):\n",
    "        return text  # Return NaN as it is\n",
    "    text_without_urls = re.sub(r'https?://\\S+|www\\.\\S+', '', text)\n",
    "    text_without_hashtags = re.sub(r'#\\S+', '', text_without_urls)\n",
    "    text_without_mentions = re.sub(r'@\\S+', '', text_without_hashtags)\n",
    "    clean_text = re.sub(r'\\n+', ' ', text_without_mentions)\n",
    "\n",
    "    return clean_text\n",
    "\n",
    "# Use the apply function to clean the 'selftext' column\n",
    "df_clean.loc[:, 'text'] = df_clean['text'].apply(purge_content)"
   ]
  },
  {
   "cell_type": "code",
   "execution_count": 134,
   "metadata": {},
   "outputs": [],
   "source": [
    "pd.set_option('display.max_colwidth', None)"
   ]
  },
  {
   "cell_type": "code",
   "execution_count": 135,
   "metadata": {},
   "outputs": [
    {
     "data": {
      "text/html": [
       "<div>\n",
       "<style scoped>\n",
       "    .dataframe tbody tr th:only-of-type {\n",
       "        vertical-align: middle;\n",
       "    }\n",
       "\n",
       "    .dataframe tbody tr th {\n",
       "        vertical-align: top;\n",
       "    }\n",
       "\n",
       "    .dataframe thead th {\n",
       "        text-align: right;\n",
       "    }\n",
       "</style>\n",
       "<table border=\"1\" class=\"dataframe\">\n",
       "  <thead>\n",
       "    <tr style=\"text-align: right;\">\n",
       "      <th></th>\n",
       "      <th>id</th>\n",
       "      <th>author</th>\n",
       "      <th>created</th>\n",
       "      <th>removed</th>\n",
       "      <th>deleted</th>\n",
       "      <th>is_self</th>\n",
       "      <th>is_video</th>\n",
       "      <th>link_flair_text</th>\n",
       "      <th>upvote_ratio</th>\n",
       "      <th>score</th>\n",
       "      <th>num_comments</th>\n",
       "      <th>shortlink</th>\n",
       "      <th>FolderName</th>\n",
       "      <th>word_count_selftext</th>\n",
       "      <th>word_count_title</th>\n",
       "      <th>date</th>\n",
       "      <th>text</th>\n",
       "    </tr>\n",
       "  </thead>\n",
       "  <tbody>\n",
       "  </tbody>\n",
       "</table>\n",
       "</div>"
      ],
      "text/plain": [
       "Empty DataFrame\n",
       "Columns: [id, author, created, removed, deleted, is_self, is_video, link_flair_text, upvote_ratio, score, num_comments, shortlink, FolderName, word_count_selftext, word_count_title, date, text]\n",
       "Index: []"
      ]
     },
     "execution_count": 135,
     "metadata": {},
     "output_type": "execute_result"
    }
   ],
   "source": [
    "# sanity check\n",
    "df_clean[df_clean['text'] == '']"
   ]
  },
  {
   "cell_type": "code",
   "execution_count": 136,
   "metadata": {},
   "outputs": [],
   "source": [
    "# Drop rows where the 'Text' column is an empty string\n",
    "df_clean = df_clean[df_clean['text'] != '']"
   ]
  },
  {
   "cell_type": "code",
   "execution_count": 137,
   "metadata": {},
   "outputs": [],
   "source": [
    "# Recording the cleaned dataset as a new csv file to be used in other notebooks:\n",
    "# Save the DataFrame to a CSV file\n",
    "# df.to_csv('../data/reddit_GMEonly_cleaned2.csv', index=False)"
   ]
  },
  {
   "cell_type": "markdown",
   "id": "f57b4226",
   "metadata": {},
   "source": [
    "### 2.1.2. Filtering out emojis by creating a new column"
   ]
  },
  {
   "cell_type": "code",
   "execution_count": 138,
   "id": "5e983b50",
   "metadata": {},
   "outputs": [],
   "source": [
    "# Function to map emojis to their descriptions\n",
    "def emoji_description(emoji):\n",
    "    emoji_map = {\n",
    "        \"🚀\": \" super optimistic, \",\n",
    "        \"🦍\": \" brotherhood, \",\n",
    "        \"🤞\": \" hope, \",\n",
    "        \"🌙\": \" very optimistic, \",\n",
    "        \"🌕\": \" very optimistic, \",\n",
    "        \"💎🤚🏼\": \" patient investors, \",\n",
    "        \"💎🖐\": \" patient investors, \",\n",
    "        \"💎🙌\": \" patient investors, \",\n",
    "        \"🙌\": \" patient investors, \",\n",
    "        \"💎\": \" patient investors, \",\n",
    "        \"🧻🤚🏼\": \" impatient investors, \",\n",
    "        \"🧻🖐\": \" impatient investors, \",\n",
    "        # Add more mappings as needed\n",
    "    }\n",
    "    # If the full emoji is in the map, return the description\n",
    "    if emoji in emoji_map:\n",
    "        return emoji_map[emoji]\n",
    "    # If not, split any combined emojis and look up their individual descriptions\n",
    "    else:\n",
    "        return ''.join([emoji_map.get(char, '') for char in emoji])  # Default to empty string if not in mapping\n",
    "\n",
    "def extract_and_replace_emojis(df, text_column_name='Text', emoji_column_name='emoji_text'):\n",
    "    # Initialize an empty column for extracted emojis if a column name is provided\n",
    "    if emoji_column_name:\n",
    "        df[emoji_column_name] = ''\n",
    "\n",
    "    # Function to extract and replace emojis in a text\n",
    "    def process_text(text):\n",
    "        emoji_pattern = re.compile(r'[\\U0001F600-\\U0001F64F\\U0001F300-\\U0001F5FF\\U0001F680-\\U0001F6FF\\U0001F700-\\U0001F77F\\U0001F780-\\U0001F7FF\\U0001F800-\\U0001F8FF\\U0001F900-\\U0001F9FF\\U0001FA00-\\U0001FA6F\\U0001FA70-\\U0001FAFF\\U0001FB00-\\U0001FBFF\\U0001F004]+')\n",
    "\n",
    "        # Find all emojis in the text using the regex pattern\n",
    "        emoji_matches = emoji_pattern.findall(text)\n",
    "        emojis_extracted = ''\n",
    "        text_with_replaced_emojis = text\n",
    "\n",
    "        # Iterate over the found emojis\n",
    "        for emoji_str in emoji_matches:\n",
    "            # For each emoji in the emoji string\n",
    "            for emoji_char in emoji_str:\n",
    "                emoji_desc = emoji_description(emoji_char)  # Get description for individual emoji\n",
    "                text_with_replaced_emojis = text_with_replaced_emojis.replace(emoji_char, emoji_desc, 1)\n",
    "                emojis_extracted += emoji_char + ' '  # Add space to separate emojis\n",
    "\n",
    "        # Return the modified text and the extracted emojis\n",
    "        return text_with_replaced_emojis, emojis_extracted.strip()\n",
    "\n",
    "    # Apply the processing function to the specified column and create new columns for text and emojis\n",
    "    result = df[text_column_name].apply(process_text)\n",
    "    df[text_column_name] = result.apply(lambda x: x[0])\n",
    "    \n",
    "    if emoji_column_name:\n",
    "        df[emoji_column_name] = result.apply(lambda x: x[1])\n",
    "\n",
    "    return df"
   ]
  },
  {
   "cell_type": "code",
   "execution_count": 139,
   "id": "a7c98bc5",
   "metadata": {},
   "outputs": [],
   "source": [
    "# Applying the function to extract and replace emojis from 'Text' column\n",
    "df_clean = df_clean.copy()\n",
    "df_clean = extract_and_replace_emojis(df_clean, text_column_name='text', emoji_column_name='emoji_text')"
   ]
  },
  {
   "cell_type": "code",
   "execution_count": 140,
   "id": "4be45fbf",
   "metadata": {},
   "outputs": [
    {
     "data": {
      "text/plain": [
       "emoji_text\n",
       "                                           118163\n",
       "🚀 🚀 🚀                                        3202\n",
       "🚀                                            2139\n",
       "🚀 🚀 🚀 🚀                                      1311\n",
       "🚀 🚀                                          1185\n",
       "                                            ...  \n",
       "💲 💎 💎                                           1\n",
       "🤤 💎 💎 🚀 🚀 🚀                                     1\n",
       "🌖 🦧 🍌 🚀 💎 🙌                                     1\n",
       "💎 💎 💎 💎 💎 💎 🙏 🏼 🙏 🏼 🙏 🏼 🙏 🏼 💎 💎 💎 💎 💎 💎         1\n",
       "🥝 🚀 🚀 🚀                                         1\n",
       "Name: count, Length: 12881, dtype: int64"
      ]
     },
     "execution_count": 140,
     "metadata": {},
     "output_type": "execute_result"
    }
   ],
   "source": [
    "# Checking the new column with emojis extracted from the text\n",
    "df_clean.sample().T\n",
    "df_clean['emoji_text'].value_counts()"
   ]
  },
  {
   "cell_type": "markdown",
   "metadata": {},
   "source": [
    "### 2.1.3. Replacing slang with a custom made \"WSB Dictionary\""
   ]
  },
  {
   "cell_type": "code",
   "execution_count": 141,
   "metadata": {},
   "outputs": [],
   "source": [
    "# Load the WSB lingo dictionary\n",
    "wsb_dict_df = pd.read_csv('../data/WSB_dictionary.csv')\n",
    "\n",
    "# Convert the DataFrame to a dictionary\n",
    "wsb_dict = dict(zip(wsb_dict_df['WSB lingo'], wsb_dict_df['English']))\n",
    "\n",
    "# Function to replace WSB lingo with English\n",
    "def replace_wsb_lingo(text):\n",
    "    # Use a regex pattern to match only whole words\n",
    "    pattern = r'\\b(' + '|'.join(re.escape(key) for key in wsb_dict.keys()) + r')\\b'\n",
    "    # Replace occurrences of each lingo with the English equivalent\n",
    "    return re.sub(pattern, lambda x: wsb_dict[x.group()], text)\n",
    "\n",
    "# Apply the function to the 'Text' column\n",
    "df_clean['text'] = df_clean['text'].apply(replace_wsb_lingo)"
   ]
  },
  {
   "cell_type": "markdown",
   "metadata": {},
   "source": [
    "### 2.1.4 Examples of texts before and after the cleaning steps"
   ]
  },
  {
   "cell_type": "code",
   "execution_count": 142,
   "metadata": {},
   "outputs": [
    {
     "name": "stdout",
     "output_type": "stream",
     "text": [
      "id                                                                                lb2mfm\n",
      "author                                                                    scott_doge_wow\n",
      "created                                                              2021-02-02 18:26:07\n",
      "removed                                                                                1\n",
      "deleted                                                                                0\n",
      "is_self                                                                                0\n",
      "is_video                                                                               0\n",
      "title                  My friend got his boomer mom to buy some $GME. 💎🤲 ANYONE CAN HOLD\n",
      "link_flair_text                                                                     YOLO\n",
      "upvote_ratio                                                                        0.96\n",
      "score                                                                               7993\n",
      "num_comments                                                                         253\n",
      "selftext                                                                             NaN\n",
      "shortlink                                                         https://redd.it/lb2mfm\n",
      "FolderName                                                                wallstreetbets\n",
      "word_count_selftext                                                                    1\n",
      "word_count_title                                                                      14\n",
      "date                                                                          2021-02-02\n",
      "Name: 2026, dtype: object\n",
      "id                                                                                                   lb2mfm\n",
      "author                                                                                       scott_doge_wow\n",
      "created                                                                                 2021-02-02 18:26:07\n",
      "removed                                                                                                   1\n",
      "deleted                                                                                                   0\n",
      "is_self                                                                                                   0\n",
      "is_video                                                                                                  0\n",
      "link_flair_text                                                                                        YOLO\n",
      "upvote_ratio                                                                                           0.96\n",
      "score                                                                                                  7993\n",
      "num_comments                                                                                            253\n",
      "shortlink                                                                            https://redd.it/lb2mfm\n",
      "FolderName                                                                                   wallstreetbets\n",
      "word_count_selftext                                                                                       1\n",
      "word_count_title                                                                                         14\n",
      "date                                                                                             2021-02-02\n",
      "text                   My friend got his boomer mom to buy some $GME.  patient investors,  ANYONE CAN HOLD \n",
      "emoji_text                                                                                              💎 🤲\n",
      "Name: 2026, dtype: object\n"
     ]
    }
   ],
   "source": [
    "original_with_index = df.loc[2026]\n",
    "print(original_with_index)\n",
    "\n",
    "clean_with_index = df_clean.loc[2026]\n",
    "print(clean_with_index)"
   ]
  },
  {
   "cell_type": "code",
   "execution_count": 143,
   "metadata": {},
   "outputs": [
    {
     "name": "stdout",
     "output_type": "stream",
     "text": [
      "id                                                     l8wp15\n",
      "author                                             davidr2448\n",
      "created                                   2021-01-30 21:52:05\n",
      "removed                                                     0\n",
      "deleted                                                     0\n",
      "is_self                                                     0\n",
      "is_video                                                    1\n",
      "title                  Current Situation 😂📈🚀🍿🔥 $GME $AMC $NOK\n",
      "link_flair_text                                          none\n",
      "upvote_ratio                                             0.98\n",
      "score                                                    1125\n",
      "num_comments                                              156\n",
      "selftext                                                  NaN\n",
      "shortlink                              https://redd.it/l8wp15\n",
      "FolderName                                                gme\n",
      "word_count_selftext                                         1\n",
      "word_count_title                                            6\n",
      "date                                               2021-01-30\n",
      "Name: 3386, dtype: object\n",
      "id                                                                    l8wp15\n",
      "author                                                            davidr2448\n",
      "created                                                  2021-01-30 21:52:05\n",
      "removed                                                                    0\n",
      "deleted                                                                    0\n",
      "is_self                                                                    0\n",
      "is_video                                                                   1\n",
      "link_flair_text                                                         none\n",
      "upvote_ratio                                                            0.98\n",
      "score                                                                   1125\n",
      "num_comments                                                             156\n",
      "shortlink                                             https://redd.it/l8wp15\n",
      "FolderName                                                               gme\n",
      "word_count_selftext                                                        1\n",
      "word_count_title                                                           6\n",
      "date                                                              2021-01-30\n",
      "text                   Current Situation  super optimistic,  $GME $AMC $NOK \n",
      "emoji_text                                                         😂 📈 🚀 🍿 🔥\n",
      "Name: 3386, dtype: object\n"
     ]
    }
   ],
   "source": [
    "original_with_index = df.loc[3386]\n",
    "print(original_with_index)\n",
    "\n",
    "clean_with_index = df_clean.loc[3386]\n",
    "print(clean_with_index)"
   ]
  },
  {
   "cell_type": "markdown",
   "id": "a82d8ec9",
   "metadata": {},
   "source": [
    "## 2.2. Exporting the cleaned dataset into .csv file"
   ]
  },
  {
   "cell_type": "code",
   "execution_count": 144,
   "metadata": {},
   "outputs": [],
   "source": [
    "# Recording the cleaned dataset as a new csv file to be used in future:\n",
    "# Save the DataFrame to a CSV file\n",
    "df_clean.to_csv('../data/reddit_GMEonly_wo_emoji.csv', index=False)"
   ]
  }
 ],
 "metadata": {
  "kernelspec": {
   "display_name": "Python 3 (ipykernel)",
   "language": "python",
   "name": "python3"
  },
  "language_info": {
   "codemirror_mode": {
    "name": "ipython",
    "version": 3
   },
   "file_extension": ".py",
   "mimetype": "text/x-python",
   "name": "python",
   "nbconvert_exporter": "python",
   "pygments_lexer": "ipython3",
   "version": "3.8.16"
  }
 },
 "nbformat": 4,
 "nbformat_minor": 5
}
