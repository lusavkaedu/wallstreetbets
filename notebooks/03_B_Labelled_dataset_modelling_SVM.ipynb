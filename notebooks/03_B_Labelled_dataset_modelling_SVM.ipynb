{
 "cells": [
  {
   "cell_type": "markdown",
   "metadata": {},
   "source": [
    "# Capstone Project \n",
    "\n",
    "**BrainStation Data Science Bootcamp - Machine Learning Project**\n",
    "\n",
    "**Author: L Gavrilova**\n",
    "\n",
    "**Date: 10 November 2023**"
   ]
  },
  {
   "cell_type": "markdown",
   "metadata": {
    "Collapsed": "false"
   },
   "source": [
    "# Notebook 3A. Labelled Dataset - Modelling"
   ]
  },
  {
   "cell_type": "markdown",
   "metadata": {
    "Collapsed": "false"
   },
   "source": [
    "## Introduction"
   ]
  },
  {
   "cell_type": "markdown",
   "metadata": {},
   "source": [
    "In this notebook I perform basic modelling for the labelled dataset. This notebook consists of the following sections:\n",
    "\n",
    "* 3.0. Loading the data and perfoming data quality checks. \n",
    "* 3.1. Regression preparation. Assigning target variable y. Custom tokenization function is defined. Train and text split is made. \n",
    "* 3.2. Vectorization.  Most common words identified.  SMOTE sampling set up due to imbalance in data.\n",
    "* 3.3. Simple logistic regression. Positive and negative coefficients for word tokens. \n",
    "* 3.4. Gridsearch for the best logistic regression model. \n",
    "* 3.5. Decision Tree Classifier\n",
    "* 3.6. VADER sentiment analyser.\n",
    "* 3.7. Textblob from NLTK\n",
    "* 3.8. Conclusions"
   ]
  },
  {
   "cell_type": "markdown",
   "metadata": {},
   "source": [
    "## 3.0 Data loading and data quality checks"
   ]
  },
  {
   "cell_type": "code",
   "execution_count": 21,
   "metadata": {
    "Collapsed": "false"
   },
   "outputs": [],
   "source": [
    "import re\n",
    "import numpy as np\n",
    "import pandas as pd\n",
    "\n",
    "# Visualization Libraries\n",
    "import matplotlib.pyplot as plt\n",
    "import seaborn as sns\n",
    "\n",
    "# Set visualization and pandas display options\n",
    "plt.rcParams['figure.figsize'] = (6.0, 4.0)\n",
    "plt.style.use('ggplot')\n",
    "pd.set_option('display.float_format', '{:.2f}'.format)\n",
    "\n",
    "# NLP Libraries\n",
    "from nltk.corpus import stopwords\n",
    "from nltk.stem import PorterStemmer, WordNetLemmatizer\n",
    "\n",
    "# Sentiment Analysis Libraries\n",
    "from textblob import TextBlob\n",
    "from vaderSentiment.vaderSentiment import SentimentIntensityAnalyzer\n",
    "\n",
    "# Machine Learning Libraries\n",
    "from sklearn.tree import DecisionTreeClassifier\n",
    "from sklearn.decomposition import PCA, TruncatedSVD\n",
    "from sklearn.linear_model import LogisticRegression\n",
    "from sklearn.metrics import (accuracy_score, classification_report, recall_score, \n",
    "                             precision_score, confusion_matrix, f1_score, roc_curve, auc,\n",
    "                             roc_auc_score, ConfusionMatrixDisplay)\n",
    "from sklearn.model_selection import (train_test_split, GridSearchCV, \n",
    "                                     cross_val_score)\n",
    "from sklearn.feature_extraction.text import CountVectorizer, TfidfVectorizer\n",
    "from sklearn.pipeline import Pipeline, make_pipeline\n",
    "from sklearn.preprocessing import StandardScaler\n",
    "\n",
    "# SMOTE for dealing with imbalanced datasets\n",
    "from imblearn.over_sampling import SMOTE"
   ]
  },
  {
   "cell_type": "code",
   "execution_count": 2,
   "metadata": {
    "Collapsed": "false"
   },
   "outputs": [],
   "source": [
    "DATAFILE = '../data/02_labelled_dataset_wo_emoji.csv'\n",
    "df = pd.read_csv(DATAFILE)"
   ]
  },
  {
   "cell_type": "markdown",
   "metadata": {},
   "source": [
    "## 3.1. Assigning target variable"
   ]
  },
  {
   "cell_type": "markdown",
   "metadata": {},
   "source": [
    "In the code below I assign new binary labels to the target variable \"Intent\".  I experimented with various approaches, for example encoding only \"yes\" asnwers with 1s, and the rest of teh answers as 0s.  I run all of theclassification models on various combinations of encoding.  The best results are achieved when \"yes\" and \"maybe\" categories are encoded as 1s and \"uncertain\", \"informative\", and \"no\" are encoded as 0s.  "
   ]
  },
  {
   "cell_type": "code",
   "execution_count": 4,
   "metadata": {},
   "outputs": [
    {
     "data": {
      "text/html": [
       "<div>\n",
       "<style scoped>\n",
       "    .dataframe tbody tr th:only-of-type {\n",
       "        vertical-align: middle;\n",
       "    }\n",
       "\n",
       "    .dataframe tbody tr th {\n",
       "        vertical-align: top;\n",
       "    }\n",
       "\n",
       "    .dataframe thead th {\n",
       "        text-align: right;\n",
       "    }\n",
       "</style>\n",
       "<table border=\"1\" class=\"dataframe\">\n",
       "  <thead>\n",
       "    <tr style=\"text-align: right;\">\n",
       "      <th></th>\n",
       "      <th>link_id</th>\n",
       "      <th>parent_id</th>\n",
       "      <th>User</th>\n",
       "      <th>Text</th>\n",
       "      <th>Intent</th>\n",
       "      <th>Support</th>\n",
       "      <th>emoji_text</th>\n",
       "    </tr>\n",
       "  </thead>\n",
       "  <tbody>\n",
       "    <tr>\n",
       "      <th>0</th>\n",
       "      <td>t3_l71j1l</td>\n",
       "      <td>t1_gl43z92</td>\n",
       "      <td>chasetate27</td>\n",
       "      <td>GME &amp;amp; BB are not on cashapp but AMC &amp;amp; ...</td>\n",
       "      <td>0</td>\n",
       "      <td>0</td>\n",
       "      <td>NaN</td>\n",
       "    </tr>\n",
       "    <tr>\n",
       "      <th>1</th>\n",
       "      <td>t3_ki3745</td>\n",
       "      <td>t3_ki3745</td>\n",
       "      <td>pmd5700</td>\n",
       "      <td>Oh GME, you tease!</td>\n",
       "      <td>0</td>\n",
       "      <td>0</td>\n",
       "      <td>NaN</td>\n",
       "    </tr>\n",
       "    <tr>\n",
       "      <th>2</th>\n",
       "      <td>t3_la75n9</td>\n",
       "      <td>t3_la75n9</td>\n",
       "      <td>PigLizzard</td>\n",
       "      <td>Dump gme, amc, nok, and bb so we can all buy s...</td>\n",
       "      <td>0</td>\n",
       "      <td>0</td>\n",
       "      <td>NaN</td>\n",
       "    </tr>\n",
       "    <tr>\n",
       "      <th>3</th>\n",
       "      <td>t3_lw6hoh</td>\n",
       "      <td>t1_gpfpvtf</td>\n",
       "      <td>anono87</td>\n",
       "      <td>Not a single decent double down posted? 9 bill...</td>\n",
       "      <td>0</td>\n",
       "      <td>0</td>\n",
       "      <td>NaN</td>\n",
       "    </tr>\n",
       "    <tr>\n",
       "      <th>4</th>\n",
       "      <td>t3_l9xqem</td>\n",
       "      <td>t3_l9xqem</td>\n",
       "      <td>gluino</td>\n",
       "      <td>Just got into $GME @ 220.</td>\n",
       "      <td>1</td>\n",
       "      <td>0</td>\n",
       "      <td>NaN</td>\n",
       "    </tr>\n",
       "  </tbody>\n",
       "</table>\n",
       "</div>"
      ],
      "text/plain": [
       "     link_id   parent_id         User  \\\n",
       "0  t3_l71j1l  t1_gl43z92  chasetate27   \n",
       "1  t3_ki3745   t3_ki3745      pmd5700   \n",
       "2  t3_la75n9   t3_la75n9   PigLizzard   \n",
       "3  t3_lw6hoh  t1_gpfpvtf      anono87   \n",
       "4  t3_l9xqem   t3_l9xqem       gluino   \n",
       "\n",
       "                                                Text  Intent  Support  \\\n",
       "0  GME &amp; BB are not on cashapp but AMC &amp; ...       0        0   \n",
       "1                                 Oh GME, you tease!       0        0   \n",
       "2  Dump gme, amc, nok, and bb so we can all buy s...       0        0   \n",
       "3  Not a single decent double down posted? 9 bill...       0        0   \n",
       "4                          Just got into $GME @ 220.       1        0   \n",
       "\n",
       "  emoji_text  \n",
       "0        NaN  \n",
       "1        NaN  \n",
       "2        NaN  \n",
       "3        NaN  \n",
       "4        NaN  "
      ]
     },
     "execution_count": 4,
     "metadata": {},
     "output_type": "execute_result"
    }
   ],
   "source": [
    "# Two options together\n",
    "df['Intent'] = np.where((df['Intent'] == 'y')  | (df['Intent'] == 'm'), 1, 0)\n",
    "df['Support'] = np.where((df['Support'] == 'y') | (df['Intent'] == 'm'), 1, 0)\n",
    "\n",
    "# Only one option\n",
    "# df['Intent'] = np.where((df['Intent'] == 'y'), 1, 0)\n",
    "# df['Support'] = np.where((df['Support'] == 'y'),1, 0)\n",
    "\n",
    "df.head()"
   ]
  },
  {
   "cell_type": "markdown",
   "metadata": {},
   "source": [
    "### 2.1.1. Custom Tokenization function"
   ]
  },
  {
   "cell_type": "code",
   "execution_count": 5,
   "metadata": {},
   "outputs": [],
   "source": [
    "#Load up our stop words from NLTK\n",
    "stop_words = stopwords.words('english')\n",
    "\n",
    "# Additional custom stopwords to add\n",
    "custom_stopwords = ['gamestop', 'gme', 'game']\n",
    "\n",
    "# Extend the NLTK stopwords list with custom stopwords\n",
    "stop_words.extend(custom_stopwords)"
   ]
  },
  {
   "cell_type": "code",
   "execution_count": 7,
   "metadata": {},
   "outputs": [],
   "source": [
    "# Defining my tokenisation function\n",
    "def my_tokenizer(document, lemmatization=True, stemming=False):\n",
    "    '''\n",
    "    Function for use in Vectorizer that tokenizes the document.\n",
    "    \n",
    "    Parameters:\n",
    "    - document: The text to be tokenized.\n",
    "    - lemmatization: If True, perform lemmatization.\n",
    "    - stemming: If True, perform stemming.\n",
    "    \n",
    "    Returns:\n",
    "    - A list of tokens.\n",
    "    '''\n",
    "    \n",
    "    # Replace newline characters with an empty string\n",
    "    document = document.replace(\"\\n\", \"\")\n",
    "\n",
    "    # Replace non-alphabetic characters with a space\n",
    "    document = re.sub(r\"[^a-zA-Z]\", \" \", document)\n",
    "\n",
    "    # Replace multiple spaces with a single space\n",
    "    document = re.sub(r\"\\s+\", \" \", document)\n",
    "\n",
    "    # Strip leading and trailing spaces\n",
    "    document = document.strip()\n",
    "\n",
    "    # tokenize - split on whitespace\n",
    "    tokenized_document = document.split(' ')\n",
    "\n",
    "    # remove stopwords before stemming or lemmatization\n",
    "    tokenized_document = [word for word in tokenized_document if word.lower() not in stop_words]\n",
    "\n",
    "    # Perform stemming if set to True\n",
    "    if stemming:\n",
    "        stemmer = PorterStemmer()\n",
    "        tokenized_document = [stemmer.stem(word) for word in tokenized_document]\n",
    "\n",
    "    # Perform lemmatization if set to True\n",
    "    if lemmatization:\n",
    "        lemmatizer = WordNetLemmatizer()\n",
    "        tokenized_document = [lemmatizer.lemmatize(word) for word in tokenized_document]\n",
    "\n",
    "    return tokenized_document"
   ]
  },
  {
   "cell_type": "markdown",
   "metadata": {},
   "source": [
    "### Train test split"
   ]
  },
  {
   "cell_type": "code",
   "execution_count": 8,
   "metadata": {},
   "outputs": [
    {
     "data": {
      "text/plain": [
       "(3996,)"
      ]
     },
     "execution_count": 8,
     "metadata": {},
     "output_type": "execute_result"
    }
   ],
   "source": [
    "\n",
    "X = df['Text']\n",
    "y = df['Intent']\n",
    "\n",
    "X_train, X_test, y_train, y_test = train_test_split(X, y, test_size=0.2, random_state=99, stratify=y)\n",
    "X_train.shape"
   ]
  },
  {
   "cell_type": "markdown",
   "metadata": {},
   "source": [
    "## 3.2. Vectorisation "
   ]
  },
  {
   "cell_type": "code",
   "execution_count": 9,
   "metadata": {},
   "outputs": [
    {
     "name": "stderr",
     "output_type": "stream",
     "text": [
      "/Users/lgfolder/anaconda3/envs/myenv2/lib/python3.8/site-packages/sklearn/feature_extraction/text.py:525: UserWarning: The parameter 'token_pattern' will not be used since 'tokenizer' is not None'\n",
      "  warnings.warn(\n"
     ]
    },
    {
     "name": "stdout",
     "output_type": "stream",
     "text": [
      "(3996, 1000)\n"
     ]
    }
   ],
   "source": [
    "# Initialise a CountVectorizer object\n",
    "count_vectorizer = CountVectorizer(tokenizer=my_tokenizer,\n",
    "                                   stop_words=stop_words, # using stop words list that has been customised\n",
    "                                   min_df=10, \n",
    "                                   ngram_range=(1,2), \n",
    "                                   max_features=1000)\n",
    "\n",
    "# Preprocess the stop words with the custom tokenizer\n",
    "processed_stop_words = set(my_tokenizer(' '.join(stop_words)))\n",
    "\n",
    "# Fit the CountVectorizer object on X_train\n",
    "count_vectorizer.fit(X_train)\n",
    "\n",
    "# Fit the CountVectorizer object on X_train\n",
    "X_matrix_train = count_vectorizer.transform(X_train)\n",
    "\n",
    "print(X_matrix_train.shape);"
   ]
  },
  {
   "cell_type": "code",
   "execution_count": 11,
   "metadata": {},
   "outputs": [
    {
     "data": {
      "text/html": [
       "<div>\n",
       "<style scoped>\n",
       "    .dataframe tbody tr th:only-of-type {\n",
       "        vertical-align: middle;\n",
       "    }\n",
       "\n",
       "    .dataframe tbody tr th {\n",
       "        vertical-align: top;\n",
       "    }\n",
       "\n",
       "    .dataframe thead th {\n",
       "        text-align: right;\n",
       "    }\n",
       "</style>\n",
       "<table border=\"1\" class=\"dataframe\">\n",
       "  <thead>\n",
       "    <tr style=\"text-align: right;\">\n",
       "      <th></th>\n",
       "      <th>able</th>\n",
       "      <th>absolutely</th>\n",
       "      <th>access</th>\n",
       "      <th>account</th>\n",
       "      <th>across</th>\n",
       "      <th>act</th>\n",
       "      <th>action</th>\n",
       "      <th>actual</th>\n",
       "      <th>actually</th>\n",
       "      <th>add</th>\n",
       "      <th>...</th>\n",
       "      <th>ya</th>\n",
       "      <th>yall</th>\n",
       "      <th>yeah</th>\n",
       "      <th>year</th>\n",
       "      <th>yes</th>\n",
       "      <th>yesterday</th>\n",
       "      <th>yet</th>\n",
       "      <th>yo</th>\n",
       "      <th>yolo</th>\n",
       "      <th>zero</th>\n",
       "    </tr>\n",
       "  </thead>\n",
       "  <tbody>\n",
       "    <tr>\n",
       "      <th>0</th>\n",
       "      <td>0</td>\n",
       "      <td>0</td>\n",
       "      <td>0</td>\n",
       "      <td>0</td>\n",
       "      <td>0</td>\n",
       "      <td>0</td>\n",
       "      <td>0</td>\n",
       "      <td>0</td>\n",
       "      <td>0</td>\n",
       "      <td>0</td>\n",
       "      <td>...</td>\n",
       "      <td>0</td>\n",
       "      <td>0</td>\n",
       "      <td>0</td>\n",
       "      <td>0</td>\n",
       "      <td>0</td>\n",
       "      <td>0</td>\n",
       "      <td>0</td>\n",
       "      <td>0</td>\n",
       "      <td>0</td>\n",
       "      <td>0</td>\n",
       "    </tr>\n",
       "    <tr>\n",
       "      <th>1</th>\n",
       "      <td>0</td>\n",
       "      <td>0</td>\n",
       "      <td>0</td>\n",
       "      <td>0</td>\n",
       "      <td>0</td>\n",
       "      <td>0</td>\n",
       "      <td>0</td>\n",
       "      <td>0</td>\n",
       "      <td>0</td>\n",
       "      <td>0</td>\n",
       "      <td>...</td>\n",
       "      <td>0</td>\n",
       "      <td>0</td>\n",
       "      <td>0</td>\n",
       "      <td>0</td>\n",
       "      <td>0</td>\n",
       "      <td>0</td>\n",
       "      <td>0</td>\n",
       "      <td>0</td>\n",
       "      <td>0</td>\n",
       "      <td>0</td>\n",
       "    </tr>\n",
       "    <tr>\n",
       "      <th>2</th>\n",
       "      <td>0</td>\n",
       "      <td>0</td>\n",
       "      <td>0</td>\n",
       "      <td>0</td>\n",
       "      <td>0</td>\n",
       "      <td>0</td>\n",
       "      <td>0</td>\n",
       "      <td>0</td>\n",
       "      <td>0</td>\n",
       "      <td>0</td>\n",
       "      <td>...</td>\n",
       "      <td>0</td>\n",
       "      <td>0</td>\n",
       "      <td>0</td>\n",
       "      <td>0</td>\n",
       "      <td>0</td>\n",
       "      <td>0</td>\n",
       "      <td>0</td>\n",
       "      <td>0</td>\n",
       "      <td>0</td>\n",
       "      <td>0</td>\n",
       "    </tr>\n",
       "    <tr>\n",
       "      <th>3</th>\n",
       "      <td>0</td>\n",
       "      <td>0</td>\n",
       "      <td>0</td>\n",
       "      <td>0</td>\n",
       "      <td>0</td>\n",
       "      <td>0</td>\n",
       "      <td>0</td>\n",
       "      <td>0</td>\n",
       "      <td>0</td>\n",
       "      <td>0</td>\n",
       "      <td>...</td>\n",
       "      <td>0</td>\n",
       "      <td>0</td>\n",
       "      <td>1</td>\n",
       "      <td>0</td>\n",
       "      <td>0</td>\n",
       "      <td>0</td>\n",
       "      <td>0</td>\n",
       "      <td>0</td>\n",
       "      <td>0</td>\n",
       "      <td>0</td>\n",
       "    </tr>\n",
       "    <tr>\n",
       "      <th>4</th>\n",
       "      <td>0</td>\n",
       "      <td>0</td>\n",
       "      <td>0</td>\n",
       "      <td>0</td>\n",
       "      <td>0</td>\n",
       "      <td>0</td>\n",
       "      <td>0</td>\n",
       "      <td>0</td>\n",
       "      <td>0</td>\n",
       "      <td>0</td>\n",
       "      <td>...</td>\n",
       "      <td>0</td>\n",
       "      <td>0</td>\n",
       "      <td>0</td>\n",
       "      <td>0</td>\n",
       "      <td>0</td>\n",
       "      <td>0</td>\n",
       "      <td>0</td>\n",
       "      <td>0</td>\n",
       "      <td>0</td>\n",
       "      <td>0</td>\n",
       "    </tr>\n",
       "  </tbody>\n",
       "</table>\n",
       "<p>5 rows × 1000 columns</p>\n",
       "</div>"
      ],
      "text/plain": [
       "   able  absolutely  access  account  across  act  action  actual  actually  \\\n",
       "0     0           0       0        0       0    0       0       0         0   \n",
       "1     0           0       0        0       0    0       0       0         0   \n",
       "2     0           0       0        0       0    0       0       0         0   \n",
       "3     0           0       0        0       0    0       0       0         0   \n",
       "4     0           0       0        0       0    0       0       0         0   \n",
       "\n",
       "   add  ...  ya  yall  yeah  year  yes  yesterday  yet  yo  yolo  zero  \n",
       "0    0  ...   0     0     0     0    0          0    0   0     0     0  \n",
       "1    0  ...   0     0     0     0    0          0    0   0     0     0  \n",
       "2    0  ...   0     0     0     0    0          0    0   0     0     0  \n",
       "3    0  ...   0     0     1     0    0          0    0   0     0     0  \n",
       "4    0  ...   0     0     0     0    0          0    0   0     0     0  \n",
       "\n",
       "[5 rows x 1000 columns]"
      ]
     },
     "execution_count": 11,
     "metadata": {},
     "output_type": "execute_result"
    }
   ],
   "source": [
    "#toarray() method converts sparse matrix to a DataFrame\n",
    "pd.DataFrame(X_matrix_train.toarray(),columns=count_vectorizer.get_feature_names_out()).head()"
   ]
  },
  {
   "cell_type": "markdown",
   "metadata": {},
   "source": [
    "### SMOTE sampling due to imbalance"
   ]
  },
  {
   "cell_type": "code",
   "execution_count": 12,
   "metadata": {},
   "outputs": [],
   "source": [
    "# instantiate SMOTE sampler, fit it to the training data\n",
    "X_train_sm, y_train_sm = SMOTE(random_state=1).fit_resample(X_matrix_train, y_train)"
   ]
  },
  {
   "cell_type": "code",
   "execution_count": 55,
   "metadata": {},
   "outputs": [],
   "source": [
    "# scale the sampled train data and the unsampled test data\n",
    "# ss_sm = StandardScaler().fit(X_train_sm)\n",
    "# X_train_sm_ss = ss_sm.transform(X_train_sm)\n",
    "# X_test_ss = ss_sm.transform(X_test)"
   ]
  },
  {
   "cell_type": "markdown",
   "metadata": {},
   "source": [
    "## 3.3. SVM"
   ]
  },
  {
   "cell_type": "code",
   "execution_count": 19,
   "metadata": {},
   "outputs": [],
   "source": [
    "from sklearn.datasets import load_iris\n",
    "from sklearn.pipeline import make_pipeline\n",
    "from sklearn.preprocessing import StandardScaler\n",
    "from sklearn.svm import LinearSVC\n",
    "\n",
    "# from Géron, Aurélien. Hands-On Machine Learning with Scikit-Learn, Keras, and TensorFlow (p. 300). O'Reilly Media. Kindle Edition. "
   ]
  },
  {
   "cell_type": "code",
   "execution_count": 18,
   "metadata": {},
   "outputs": [],
   "source": [
    "# Standard Scaling does not support sparse input, converting sparce matrix into a dense matrix\n",
    "X_matrix_train_dense = X_matrix_train.toarray()\n",
    "X_matrix_test_dense = X_matrix_test.toarray()"
   ]
  },
  {
   "cell_type": "code",
   "execution_count": 20,
   "metadata": {},
   "outputs": [
    {
     "data": {
      "text/plain": [
       "(1000, 1000)"
      ]
     },
     "execution_count": 20,
     "metadata": {},
     "output_type": "execute_result"
    }
   ],
   "source": [
    "X_matrix_test = count_vectorizer.transform(X_test)\n",
    "X_matrix_test.shape"
   ]
  },
  {
   "cell_type": "code",
   "execution_count": 50,
   "metadata": {},
   "outputs": [
    {
     "name": "stderr",
     "output_type": "stream",
     "text": [
      "/Users/lgfolder/anaconda3/envs/myenv2/lib/python3.8/site-packages/sklearn/svm/_classes.py:32: FutureWarning: The default value of `dual` will change from `True` to `'auto'` in 1.5. Set the value of `dual` explicitly to suppress the warning.\n",
      "  warnings.warn(\n"
     ]
    },
    {
     "data": {
      "text/html": [
       "<style>#sk-container-id-10 {color: black;}#sk-container-id-10 pre{padding: 0;}#sk-container-id-10 div.sk-toggleable {background-color: white;}#sk-container-id-10 label.sk-toggleable__label {cursor: pointer;display: block;width: 100%;margin-bottom: 0;padding: 0.3em;box-sizing: border-box;text-align: center;}#sk-container-id-10 label.sk-toggleable__label-arrow:before {content: \"▸\";float: left;margin-right: 0.25em;color: #696969;}#sk-container-id-10 label.sk-toggleable__label-arrow:hover:before {color: black;}#sk-container-id-10 div.sk-estimator:hover label.sk-toggleable__label-arrow:before {color: black;}#sk-container-id-10 div.sk-toggleable__content {max-height: 0;max-width: 0;overflow: hidden;text-align: left;background-color: #f0f8ff;}#sk-container-id-10 div.sk-toggleable__content pre {margin: 0.2em;color: black;border-radius: 0.25em;background-color: #f0f8ff;}#sk-container-id-10 input.sk-toggleable__control:checked~div.sk-toggleable__content {max-height: 200px;max-width: 100%;overflow: auto;}#sk-container-id-10 input.sk-toggleable__control:checked~label.sk-toggleable__label-arrow:before {content: \"▾\";}#sk-container-id-10 div.sk-estimator input.sk-toggleable__control:checked~label.sk-toggleable__label {background-color: #d4ebff;}#sk-container-id-10 div.sk-label input.sk-toggleable__control:checked~label.sk-toggleable__label {background-color: #d4ebff;}#sk-container-id-10 input.sk-hidden--visually {border: 0;clip: rect(1px 1px 1px 1px);clip: rect(1px, 1px, 1px, 1px);height: 1px;margin: -1px;overflow: hidden;padding: 0;position: absolute;width: 1px;}#sk-container-id-10 div.sk-estimator {font-family: monospace;background-color: #f0f8ff;border: 1px dotted black;border-radius: 0.25em;box-sizing: border-box;margin-bottom: 0.5em;}#sk-container-id-10 div.sk-estimator:hover {background-color: #d4ebff;}#sk-container-id-10 div.sk-parallel-item::after {content: \"\";width: 100%;border-bottom: 1px solid gray;flex-grow: 1;}#sk-container-id-10 div.sk-label:hover label.sk-toggleable__label {background-color: #d4ebff;}#sk-container-id-10 div.sk-serial::before {content: \"\";position: absolute;border-left: 1px solid gray;box-sizing: border-box;top: 0;bottom: 0;left: 50%;z-index: 0;}#sk-container-id-10 div.sk-serial {display: flex;flex-direction: column;align-items: center;background-color: white;padding-right: 0.2em;padding-left: 0.2em;position: relative;}#sk-container-id-10 div.sk-item {position: relative;z-index: 1;}#sk-container-id-10 div.sk-parallel {display: flex;align-items: stretch;justify-content: center;background-color: white;position: relative;}#sk-container-id-10 div.sk-item::before, #sk-container-id-10 div.sk-parallel-item::before {content: \"\";position: absolute;border-left: 1px solid gray;box-sizing: border-box;top: 0;bottom: 0;left: 50%;z-index: -1;}#sk-container-id-10 div.sk-parallel-item {display: flex;flex-direction: column;z-index: 1;position: relative;background-color: white;}#sk-container-id-10 div.sk-parallel-item:first-child::after {align-self: flex-end;width: 50%;}#sk-container-id-10 div.sk-parallel-item:last-child::after {align-self: flex-start;width: 50%;}#sk-container-id-10 div.sk-parallel-item:only-child::after {width: 0;}#sk-container-id-10 div.sk-dashed-wrapped {border: 1px dashed gray;margin: 0 0.4em 0.5em 0.4em;box-sizing: border-box;padding-bottom: 0.4em;background-color: white;}#sk-container-id-10 div.sk-label label {font-family: monospace;font-weight: bold;display: inline-block;line-height: 1.2em;}#sk-container-id-10 div.sk-label-container {text-align: center;}#sk-container-id-10 div.sk-container {/* jupyter's `normalize.less` sets `[hidden] { display: none; }` but bootstrap.min.css set `[hidden] { display: none !important; }` so we also need the `!important` here to be able to override the default hidden behavior on the sphinx rendered scikit-learn.org. See: https://github.com/scikit-learn/scikit-learn/issues/21755 */display: inline-block !important;position: relative;}#sk-container-id-10 div.sk-text-repr-fallback {display: none;}</style><div id=\"sk-container-id-10\" class=\"sk-top-container\"><div class=\"sk-text-repr-fallback\"><pre>Pipeline(steps=[(&#x27;standardscaler&#x27;, StandardScaler(with_mean=False)),\n",
       "                (&#x27;linearsvc&#x27;,\n",
       "                 LinearSVC(C=1, max_iter=100000, random_state=99))])</pre><b>In a Jupyter environment, please rerun this cell to show the HTML representation or trust the notebook. <br />On GitHub, the HTML representation is unable to render, please try loading this page with nbviewer.org.</b></div><div class=\"sk-container\" hidden><div class=\"sk-item sk-dashed-wrapped\"><div class=\"sk-label-container\"><div class=\"sk-label sk-toggleable\"><input class=\"sk-toggleable__control sk-hidden--visually\" id=\"sk-estimator-id-29\" type=\"checkbox\" ><label for=\"sk-estimator-id-29\" class=\"sk-toggleable__label sk-toggleable__label-arrow\">Pipeline</label><div class=\"sk-toggleable__content\"><pre>Pipeline(steps=[(&#x27;standardscaler&#x27;, StandardScaler(with_mean=False)),\n",
       "                (&#x27;linearsvc&#x27;,\n",
       "                 LinearSVC(C=1, max_iter=100000, random_state=99))])</pre></div></div></div><div class=\"sk-serial\"><div class=\"sk-item\"><div class=\"sk-estimator sk-toggleable\"><input class=\"sk-toggleable__control sk-hidden--visually\" id=\"sk-estimator-id-30\" type=\"checkbox\" ><label for=\"sk-estimator-id-30\" class=\"sk-toggleable__label sk-toggleable__label-arrow\">StandardScaler</label><div class=\"sk-toggleable__content\"><pre>StandardScaler(with_mean=False)</pre></div></div></div><div class=\"sk-item\"><div class=\"sk-estimator sk-toggleable\"><input class=\"sk-toggleable__control sk-hidden--visually\" id=\"sk-estimator-id-31\" type=\"checkbox\" ><label for=\"sk-estimator-id-31\" class=\"sk-toggleable__label sk-toggleable__label-arrow\">LinearSVC</label><div class=\"sk-toggleable__content\"><pre>LinearSVC(C=1, max_iter=100000, random_state=99)</pre></div></div></div></div></div></div></div>"
      ],
      "text/plain": [
       "Pipeline(steps=[('standardscaler', StandardScaler(with_mean=False)),\n",
       "                ('linearsvc',\n",
       "                 LinearSVC(C=1, max_iter=100000, random_state=99))])"
      ]
     },
     "execution_count": 50,
     "metadata": {},
     "output_type": "execute_result"
    }
   ],
   "source": [
    "# Use StandardScaler with with_mean=False\n",
    "svm_clf = make_pipeline(StandardScaler(with_mean=False),\n",
    "                        LinearSVC(C=1, random_state=99, max_iter=100000))\n",
    "\n",
    "# Fit the model\n",
    "svm_clf.fit(X_matrix_train_dense, y_train)"
   ]
  },
  {
   "cell_type": "code",
   "execution_count": null,
   "metadata": {},
   "outputs": [],
   "source": []
  },
  {
   "cell_type": "code",
   "execution_count": 51,
   "metadata": {},
   "outputs": [
    {
     "name": "stderr",
     "output_type": "stream",
     "text": [
      "/Users/lgfolder/anaconda3/envs/myenv2/lib/python3.8/site-packages/sklearn/svm/_classes.py:32: FutureWarning: The default value of `dual` will change from `True` to `'auto'` in 1.5. Set the value of `dual` explicitly to suppress the warning.\n",
      "  warnings.warn(\n",
      "/Users/lgfolder/anaconda3/envs/myenv2/lib/python3.8/site-packages/sklearn/svm/_classes.py:32: FutureWarning: The default value of `dual` will change from `True` to `'auto'` in 1.5. Set the value of `dual` explicitly to suppress the warning.\n",
      "  warnings.warn(\n",
      "/Users/lgfolder/anaconda3/envs/myenv2/lib/python3.8/site-packages/sklearn/svm/_classes.py:32: FutureWarning: The default value of `dual` will change from `True` to `'auto'` in 1.5. Set the value of `dual` explicitly to suppress the warning.\n",
      "  warnings.warn(\n",
      "/Users/lgfolder/anaconda3/envs/myenv2/lib/python3.8/site-packages/sklearn/svm/_classes.py:32: FutureWarning: The default value of `dual` will change from `True` to `'auto'` in 1.5. Set the value of `dual` explicitly to suppress the warning.\n",
      "  warnings.warn(\n",
      "/Users/lgfolder/anaconda3/envs/myenv2/lib/python3.8/site-packages/sklearn/svm/_classes.py:32: FutureWarning: The default value of `dual` will change from `True` to `'auto'` in 1.5. Set the value of `dual` explicitly to suppress the warning.\n",
      "  warnings.warn(\n"
     ]
    },
    {
     "data": {
      "text/plain": [
       "0.7027043178973716"
      ]
     },
     "execution_count": 51,
     "metadata": {},
     "output_type": "execute_result"
    }
   ],
   "source": [
    "cross_val_score(svm_clf, X_matrix_train, y_train).mean()"
   ]
  },
  {
   "cell_type": "markdown",
   "metadata": {},
   "source": [
    "The accuracy score is 70%, not bad."
   ]
  },
  {
   "cell_type": "code",
   "execution_count": 38,
   "metadata": {},
   "outputs": [
    {
     "data": {
      "text/html": [
       "<style>#sk-container-id-7 {color: black;}#sk-container-id-7 pre{padding: 0;}#sk-container-id-7 div.sk-toggleable {background-color: white;}#sk-container-id-7 label.sk-toggleable__label {cursor: pointer;display: block;width: 100%;margin-bottom: 0;padding: 0.3em;box-sizing: border-box;text-align: center;}#sk-container-id-7 label.sk-toggleable__label-arrow:before {content: \"▸\";float: left;margin-right: 0.25em;color: #696969;}#sk-container-id-7 label.sk-toggleable__label-arrow:hover:before {color: black;}#sk-container-id-7 div.sk-estimator:hover label.sk-toggleable__label-arrow:before {color: black;}#sk-container-id-7 div.sk-toggleable__content {max-height: 0;max-width: 0;overflow: hidden;text-align: left;background-color: #f0f8ff;}#sk-container-id-7 div.sk-toggleable__content pre {margin: 0.2em;color: black;border-radius: 0.25em;background-color: #f0f8ff;}#sk-container-id-7 input.sk-toggleable__control:checked~div.sk-toggleable__content {max-height: 200px;max-width: 100%;overflow: auto;}#sk-container-id-7 input.sk-toggleable__control:checked~label.sk-toggleable__label-arrow:before {content: \"▾\";}#sk-container-id-7 div.sk-estimator input.sk-toggleable__control:checked~label.sk-toggleable__label {background-color: #d4ebff;}#sk-container-id-7 div.sk-label input.sk-toggleable__control:checked~label.sk-toggleable__label {background-color: #d4ebff;}#sk-container-id-7 input.sk-hidden--visually {border: 0;clip: rect(1px 1px 1px 1px);clip: rect(1px, 1px, 1px, 1px);height: 1px;margin: -1px;overflow: hidden;padding: 0;position: absolute;width: 1px;}#sk-container-id-7 div.sk-estimator {font-family: monospace;background-color: #f0f8ff;border: 1px dotted black;border-radius: 0.25em;box-sizing: border-box;margin-bottom: 0.5em;}#sk-container-id-7 div.sk-estimator:hover {background-color: #d4ebff;}#sk-container-id-7 div.sk-parallel-item::after {content: \"\";width: 100%;border-bottom: 1px solid gray;flex-grow: 1;}#sk-container-id-7 div.sk-label:hover label.sk-toggleable__label {background-color: #d4ebff;}#sk-container-id-7 div.sk-serial::before {content: \"\";position: absolute;border-left: 1px solid gray;box-sizing: border-box;top: 0;bottom: 0;left: 50%;z-index: 0;}#sk-container-id-7 div.sk-serial {display: flex;flex-direction: column;align-items: center;background-color: white;padding-right: 0.2em;padding-left: 0.2em;position: relative;}#sk-container-id-7 div.sk-item {position: relative;z-index: 1;}#sk-container-id-7 div.sk-parallel {display: flex;align-items: stretch;justify-content: center;background-color: white;position: relative;}#sk-container-id-7 div.sk-item::before, #sk-container-id-7 div.sk-parallel-item::before {content: \"\";position: absolute;border-left: 1px solid gray;box-sizing: border-box;top: 0;bottom: 0;left: 50%;z-index: -1;}#sk-container-id-7 div.sk-parallel-item {display: flex;flex-direction: column;z-index: 1;position: relative;background-color: white;}#sk-container-id-7 div.sk-parallel-item:first-child::after {align-self: flex-end;width: 50%;}#sk-container-id-7 div.sk-parallel-item:last-child::after {align-self: flex-start;width: 50%;}#sk-container-id-7 div.sk-parallel-item:only-child::after {width: 0;}#sk-container-id-7 div.sk-dashed-wrapped {border: 1px dashed gray;margin: 0 0.4em 0.5em 0.4em;box-sizing: border-box;padding-bottom: 0.4em;background-color: white;}#sk-container-id-7 div.sk-label label {font-family: monospace;font-weight: bold;display: inline-block;line-height: 1.2em;}#sk-container-id-7 div.sk-label-container {text-align: center;}#sk-container-id-7 div.sk-container {/* jupyter's `normalize.less` sets `[hidden] { display: none; }` but bootstrap.min.css set `[hidden] { display: none !important; }` so we also need the `!important` here to be able to override the default hidden behavior on the sphinx rendered scikit-learn.org. See: https://github.com/scikit-learn/scikit-learn/issues/21755 */display: inline-block !important;position: relative;}#sk-container-id-7 div.sk-text-repr-fallback {display: none;}</style><div id=\"sk-container-id-7\" class=\"sk-top-container\"><div class=\"sk-text-repr-fallback\"><pre>Pipeline(steps=[(&#x27;standardscaler&#x27;, StandardScaler(with_mean=False)),\n",
       "                (&#x27;svc&#x27;, SVC(C=5, coef0=1, kernel=&#x27;poly&#x27;))])</pre><b>In a Jupyter environment, please rerun this cell to show the HTML representation or trust the notebook. <br />On GitHub, the HTML representation is unable to render, please try loading this page with nbviewer.org.</b></div><div class=\"sk-container\" hidden><div class=\"sk-item sk-dashed-wrapped\"><div class=\"sk-label-container\"><div class=\"sk-label sk-toggleable\"><input class=\"sk-toggleable__control sk-hidden--visually\" id=\"sk-estimator-id-19\" type=\"checkbox\" ><label for=\"sk-estimator-id-19\" class=\"sk-toggleable__label sk-toggleable__label-arrow\">Pipeline</label><div class=\"sk-toggleable__content\"><pre>Pipeline(steps=[(&#x27;standardscaler&#x27;, StandardScaler(with_mean=False)),\n",
       "                (&#x27;svc&#x27;, SVC(C=5, coef0=1, kernel=&#x27;poly&#x27;))])</pre></div></div></div><div class=\"sk-serial\"><div class=\"sk-item\"><div class=\"sk-estimator sk-toggleable\"><input class=\"sk-toggleable__control sk-hidden--visually\" id=\"sk-estimator-id-20\" type=\"checkbox\" ><label for=\"sk-estimator-id-20\" class=\"sk-toggleable__label sk-toggleable__label-arrow\">StandardScaler</label><div class=\"sk-toggleable__content\"><pre>StandardScaler(with_mean=False)</pre></div></div></div><div class=\"sk-item\"><div class=\"sk-estimator sk-toggleable\"><input class=\"sk-toggleable__control sk-hidden--visually\" id=\"sk-estimator-id-21\" type=\"checkbox\" ><label for=\"sk-estimator-id-21\" class=\"sk-toggleable__label sk-toggleable__label-arrow\">SVC</label><div class=\"sk-toggleable__content\"><pre>SVC(C=5, coef0=1, kernel=&#x27;poly&#x27;)</pre></div></div></div></div></div></div></div>"
      ],
      "text/plain": [
       "Pipeline(steps=[('standardscaler', StandardScaler(with_mean=False)),\n",
       "                ('svc', SVC(C=5, coef0=1, kernel='poly'))])"
      ]
     },
     "execution_count": 38,
     "metadata": {},
     "output_type": "execute_result"
    }
   ],
   "source": [
    "from sklearn.svm import SVC\n",
    "\n",
    "poly_kernel_svm_clf = make_pipeline(StandardScaler(with_mean=False),\n",
    "                                    SVC(kernel=\"poly\", degree=3, coef0=1, C=5))\n",
    "poly_kernel_svm_clf.fit(X_matrix_train, y_train)"
   ]
  },
  {
   "cell_type": "code",
   "execution_count": 39,
   "metadata": {},
   "outputs": [
    {
     "data": {
      "text/plain": [
       "0.7142162077596996"
      ]
     },
     "execution_count": 39,
     "metadata": {},
     "output_type": "execute_result"
    }
   ],
   "source": [
    "cross_val_score(poly_kernel_svm_clf, X_matrix_train, y_train).mean()"
   ]
  },
  {
   "cell_type": "markdown",
   "metadata": {},
   "source": [
    "Even better! 71% accuracy"
   ]
  },
  {
   "cell_type": "code",
   "execution_count": null,
   "metadata": {},
   "outputs": [],
   "source": []
  },
  {
   "cell_type": "code",
   "execution_count": 40,
   "metadata": {},
   "outputs": [
    {
     "data": {
      "text/html": [
       "<style>#sk-container-id-8 {color: black;}#sk-container-id-8 pre{padding: 0;}#sk-container-id-8 div.sk-toggleable {background-color: white;}#sk-container-id-8 label.sk-toggleable__label {cursor: pointer;display: block;width: 100%;margin-bottom: 0;padding: 0.3em;box-sizing: border-box;text-align: center;}#sk-container-id-8 label.sk-toggleable__label-arrow:before {content: \"▸\";float: left;margin-right: 0.25em;color: #696969;}#sk-container-id-8 label.sk-toggleable__label-arrow:hover:before {color: black;}#sk-container-id-8 div.sk-estimator:hover label.sk-toggleable__label-arrow:before {color: black;}#sk-container-id-8 div.sk-toggleable__content {max-height: 0;max-width: 0;overflow: hidden;text-align: left;background-color: #f0f8ff;}#sk-container-id-8 div.sk-toggleable__content pre {margin: 0.2em;color: black;border-radius: 0.25em;background-color: #f0f8ff;}#sk-container-id-8 input.sk-toggleable__control:checked~div.sk-toggleable__content {max-height: 200px;max-width: 100%;overflow: auto;}#sk-container-id-8 input.sk-toggleable__control:checked~label.sk-toggleable__label-arrow:before {content: \"▾\";}#sk-container-id-8 div.sk-estimator input.sk-toggleable__control:checked~label.sk-toggleable__label {background-color: #d4ebff;}#sk-container-id-8 div.sk-label input.sk-toggleable__control:checked~label.sk-toggleable__label {background-color: #d4ebff;}#sk-container-id-8 input.sk-hidden--visually {border: 0;clip: rect(1px 1px 1px 1px);clip: rect(1px, 1px, 1px, 1px);height: 1px;margin: -1px;overflow: hidden;padding: 0;position: absolute;width: 1px;}#sk-container-id-8 div.sk-estimator {font-family: monospace;background-color: #f0f8ff;border: 1px dotted black;border-radius: 0.25em;box-sizing: border-box;margin-bottom: 0.5em;}#sk-container-id-8 div.sk-estimator:hover {background-color: #d4ebff;}#sk-container-id-8 div.sk-parallel-item::after {content: \"\";width: 100%;border-bottom: 1px solid gray;flex-grow: 1;}#sk-container-id-8 div.sk-label:hover label.sk-toggleable__label {background-color: #d4ebff;}#sk-container-id-8 div.sk-serial::before {content: \"\";position: absolute;border-left: 1px solid gray;box-sizing: border-box;top: 0;bottom: 0;left: 50%;z-index: 0;}#sk-container-id-8 div.sk-serial {display: flex;flex-direction: column;align-items: center;background-color: white;padding-right: 0.2em;padding-left: 0.2em;position: relative;}#sk-container-id-8 div.sk-item {position: relative;z-index: 1;}#sk-container-id-8 div.sk-parallel {display: flex;align-items: stretch;justify-content: center;background-color: white;position: relative;}#sk-container-id-8 div.sk-item::before, #sk-container-id-8 div.sk-parallel-item::before {content: \"\";position: absolute;border-left: 1px solid gray;box-sizing: border-box;top: 0;bottom: 0;left: 50%;z-index: -1;}#sk-container-id-8 div.sk-parallel-item {display: flex;flex-direction: column;z-index: 1;position: relative;background-color: white;}#sk-container-id-8 div.sk-parallel-item:first-child::after {align-self: flex-end;width: 50%;}#sk-container-id-8 div.sk-parallel-item:last-child::after {align-self: flex-start;width: 50%;}#sk-container-id-8 div.sk-parallel-item:only-child::after {width: 0;}#sk-container-id-8 div.sk-dashed-wrapped {border: 1px dashed gray;margin: 0 0.4em 0.5em 0.4em;box-sizing: border-box;padding-bottom: 0.4em;background-color: white;}#sk-container-id-8 div.sk-label label {font-family: monospace;font-weight: bold;display: inline-block;line-height: 1.2em;}#sk-container-id-8 div.sk-label-container {text-align: center;}#sk-container-id-8 div.sk-container {/* jupyter's `normalize.less` sets `[hidden] { display: none; }` but bootstrap.min.css set `[hidden] { display: none !important; }` so we also need the `!important` here to be able to override the default hidden behavior on the sphinx rendered scikit-learn.org. See: https://github.com/scikit-learn/scikit-learn/issues/21755 */display: inline-block !important;position: relative;}#sk-container-id-8 div.sk-text-repr-fallback {display: none;}</style><div id=\"sk-container-id-8\" class=\"sk-top-container\"><div class=\"sk-text-repr-fallback\"><pre>Pipeline(steps=[(&#x27;standardscaler&#x27;, StandardScaler(with_mean=False)),\n",
       "                (&#x27;svc&#x27;, SVC(C=0.001, gamma=5))])</pre><b>In a Jupyter environment, please rerun this cell to show the HTML representation or trust the notebook. <br />On GitHub, the HTML representation is unable to render, please try loading this page with nbviewer.org.</b></div><div class=\"sk-container\" hidden><div class=\"sk-item sk-dashed-wrapped\"><div class=\"sk-label-container\"><div class=\"sk-label sk-toggleable\"><input class=\"sk-toggleable__control sk-hidden--visually\" id=\"sk-estimator-id-22\" type=\"checkbox\" ><label for=\"sk-estimator-id-22\" class=\"sk-toggleable__label sk-toggleable__label-arrow\">Pipeline</label><div class=\"sk-toggleable__content\"><pre>Pipeline(steps=[(&#x27;standardscaler&#x27;, StandardScaler(with_mean=False)),\n",
       "                (&#x27;svc&#x27;, SVC(C=0.001, gamma=5))])</pre></div></div></div><div class=\"sk-serial\"><div class=\"sk-item\"><div class=\"sk-estimator sk-toggleable\"><input class=\"sk-toggleable__control sk-hidden--visually\" id=\"sk-estimator-id-23\" type=\"checkbox\" ><label for=\"sk-estimator-id-23\" class=\"sk-toggleable__label sk-toggleable__label-arrow\">StandardScaler</label><div class=\"sk-toggleable__content\"><pre>StandardScaler(with_mean=False)</pre></div></div></div><div class=\"sk-item\"><div class=\"sk-estimator sk-toggleable\"><input class=\"sk-toggleable__control sk-hidden--visually\" id=\"sk-estimator-id-24\" type=\"checkbox\" ><label for=\"sk-estimator-id-24\" class=\"sk-toggleable__label sk-toggleable__label-arrow\">SVC</label><div class=\"sk-toggleable__content\"><pre>SVC(C=0.001, gamma=5)</pre></div></div></div></div></div></div></div>"
      ],
      "text/plain": [
       "Pipeline(steps=[('standardscaler', StandardScaler(with_mean=False)),\n",
       "                ('svc', SVC(C=0.001, gamma=5))])"
      ]
     },
     "execution_count": 40,
     "metadata": {},
     "output_type": "execute_result"
    }
   ],
   "source": [
    "rbf_kernel_svm_clf = make_pipeline(StandardScaler(with_mean=False),\n",
    "                                    SVC(kernel=\"rbf\", gamma=5, C=0.001))\n",
    "\n",
    "rbf_kernel_svm_clf.fit(X_matrix_train, y_train)"
   ]
  },
  {
   "cell_type": "code",
   "execution_count": 41,
   "metadata": {},
   "outputs": [
    {
     "data": {
      "text/plain": [
       "0.7292293491864831"
      ]
     },
     "execution_count": 41,
     "metadata": {},
     "output_type": "execute_result"
    }
   ],
   "source": [
    "cross_val_score(rbf_kernel_svm_clf, X_matrix_train, y_train).mean()"
   ]
  },
  {
   "cell_type": "markdown",
   "metadata": {},
   "source": [
    "### 3.5.1. Set up a pipeline"
   ]
  },
  {
   "cell_type": "code",
   "execution_count": 42,
   "metadata": {},
   "outputs": [],
   "source": [
    "# Define the hyperparameters\n",
    "param_grid = [\n",
    "    {'svc__kernel': ['rbf'],\n",
    "     'svc__gamma': [0.1, 1, 5, 10],\n",
    "     'svc__C': [0.001, 0.01, 0.1, 1, 10]},\n",
    "    {'svc__kernel': ['linear'],\n",
    "     'svc__C': [0.001, 0.01, 0.1, 1, 10]},\n",
    "    {'svc__kernel': ['poly'],\n",
    "     'svc__degree': [2, 3, 4],\n",
    "     'svc__C': [0.001, 0.01, 0.1, 1, 10],\n",
    "     'svc__coef0': [0, 1, 10]}\n",
    "]"
   ]
  },
  {
   "cell_type": "markdown",
   "metadata": {},
   "source": [
    "### 3.5.2. Hyperparameter optimization"
   ]
  },
  {
   "cell_type": "markdown",
   "metadata": {},
   "source": [
    "* I use GridSearchCV to search over a specified parameter grid. \n",
    "* GridSearchCV will use cross-validation internally, so no need to set up a separate validation set.  "
   ]
  },
  {
   "cell_type": "code",
   "execution_count": 43,
   "metadata": {},
   "outputs": [
    {
     "name": "stdout",
     "output_type": "stream",
     "text": [
      "Fitting 5 folds for each of 70 candidates, totalling 350 fits\n",
      "[CV] END ......svc__C=0.001, svc__gamma=0.1, svc__kernel=rbf; total time=   0.6s\n",
      "[CV] END ......svc__C=0.001, svc__gamma=0.1, svc__kernel=rbf; total time=   0.6s\n",
      "[CV] END ......svc__C=0.001, svc__gamma=0.1, svc__kernel=rbf; total time=   0.6s\n",
      "[CV] END ......svc__C=0.001, svc__gamma=0.1, svc__kernel=rbf; total time=   0.7s\n",
      "[CV] END ......svc__C=0.001, svc__gamma=0.1, svc__kernel=rbf; total time=   0.6s\n",
      "[CV] END ........svc__C=0.001, svc__gamma=1, svc__kernel=rbf; total time=   0.6s\n",
      "[CV] END ........svc__C=0.001, svc__gamma=1, svc__kernel=rbf; total time=   0.6s\n",
      "[CV] END ........svc__C=0.001, svc__gamma=1, svc__kernel=rbf; total time=   0.6s\n",
      "[CV] END ........svc__C=0.001, svc__gamma=1, svc__kernel=rbf; total time=   0.6s\n",
      "[CV] END ........svc__C=0.001, svc__gamma=1, svc__kernel=rbf; total time=   0.6s\n",
      "[CV] END ........svc__C=0.001, svc__gamma=5, svc__kernel=rbf; total time=   0.6s\n",
      "[CV] END ........svc__C=0.001, svc__gamma=5, svc__kernel=rbf; total time=   0.6s\n",
      "[CV] END ........svc__C=0.001, svc__gamma=5, svc__kernel=rbf; total time=   0.6s\n",
      "[CV] END ........svc__C=0.001, svc__gamma=5, svc__kernel=rbf; total time=   0.6s\n",
      "[CV] END ........svc__C=0.001, svc__gamma=5, svc__kernel=rbf; total time=   0.6s\n",
      "[CV] END .......svc__C=0.001, svc__gamma=10, svc__kernel=rbf; total time=   0.6s\n",
      "[CV] END .......svc__C=0.001, svc__gamma=10, svc__kernel=rbf; total time=   0.6s\n",
      "[CV] END .......svc__C=0.001, svc__gamma=10, svc__kernel=rbf; total time=   0.6s\n",
      "[CV] END .......svc__C=0.001, svc__gamma=10, svc__kernel=rbf; total time=   0.6s\n",
      "[CV] END .......svc__C=0.001, svc__gamma=10, svc__kernel=rbf; total time=   0.7s\n",
      "[CV] END .......svc__C=0.01, svc__gamma=0.1, svc__kernel=rbf; total time=   0.7s\n",
      "[CV] END .......svc__C=0.01, svc__gamma=0.1, svc__kernel=rbf; total time=   0.7s\n",
      "[CV] END .......svc__C=0.01, svc__gamma=0.1, svc__kernel=rbf; total time=   0.7s\n",
      "[CV] END .......svc__C=0.01, svc__gamma=0.1, svc__kernel=rbf; total time=   0.7s\n",
      "[CV] END .......svc__C=0.01, svc__gamma=0.1, svc__kernel=rbf; total time=   0.7s\n",
      "[CV] END .........svc__C=0.01, svc__gamma=1, svc__kernel=rbf; total time=   0.7s\n",
      "[CV] END .........svc__C=0.01, svc__gamma=1, svc__kernel=rbf; total time=   0.7s\n",
      "[CV] END .........svc__C=0.01, svc__gamma=1, svc__kernel=rbf; total time=   0.7s\n",
      "[CV] END .........svc__C=0.01, svc__gamma=1, svc__kernel=rbf; total time=   0.7s\n",
      "[CV] END .........svc__C=0.01, svc__gamma=1, svc__kernel=rbf; total time=   0.7s\n",
      "[CV] END .........svc__C=0.01, svc__gamma=5, svc__kernel=rbf; total time=   0.7s\n",
      "[CV] END .........svc__C=0.01, svc__gamma=5, svc__kernel=rbf; total time=   0.7s\n",
      "[CV] END .........svc__C=0.01, svc__gamma=5, svc__kernel=rbf; total time=   0.7s\n",
      "[CV] END .........svc__C=0.01, svc__gamma=5, svc__kernel=rbf; total time=   0.7s\n",
      "[CV] END .........svc__C=0.01, svc__gamma=5, svc__kernel=rbf; total time=   0.7s\n",
      "[CV] END ........svc__C=0.01, svc__gamma=10, svc__kernel=rbf; total time=   0.7s\n",
      "[CV] END ........svc__C=0.01, svc__gamma=10, svc__kernel=rbf; total time=   0.7s\n",
      "[CV] END ........svc__C=0.01, svc__gamma=10, svc__kernel=rbf; total time=   0.7s\n",
      "[CV] END ........svc__C=0.01, svc__gamma=10, svc__kernel=rbf; total time=   0.8s\n",
      "[CV] END ........svc__C=0.01, svc__gamma=10, svc__kernel=rbf; total time=   0.7s\n",
      "[CV] END ........svc__C=0.1, svc__gamma=0.1, svc__kernel=rbf; total time=   0.7s\n",
      "[CV] END ........svc__C=0.1, svc__gamma=0.1, svc__kernel=rbf; total time=   0.7s\n",
      "[CV] END ........svc__C=0.1, svc__gamma=0.1, svc__kernel=rbf; total time=   0.7s\n",
      "[CV] END ........svc__C=0.1, svc__gamma=0.1, svc__kernel=rbf; total time=   0.7s\n",
      "[CV] END ........svc__C=0.1, svc__gamma=0.1, svc__kernel=rbf; total time=   0.7s\n",
      "[CV] END ..........svc__C=0.1, svc__gamma=1, svc__kernel=rbf; total time=   0.7s\n",
      "[CV] END ..........svc__C=0.1, svc__gamma=1, svc__kernel=rbf; total time=   0.7s\n",
      "[CV] END ..........svc__C=0.1, svc__gamma=1, svc__kernel=rbf; total time=   0.7s\n",
      "[CV] END ..........svc__C=0.1, svc__gamma=1, svc__kernel=rbf; total time=   0.7s\n",
      "[CV] END ..........svc__C=0.1, svc__gamma=1, svc__kernel=rbf; total time=   0.7s\n",
      "[CV] END ..........svc__C=0.1, svc__gamma=5, svc__kernel=rbf; total time=   0.7s\n",
      "[CV] END ..........svc__C=0.1, svc__gamma=5, svc__kernel=rbf; total time=   0.7s\n",
      "[CV] END ..........svc__C=0.1, svc__gamma=5, svc__kernel=rbf; total time=   0.7s\n",
      "[CV] END ..........svc__C=0.1, svc__gamma=5, svc__kernel=rbf; total time=   0.7s\n",
      "[CV] END ..........svc__C=0.1, svc__gamma=5, svc__kernel=rbf; total time=   0.7s\n",
      "[CV] END .........svc__C=0.1, svc__gamma=10, svc__kernel=rbf; total time=   0.7s\n",
      "[CV] END .........svc__C=0.1, svc__gamma=10, svc__kernel=rbf; total time=   0.7s\n",
      "[CV] END .........svc__C=0.1, svc__gamma=10, svc__kernel=rbf; total time=   0.7s\n",
      "[CV] END .........svc__C=0.1, svc__gamma=10, svc__kernel=rbf; total time=   0.7s\n",
      "[CV] END .........svc__C=0.1, svc__gamma=10, svc__kernel=rbf; total time=   0.9s\n",
      "[CV] END ..........svc__C=1, svc__gamma=0.1, svc__kernel=rbf; total time=   0.8s\n",
      "[CV] END ..........svc__C=1, svc__gamma=0.1, svc__kernel=rbf; total time=   0.8s\n",
      "[CV] END ..........svc__C=1, svc__gamma=0.1, svc__kernel=rbf; total time=   0.8s\n",
      "[CV] END ..........svc__C=1, svc__gamma=0.1, svc__kernel=rbf; total time=   0.8s\n",
      "[CV] END ..........svc__C=1, svc__gamma=0.1, svc__kernel=rbf; total time=   0.8s\n",
      "[CV] END ............svc__C=1, svc__gamma=1, svc__kernel=rbf; total time=   0.8s\n",
      "[CV] END ............svc__C=1, svc__gamma=1, svc__kernel=rbf; total time=   0.8s\n",
      "[CV] END ............svc__C=1, svc__gamma=1, svc__kernel=rbf; total time=   0.8s\n",
      "[CV] END ............svc__C=1, svc__gamma=1, svc__kernel=rbf; total time=   0.8s\n",
      "[CV] END ............svc__C=1, svc__gamma=1, svc__kernel=rbf; total time=   0.8s\n",
      "[CV] END ............svc__C=1, svc__gamma=5, svc__kernel=rbf; total time=   0.8s\n",
      "[CV] END ............svc__C=1, svc__gamma=5, svc__kernel=rbf; total time=   0.8s\n",
      "[CV] END ............svc__C=1, svc__gamma=5, svc__kernel=rbf; total time=   0.8s\n",
      "[CV] END ............svc__C=1, svc__gamma=5, svc__kernel=rbf; total time=   0.8s\n",
      "[CV] END ............svc__C=1, svc__gamma=5, svc__kernel=rbf; total time=   0.8s\n",
      "[CV] END ...........svc__C=1, svc__gamma=10, svc__kernel=rbf; total time=   0.8s\n",
      "[CV] END ...........svc__C=1, svc__gamma=10, svc__kernel=rbf; total time=   0.8s\n",
      "[CV] END ...........svc__C=1, svc__gamma=10, svc__kernel=rbf; total time=   0.8s\n",
      "[CV] END ...........svc__C=1, svc__gamma=10, svc__kernel=rbf; total time=   0.9s\n",
      "[CV] END ...........svc__C=1, svc__gamma=10, svc__kernel=rbf; total time=   0.8s\n",
      "[CV] END .........svc__C=10, svc__gamma=0.1, svc__kernel=rbf; total time=   0.8s\n",
      "[CV] END .........svc__C=10, svc__gamma=0.1, svc__kernel=rbf; total time=   0.8s\n",
      "[CV] END .........svc__C=10, svc__gamma=0.1, svc__kernel=rbf; total time=   0.8s\n",
      "[CV] END .........svc__C=10, svc__gamma=0.1, svc__kernel=rbf; total time=   0.8s\n",
      "[CV] END .........svc__C=10, svc__gamma=0.1, svc__kernel=rbf; total time=   0.8s\n",
      "[CV] END ...........svc__C=10, svc__gamma=1, svc__kernel=rbf; total time=   0.8s\n",
      "[CV] END ...........svc__C=10, svc__gamma=1, svc__kernel=rbf; total time=   0.8s\n",
      "[CV] END ...........svc__C=10, svc__gamma=1, svc__kernel=rbf; total time=   0.8s\n",
      "[CV] END ...........svc__C=10, svc__gamma=1, svc__kernel=rbf; total time=   0.8s\n",
      "[CV] END ...........svc__C=10, svc__gamma=1, svc__kernel=rbf; total time=   0.8s\n",
      "[CV] END ...........svc__C=10, svc__gamma=5, svc__kernel=rbf; total time=   0.8s\n",
      "[CV] END ...........svc__C=10, svc__gamma=5, svc__kernel=rbf; total time=   0.8s\n",
      "[CV] END ...........svc__C=10, svc__gamma=5, svc__kernel=rbf; total time=   0.8s\n",
      "[CV] END ...........svc__C=10, svc__gamma=5, svc__kernel=rbf; total time=   0.8s\n",
      "[CV] END ...........svc__C=10, svc__gamma=5, svc__kernel=rbf; total time=   0.8s\n",
      "[CV] END ..........svc__C=10, svc__gamma=10, svc__kernel=rbf; total time=   0.8s\n",
      "[CV] END ..........svc__C=10, svc__gamma=10, svc__kernel=rbf; total time=   0.9s\n",
      "[CV] END ..........svc__C=10, svc__gamma=10, svc__kernel=rbf; total time=   0.8s\n",
      "[CV] END ..........svc__C=10, svc__gamma=10, svc__kernel=rbf; total time=   0.8s\n",
      "[CV] END ..........svc__C=10, svc__gamma=10, svc__kernel=rbf; total time=   0.8s\n",
      "[CV] END ...................svc__C=0.001, svc__kernel=linear; total time=   0.5s\n",
      "[CV] END ...................svc__C=0.001, svc__kernel=linear; total time=   0.5s\n",
      "[CV] END ...................svc__C=0.001, svc__kernel=linear; total time=   0.5s\n",
      "[CV] END ...................svc__C=0.001, svc__kernel=linear; total time=   0.5s\n",
      "[CV] END ...................svc__C=0.001, svc__kernel=linear; total time=   0.5s\n",
      "[CV] END ....................svc__C=0.01, svc__kernel=linear; total time=   0.5s\n",
      "[CV] END ....................svc__C=0.01, svc__kernel=linear; total time=   0.5s\n",
      "[CV] END ....................svc__C=0.01, svc__kernel=linear; total time=   0.6s\n",
      "[CV] END ....................svc__C=0.01, svc__kernel=linear; total time=   0.6s\n",
      "[CV] END ....................svc__C=0.01, svc__kernel=linear; total time=   0.5s\n",
      "[CV] END .....................svc__C=0.1, svc__kernel=linear; total time=   1.8s\n",
      "[CV] END .....................svc__C=0.1, svc__kernel=linear; total time=   1.8s\n",
      "[CV] END .....................svc__C=0.1, svc__kernel=linear; total time=   1.7s\n",
      "[CV] END .....................svc__C=0.1, svc__kernel=linear; total time=   2.2s\n",
      "[CV] END .....................svc__C=0.1, svc__kernel=linear; total time=   2.2s\n",
      "[CV] END .......................svc__C=1, svc__kernel=linear; total time=  13.4s\n",
      "[CV] END .......................svc__C=1, svc__kernel=linear; total time=  16.6s\n",
      "[CV] END .......................svc__C=1, svc__kernel=linear; total time=  24.1s\n",
      "[CV] END .......................svc__C=1, svc__kernel=linear; total time=  24.0s\n",
      "[CV] END .......................svc__C=1, svc__kernel=linear; total time=  20.6s\n",
      "[CV] END ......................svc__C=10, svc__kernel=linear; total time= 2.4min\n",
      "[CV] END ......................svc__C=10, svc__kernel=linear; total time= 3.3min\n",
      "[CV] END ......................svc__C=10, svc__kernel=linear; total time= 3.4min\n",
      "[CV] END ......................svc__C=10, svc__kernel=linear; total time= 3.3min\n",
      "[CV] END ......................svc__C=10, svc__kernel=linear; total time= 4.0min\n",
      "[CV] END svc__C=0.001, svc__coef0=0, svc__degree=2, svc__kernel=poly; total time=   0.6s\n",
      "[CV] END svc__C=0.001, svc__coef0=0, svc__degree=2, svc__kernel=poly; total time=   0.6s\n",
      "[CV] END svc__C=0.001, svc__coef0=0, svc__degree=2, svc__kernel=poly; total time=   0.6s\n",
      "[CV] END svc__C=0.001, svc__coef0=0, svc__degree=2, svc__kernel=poly; total time=   0.7s\n",
      "[CV] END svc__C=0.001, svc__coef0=0, svc__degree=2, svc__kernel=poly; total time=   0.6s\n",
      "[CV] END svc__C=0.001, svc__coef0=0, svc__degree=3, svc__kernel=poly; total time=   0.7s\n",
      "[CV] END svc__C=0.001, svc__coef0=0, svc__degree=3, svc__kernel=poly; total time=   0.7s\n",
      "[CV] END svc__C=0.001, svc__coef0=0, svc__degree=3, svc__kernel=poly; total time=   0.7s\n",
      "[CV] END svc__C=0.001, svc__coef0=0, svc__degree=3, svc__kernel=poly; total time=   0.7s\n",
      "[CV] END svc__C=0.001, svc__coef0=0, svc__degree=3, svc__kernel=poly; total time=   0.7s\n",
      "[CV] END svc__C=0.001, svc__coef0=0, svc__degree=4, svc__kernel=poly; total time=   0.7s\n",
      "[CV] END svc__C=0.001, svc__coef0=0, svc__degree=4, svc__kernel=poly; total time=   0.8s\n",
      "[CV] END svc__C=0.001, svc__coef0=0, svc__degree=4, svc__kernel=poly; total time=   0.7s\n",
      "[CV] END svc__C=0.001, svc__coef0=0, svc__degree=4, svc__kernel=poly; total time=   0.8s\n",
      "[CV] END svc__C=0.001, svc__coef0=0, svc__degree=4, svc__kernel=poly; total time=   1.0s\n",
      "[CV] END svc__C=0.001, svc__coef0=1, svc__degree=2, svc__kernel=poly; total time=   1.4s\n",
      "[CV] END svc__C=0.001, svc__coef0=1, svc__degree=2, svc__kernel=poly; total time=   0.9s\n",
      "[CV] END svc__C=0.001, svc__coef0=1, svc__degree=2, svc__kernel=poly; total time=   0.6s\n",
      "[CV] END svc__C=0.001, svc__coef0=1, svc__degree=2, svc__kernel=poly; total time=   0.6s\n",
      "[CV] END svc__C=0.001, svc__coef0=1, svc__degree=2, svc__kernel=poly; total time=   0.5s\n",
      "[CV] END svc__C=0.001, svc__coef0=1, svc__degree=3, svc__kernel=poly; total time=   0.6s\n",
      "[CV] END svc__C=0.001, svc__coef0=1, svc__degree=3, svc__kernel=poly; total time=   1.5s\n",
      "[CV] END svc__C=0.001, svc__coef0=1, svc__degree=3, svc__kernel=poly; total time=   0.6s\n",
      "[CV] END svc__C=0.001, svc__coef0=1, svc__degree=3, svc__kernel=poly; total time=   0.8s\n",
      "[CV] END svc__C=0.001, svc__coef0=1, svc__degree=3, svc__kernel=poly; total time=   0.6s\n",
      "[CV] END svc__C=0.001, svc__coef0=1, svc__degree=4, svc__kernel=poly; total time=   0.6s\n",
      "[CV] END svc__C=0.001, svc__coef0=1, svc__degree=4, svc__kernel=poly; total time=   0.7s\n",
      "[CV] END svc__C=0.001, svc__coef0=1, svc__degree=4, svc__kernel=poly; total time=   0.7s\n",
      "[CV] END svc__C=0.001, svc__coef0=1, svc__degree=4, svc__kernel=poly; total time=   0.6s\n",
      "[CV] END svc__C=0.001, svc__coef0=1, svc__degree=4, svc__kernel=poly; total time=   0.6s\n",
      "[CV] END svc__C=0.001, svc__coef0=10, svc__degree=2, svc__kernel=poly; total time=   0.5s\n",
      "[CV] END svc__C=0.001, svc__coef0=10, svc__degree=2, svc__kernel=poly; total time=   0.5s\n",
      "[CV] END svc__C=0.001, svc__coef0=10, svc__degree=2, svc__kernel=poly; total time=   0.6s\n",
      "[CV] END svc__C=0.001, svc__coef0=10, svc__degree=2, svc__kernel=poly; total time=   0.6s\n",
      "[CV] END svc__C=0.001, svc__coef0=10, svc__degree=2, svc__kernel=poly; total time=   0.5s\n",
      "[CV] END svc__C=0.001, svc__coef0=10, svc__degree=3, svc__kernel=poly; total time=   0.5s\n",
      "[CV] END svc__C=0.001, svc__coef0=10, svc__degree=3, svc__kernel=poly; total time=   0.5s\n",
      "[CV] END svc__C=0.001, svc__coef0=10, svc__degree=3, svc__kernel=poly; total time=   0.5s\n",
      "[CV] END svc__C=0.001, svc__coef0=10, svc__degree=3, svc__kernel=poly; total time=   0.5s\n",
      "[CV] END svc__C=0.001, svc__coef0=10, svc__degree=3, svc__kernel=poly; total time=   0.5s\n",
      "[CV] END svc__C=0.001, svc__coef0=10, svc__degree=4, svc__kernel=poly; total time=   0.5s\n",
      "[CV] END svc__C=0.001, svc__coef0=10, svc__degree=4, svc__kernel=poly; total time=   0.6s\n",
      "[CV] END svc__C=0.001, svc__coef0=10, svc__degree=4, svc__kernel=poly; total time=   0.5s\n",
      "[CV] END svc__C=0.001, svc__coef0=10, svc__degree=4, svc__kernel=poly; total time=   0.5s\n",
      "[CV] END svc__C=0.001, svc__coef0=10, svc__degree=4, svc__kernel=poly; total time=   0.5s\n",
      "[CV] END svc__C=0.01, svc__coef0=0, svc__degree=2, svc__kernel=poly; total time=   0.6s\n",
      "[CV] END svc__C=0.01, svc__coef0=0, svc__degree=2, svc__kernel=poly; total time=   0.6s\n",
      "[CV] END svc__C=0.01, svc__coef0=0, svc__degree=2, svc__kernel=poly; total time=   0.6s\n",
      "[CV] END svc__C=0.01, svc__coef0=0, svc__degree=2, svc__kernel=poly; total time=   0.8s\n",
      "[CV] END svc__C=0.01, svc__coef0=0, svc__degree=2, svc__kernel=poly; total time=   0.6s\n",
      "[CV] END svc__C=0.01, svc__coef0=0, svc__degree=3, svc__kernel=poly; total time=   0.7s\n",
      "[CV] END svc__C=0.01, svc__coef0=0, svc__degree=3, svc__kernel=poly; total time=   0.7s\n",
      "[CV] END svc__C=0.01, svc__coef0=0, svc__degree=3, svc__kernel=poly; total time=   0.7s\n",
      "[CV] END svc__C=0.01, svc__coef0=0, svc__degree=3, svc__kernel=poly; total time=   0.7s\n",
      "[CV] END svc__C=0.01, svc__coef0=0, svc__degree=3, svc__kernel=poly; total time=   0.7s\n",
      "[CV] END svc__C=0.01, svc__coef0=0, svc__degree=4, svc__kernel=poly; total time=   0.8s\n",
      "[CV] END svc__C=0.01, svc__coef0=0, svc__degree=4, svc__kernel=poly; total time=   0.8s\n",
      "[CV] END svc__C=0.01, svc__coef0=0, svc__degree=4, svc__kernel=poly; total time=   0.8s\n",
      "[CV] END svc__C=0.01, svc__coef0=0, svc__degree=4, svc__kernel=poly; total time=   0.8s\n",
      "[CV] END svc__C=0.01, svc__coef0=0, svc__degree=4, svc__kernel=poly; total time=   0.8s\n",
      "[CV] END svc__C=0.01, svc__coef0=1, svc__degree=2, svc__kernel=poly; total time=   0.6s\n",
      "[CV] END svc__C=0.01, svc__coef0=1, svc__degree=2, svc__kernel=poly; total time=   0.6s\n",
      "[CV] END svc__C=0.01, svc__coef0=1, svc__degree=2, svc__kernel=poly; total time=   0.6s\n",
      "[CV] END svc__C=0.01, svc__coef0=1, svc__degree=2, svc__kernel=poly; total time=   0.6s\n",
      "[CV] END svc__C=0.01, svc__coef0=1, svc__degree=2, svc__kernel=poly; total time=   0.6s\n",
      "[CV] END svc__C=0.01, svc__coef0=1, svc__degree=3, svc__kernel=poly; total time=   0.6s\n",
      "[CV] END svc__C=0.01, svc__coef0=1, svc__degree=3, svc__kernel=poly; total time=   0.6s\n",
      "[CV] END svc__C=0.01, svc__coef0=1, svc__degree=3, svc__kernel=poly; total time=   0.6s\n",
      "[CV] END svc__C=0.01, svc__coef0=1, svc__degree=3, svc__kernel=poly; total time=   0.6s\n",
      "[CV] END svc__C=0.01, svc__coef0=1, svc__degree=3, svc__kernel=poly; total time=   0.6s\n",
      "[CV] END svc__C=0.01, svc__coef0=1, svc__degree=4, svc__kernel=poly; total time=   0.7s\n",
      "[CV] END svc__C=0.01, svc__coef0=1, svc__degree=4, svc__kernel=poly; total time=   0.7s\n",
      "[CV] END svc__C=0.01, svc__coef0=1, svc__degree=4, svc__kernel=poly; total time=   0.7s\n",
      "[CV] END svc__C=0.01, svc__coef0=1, svc__degree=4, svc__kernel=poly; total time=   0.7s\n",
      "[CV] END svc__C=0.01, svc__coef0=1, svc__degree=4, svc__kernel=poly; total time=   0.7s\n",
      "[CV] END svc__C=0.01, svc__coef0=10, svc__degree=2, svc__kernel=poly; total time=   0.5s\n",
      "[CV] END svc__C=0.01, svc__coef0=10, svc__degree=2, svc__kernel=poly; total time=   0.5s\n",
      "[CV] END svc__C=0.01, svc__coef0=10, svc__degree=2, svc__kernel=poly; total time=   0.5s\n",
      "[CV] END svc__C=0.01, svc__coef0=10, svc__degree=2, svc__kernel=poly; total time=   0.5s\n",
      "[CV] END svc__C=0.01, svc__coef0=10, svc__degree=2, svc__kernel=poly; total time=   0.5s\n",
      "[CV] END svc__C=0.01, svc__coef0=10, svc__degree=3, svc__kernel=poly; total time=   0.5s\n",
      "[CV] END svc__C=0.01, svc__coef0=10, svc__degree=3, svc__kernel=poly; total time=   0.5s\n",
      "[CV] END svc__C=0.01, svc__coef0=10, svc__degree=3, svc__kernel=poly; total time=   0.5s\n",
      "[CV] END svc__C=0.01, svc__coef0=10, svc__degree=3, svc__kernel=poly; total time=   0.5s\n",
      "[CV] END svc__C=0.01, svc__coef0=10, svc__degree=3, svc__kernel=poly; total time=   0.5s\n",
      "[CV] END svc__C=0.01, svc__coef0=10, svc__degree=4, svc__kernel=poly; total time=   0.6s\n",
      "[CV] END svc__C=0.01, svc__coef0=10, svc__degree=4, svc__kernel=poly; total time=   0.6s\n",
      "[CV] END svc__C=0.01, svc__coef0=10, svc__degree=4, svc__kernel=poly; total time=   0.6s\n",
      "[CV] END svc__C=0.01, svc__coef0=10, svc__degree=4, svc__kernel=poly; total time=   0.6s\n",
      "[CV] END svc__C=0.01, svc__coef0=10, svc__degree=4, svc__kernel=poly; total time=   0.6s\n",
      "[CV] END svc__C=0.1, svc__coef0=0, svc__degree=2, svc__kernel=poly; total time=   0.7s\n",
      "[CV] END svc__C=0.1, svc__coef0=0, svc__degree=2, svc__kernel=poly; total time=   0.7s\n",
      "[CV] END svc__C=0.1, svc__coef0=0, svc__degree=2, svc__kernel=poly; total time=   0.7s\n",
      "[CV] END svc__C=0.1, svc__coef0=0, svc__degree=2, svc__kernel=poly; total time=   0.7s\n",
      "[CV] END svc__C=0.1, svc__coef0=0, svc__degree=2, svc__kernel=poly; total time=   0.7s\n",
      "[CV] END svc__C=0.1, svc__coef0=0, svc__degree=3, svc__kernel=poly; total time=   0.9s\n",
      "[CV] END svc__C=0.1, svc__coef0=0, svc__degree=3, svc__kernel=poly; total time=   0.7s\n",
      "[CV] END svc__C=0.1, svc__coef0=0, svc__degree=3, svc__kernel=poly; total time=   0.7s\n",
      "[CV] END svc__C=0.1, svc__coef0=0, svc__degree=3, svc__kernel=poly; total time=   0.7s\n",
      "[CV] END svc__C=0.1, svc__coef0=0, svc__degree=3, svc__kernel=poly; total time=   0.7s\n",
      "[CV] END svc__C=0.1, svc__coef0=0, svc__degree=4, svc__kernel=poly; total time=   0.8s\n",
      "[CV] END svc__C=0.1, svc__coef0=0, svc__degree=4, svc__kernel=poly; total time=   0.8s\n",
      "[CV] END svc__C=0.1, svc__coef0=0, svc__degree=4, svc__kernel=poly; total time=   0.8s\n",
      "[CV] END svc__C=0.1, svc__coef0=0, svc__degree=4, svc__kernel=poly; total time=   0.8s\n",
      "[CV] END svc__C=0.1, svc__coef0=0, svc__degree=4, svc__kernel=poly; total time=   0.9s\n",
      "[CV] END svc__C=0.1, svc__coef0=1, svc__degree=2, svc__kernel=poly; total time=   0.6s\n",
      "[CV] END svc__C=0.1, svc__coef0=1, svc__degree=2, svc__kernel=poly; total time=   0.6s\n",
      "[CV] END svc__C=0.1, svc__coef0=1, svc__degree=2, svc__kernel=poly; total time=   0.5s\n",
      "[CV] END svc__C=0.1, svc__coef0=1, svc__degree=2, svc__kernel=poly; total time=   0.6s\n",
      "[CV] END svc__C=0.1, svc__coef0=1, svc__degree=2, svc__kernel=poly; total time=   0.5s\n",
      "[CV] END svc__C=0.1, svc__coef0=1, svc__degree=3, svc__kernel=poly; total time=   0.6s\n",
      "[CV] END svc__C=0.1, svc__coef0=1, svc__degree=3, svc__kernel=poly; total time=   0.6s\n",
      "[CV] END svc__C=0.1, svc__coef0=1, svc__degree=3, svc__kernel=poly; total time=   0.6s\n",
      "[CV] END svc__C=0.1, svc__coef0=1, svc__degree=3, svc__kernel=poly; total time=   0.6s\n",
      "[CV] END svc__C=0.1, svc__coef0=1, svc__degree=3, svc__kernel=poly; total time=   0.6s\n",
      "[CV] END svc__C=0.1, svc__coef0=1, svc__degree=4, svc__kernel=poly; total time=   0.6s\n",
      "[CV] END svc__C=0.1, svc__coef0=1, svc__degree=4, svc__kernel=poly; total time=   0.6s\n",
      "[CV] END svc__C=0.1, svc__coef0=1, svc__degree=4, svc__kernel=poly; total time=   0.8s\n",
      "[CV] END svc__C=0.1, svc__coef0=1, svc__degree=4, svc__kernel=poly; total time=   0.7s\n",
      "[CV] END svc__C=0.1, svc__coef0=1, svc__degree=4, svc__kernel=poly; total time=   0.8s\n",
      "[CV] END svc__C=0.1, svc__coef0=10, svc__degree=2, svc__kernel=poly; total time=   0.6s\n",
      "[CV] END svc__C=0.1, svc__coef0=10, svc__degree=2, svc__kernel=poly; total time=   0.5s\n",
      "[CV] END svc__C=0.1, svc__coef0=10, svc__degree=2, svc__kernel=poly; total time=   0.5s\n",
      "[CV] END svc__C=0.1, svc__coef0=10, svc__degree=2, svc__kernel=poly; total time=   0.5s\n",
      "[CV] END svc__C=0.1, svc__coef0=10, svc__degree=2, svc__kernel=poly; total time=   0.5s\n",
      "[CV] END svc__C=0.1, svc__coef0=10, svc__degree=3, svc__kernel=poly; total time=   0.6s\n",
      "[CV] END svc__C=0.1, svc__coef0=10, svc__degree=3, svc__kernel=poly; total time=   0.6s\n",
      "[CV] END svc__C=0.1, svc__coef0=10, svc__degree=3, svc__kernel=poly; total time=   0.6s\n",
      "[CV] END svc__C=0.1, svc__coef0=10, svc__degree=3, svc__kernel=poly; total time=   0.6s\n",
      "[CV] END svc__C=0.1, svc__coef0=10, svc__degree=3, svc__kernel=poly; total time=   0.6s\n",
      "[CV] END svc__C=0.1, svc__coef0=10, svc__degree=4, svc__kernel=poly; total time=   0.7s\n",
      "[CV] END svc__C=0.1, svc__coef0=10, svc__degree=4, svc__kernel=poly; total time=   0.7s\n",
      "[CV] END svc__C=0.1, svc__coef0=10, svc__degree=4, svc__kernel=poly; total time=   0.8s\n",
      "[CV] END svc__C=0.1, svc__coef0=10, svc__degree=4, svc__kernel=poly; total time=   0.7s\n",
      "[CV] END svc__C=0.1, svc__coef0=10, svc__degree=4, svc__kernel=poly; total time=   0.7s\n",
      "[CV] END svc__C=1, svc__coef0=0, svc__degree=2, svc__kernel=poly; total time=   0.8s\n",
      "[CV] END svc__C=1, svc__coef0=0, svc__degree=2, svc__kernel=poly; total time=   0.8s\n",
      "[CV] END svc__C=1, svc__coef0=0, svc__degree=2, svc__kernel=poly; total time=   0.8s\n",
      "[CV] END svc__C=1, svc__coef0=0, svc__degree=2, svc__kernel=poly; total time=   0.8s\n",
      "[CV] END svc__C=1, svc__coef0=0, svc__degree=2, svc__kernel=poly; total time=   0.8s\n",
      "[CV] END svc__C=1, svc__coef0=0, svc__degree=3, svc__kernel=poly; total time=   0.9s\n",
      "[CV] END svc__C=1, svc__coef0=0, svc__degree=3, svc__kernel=poly; total time=   0.8s\n",
      "[CV] END svc__C=1, svc__coef0=0, svc__degree=3, svc__kernel=poly; total time=   0.8s\n",
      "[CV] END svc__C=1, svc__coef0=0, svc__degree=3, svc__kernel=poly; total time=   0.8s\n",
      "[CV] END svc__C=1, svc__coef0=0, svc__degree=3, svc__kernel=poly; total time=   0.9s\n",
      "[CV] END svc__C=1, svc__coef0=0, svc__degree=4, svc__kernel=poly; total time=   0.9s\n",
      "[CV] END svc__C=1, svc__coef0=0, svc__degree=4, svc__kernel=poly; total time=   0.9s\n",
      "[CV] END svc__C=1, svc__coef0=0, svc__degree=4, svc__kernel=poly; total time=   0.8s\n",
      "[CV] END svc__C=1, svc__coef0=0, svc__degree=4, svc__kernel=poly; total time=   0.9s\n",
      "[CV] END svc__C=1, svc__coef0=0, svc__degree=4, svc__kernel=poly; total time=   0.9s\n",
      "[CV] END svc__C=1, svc__coef0=1, svc__degree=2, svc__kernel=poly; total time=   0.5s\n",
      "[CV] END svc__C=1, svc__coef0=1, svc__degree=2, svc__kernel=poly; total time=   0.5s\n",
      "[CV] END svc__C=1, svc__coef0=1, svc__degree=2, svc__kernel=poly; total time=   0.5s\n",
      "[CV] END svc__C=1, svc__coef0=1, svc__degree=2, svc__kernel=poly; total time=   0.5s\n",
      "[CV] END svc__C=1, svc__coef0=1, svc__degree=2, svc__kernel=poly; total time=   0.5s\n",
      "[CV] END svc__C=1, svc__coef0=1, svc__degree=3, svc__kernel=poly; total time=   0.5s\n",
      "[CV] END svc__C=1, svc__coef0=1, svc__degree=3, svc__kernel=poly; total time=   0.5s\n",
      "[CV] END svc__C=1, svc__coef0=1, svc__degree=3, svc__kernel=poly; total time=   0.5s\n",
      "[CV] END svc__C=1, svc__coef0=1, svc__degree=3, svc__kernel=poly; total time=   0.5s\n",
      "[CV] END svc__C=1, svc__coef0=1, svc__degree=3, svc__kernel=poly; total time=   0.5s\n",
      "[CV] END svc__C=1, svc__coef0=1, svc__degree=4, svc__kernel=poly; total time=   0.6s\n",
      "[CV] END svc__C=1, svc__coef0=1, svc__degree=4, svc__kernel=poly; total time=   0.6s\n",
      "[CV] END svc__C=1, svc__coef0=1, svc__degree=4, svc__kernel=poly; total time=   1.0s\n",
      "[CV] END svc__C=1, svc__coef0=1, svc__degree=4, svc__kernel=poly; total time=   0.6s\n",
      "[CV] END svc__C=1, svc__coef0=1, svc__degree=4, svc__kernel=poly; total time=   0.6s\n",
      "[CV] END svc__C=1, svc__coef0=10, svc__degree=2, svc__kernel=poly; total time=   0.6s\n",
      "[CV] END svc__C=1, svc__coef0=10, svc__degree=2, svc__kernel=poly; total time=   0.6s\n",
      "[CV] END svc__C=1, svc__coef0=10, svc__degree=2, svc__kernel=poly; total time=   0.6s\n",
      "[CV] END svc__C=1, svc__coef0=10, svc__degree=2, svc__kernel=poly; total time=   0.6s\n",
      "[CV] END svc__C=1, svc__coef0=10, svc__degree=2, svc__kernel=poly; total time=   0.6s\n",
      "[CV] END svc__C=1, svc__coef0=10, svc__degree=3, svc__kernel=poly; total time=   0.8s\n",
      "[CV] END svc__C=1, svc__coef0=10, svc__degree=3, svc__kernel=poly; total time=   0.8s\n",
      "[CV] END svc__C=1, svc__coef0=10, svc__degree=3, svc__kernel=poly; total time=   0.8s\n",
      "[CV] END svc__C=1, svc__coef0=10, svc__degree=3, svc__kernel=poly; total time=   0.8s\n",
      "[CV] END svc__C=1, svc__coef0=10, svc__degree=3, svc__kernel=poly; total time=   0.8s\n",
      "[CV] END svc__C=1, svc__coef0=10, svc__degree=4, svc__kernel=poly; total time=   0.9s\n",
      "[CV] END svc__C=1, svc__coef0=10, svc__degree=4, svc__kernel=poly; total time=   0.9s\n",
      "[CV] END svc__C=1, svc__coef0=10, svc__degree=4, svc__kernel=poly; total time=   0.9s\n",
      "[CV] END svc__C=1, svc__coef0=10, svc__degree=4, svc__kernel=poly; total time=   0.9s\n",
      "[CV] END svc__C=1, svc__coef0=10, svc__degree=4, svc__kernel=poly; total time=   0.9s\n",
      "[CV] END svc__C=10, svc__coef0=0, svc__degree=2, svc__kernel=poly; total time=   0.9s\n",
      "[CV] END svc__C=10, svc__coef0=0, svc__degree=2, svc__kernel=poly; total time=   1.1s\n",
      "[CV] END svc__C=10, svc__coef0=0, svc__degree=2, svc__kernel=poly; total time=   1.0s\n",
      "[CV] END svc__C=10, svc__coef0=0, svc__degree=2, svc__kernel=poly; total time=   0.9s\n",
      "[CV] END svc__C=10, svc__coef0=0, svc__degree=2, svc__kernel=poly; total time=   0.9s\n",
      "[CV] END svc__C=10, svc__coef0=0, svc__degree=3, svc__kernel=poly; total time=   1.0s\n",
      "[CV] END svc__C=10, svc__coef0=0, svc__degree=3, svc__kernel=poly; total time=   1.0s\n",
      "[CV] END svc__C=10, svc__coef0=0, svc__degree=3, svc__kernel=poly; total time=   1.0s\n",
      "[CV] END svc__C=10, svc__coef0=0, svc__degree=3, svc__kernel=poly; total time=   0.9s\n",
      "[CV] END svc__C=10, svc__coef0=0, svc__degree=3, svc__kernel=poly; total time=   1.0s\n",
      "[CV] END svc__C=10, svc__coef0=0, svc__degree=4, svc__kernel=poly; total time=   1.0s\n",
      "[CV] END svc__C=10, svc__coef0=0, svc__degree=4, svc__kernel=poly; total time=   1.0s\n",
      "[CV] END svc__C=10, svc__coef0=0, svc__degree=4, svc__kernel=poly; total time=   0.9s\n",
      "[CV] END svc__C=10, svc__coef0=0, svc__degree=4, svc__kernel=poly; total time=   0.8s\n",
      "[CV] END svc__C=10, svc__coef0=0, svc__degree=4, svc__kernel=poly; total time=   1.0s\n",
      "[CV] END svc__C=10, svc__coef0=1, svc__degree=2, svc__kernel=poly; total time=   0.5s\n",
      "[CV] END svc__C=10, svc__coef0=1, svc__degree=2, svc__kernel=poly; total time=   0.5s\n",
      "[CV] END svc__C=10, svc__coef0=1, svc__degree=2, svc__kernel=poly; total time=   0.6s\n",
      "[CV] END svc__C=10, svc__coef0=1, svc__degree=2, svc__kernel=poly; total time=   0.5s\n",
      "[CV] END svc__C=10, svc__coef0=1, svc__degree=2, svc__kernel=poly; total time=   0.7s\n",
      "[CV] END svc__C=10, svc__coef0=1, svc__degree=3, svc__kernel=poly; total time=   0.5s\n",
      "[CV] END svc__C=10, svc__coef0=1, svc__degree=3, svc__kernel=poly; total time=   0.5s\n",
      "[CV] END svc__C=10, svc__coef0=1, svc__degree=3, svc__kernel=poly; total time=   0.9s\n",
      "[CV] END svc__C=10, svc__coef0=1, svc__degree=3, svc__kernel=poly; total time=   0.5s\n",
      "[CV] END svc__C=10, svc__coef0=1, svc__degree=3, svc__kernel=poly; total time=   0.5s\n",
      "[CV] END svc__C=10, svc__coef0=1, svc__degree=4, svc__kernel=poly; total time=   0.7s\n",
      "[CV] END svc__C=10, svc__coef0=1, svc__degree=4, svc__kernel=poly; total time=   0.9s\n",
      "[CV] END svc__C=10, svc__coef0=1, svc__degree=4, svc__kernel=poly; total time=   0.9s\n",
      "[CV] END svc__C=10, svc__coef0=1, svc__degree=4, svc__kernel=poly; total time=   0.8s\n",
      "[CV] END svc__C=10, svc__coef0=1, svc__degree=4, svc__kernel=poly; total time=   0.8s\n",
      "[CV] END svc__C=10, svc__coef0=10, svc__degree=2, svc__kernel=poly; total time=   1.0s\n",
      "[CV] END svc__C=10, svc__coef0=10, svc__degree=2, svc__kernel=poly; total time=   0.9s\n",
      "[CV] END svc__C=10, svc__coef0=10, svc__degree=2, svc__kernel=poly; total time=   1.0s\n",
      "[CV] END svc__C=10, svc__coef0=10, svc__degree=2, svc__kernel=poly; total time=   1.0s\n",
      "[CV] END svc__C=10, svc__coef0=10, svc__degree=2, svc__kernel=poly; total time=   0.9s\n",
      "[CV] END svc__C=10, svc__coef0=10, svc__degree=3, svc__kernel=poly; total time=   1.0s\n",
      "[CV] END svc__C=10, svc__coef0=10, svc__degree=3, svc__kernel=poly; total time=   1.0s\n",
      "[CV] END svc__C=10, svc__coef0=10, svc__degree=3, svc__kernel=poly; total time=   1.2s\n",
      "[CV] END svc__C=10, svc__coef0=10, svc__degree=3, svc__kernel=poly; total time=   1.0s\n",
      "[CV] END svc__C=10, svc__coef0=10, svc__degree=3, svc__kernel=poly; total time=   1.0s\n",
      "[CV] END svc__C=10, svc__coef0=10, svc__degree=4, svc__kernel=poly; total time=   1.2s\n",
      "[CV] END svc__C=10, svc__coef0=10, svc__degree=4, svc__kernel=poly; total time=   1.1s\n",
      "[CV] END svc__C=10, svc__coef0=10, svc__degree=4, svc__kernel=poly; total time=   1.1s\n",
      "[CV] END svc__C=10, svc__coef0=10, svc__degree=4, svc__kernel=poly; total time=   0.9s\n",
      "[CV] END svc__C=10, svc__coef0=10, svc__degree=4, svc__kernel=poly; total time=   0.9s\n"
     ]
    },
    {
     "data": {
      "text/html": [
       "<style>#sk-container-id-9 {color: black;}#sk-container-id-9 pre{padding: 0;}#sk-container-id-9 div.sk-toggleable {background-color: white;}#sk-container-id-9 label.sk-toggleable__label {cursor: pointer;display: block;width: 100%;margin-bottom: 0;padding: 0.3em;box-sizing: border-box;text-align: center;}#sk-container-id-9 label.sk-toggleable__label-arrow:before {content: \"▸\";float: left;margin-right: 0.25em;color: #696969;}#sk-container-id-9 label.sk-toggleable__label-arrow:hover:before {color: black;}#sk-container-id-9 div.sk-estimator:hover label.sk-toggleable__label-arrow:before {color: black;}#sk-container-id-9 div.sk-toggleable__content {max-height: 0;max-width: 0;overflow: hidden;text-align: left;background-color: #f0f8ff;}#sk-container-id-9 div.sk-toggleable__content pre {margin: 0.2em;color: black;border-radius: 0.25em;background-color: #f0f8ff;}#sk-container-id-9 input.sk-toggleable__control:checked~div.sk-toggleable__content {max-height: 200px;max-width: 100%;overflow: auto;}#sk-container-id-9 input.sk-toggleable__control:checked~label.sk-toggleable__label-arrow:before {content: \"▾\";}#sk-container-id-9 div.sk-estimator input.sk-toggleable__control:checked~label.sk-toggleable__label {background-color: #d4ebff;}#sk-container-id-9 div.sk-label input.sk-toggleable__control:checked~label.sk-toggleable__label {background-color: #d4ebff;}#sk-container-id-9 input.sk-hidden--visually {border: 0;clip: rect(1px 1px 1px 1px);clip: rect(1px, 1px, 1px, 1px);height: 1px;margin: -1px;overflow: hidden;padding: 0;position: absolute;width: 1px;}#sk-container-id-9 div.sk-estimator {font-family: monospace;background-color: #f0f8ff;border: 1px dotted black;border-radius: 0.25em;box-sizing: border-box;margin-bottom: 0.5em;}#sk-container-id-9 div.sk-estimator:hover {background-color: #d4ebff;}#sk-container-id-9 div.sk-parallel-item::after {content: \"\";width: 100%;border-bottom: 1px solid gray;flex-grow: 1;}#sk-container-id-9 div.sk-label:hover label.sk-toggleable__label {background-color: #d4ebff;}#sk-container-id-9 div.sk-serial::before {content: \"\";position: absolute;border-left: 1px solid gray;box-sizing: border-box;top: 0;bottom: 0;left: 50%;z-index: 0;}#sk-container-id-9 div.sk-serial {display: flex;flex-direction: column;align-items: center;background-color: white;padding-right: 0.2em;padding-left: 0.2em;position: relative;}#sk-container-id-9 div.sk-item {position: relative;z-index: 1;}#sk-container-id-9 div.sk-parallel {display: flex;align-items: stretch;justify-content: center;background-color: white;position: relative;}#sk-container-id-9 div.sk-item::before, #sk-container-id-9 div.sk-parallel-item::before {content: \"\";position: absolute;border-left: 1px solid gray;box-sizing: border-box;top: 0;bottom: 0;left: 50%;z-index: -1;}#sk-container-id-9 div.sk-parallel-item {display: flex;flex-direction: column;z-index: 1;position: relative;background-color: white;}#sk-container-id-9 div.sk-parallel-item:first-child::after {align-self: flex-end;width: 50%;}#sk-container-id-9 div.sk-parallel-item:last-child::after {align-self: flex-start;width: 50%;}#sk-container-id-9 div.sk-parallel-item:only-child::after {width: 0;}#sk-container-id-9 div.sk-dashed-wrapped {border: 1px dashed gray;margin: 0 0.4em 0.5em 0.4em;box-sizing: border-box;padding-bottom: 0.4em;background-color: white;}#sk-container-id-9 div.sk-label label {font-family: monospace;font-weight: bold;display: inline-block;line-height: 1.2em;}#sk-container-id-9 div.sk-label-container {text-align: center;}#sk-container-id-9 div.sk-container {/* jupyter's `normalize.less` sets `[hidden] { display: none; }` but bootstrap.min.css set `[hidden] { display: none !important; }` so we also need the `!important` here to be able to override the default hidden behavior on the sphinx rendered scikit-learn.org. See: https://github.com/scikit-learn/scikit-learn/issues/21755 */display: inline-block !important;position: relative;}#sk-container-id-9 div.sk-text-repr-fallback {display: none;}</style><div id=\"sk-container-id-9\" class=\"sk-top-container\"><div class=\"sk-text-repr-fallback\"><pre>GridSearchCV(cv=5,\n",
       "             estimator=Pipeline(steps=[(&#x27;standardscaler&#x27;,\n",
       "                                        StandardScaler(with_mean=False)),\n",
       "                                       (&#x27;svc&#x27;, SVC())]),\n",
       "             param_grid=[{&#x27;svc__C&#x27;: [0.001, 0.01, 0.1, 1, 10],\n",
       "                          &#x27;svc__gamma&#x27;: [0.1, 1, 5, 10],\n",
       "                          &#x27;svc__kernel&#x27;: [&#x27;rbf&#x27;]},\n",
       "                         {&#x27;svc__C&#x27;: [0.001, 0.01, 0.1, 1, 10],\n",
       "                          &#x27;svc__kernel&#x27;: [&#x27;linear&#x27;]},\n",
       "                         {&#x27;svc__C&#x27;: [0.001, 0.01, 0.1, 1, 10],\n",
       "                          &#x27;svc__coef0&#x27;: [0, 1, 10], &#x27;svc__degree&#x27;: [2, 3, 4],\n",
       "                          &#x27;svc__kernel&#x27;: [&#x27;poly&#x27;]}],\n",
       "             scoring=&#x27;accuracy&#x27;, verbose=2)</pre><b>In a Jupyter environment, please rerun this cell to show the HTML representation or trust the notebook. <br />On GitHub, the HTML representation is unable to render, please try loading this page with nbviewer.org.</b></div><div class=\"sk-container\" hidden><div class=\"sk-item sk-dashed-wrapped\"><div class=\"sk-label-container\"><div class=\"sk-label sk-toggleable\"><input class=\"sk-toggleable__control sk-hidden--visually\" id=\"sk-estimator-id-25\" type=\"checkbox\" ><label for=\"sk-estimator-id-25\" class=\"sk-toggleable__label sk-toggleable__label-arrow\">GridSearchCV</label><div class=\"sk-toggleable__content\"><pre>GridSearchCV(cv=5,\n",
       "             estimator=Pipeline(steps=[(&#x27;standardscaler&#x27;,\n",
       "                                        StandardScaler(with_mean=False)),\n",
       "                                       (&#x27;svc&#x27;, SVC())]),\n",
       "             param_grid=[{&#x27;svc__C&#x27;: [0.001, 0.01, 0.1, 1, 10],\n",
       "                          &#x27;svc__gamma&#x27;: [0.1, 1, 5, 10],\n",
       "                          &#x27;svc__kernel&#x27;: [&#x27;rbf&#x27;]},\n",
       "                         {&#x27;svc__C&#x27;: [0.001, 0.01, 0.1, 1, 10],\n",
       "                          &#x27;svc__kernel&#x27;: [&#x27;linear&#x27;]},\n",
       "                         {&#x27;svc__C&#x27;: [0.001, 0.01, 0.1, 1, 10],\n",
       "                          &#x27;svc__coef0&#x27;: [0, 1, 10], &#x27;svc__degree&#x27;: [2, 3, 4],\n",
       "                          &#x27;svc__kernel&#x27;: [&#x27;poly&#x27;]}],\n",
       "             scoring=&#x27;accuracy&#x27;, verbose=2)</pre></div></div></div><div class=\"sk-parallel\"><div class=\"sk-parallel-item\"><div class=\"sk-item\"><div class=\"sk-label-container\"><div class=\"sk-label sk-toggleable\"><input class=\"sk-toggleable__control sk-hidden--visually\" id=\"sk-estimator-id-26\" type=\"checkbox\" ><label for=\"sk-estimator-id-26\" class=\"sk-toggleable__label sk-toggleable__label-arrow\">estimator: Pipeline</label><div class=\"sk-toggleable__content\"><pre>Pipeline(steps=[(&#x27;standardscaler&#x27;, StandardScaler(with_mean=False)),\n",
       "                (&#x27;svc&#x27;, SVC())])</pre></div></div></div><div class=\"sk-serial\"><div class=\"sk-item\"><div class=\"sk-serial\"><div class=\"sk-item\"><div class=\"sk-estimator sk-toggleable\"><input class=\"sk-toggleable__control sk-hidden--visually\" id=\"sk-estimator-id-27\" type=\"checkbox\" ><label for=\"sk-estimator-id-27\" class=\"sk-toggleable__label sk-toggleable__label-arrow\">StandardScaler</label><div class=\"sk-toggleable__content\"><pre>StandardScaler(with_mean=False)</pre></div></div></div><div class=\"sk-item\"><div class=\"sk-estimator sk-toggleable\"><input class=\"sk-toggleable__control sk-hidden--visually\" id=\"sk-estimator-id-28\" type=\"checkbox\" ><label for=\"sk-estimator-id-28\" class=\"sk-toggleable__label sk-toggleable__label-arrow\">SVC</label><div class=\"sk-toggleable__content\"><pre>SVC()</pre></div></div></div></div></div></div></div></div></div></div></div></div>"
      ],
      "text/plain": [
       "GridSearchCV(cv=5,\n",
       "             estimator=Pipeline(steps=[('standardscaler',\n",
       "                                        StandardScaler(with_mean=False)),\n",
       "                                       ('svc', SVC())]),\n",
       "             param_grid=[{'svc__C': [0.001, 0.01, 0.1, 1, 10],\n",
       "                          'svc__gamma': [0.1, 1, 5, 10],\n",
       "                          'svc__kernel': ['rbf']},\n",
       "                         {'svc__C': [0.001, 0.01, 0.1, 1, 10],\n",
       "                          'svc__kernel': ['linear']},\n",
       "                         {'svc__C': [0.001, 0.01, 0.1, 1, 10],\n",
       "                          'svc__coef0': [0, 1, 10], 'svc__degree': [2, 3, 4],\n",
       "                          'svc__kernel': ['poly']}],\n",
       "             scoring='accuracy', verbose=2)"
      ]
     },
     "execution_count": 43,
     "metadata": {},
     "output_type": "execute_result"
    }
   ],
   "source": [
    "# Create the pipeline\n",
    "final_svm_clf = make_pipeline(StandardScaler(with_mean=False),\n",
    "                                   SVC())\n",
    "\n",
    "# Create the GridSearchCV object\n",
    "grid_search = GridSearchCV(final_svm_clf, param_grid, cv=5,\n",
    "                           scoring='accuracy', verbose=2)\n",
    "\n",
    "# Fit the GridSearchCV object\n",
    "grid_search.fit(X_matrix_train, y_train)"
   ]
  },
  {
   "cell_type": "code",
   "execution_count": 44,
   "metadata": {},
   "outputs": [
    {
     "name": "stdout",
     "output_type": "stream",
     "text": [
      "Best hyperparameters: {'svc__C': 0.01, 'svc__coef0': 10, 'svc__degree': 3, 'svc__kernel': 'poly'}\n"
     ]
    }
   ],
   "source": [
    "# Print the best hyperparameters for DT Gridsearch\n",
    "print(\"Best hyperparameters:\", grid_search.best_params_)"
   ]
  },
  {
   "cell_type": "markdown",
   "metadata": {},
   "source": [
    "### 3.5.3. Parameters to optimize"
   ]
  },
  {
   "cell_type": "code",
   "execution_count": 45,
   "metadata": {},
   "outputs": [
    {
     "name": "stdout",
     "output_type": "stream",
     "text": [
      "Validation Accuracy with Best Parameters: 0.7550\n"
     ]
    }
   ],
   "source": [
    "best_model = grid_search.best_estimator_\n",
    "\n",
    "# Using the dense version of X_test, which is X_matrix_test_dense\n",
    "test_preds = best_model.predict(X_matrix_test_dense)\n",
    "\n",
    "# Accuracy using the true labels y_test and the predicted labels test_preds\n",
    "val_acc = accuracy_score(y_test, test_preds)\n",
    "print(f\"Validation Accuracy with Best Parameters: {val_acc:.4f}\")"
   ]
  },
  {
   "cell_type": "code",
   "execution_count": 52,
   "metadata": {},
   "outputs": [
    {
     "data": {
      "image/png": "[encoded data removed]",
      "text/plain": [
       "<Figure size 300x300 with 1 Axes>"
      ]
     },
     "metadata": {},
     "output_type": "display_data"
    }
   ],
   "source": [
    "matrix = confusion_matrix(y_test, test_preds)\n",
    "\n",
    "# Displaying the confusion matrix \n",
    "import seaborn as sns\n",
    "import matplotlib.pyplot as plt\n",
    "\n",
    "plt.figure(figsize=(3, 3))\n",
    "sns.heatmap(matrix, annot=True, fmt=\"d\", cmap=\"Blues\", cbar=False)\n",
    "plt.xlabel('Predicted Label')\n",
    "plt.ylabel('True Label')\n",
    "plt.title('SVM Classifier Confusion Matrix')\n",
    "plt.show()"
   ]
  },
  {
   "cell_type": "code",
   "execution_count": 47,
   "metadata": {},
   "outputs": [
    {
     "name": "stdout",
     "output_type": "stream",
     "text": [
      "              precision    recall  f1-score   support\n",
      "\n",
      "           0       0.79      0.90      0.84       729\n",
      "           1       0.57      0.37      0.45       271\n",
      "\n",
      "    accuracy                           0.76      1000\n",
      "   macro avg       0.68      0.63      0.65      1000\n",
      "weighted avg       0.73      0.76      0.74      1000\n",
      "\n"
     ]
    }
   ],
   "source": [
    "# Printing the classification report\n",
    "report = classification_report(y_test, test_preds)\n",
    "print(report)"
   ]
  },
  {
   "cell_type": "markdown",
   "metadata": {},
   "source": [
    "Model evaluation\n",
    "\n",
    "- The model performs well in identifying class 0, with high precision, recall, and F1-score.\n",
    "- Performance for class 1 is significantly lower, with only about one-third of true class 1 instances being correctly identified.\n",
    "- The overall accuracy of 76% is respectable, but it's important to note that this is heavily influenced by the model's stronger performance on class 0, which is more common in the dataset.\n",
    "- The difference between macro and weighted averages suggests class imbalance, where the model is more tuned to the majority class (class 0).\n",
    "- I should try to run this model with SMOTE or some other resampling method."
   ]
  },
  {
   "cell_type": "code",
   "execution_count": null,
   "metadata": {},
   "outputs": [],
   "source": []
  },
  {
   "cell_type": "code",
   "execution_count": null,
   "metadata": {},
   "outputs": [],
   "source": []
  },
  {
   "cell_type": "code",
   "execution_count": null,
   "metadata": {},
   "outputs": [],
   "source": []
  },
  {
   "cell_type": "code",
   "execution_count": null,
   "metadata": {},
   "outputs": [],
   "source": []
  }
 ],
 "metadata": {
  "kernelspec": {
   "display_name": "Python 3",
   "language": "python",
   "name": "python3"
  },
  "language_info": {
   "codemirror_mode": {
    "name": "ipython",
    "version": 3
   },
   "file_extension": ".py",
   "mimetype": "text/x-python",
   "name": "python",
   "nbconvert_exporter": "python",
   "pygments_lexer": "ipython3",
   "version": "3.8.16"
  },
  "toc-autonumbering": false,
  "toc-showcode": false,
  "toc-showmarkdowntxt": false
 },
 "nbformat": 4,
 "nbformat_minor": 4
}
